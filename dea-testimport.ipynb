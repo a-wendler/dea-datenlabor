{
 "cells": [
  {
   "cell_type": "markdown",
   "metadata": {},
   "source": [
    "# DBSM Altbestands-Analyse"
   ]
  },
  {
   "cell_type": "code",
   "execution_count": 1,
   "metadata": {},
   "outputs": [],
   "source": [
    "import requests\n",
    "from bs4 import BeautifulSoup as bs\n",
    "import math\n",
    "import concurrent.futures"
   ]
  },
  {
   "cell_type": "code",
   "execution_count": 20,
   "metadata": {},
   "outputs": [],
   "source": [
    "params = {}\n",
    "base_url = 'https://services.dnb.de/sru/dnb.dea.archivalien'\n",
    "\n",
    "params = {'recordSchema': 'MARC21-xml',\n",
    "          'operation': 'searchRetrieve',\n",
    "          'version': '1.1',\n",
    "          'accessToken': '8090beb04b8a8ce79c2da2c1ee6890b8'\n",
    "         }\n",
    "\n",
    "#suchstring = 'JHR within \"1450 1850\"'\n",
    "#suchstring = '''jhr within \"* 1699\" and jhr within \"1600 *\"'''\n",
    "suchstring = 'sigRef=\"EB 96/182-B*\"'"
   ]
  },
  {
   "cell_type": "code",
   "execution_count": 25,
   "metadata": {},
   "outputs": [],
   "source": [
    "def sru_import(suchlauf):\n",
    "    startrecord = suchlauf * 100 + 1\n",
    "    print(f'Suchlauf {suchlauf} ab record {startrecord}')\n",
    "    params.update({'maximumRecords':'100','startRecord': startrecord, 'query': suchstring})\n",
    "    sru_raw = requests.get(base_url, params=params)\n",
    "    xml_soup = bs(sru_raw.content, \"lxml\")\n",
    "    records = xml_soup.find_all('record', {'type': 'Bibliographic'})\n",
    "    with open(f'./data/{suchlauf}.xml', mode='w') as f:\n",
    "        f.write('''<?xml version=\"1.0\" encoding=\"UTF-8\"?>\\n<collection xmlns=\"http://www.loc.gov/MARC21/slim\">\\n''')\n",
    "        for item in records:\n",
    "            f.write(\"%s\\n\" % item)\n",
    "        f.write('''</collection>''')    \n",
    "        print(f'{suchlauf}.xml')"
   ]
  },
  {
   "cell_type": "markdown",
   "metadata": {},
   "source": [
    "Import der Datensätze als rdf"
   ]
  },
  {
   "cell_type": "code",
   "execution_count": 21,
   "metadata": {},
   "outputs": [],
   "source": [
    "params.update({'maximumRecords':'10', 'query': suchstring})\n",
    "sru_raw = requests.get(base_url, params=params)"
   ]
  },
  {
   "cell_type": "code",
   "execution_count": 22,
   "metadata": {},
   "outputs": [
    {
     "data": {
      "text/plain": [
       "'https://services.dnb.de/sru/dnb.dea.archivalien?recordSchema=MARC21-xml&operation=searchRetrieve&version=1.1&accessToken=8090beb04b8a8ce79c2da2c1ee6890b8&maximumRecords=10&query=sigRef%3D%22EB+96%2F182-B%2A%22'"
      ]
     },
     "execution_count": 22,
     "metadata": {},
     "output_type": "execute_result"
    }
   ],
   "source": [
    "sru_raw.url"
   ]
  },
  {
   "cell_type": "code",
   "execution_count": 23,
   "metadata": {},
   "outputs": [],
   "source": [
    "sru_xml = bs(sru_raw.content, 'lxml')\n",
    "ergebnisse = int(sru_xml.searchretrieveresponse.numberofrecords.string)\n",
    "suchlaeufe = math.ceil(ergebnisse / 100)"
   ]
  },
  {
   "cell_type": "code",
   "execution_count": 24,
   "metadata": {},
   "outputs": [
    {
     "data": {
      "text/plain": [
       "'1401 Ergebnisse in 15 Suchläufen'"
      ]
     },
     "execution_count": 24,
     "metadata": {},
     "output_type": "execute_result"
    }
   ],
   "source": [
    "f'{ergebnisse} Ergebnisse in {suchlaeufe} Suchläufen'"
   ]
  },
  {
   "cell_type": "code",
   "execution_count": 26,
   "metadata": {},
   "outputs": [
    {
     "name": "stdout",
     "output_type": "stream",
     "text": [
      "Suchlauf 0 ab record 1\n",
      "0.xml\n",
      "Suchlauf 1 ab record 101\n",
      "1.xml\n",
      "Suchlauf 2 ab record 201\n",
      "2.xml\n",
      "Suchlauf 3 ab record 301\n",
      "3.xml\n",
      "Suchlauf 4 ab record 401\n",
      "4.xml\n",
      "Suchlauf 5 ab record 501\n",
      "5.xml\n",
      "Suchlauf 6 ab record 601\n",
      "6.xml\n",
      "Suchlauf 7 ab record 701\n",
      "7.xml\n",
      "Suchlauf 8 ab record 801\n",
      "8.xml\n",
      "Suchlauf 9 ab record 901\n",
      "9.xml\n",
      "Suchlauf 10 ab record 1001\n",
      "10.xml\n",
      "Suchlauf 11 ab record 1101\n",
      "11.xml\n",
      "Suchlauf 12 ab record 1201\n",
      "12.xml\n",
      "Suchlauf 13 ab record 1301\n",
      "13.xml\n",
      "Suchlauf 14 ab record 1401\n",
      "14.xml\n"
     ]
    }
   ],
   "source": [
    "for suchlauf in range(suchlaeufe):\n",
    "    sru_import(suchlauf)"
   ]
  },
  {
   "cell_type": "code",
   "execution_count": null,
   "metadata": {},
   "outputs": [],
   "source": []
  }
 ],
 "metadata": {
  "kernelspec": {
   "display_name": "Python 3",
   "language": "python",
   "name": "python3"
  },
  "language_info": {
   "codemirror_mode": {
    "name": "ipython",
    "version": 3
   },
   "file_extension": ".py",
   "mimetype": "text/x-python",
   "name": "python",
   "nbconvert_exporter": "python",
   "pygments_lexer": "ipython3",
   "version": "3.7.4"
  }
 },
 "nbformat": 4,
 "nbformat_minor": 4
}
