{
 "cells": [
  {
   "cell_type": "markdown",
   "metadata": {},
   "source": [
    "# Datenworkshop CdV, DBSM, DEA, DDB"
   ]
  },
  {
   "cell_type": "markdown",
   "metadata": {},
   "source": [
    "## 1. Grundlagen\n",
    "\n",
    "- Karte abtippen\n",
    "- Zettel als String\n",
    "- Zettel als mehrere Strings\n",
    "- Konkatenieren, Interpolieren\n",
    "\n",
    "- Zettel als Dictionary\n",
    "\n",
    "- Zettelkasten als List of Dictionaries\n",
    "\n",
    "- Slicing, Indexing\n",
    "\n",
    "## 2. Import\n",
    "### Webseiten/HTTP-Inhalte downloaden mit requests\n"
   ]
  },
  {
   "cell_type": "code",
   "execution_count": 1,
   "metadata": {},
   "outputs": [],
   "source": [
    "import requests"
   ]
  },
  {
   "cell_type": "code",
   "execution_count": 2,
   "metadata": {},
   "outputs": [],
   "source": [
    "base_url = 'https://www.dnb.de/DE/Home/Newsblog/newsblog_artikel.html'\n",
    "params = {'nn': '56936'}"
   ]
  },
  {
   "cell_type": "code",
   "execution_count": 3,
   "metadata": {},
   "outputs": [],
   "source": [
    "response = requests.get(base_url, params=params)"
   ]
  },
  {
   "cell_type": "code",
   "execution_count": 1,
   "metadata": {},
   "outputs": [],
   "source": [
    "from bs4 import BeautifulSoup as soup"
   ]
  },
  {
   "cell_type": "code",
   "execution_count": 5,
   "metadata": {},
   "outputs": [],
   "source": [
    "daten_html = soup(response.content, 'html')"
   ]
  },
  {
   "cell_type": "markdown",
   "metadata": {},
   "source": [
    "### SRU-Schnittstelle"
   ]
  },
  {
   "cell_type": "markdown",
   "metadata": {},
   "source": [
    "https://www.dnb.de/DE/Professionell/Metadatendienste/Datenbezug/SRU/sru_node.html\n",
    "https://services.dnb.de/sru/dnb?operation=explain&version=1.1"
   ]
  },
  {
   "cell_type": "code",
   "execution_count": 6,
   "metadata": {},
   "outputs": [],
   "source": [
    "base_url = 'https://services.dnb.de/sru/dnb.dea.archivalien'\n",
    "\n",
    "params = {'recordSchema': 'MARC21-xml',\n",
    "          'operation': 'searchRetrieve',\n",
    "          'version': '1.1',\n",
    "          'accessToken': '8090beb04b8a8ce79c2da2c1ee6890b8',\n",
    "          'maximumRecords': '100',\n",
    "          'query': 'sigRef=\"EB 96/182-B*\"'\n",
    "         }"
   ]
  },
  {
   "cell_type": "code",
   "execution_count": 7,
   "metadata": {},
   "outputs": [],
   "source": [
    "response = requests.get(base_url, params=params)"
   ]
  },
  {
   "cell_type": "code",
   "execution_count": 8,
   "metadata": {},
   "outputs": [],
   "source": [
    "daten_xml = soup(response.content, 'xml')"
   ]
  },
  {
   "cell_type": "code",
   "execution_count": 9,
   "metadata": {},
   "outputs": [],
   "source": [
    "with open('daten.xml', mode='w') as f:\n",
    "    f.write(daten_xml.prettify())"
   ]
  },
  {
   "cell_type": "markdown",
   "metadata": {},
   "source": [
    "## 2. Datenaufbereitung"
   ]
  },
  {
   "cell_type": "code",
   "execution_count": 2,
   "metadata": {},
   "outputs": [],
   "source": [
    "with open('daten.xml', mode='r') as f:\n",
    "    daten = f.read()"
   ]
  },
  {
   "cell_type": "code",
   "execution_count": 3,
   "metadata": {},
   "outputs": [],
   "source": [
    "daten_xml = soup(daten, 'lxml')"
   ]
  },
  {
   "cell_type": "code",
   "execution_count": 4,
   "metadata": {},
   "outputs": [],
   "source": [
    "records = daten_xml.find_all('record', {'type': 'Bibliographic'})"
   ]
  },
  {
   "cell_type": "code",
   "execution_count": 5,
   "metadata": {},
   "outputs": [],
   "source": [
    "liste = []\n",
    "for record in records:\n",
    "    #idn\n",
    "    try:\n",
    "        idn = record.find('datafield', {'tag': '016'}).find('subfield', {'code': 'a'}).string.strip()\n",
    "    except:\n",
    "        idn = None\n",
    "    \n",
    "    #author\n",
    "    try:\n",
    "        author = record.find('datafield', {'tag': '100'}).find('subfield', {'code': 'a'}).string.strip()\n",
    "    except:\n",
    "        author = None\n",
    "    \n",
    "    #recipient\n",
    "    try:\n",
    "        recipient = record.find('datafield', {'tag': '700'}).find('subfield', {'code': 'a'}).string.strip() if record.find('datafield', {'tag': '700'}).find('subfield', {'code': '4'}).string.strip() == 'rcp' else None\n",
    "    except:\n",
    "        recipient = None\n",
    "    \n",
    "    #year\n",
    "    try: \n",
    "        year = record.find('datafield', {'tag': '264'}).find('subfield', {'code': 'c'}).string.strip()\n",
    "    except:\n",
    "        year = None\n",
    "    \n",
    "    #place\n",
    "    try:\n",
    "        place = record.find('datafield', {'tag': '264'}).find('subfield', {'code': 'a'}).string.strip()\n",
    "    except:\n",
    "        try:\n",
    "            place = record.find('datafield', {'tag': '264'}).find('subfield', {'code': 'b'}).string.strip()\n",
    "        except:\n",
    "            place = None\n",
    "\n",
    "    #print(idn, author, recipient, year, place)\n",
    "    \n",
    "    entry = {'idn': idn, 'author': author, 'recipient': recipient, 'year': year, 'place': place}\n",
    "    liste.append(entry)\n",
    "    \n",
    "#liste"
   ]
  },
  {
   "cell_type": "markdown",
   "metadata": {},
   "source": [
    "## 3. Pandas"
   ]
  },
  {
   "cell_type": "code",
   "execution_count": 6,
   "metadata": {},
   "outputs": [],
   "source": [
    "import pandas as pd"
   ]
  },
  {
   "cell_type": "code",
   "execution_count": 7,
   "metadata": {},
   "outputs": [],
   "source": [
    "collection = pd.DataFrame(liste)"
   ]
  },
  {
   "cell_type": "code",
   "execution_count": 8,
   "metadata": {},
   "outputs": [
    {
     "data": {
      "text/html": [
       "<div>\n",
       "<style scoped>\n",
       "    .dataframe tbody tr th:only-of-type {\n",
       "        vertical-align: middle;\n",
       "    }\n",
       "\n",
       "    .dataframe tbody tr th {\n",
       "        vertical-align: top;\n",
       "    }\n",
       "\n",
       "    .dataframe thead th {\n",
       "        text-align: right;\n",
       "    }\n",
       "</style>\n",
       "<table border=\"1\" class=\"dataframe\">\n",
       "  <thead>\n",
       "    <tr style=\"text-align: right;\">\n",
       "      <th></th>\n",
       "      <th>idn</th>\n",
       "      <th>author</th>\n",
       "      <th>recipient</th>\n",
       "      <th>year</th>\n",
       "      <th>place</th>\n",
       "    </tr>\n",
       "  </thead>\n",
       "  <tbody>\n",
       "    <tr>\n",
       "      <td>0</td>\n",
       "      <td>992987555</td>\n",
       "      <td>Adler, Hermann</td>\n",
       "      <td>Heilbut, Iwan</td>\n",
       "      <td>1948-1948</td>\n",
       "      <td>Basel</td>\n",
       "    </tr>\n",
       "    <tr>\n",
       "      <td>1</td>\n",
       "      <td>992988071</td>\n",
       "      <td>Schlösser, Manfred</td>\n",
       "      <td>None</td>\n",
       "      <td>1960-1960</td>\n",
       "      <td>Darmstadt</td>\n",
       "    </tr>\n",
       "    <tr>\n",
       "      <td>2</td>\n",
       "      <td>993001580</td>\n",
       "      <td>Huder, Walther</td>\n",
       "      <td>Heilbut, Iwan</td>\n",
       "      <td>1966-1968</td>\n",
       "      <td>Berlin</td>\n",
       "    </tr>\n",
       "    <tr>\n",
       "      <td>3</td>\n",
       "      <td>993005012</td>\n",
       "      <td>Albers, Heinz</td>\n",
       "      <td>Heilbut, Iwan</td>\n",
       "      <td>1966-1969</td>\n",
       "      <td>Hamburg</td>\n",
       "    </tr>\n",
       "    <tr>\n",
       "      <td>4</td>\n",
       "      <td>993005098</td>\n",
       "      <td>Sinhuber, Bartel F.</td>\n",
       "      <td>Heilbut, Iwan</td>\n",
       "      <td>1969-1969</td>\n",
       "      <td>München</td>\n",
       "    </tr>\n",
       "    <tr>\n",
       "      <td>...</td>\n",
       "      <td>...</td>\n",
       "      <td>...</td>\n",
       "      <td>...</td>\n",
       "      <td>...</td>\n",
       "      <td>...</td>\n",
       "    </tr>\n",
       "    <tr>\n",
       "      <td>95</td>\n",
       "      <td>993801994</td>\n",
       "      <td>Herda, Wolfgang</td>\n",
       "      <td>Heilbut, Iwan</td>\n",
       "      <td>1960-1960</td>\n",
       "      <td>Oldenburg</td>\n",
       "    </tr>\n",
       "    <tr>\n",
       "      <td>96</td>\n",
       "      <td>99419286X</td>\n",
       "      <td>Brüdern, Gerd</td>\n",
       "      <td>Heilbut, Iwan</td>\n",
       "      <td>1956-1956</td>\n",
       "      <td>München</td>\n",
       "    </tr>\n",
       "    <tr>\n",
       "      <td>97</td>\n",
       "      <td>994251076</td>\n",
       "      <td>Bruer, Ursula</td>\n",
       "      <td>Heilbut, Iwan</td>\n",
       "      <td>1955-1955</td>\n",
       "      <td>Berlin-Wilmersdorf</td>\n",
       "    </tr>\n",
       "    <tr>\n",
       "      <td>98</td>\n",
       "      <td>994252005</td>\n",
       "      <td>None</td>\n",
       "      <td>Heilbut, Iwan</td>\n",
       "      <td>1964-1964</td>\n",
       "      <td>Berlin</td>\n",
       "    </tr>\n",
       "    <tr>\n",
       "      <td>99</td>\n",
       "      <td>994252919</td>\n",
       "      <td>Engesser, Klaus</td>\n",
       "      <td>Heilbut, Iwan</td>\n",
       "      <td>1965-1965</td>\n",
       "      <td>Berlin</td>\n",
       "    </tr>\n",
       "  </tbody>\n",
       "</table>\n",
       "<p>100 rows × 5 columns</p>\n",
       "</div>"
      ],
      "text/plain": [
       "          idn               author      recipient       year  \\\n",
       "0   992987555       Adler, Hermann  Heilbut, Iwan  1948-1948   \n",
       "1   992988071  Schlösser, Manfred           None  1960-1960   \n",
       "2   993001580       Huder, Walther  Heilbut, Iwan  1966-1968   \n",
       "3   993005012        Albers, Heinz  Heilbut, Iwan  1966-1969   \n",
       "4   993005098  Sinhuber, Bartel F.  Heilbut, Iwan  1969-1969   \n",
       "..        ...                  ...            ...        ...   \n",
       "95  993801994      Herda, Wolfgang  Heilbut, Iwan  1960-1960   \n",
       "96  99419286X       Brüdern, Gerd  Heilbut, Iwan  1956-1956   \n",
       "97  994251076        Bruer, Ursula  Heilbut, Iwan  1955-1955   \n",
       "98  994252005                 None  Heilbut, Iwan  1964-1964   \n",
       "99  994252919      Engesser, Klaus  Heilbut, Iwan  1965-1965   \n",
       "\n",
       "                 place  \n",
       "0                Basel  \n",
       "1            Darmstadt  \n",
       "2               Berlin  \n",
       "3              Hamburg  \n",
       "4             München  \n",
       "..                 ...  \n",
       "95           Oldenburg  \n",
       "96            München  \n",
       "97  Berlin-Wilmersdorf  \n",
       "98              Berlin  \n",
       "99              Berlin  \n",
       "\n",
       "[100 rows x 5 columns]"
      ]
     },
     "execution_count": 8,
     "metadata": {},
     "output_type": "execute_result"
    }
   ],
   "source": [
    "collection"
   ]
  },
  {
   "cell_type": "markdown",
   "metadata": {},
   "source": [
    "## 4. Geolokalisierung"
   ]
  },
  {
   "cell_type": "code",
   "execution_count": 9,
   "metadata": {},
   "outputs": [],
   "source": [
    "import geopy.geocoders as geo\n",
    "from geopy.extra.rate_limiter import RateLimiter"
   ]
  },
  {
   "cell_type": "code",
   "execution_count": 10,
   "metadata": {},
   "outputs": [],
   "source": [
    "geolocator = geo.GeoNames(username='awendler', user_agent='dea-places')\n",
    "geo.options.default_timeout = 10\n",
    "geocode = RateLimiter(geolocator.geocode, min_delay_seconds=1)"
   ]
  },
  {
   "cell_type": "code",
   "execution_count": 11,
   "metadata": {},
   "outputs": [],
   "source": [
    "collection['location'] = collection['place'][:10].apply(geocode)"
   ]
  },
  {
   "cell_type": "code",
   "execution_count": 14,
   "metadata": {},
   "outputs": [
    {
     "data": {
      "text/html": [
       "<div>\n",
       "<style scoped>\n",
       "    .dataframe tbody tr th:only-of-type {\n",
       "        vertical-align: middle;\n",
       "    }\n",
       "\n",
       "    .dataframe tbody tr th {\n",
       "        vertical-align: top;\n",
       "    }\n",
       "\n",
       "    .dataframe thead th {\n",
       "        text-align: right;\n",
       "    }\n",
       "</style>\n",
       "<table border=\"1\" class=\"dataframe\">\n",
       "  <thead>\n",
       "    <tr style=\"text-align: right;\">\n",
       "      <th></th>\n",
       "      <th>idn</th>\n",
       "      <th>author</th>\n",
       "      <th>recipient</th>\n",
       "      <th>year</th>\n",
       "      <th>place</th>\n",
       "      <th>location</th>\n",
       "    </tr>\n",
       "  </thead>\n",
       "  <tbody>\n",
       "    <tr>\n",
       "      <td>0</td>\n",
       "      <td>992987555</td>\n",
       "      <td>Adler, Hermann</td>\n",
       "      <td>Heilbut, Iwan</td>\n",
       "      <td>1948-1948</td>\n",
       "      <td>Basel</td>\n",
       "      <td>(Basel, Basel-City, Switzerland, (47.55839, 7....</td>\n",
       "    </tr>\n",
       "    <tr>\n",
       "      <td>1</td>\n",
       "      <td>992988071</td>\n",
       "      <td>Schlösser, Manfred</td>\n",
       "      <td>None</td>\n",
       "      <td>1960-1960</td>\n",
       "      <td>Darmstadt</td>\n",
       "      <td>(Darmstadt, Hesse, Germany, (49.87167, 8.65027))</td>\n",
       "    </tr>\n",
       "    <tr>\n",
       "      <td>2</td>\n",
       "      <td>993001580</td>\n",
       "      <td>Huder, Walther</td>\n",
       "      <td>Heilbut, Iwan</td>\n",
       "      <td>1966-1968</td>\n",
       "      <td>Berlin</td>\n",
       "      <td>(Berlin, Berlin, Germany, (52.52437, 13.41053))</td>\n",
       "    </tr>\n",
       "    <tr>\n",
       "      <td>3</td>\n",
       "      <td>993005012</td>\n",
       "      <td>Albers, Heinz</td>\n",
       "      <td>Heilbut, Iwan</td>\n",
       "      <td>1966-1969</td>\n",
       "      <td>Hamburg</td>\n",
       "      <td>(Hamburg, Hamburg, Germany, (53.55073, 9.99302))</td>\n",
       "    </tr>\n",
       "    <tr>\n",
       "      <td>4</td>\n",
       "      <td>993005098</td>\n",
       "      <td>Sinhuber, Bartel F.</td>\n",
       "      <td>Heilbut, Iwan</td>\n",
       "      <td>1969-1969</td>\n",
       "      <td>München</td>\n",
       "      <td>(Munich, Bavaria, Germany, (48.13743, 11.57549))</td>\n",
       "    </tr>\n",
       "    <tr>\n",
       "      <td>...</td>\n",
       "      <td>...</td>\n",
       "      <td>...</td>\n",
       "      <td>...</td>\n",
       "      <td>...</td>\n",
       "      <td>...</td>\n",
       "      <td>...</td>\n",
       "    </tr>\n",
       "    <tr>\n",
       "      <td>95</td>\n",
       "      <td>993801994</td>\n",
       "      <td>Herda, Wolfgang</td>\n",
       "      <td>Heilbut, Iwan</td>\n",
       "      <td>1960-1960</td>\n",
       "      <td>Oldenburg</td>\n",
       "      <td>NaN</td>\n",
       "    </tr>\n",
       "    <tr>\n",
       "      <td>96</td>\n",
       "      <td>99419286X</td>\n",
       "      <td>Brüdern, Gerd</td>\n",
       "      <td>Heilbut, Iwan</td>\n",
       "      <td>1956-1956</td>\n",
       "      <td>München</td>\n",
       "      <td>NaN</td>\n",
       "    </tr>\n",
       "    <tr>\n",
       "      <td>97</td>\n",
       "      <td>994251076</td>\n",
       "      <td>Bruer, Ursula</td>\n",
       "      <td>Heilbut, Iwan</td>\n",
       "      <td>1955-1955</td>\n",
       "      <td>Berlin-Wilmersdorf</td>\n",
       "      <td>NaN</td>\n",
       "    </tr>\n",
       "    <tr>\n",
       "      <td>98</td>\n",
       "      <td>994252005</td>\n",
       "      <td>None</td>\n",
       "      <td>Heilbut, Iwan</td>\n",
       "      <td>1964-1964</td>\n",
       "      <td>Berlin</td>\n",
       "      <td>NaN</td>\n",
       "    </tr>\n",
       "    <tr>\n",
       "      <td>99</td>\n",
       "      <td>994252919</td>\n",
       "      <td>Engesser, Klaus</td>\n",
       "      <td>Heilbut, Iwan</td>\n",
       "      <td>1965-1965</td>\n",
       "      <td>Berlin</td>\n",
       "      <td>NaN</td>\n",
       "    </tr>\n",
       "  </tbody>\n",
       "</table>\n",
       "<p>100 rows × 6 columns</p>\n",
       "</div>"
      ],
      "text/plain": [
       "          idn               author      recipient       year  \\\n",
       "0   992987555       Adler, Hermann  Heilbut, Iwan  1948-1948   \n",
       "1   992988071  Schlösser, Manfred           None  1960-1960   \n",
       "2   993001580       Huder, Walther  Heilbut, Iwan  1966-1968   \n",
       "3   993005012        Albers, Heinz  Heilbut, Iwan  1966-1969   \n",
       "4   993005098  Sinhuber, Bartel F.  Heilbut, Iwan  1969-1969   \n",
       "..        ...                  ...            ...        ...   \n",
       "95  993801994      Herda, Wolfgang  Heilbut, Iwan  1960-1960   \n",
       "96  99419286X       Brüdern, Gerd  Heilbut, Iwan  1956-1956   \n",
       "97  994251076        Bruer, Ursula  Heilbut, Iwan  1955-1955   \n",
       "98  994252005                 None  Heilbut, Iwan  1964-1964   \n",
       "99  994252919      Engesser, Klaus  Heilbut, Iwan  1965-1965   \n",
       "\n",
       "                 place                                           location  \n",
       "0                Basel  (Basel, Basel-City, Switzerland, (47.55839, 7....  \n",
       "1            Darmstadt   (Darmstadt, Hesse, Germany, (49.87167, 8.65027))  \n",
       "2               Berlin    (Berlin, Berlin, Germany, (52.52437, 13.41053))  \n",
       "3              Hamburg   (Hamburg, Hamburg, Germany, (53.55073, 9.99302))  \n",
       "4             München   (Munich, Bavaria, Germany, (48.13743, 11.57549))  \n",
       "..                 ...                                                ...  \n",
       "95           Oldenburg                                                NaN  \n",
       "96            München                                                NaN  \n",
       "97  Berlin-Wilmersdorf                                                NaN  \n",
       "98              Berlin                                                NaN  \n",
       "99              Berlin                                                NaN  \n",
       "\n",
       "[100 rows x 6 columns]"
      ]
     },
     "execution_count": 14,
     "metadata": {},
     "output_type": "execute_result"
    }
   ],
   "source": [
    "collection"
   ]
  },
  {
   "cell_type": "code",
   "execution_count": 15,
   "metadata": {},
   "outputs": [],
   "source": [
    "def find_lat(loc):\n",
    "    try:\n",
    "        lat = loc.latitude\n",
    "    except:\n",
    "        lat = None\n",
    "    return lat\n",
    "\n",
    "#collection['lat'] = collection['location'].apply(lambda loc: loc.latitude if loc else None)\n",
    "collection['lat'] = collection['location'].apply(find_lat)"
   ]
  },
  {
   "cell_type": "code",
   "execution_count": 17,
   "metadata": {},
   "outputs": [],
   "source": [
    "def find_lon(loc):\n",
    "    try:\n",
    "        lon = loc.longitude\n",
    "    except:\n",
    "        lon = None\n",
    "    return lon\n",
    "\n",
    "#collection['lon'] = collection['location'].apply(lambda loc: loc.longitude if loc else None)\n",
    "collection['lon'] = collection['location'].apply(find_lon)"
   ]
  },
  {
   "cell_type": "code",
   "execution_count": 18,
   "metadata": {},
   "outputs": [
    {
     "data": {
      "text/html": [
       "<div>\n",
       "<style scoped>\n",
       "    .dataframe tbody tr th:only-of-type {\n",
       "        vertical-align: middle;\n",
       "    }\n",
       "\n",
       "    .dataframe tbody tr th {\n",
       "        vertical-align: top;\n",
       "    }\n",
       "\n",
       "    .dataframe thead th {\n",
       "        text-align: right;\n",
       "    }\n",
       "</style>\n",
       "<table border=\"1\" class=\"dataframe\">\n",
       "  <thead>\n",
       "    <tr style=\"text-align: right;\">\n",
       "      <th></th>\n",
       "      <th>idn</th>\n",
       "      <th>author</th>\n",
       "      <th>recipient</th>\n",
       "      <th>year</th>\n",
       "      <th>place</th>\n",
       "      <th>location</th>\n",
       "      <th>lat</th>\n",
       "      <th>lon</th>\n",
       "    </tr>\n",
       "  </thead>\n",
       "  <tbody>\n",
       "    <tr>\n",
       "      <td>0</td>\n",
       "      <td>992987555</td>\n",
       "      <td>Adler, Hermann</td>\n",
       "      <td>Heilbut, Iwan</td>\n",
       "      <td>1948-1948</td>\n",
       "      <td>Basel</td>\n",
       "      <td>(Basel, Basel-City, Switzerland, (47.55839, 7....</td>\n",
       "      <td>47.55839</td>\n",
       "      <td>7.57327</td>\n",
       "    </tr>\n",
       "    <tr>\n",
       "      <td>1</td>\n",
       "      <td>992988071</td>\n",
       "      <td>Schlösser, Manfred</td>\n",
       "      <td>None</td>\n",
       "      <td>1960-1960</td>\n",
       "      <td>Darmstadt</td>\n",
       "      <td>(Darmstadt, Hesse, Germany, (49.87167, 8.65027))</td>\n",
       "      <td>49.87167</td>\n",
       "      <td>8.65027</td>\n",
       "    </tr>\n",
       "    <tr>\n",
       "      <td>2</td>\n",
       "      <td>993001580</td>\n",
       "      <td>Huder, Walther</td>\n",
       "      <td>Heilbut, Iwan</td>\n",
       "      <td>1966-1968</td>\n",
       "      <td>Berlin</td>\n",
       "      <td>(Berlin, Berlin, Germany, (52.52437, 13.41053))</td>\n",
       "      <td>52.52437</td>\n",
       "      <td>13.41053</td>\n",
       "    </tr>\n",
       "    <tr>\n",
       "      <td>3</td>\n",
       "      <td>993005012</td>\n",
       "      <td>Albers, Heinz</td>\n",
       "      <td>Heilbut, Iwan</td>\n",
       "      <td>1966-1969</td>\n",
       "      <td>Hamburg</td>\n",
       "      <td>(Hamburg, Hamburg, Germany, (53.55073, 9.99302))</td>\n",
       "      <td>53.55073</td>\n",
       "      <td>9.99302</td>\n",
       "    </tr>\n",
       "    <tr>\n",
       "      <td>4</td>\n",
       "      <td>993005098</td>\n",
       "      <td>Sinhuber, Bartel F.</td>\n",
       "      <td>Heilbut, Iwan</td>\n",
       "      <td>1969-1969</td>\n",
       "      <td>München</td>\n",
       "      <td>(Munich, Bavaria, Germany, (48.13743, 11.57549))</td>\n",
       "      <td>48.13743</td>\n",
       "      <td>11.57549</td>\n",
       "    </tr>\n",
       "    <tr>\n",
       "      <td>...</td>\n",
       "      <td>...</td>\n",
       "      <td>...</td>\n",
       "      <td>...</td>\n",
       "      <td>...</td>\n",
       "      <td>...</td>\n",
       "      <td>...</td>\n",
       "      <td>...</td>\n",
       "      <td>...</td>\n",
       "    </tr>\n",
       "    <tr>\n",
       "      <td>95</td>\n",
       "      <td>993801994</td>\n",
       "      <td>Herda, Wolfgang</td>\n",
       "      <td>Heilbut, Iwan</td>\n",
       "      <td>1960-1960</td>\n",
       "      <td>Oldenburg</td>\n",
       "      <td>NaN</td>\n",
       "      <td>NaN</td>\n",
       "      <td>NaN</td>\n",
       "    </tr>\n",
       "    <tr>\n",
       "      <td>96</td>\n",
       "      <td>99419286X</td>\n",
       "      <td>Brüdern, Gerd</td>\n",
       "      <td>Heilbut, Iwan</td>\n",
       "      <td>1956-1956</td>\n",
       "      <td>München</td>\n",
       "      <td>NaN</td>\n",
       "      <td>NaN</td>\n",
       "      <td>NaN</td>\n",
       "    </tr>\n",
       "    <tr>\n",
       "      <td>97</td>\n",
       "      <td>994251076</td>\n",
       "      <td>Bruer, Ursula</td>\n",
       "      <td>Heilbut, Iwan</td>\n",
       "      <td>1955-1955</td>\n",
       "      <td>Berlin-Wilmersdorf</td>\n",
       "      <td>NaN</td>\n",
       "      <td>NaN</td>\n",
       "      <td>NaN</td>\n",
       "    </tr>\n",
       "    <tr>\n",
       "      <td>98</td>\n",
       "      <td>994252005</td>\n",
       "      <td>None</td>\n",
       "      <td>Heilbut, Iwan</td>\n",
       "      <td>1964-1964</td>\n",
       "      <td>Berlin</td>\n",
       "      <td>NaN</td>\n",
       "      <td>NaN</td>\n",
       "      <td>NaN</td>\n",
       "    </tr>\n",
       "    <tr>\n",
       "      <td>99</td>\n",
       "      <td>994252919</td>\n",
       "      <td>Engesser, Klaus</td>\n",
       "      <td>Heilbut, Iwan</td>\n",
       "      <td>1965-1965</td>\n",
       "      <td>Berlin</td>\n",
       "      <td>NaN</td>\n",
       "      <td>NaN</td>\n",
       "      <td>NaN</td>\n",
       "    </tr>\n",
       "  </tbody>\n",
       "</table>\n",
       "<p>100 rows × 8 columns</p>\n",
       "</div>"
      ],
      "text/plain": [
       "          idn               author      recipient       year  \\\n",
       "0   992987555       Adler, Hermann  Heilbut, Iwan  1948-1948   \n",
       "1   992988071  Schlösser, Manfred           None  1960-1960   \n",
       "2   993001580       Huder, Walther  Heilbut, Iwan  1966-1968   \n",
       "3   993005012        Albers, Heinz  Heilbut, Iwan  1966-1969   \n",
       "4   993005098  Sinhuber, Bartel F.  Heilbut, Iwan  1969-1969   \n",
       "..        ...                  ...            ...        ...   \n",
       "95  993801994      Herda, Wolfgang  Heilbut, Iwan  1960-1960   \n",
       "96  99419286X       Brüdern, Gerd  Heilbut, Iwan  1956-1956   \n",
       "97  994251076        Bruer, Ursula  Heilbut, Iwan  1955-1955   \n",
       "98  994252005                 None  Heilbut, Iwan  1964-1964   \n",
       "99  994252919      Engesser, Klaus  Heilbut, Iwan  1965-1965   \n",
       "\n",
       "                 place                                           location  \\\n",
       "0                Basel  (Basel, Basel-City, Switzerland, (47.55839, 7....   \n",
       "1            Darmstadt   (Darmstadt, Hesse, Germany, (49.87167, 8.65027))   \n",
       "2               Berlin    (Berlin, Berlin, Germany, (52.52437, 13.41053))   \n",
       "3              Hamburg   (Hamburg, Hamburg, Germany, (53.55073, 9.99302))   \n",
       "4             München   (Munich, Bavaria, Germany, (48.13743, 11.57549))   \n",
       "..                 ...                                                ...   \n",
       "95           Oldenburg                                                NaN   \n",
       "96            München                                                NaN   \n",
       "97  Berlin-Wilmersdorf                                                NaN   \n",
       "98              Berlin                                                NaN   \n",
       "99              Berlin                                                NaN   \n",
       "\n",
       "         lat       lon  \n",
       "0   47.55839   7.57327  \n",
       "1   49.87167   8.65027  \n",
       "2   52.52437  13.41053  \n",
       "3   53.55073   9.99302  \n",
       "4   48.13743  11.57549  \n",
       "..       ...       ...  \n",
       "95       NaN       NaN  \n",
       "96       NaN       NaN  \n",
       "97       NaN       NaN  \n",
       "98       NaN       NaN  \n",
       "99       NaN       NaN  \n",
       "\n",
       "[100 rows x 8 columns]"
      ]
     },
     "execution_count": 18,
     "metadata": {},
     "output_type": "execute_result"
    }
   ],
   "source": [
    "collection"
   ]
  },
  {
   "cell_type": "code",
   "execution_count": 25,
   "metadata": {},
   "outputs": [],
   "source": [
    "collection.to_csv('collection.csv', index=None)"
   ]
  },
  {
   "cell_type": "code",
   "execution_count": 19,
   "metadata": {},
   "outputs": [],
   "source": [
    "collection = pd.read_csv('collection_full.csv')"
   ]
  },
  {
   "cell_type": "code",
   "execution_count": 20,
   "metadata": {},
   "outputs": [],
   "source": [
    "import plotly.express as px"
   ]
  },
  {
   "cell_type": "code",
   "execution_count": 28,
   "metadata": {},
   "outputs": [
    {
     "data": {
      "text/html": [
       "<div>\n",
       "<style scoped>\n",
       "    .dataframe tbody tr th:only-of-type {\n",
       "        vertical-align: middle;\n",
       "    }\n",
       "\n",
       "    .dataframe tbody tr th {\n",
       "        vertical-align: top;\n",
       "    }\n",
       "\n",
       "    .dataframe thead th {\n",
       "        text-align: right;\n",
       "    }\n",
       "</style>\n",
       "<table border=\"1\" class=\"dataframe\">\n",
       "  <thead>\n",
       "    <tr style=\"text-align: right;\">\n",
       "      <th></th>\n",
       "      <th>author</th>\n",
       "      <th>idn</th>\n",
       "      <th>place</th>\n",
       "      <th>recipient</th>\n",
       "      <th>year</th>\n",
       "      <th>location</th>\n",
       "      <th>lat</th>\n",
       "      <th>lon</th>\n",
       "    </tr>\n",
       "  </thead>\n",
       "  <tbody>\n",
       "    <tr>\n",
       "      <td>29</td>\n",
       "      <td>Heilbut, Iwan</td>\n",
       "      <td>993729711</td>\n",
       "      <td>New York, NY</td>\n",
       "      <td>Bergengruen, Werner</td>\n",
       "      <td>1948-1948</td>\n",
       "      <td>New York, New York, United States</td>\n",
       "      <td>40.71427</td>\n",
       "      <td>-74.00597</td>\n",
       "    </tr>\n",
       "    <tr>\n",
       "      <td>30</td>\n",
       "      <td>Heilbut, Iwan</td>\n",
       "      <td>993750249</td>\n",
       "      <td>New York, NY</td>\n",
       "      <td>Berger, David</td>\n",
       "      <td>1948-1948</td>\n",
       "      <td>New York, New York, United States</td>\n",
       "      <td>40.71427</td>\n",
       "      <td>-74.00597</td>\n",
       "    </tr>\n",
       "    <tr>\n",
       "      <td>31</td>\n",
       "      <td>Heilbut, Iwan</td>\n",
       "      <td>993750354</td>\n",
       "      <td>New York, NY</td>\n",
       "      <td>Berghof, ...</td>\n",
       "      <td>1942-1942</td>\n",
       "      <td>New York, New York, United States</td>\n",
       "      <td>40.71427</td>\n",
       "      <td>-74.00597</td>\n",
       "    </tr>\n",
       "    <tr>\n",
       "      <td>32</td>\n",
       "      <td>Heilbut, Iwan</td>\n",
       "      <td>993751288</td>\n",
       "      <td>New York, NY</td>\n",
       "      <td>Bergner, Elisabeth</td>\n",
       "      <td>1945-1945</td>\n",
       "      <td>New York, New York, United States</td>\n",
       "      <td>40.71427</td>\n",
       "      <td>-74.00597</td>\n",
       "    </tr>\n",
       "    <tr>\n",
       "      <td>33</td>\n",
       "      <td>Heilbut, Iwan</td>\n",
       "      <td>993753094</td>\n",
       "      <td>New York, NY</td>\n",
       "      <td>Berlowitz, Klara</td>\n",
       "      <td>1942-1942</td>\n",
       "      <td>New York, New York, United States</td>\n",
       "      <td>40.71427</td>\n",
       "      <td>-74.00597</td>\n",
       "    </tr>\n",
       "    <tr>\n",
       "      <td>...</td>\n",
       "      <td>...</td>\n",
       "      <td>...</td>\n",
       "      <td>...</td>\n",
       "      <td>...</td>\n",
       "      <td>...</td>\n",
       "      <td>...</td>\n",
       "      <td>...</td>\n",
       "      <td>...</td>\n",
       "    </tr>\n",
       "    <tr>\n",
       "      <td>1100</td>\n",
       "      <td>Heilbut, Iwan</td>\n",
       "      <td>993484506</td>\n",
       "      <td>Tübingen</td>\n",
       "      <td>Merkel, H.</td>\n",
       "      <td>1953-1953</td>\n",
       "      <td>Tübingen, Baden-Württemberg, Germany</td>\n",
       "      <td>48.52266</td>\n",
       "      <td>9.05222</td>\n",
       "    </tr>\n",
       "    <tr>\n",
       "      <td>1274</td>\n",
       "      <td>Heilbut, Iwan</td>\n",
       "      <td>999674536</td>\n",
       "      <td>Landshut</td>\n",
       "      <td>Weber, Willibald</td>\n",
       "      <td>1953-1953</td>\n",
       "      <td>Landshut, Bavaria, Germany</td>\n",
       "      <td>48.52961</td>\n",
       "      <td>12.16179</td>\n",
       "    </tr>\n",
       "    <tr>\n",
       "      <td>1316</td>\n",
       "      <td>Heilbut, Iwan</td>\n",
       "      <td>996529055</td>\n",
       "      <td>Fulda</td>\n",
       "      <td>Jennerich, Louise</td>\n",
       "      <td>1952-1952</td>\n",
       "      <td>Fulda, Hesse, Germany</td>\n",
       "      <td>50.55162</td>\n",
       "      <td>9.67518</td>\n",
       "    </tr>\n",
       "    <tr>\n",
       "      <td>1317</td>\n",
       "      <td>Heilbut, Iwan</td>\n",
       "      <td>996598022</td>\n",
       "      <td>München, Nizza u.a.</td>\n",
       "      <td>Keller, Josef</td>\n",
       "      <td>1961-1971</td>\n",
       "      <td>NaN</td>\n",
       "      <td>NaN</td>\n",
       "      <td>NaN</td>\n",
       "    </tr>\n",
       "    <tr>\n",
       "      <td>1318</td>\n",
       "      <td>Heilbut, Iwan</td>\n",
       "      <td>996722068</td>\n",
       "      <td>Tel-Aviv</td>\n",
       "      <td>Kreisselmeier, Hermann</td>\n",
       "      <td>1965-1971</td>\n",
       "      <td>Tel Aviv, Tel Aviv, Israel</td>\n",
       "      <td>32.08088</td>\n",
       "      <td>34.78057</td>\n",
       "    </tr>\n",
       "  </tbody>\n",
       "</table>\n",
       "<p>594 rows × 8 columns</p>\n",
       "</div>"
      ],
      "text/plain": [
       "             author        idn                 place               recipient  \\\n",
       "29    Heilbut, Iwan  993729711          New York, NY     Bergengruen, Werner   \n",
       "30    Heilbut, Iwan  993750249          New York, NY           Berger, David   \n",
       "31    Heilbut, Iwan  993750354          New York, NY            Berghof, ...   \n",
       "32    Heilbut, Iwan  993751288          New York, NY      Bergner, Elisabeth   \n",
       "33    Heilbut, Iwan  993753094          New York, NY        Berlowitz, Klara   \n",
       "...             ...        ...                   ...                     ...   \n",
       "1100  Heilbut, Iwan  993484506             Tübingen              Merkel, H.   \n",
       "1274  Heilbut, Iwan  999674536              Landshut        Weber, Willibald   \n",
       "1316  Heilbut, Iwan  996529055                 Fulda       Jennerich, Louise   \n",
       "1317  Heilbut, Iwan  996598022  München, Nizza u.a.           Keller, Josef   \n",
       "1318  Heilbut, Iwan  996722068              Tel-Aviv  Kreisselmeier, Hermann   \n",
       "\n",
       "           year                              location       lat       lon  \n",
       "29    1948-1948     New York, New York, United States  40.71427 -74.00597  \n",
       "30    1948-1948     New York, New York, United States  40.71427 -74.00597  \n",
       "31    1942-1942     New York, New York, United States  40.71427 -74.00597  \n",
       "32    1945-1945     New York, New York, United States  40.71427 -74.00597  \n",
       "33    1942-1942     New York, New York, United States  40.71427 -74.00597  \n",
       "...         ...                                   ...       ...       ...  \n",
       "1100  1953-1953  Tübingen, Baden-Württemberg, Germany  48.52266   9.05222  \n",
       "1274  1953-1953            Landshut, Bavaria, Germany  48.52961  12.16179  \n",
       "1316  1952-1952                 Fulda, Hesse, Germany  50.55162   9.67518  \n",
       "1317  1961-1971                                   NaN       NaN       NaN  \n",
       "1318  1965-1971            Tel Aviv, Tel Aviv, Israel  32.08088  34.78057  \n",
       "\n",
       "[594 rows x 8 columns]"
      ]
     },
     "execution_count": 28,
     "metadata": {},
     "output_type": "execute_result"
    }
   ],
   "source": [
    "collection[collection['author'] == 'Heilbut, Iwan']"
   ]
  },
  {
   "cell_type": "code",
   "execution_count": 32,
   "metadata": {},
   "outputs": [],
   "source": [
    "fig = px.scatter_geo(collection[collection['recipient'] == 'Heilbut, Iwan'], lat='lat', lon='lon', scope='world', hover_data=['place', 'recipient'])"
   ]
  },
  {
   "cell_type": "code",
   "execution_count": 33,
   "metadata": {},
   "outputs": [
    {
     "data": {
      "application/vnd.plotly.v1+json": {
       "config": {
        "plotlyServerURL": "https://plot.ly"
       },
       "data": [
        {
         "customdata": [
          [
           "Tucson, Ariz.",
           "Heilbut, Iwan"
          ],
          [
           "West Englewood, NJ u.a.",
           "Heilbut, Iwan"
          ],
          [
           "Berlin-Neukölln",
           "Heilbut, Iwan"
          ],
          [
           "New York, NY",
           "Heilbut, Iwan"
          ],
          [
           "New York, NY",
           "Heilbut, Iwan"
          ],
          [
           "New York, NY",
           "Heilbut, Iwan"
          ],
          [
           "New York, NY",
           "Heilbut, Iwan"
          ],
          [
           "New York, NY",
           "Heilbut, Iwan"
          ],
          [
           "New York, NY",
           "Heilbut, Iwan"
          ],
          [
           "New York, NY",
           "Heilbut, Iwan"
          ],
          [
           "New York, NY",
           "Heilbut, Iwan"
          ],
          [
           "New York, NY",
           "Heilbut, Iwan"
          ],
          [
           "New York, NY",
           "Heilbut, Iwan"
          ],
          [
           "New York, NY",
           "Heilbut, Iwan"
          ],
          [
           "New York, NY",
           "Heilbut, Iwan"
          ],
          [
           "New York, NY",
           "Heilbut, Iwan"
          ],
          [
           "New York, NY",
           "Heilbut, Iwan"
          ],
          [
           "New York, NY",
           "Heilbut, Iwan"
          ],
          [
           "New York, NY",
           "Heilbut, Iwan"
          ],
          [
           "New York, NY",
           "Heilbut, Iwan"
          ],
          [
           "New York, NY",
           "Heilbut, Iwan"
          ],
          [
           "New York, NY",
           "Heilbut, Iwan"
          ],
          [
           "New York, NY",
           "Heilbut, Iwan"
          ],
          [
           "New York, NY",
           "Heilbut, Iwan"
          ],
          [
           "New York, NY",
           "Heilbut, Iwan"
          ],
          [
           "New York, NY",
           "Heilbut, Iwan"
          ],
          [
           "New York, NY",
           "Heilbut, Iwan"
          ],
          [
           "New York, NY",
           "Heilbut, Iwan"
          ],
          [
           "New York, NY",
           "Heilbut, Iwan"
          ],
          [
           "New York, NY",
           "Heilbut, Iwan"
          ],
          [
           "New York, NY",
           "Heilbut, Iwan"
          ],
          [
           "New York, NY",
           "Heilbut, Iwan"
          ],
          [
           "New York, NY",
           "Heilbut, Iwan"
          ],
          [
           "New York, NY",
           "Heilbut, Iwan"
          ],
          [
           "New York, NY",
           "Heilbut, Iwan"
          ],
          [
           "New York, NY",
           "Heilbut, Iwan"
          ],
          [
           "New York, NY",
           "Heilbut, Iwan"
          ],
          [
           "New York, NY",
           "Heilbut, Iwan"
          ],
          [
           "New York, NY",
           "Heilbut, Iwan"
          ],
          [
           "New York, NY",
           "Heilbut, Iwan"
          ],
          [
           "New York, NY",
           "Heilbut, Iwan"
          ],
          [
           "New York, NY",
           "Heilbut, Iwan"
          ],
          [
           "New York, NY",
           "Heilbut, Iwan"
          ],
          [
           "New York, NY",
           "Heilbut, Iwan"
          ],
          [
           "New York, NY",
           "Heilbut, Iwan"
          ],
          [
           "New York, NY",
           "Heilbut, Iwan"
          ],
          [
           "New York, NY",
           "Heilbut, Iwan"
          ],
          [
           "New York, NY",
           "Heilbut, Iwan"
          ],
          [
           "New York, NY",
           "Heilbut, Iwan"
          ],
          [
           "New York, NY",
           "Heilbut, Iwan"
          ],
          [
           "New York, NY",
           "Heilbut, Iwan"
          ],
          [
           "New York, NY",
           "Heilbut, Iwan"
          ],
          [
           "New York, NY",
           "Heilbut, Iwan"
          ],
          [
           "New York, NY",
           "Heilbut, Iwan"
          ],
          [
           "New York, NY",
           "Heilbut, Iwan"
          ],
          [
           "New York, NY",
           "Heilbut, Iwan"
          ],
          [
           "New York, NY",
           "Heilbut, Iwan"
          ],
          [
           "New York, NY",
           "Heilbut, Iwan"
          ],
          [
           "New York, NY",
           "Heilbut, Iwan"
          ],
          [
           "New York, NY",
           "Heilbut, Iwan"
          ],
          [
           "New York, NY",
           "Heilbut, Iwan"
          ],
          [
           "New York, NY",
           "Heilbut, Iwan"
          ],
          [
           "New York, NY",
           "Heilbut, Iwan"
          ],
          [
           "New York, NY",
           "Heilbut, Iwan"
          ],
          [
           "New York, NY",
           "Heilbut, Iwan"
          ],
          [
           "New York, NY",
           "Heilbut, Iwan"
          ],
          [
           "New York, NY",
           "Heilbut, Iwan"
          ],
          [
           "New York, NY",
           "Heilbut, Iwan"
          ],
          [
           "New York, NY",
           "Heilbut, Iwan"
          ],
          [
           "New York, NY",
           "Heilbut, Iwan"
          ],
          [
           "New York, NY",
           "Heilbut, Iwan"
          ],
          [
           "New York, NY",
           "Heilbut, Iwan"
          ],
          [
           "New York, NY",
           "Heilbut, Iwan"
          ],
          [
           "New York, NY",
           "Heilbut, Iwan"
          ],
          [
           "New York, NY",
           "Heilbut, Iwan"
          ],
          [
           "New York, NY",
           "Heilbut, Iwan"
          ],
          [
           "New York, NY",
           "Heilbut, Iwan"
          ],
          [
           "New York, NY",
           "Heilbut, Iwan"
          ],
          [
           "New York, NY",
           "Heilbut, Iwan"
          ],
          [
           "New York, NY",
           "Heilbut, Iwan"
          ],
          [
           "New York, NY",
           "Heilbut, Iwan"
          ],
          [
           "New York, NY",
           "Heilbut, Iwan"
          ],
          [
           "New York, NY",
           "Heilbut, Iwan"
          ],
          [
           "New York, NY",
           "Heilbut, Iwan"
          ],
          [
           "New York, NY",
           "Heilbut, Iwan"
          ],
          [
           "New York, NY",
           "Heilbut, Iwan"
          ],
          [
           "New York, NY",
           "Heilbut, Iwan"
          ],
          [
           "New York, NY",
           "Heilbut, Iwan"
          ],
          [
           "New York, NY",
           "Heilbut, Iwan"
          ],
          [
           "New York, NY",
           "Heilbut, Iwan"
          ],
          [
           "New York, NY",
           "Heilbut, Iwan"
          ],
          [
           "New York, NY",
           "Heilbut, Iwan"
          ],
          [
           "New York, NY",
           "Heilbut, Iwan"
          ],
          [
           "New York, NY",
           "Heilbut, Iwan"
          ],
          [
           "New York, NY",
           "Heilbut, Iwan"
          ],
          [
           "New York, NY",
           "Heilbut, Iwan"
          ],
          [
           "New York, NY",
           "Heilbut, Iwan"
          ],
          [
           "New York, NY",
           "Heilbut, Iwan"
          ],
          [
           "New York, NY",
           "Heilbut, Iwan"
          ],
          [
           "New York, NY",
           "Heilbut, Iwan"
          ],
          [
           "New York, NY",
           "Heilbut, Iwan"
          ],
          [
           "New York, NY",
           "Heilbut, Iwan"
          ],
          [
           "New York, NY",
           "Heilbut, Iwan"
          ],
          [
           "New York, NY",
           "Heilbut, Iwan"
          ],
          [
           "New York, NY",
           "Heilbut, Iwan"
          ],
          [
           "New York, NY",
           "Heilbut, Iwan"
          ],
          [
           "New York, NY",
           "Heilbut, Iwan"
          ],
          [
           "New York, NY",
           "Heilbut, Iwan"
          ],
          [
           "New York, NY",
           "Heilbut, Iwan"
          ],
          [
           "New York, NY",
           "Heilbut, Iwan"
          ],
          [
           "New York, NY",
           "Heilbut, Iwan"
          ],
          [
           "New York, NY",
           "Heilbut, Iwan"
          ],
          [
           "New York, NY",
           "Heilbut, Iwan"
          ],
          [
           "New York, NY",
           "Heilbut, Iwan"
          ],
          [
           "New York, NY",
           "Heilbut, Iwan"
          ],
          [
           "New York, NY",
           "Heilbut, Iwan"
          ],
          [
           "New York, NY",
           "Heilbut, Iwan"
          ],
          [
           "New York, NY",
           "Heilbut, Iwan"
          ],
          [
           "New York, NY",
           "Heilbut, Iwan"
          ],
          [
           "New York, NY",
           "Heilbut, Iwan"
          ],
          [
           "New York, NY",
           "Heilbut, Iwan"
          ],
          [
           "New York, NY",
           "Heilbut, Iwan"
          ],
          [
           "New York, NY",
           "Heilbut, Iwan"
          ],
          [
           "New York, NY",
           "Heilbut, Iwan"
          ],
          [
           "New York, NY",
           "Heilbut, Iwan"
          ],
          [
           "New York, NY",
           "Heilbut, Iwan"
          ],
          [
           "New York, NY",
           "Heilbut, Iwan"
          ],
          [
           "New York, NY",
           "Heilbut, Iwan"
          ],
          [
           "New York, NY",
           "Heilbut, Iwan"
          ],
          [
           "New York, NY",
           "Heilbut, Iwan"
          ],
          [
           "New York, NY",
           "Heilbut, Iwan"
          ],
          [
           "New York, NY",
           "Heilbut, Iwan"
          ],
          [
           "New York, NY",
           "Heilbut, Iwan"
          ],
          [
           "New York, NY",
           "Heilbut, Iwan"
          ],
          [
           "New York, NY",
           "Heilbut, Iwan"
          ],
          [
           "New York, NY",
           "Heilbut, Iwan"
          ],
          [
           "New York, NY",
           "Heilbut, Iwan"
          ],
          [
           "Wiesbaden",
           "Heilbut, Iwan"
          ],
          [
           "Wiesbaden",
           "Heilbut, Iwan"
          ],
          [
           "Wiesbaden",
           "Heilbut, Iwan"
          ],
          [
           "Wiesbaden",
           "Heilbut, Iwan"
          ],
          [
           "Wiesbaden",
           "Heilbut, Iwan"
          ],
          [
           "Berlin-Marienfelde",
           "Heilbut, Iwan"
          ],
          [
           "Pörtschach",
           "Heilbut, Iwan"
          ],
          [
           "Heidelberg",
           "Heilbut, Iwan"
          ],
          [
           "Heidelberg",
           "Heilbut, Iwan"
          ],
          [
           "Heidelberg",
           "Heilbut, Iwan"
          ],
          [
           "Heidelberg",
           "Heilbut, Iwan"
          ],
          [
           "Heidelberg",
           "Heilbut, Iwan"
          ],
          [
           "Heidelberg",
           "Heilbut, Iwan"
          ],
          [
           "Heidelberg",
           "Heilbut, Iwan"
          ],
          [
           "Heidelberg",
           "Heilbut, Iwan"
          ],
          [
           "Heidelberg",
           "Heilbut, Iwan"
          ],
          [
           "München",
           "Heilbut, Iwan"
          ],
          [
           "München",
           "Heilbut, Iwan"
          ],
          [
           "München",
           "Heilbut, Iwan"
          ],
          [
           "München",
           "Heilbut, Iwan"
          ],
          [
           "München",
           "Heilbut, Iwan"
          ],
          [
           "München",
           "Heilbut, Iwan"
          ],
          [
           "München",
           "Heilbut, Iwan"
          ],
          [
           "München",
           "Heilbut, Iwan"
          ],
          [
           "München",
           "Heilbut, Iwan"
          ],
          [
           "München",
           "Heilbut, Iwan"
          ],
          [
           "München",
           "Heilbut, Iwan"
          ],
          [
           "München",
           "Heilbut, Iwan"
          ],
          [
           "München",
           "Heilbut, Iwan"
          ],
          [
           "München",
           "Heilbut, Iwan"
          ],
          [
           "München",
           "Heilbut, Iwan"
          ],
          [
           "München",
           "Heilbut, Iwan"
          ],
          [
           "München",
           "Heilbut, Iwan"
          ],
          [
           "München",
           "Heilbut, Iwan"
          ],
          [
           "München",
           "Heilbut, Iwan"
          ],
          [
           "München",
           "Heilbut, Iwan"
          ],
          [
           "München",
           "Heilbut, Iwan"
          ],
          [
           "München",
           "Heilbut, Iwan"
          ],
          [
           "München",
           "Heilbut, Iwan"
          ],
          [
           "München",
           "Heilbut, Iwan"
          ],
          [
           "München",
           "Heilbut, Iwan"
          ],
          [
           "München",
           "Heilbut, Iwan"
          ],
          [
           "München",
           "Heilbut, Iwan"
          ],
          [
           "München",
           "Heilbut, Iwan"
          ],
          [
           "München",
           "Heilbut, Iwan"
          ],
          [
           "München",
           "Heilbut, Iwan"
          ],
          [
           "München",
           "Heilbut, Iwan"
          ],
          [
           "München",
           "Heilbut, Iwan"
          ],
          [
           "München",
           "Heilbut, Iwan"
          ],
          [
           "München",
           "Heilbut, Iwan"
          ],
          [
           "München",
           "Heilbut, Iwan"
          ],
          [
           "München",
           "Heilbut, Iwan"
          ],
          [
           "München",
           "Heilbut, Iwan"
          ],
          [
           "München",
           "Heilbut, Iwan"
          ],
          [
           "München",
           "Heilbut, Iwan"
          ],
          [
           "München",
           "Heilbut, Iwan"
          ],
          [
           "München",
           "Heilbut, Iwan"
          ],
          [
           "München",
           "Heilbut, Iwan"
          ],
          [
           "München",
           "Heilbut, Iwan"
          ],
          [
           "München",
           "Heilbut, Iwan"
          ],
          [
           "München",
           "Heilbut, Iwan"
          ],
          [
           "München",
           "Heilbut, Iwan"
          ],
          [
           "München",
           "Heilbut, Iwan"
          ],
          [
           "München",
           "Heilbut, Iwan"
          ],
          [
           "München",
           "Heilbut, Iwan"
          ],
          [
           "München",
           "Heilbut, Iwan"
          ],
          [
           "München",
           "Heilbut, Iwan"
          ],
          [
           "München",
           "Heilbut, Iwan"
          ],
          [
           "München",
           "Heilbut, Iwan"
          ],
          [
           "München",
           "Heilbut, Iwan"
          ],
          [
           "München",
           "Heilbut, Iwan"
          ],
          [
           "München",
           "Heilbut, Iwan"
          ],
          [
           "München",
           "Heilbut, Iwan"
          ],
          [
           "München",
           "Heilbut, Iwan"
          ],
          [
           "München",
           "Heilbut, Iwan"
          ],
          [
           "München",
           "Heilbut, Iwan"
          ],
          [
           "München",
           "Heilbut, Iwan"
          ],
          [
           "München",
           "Heilbut, Iwan"
          ],
          [
           "München",
           "Heilbut, Iwan"
          ],
          [
           "München",
           "Heilbut, Iwan"
          ],
          [
           "München",
           "Heilbut, Iwan"
          ],
          [
           "München",
           "Heilbut, Iwan"
          ],
          [
           "München",
           "Heilbut, Iwan"
          ],
          [
           "München",
           "Heilbut, Iwan"
          ],
          [
           "München",
           "Heilbut, Iwan"
          ],
          [
           "München",
           "Heilbut, Iwan"
          ],
          [
           "München",
           "Heilbut, Iwan"
          ],
          [
           "München",
           "Heilbut, Iwan"
          ],
          [
           "München",
           "Heilbut, Iwan"
          ],
          [
           "München",
           "Heilbut, Iwan"
          ],
          [
           "München",
           "Heilbut, Iwan"
          ],
          [
           "München",
           "Heilbut, Iwan"
          ],
          [
           "München",
           "Heilbut, Iwan"
          ],
          [
           "München",
           "Heilbut, Iwan"
          ],
          [
           "München",
           "Heilbut, Iwan"
          ],
          [
           "München",
           "Heilbut, Iwan"
          ],
          [
           "München",
           "Heilbut, Iwan"
          ],
          [
           "München",
           "Heilbut, Iwan"
          ],
          [
           "München",
           "Heilbut, Iwan"
          ],
          [
           "Baden-Baden",
           "Heilbut, Iwan"
          ],
          [
           "Baden-Baden",
           "Heilbut, Iwan"
          ],
          [
           "München u.a.",
           "Heilbut, Iwan"
          ],
          [
           "München u.a.",
           "Heilbut, Iwan"
          ],
          [
           "München u.a.",
           "Heilbut, Iwan"
          ],
          [
           "München u.a.",
           "Heilbut, Iwan"
          ],
          [
           "München u.a.",
           "Heilbut, Iwan"
          ],
          [
           "München u.a.",
           "Heilbut, Iwan"
          ],
          [
           "München u.a.",
           "Heilbut, Iwan"
          ],
          [
           "München u.a.",
           "Heilbut, Iwan"
          ],
          [
           "München u.a.",
           "Heilbut, Iwan"
          ],
          [
           "München u.a.",
           "Heilbut, Iwan"
          ],
          [
           "München u.a.",
           "Heilbut, Iwan"
          ],
          [
           "München u.a.",
           "Heilbut, Iwan"
          ],
          [
           "Berlin",
           "Heilbut, Iwan"
          ],
          [
           "Berlin",
           "Heilbut, Iwan"
          ],
          [
           "Berlin",
           "Heilbut, Iwan"
          ],
          [
           "Berlin",
           "Heilbut, Iwan"
          ],
          [
           "Berlin",
           "Heilbut, Iwan"
          ],
          [
           "Berlin",
           "Heilbut, Iwan"
          ],
          [
           "Berlin",
           "Heilbut, Iwan"
          ],
          [
           "Berlin",
           "Heilbut, Iwan"
          ],
          [
           "Berlin",
           "Heilbut, Iwan"
          ],
          [
           "Berlin",
           "Heilbut, Iwan"
          ],
          [
           "Berlin",
           "Heilbut, Iwan"
          ],
          [
           "Berlin",
           "Heilbut, Iwan"
          ],
          [
           "Berlin",
           "Heilbut, Iwan"
          ],
          [
           "Berlin",
           "Heilbut, Iwan"
          ],
          [
           "Berlin",
           "Heilbut, Iwan"
          ],
          [
           "Berlin",
           "Heilbut, Iwan"
          ],
          [
           "Berlin",
           "Heilbut, Iwan"
          ],
          [
           "Berlin",
           "Heilbut, Iwan"
          ],
          [
           "Berlin",
           "Heilbut, Iwan"
          ],
          [
           "Berlin",
           "Heilbut, Iwan"
          ],
          [
           "Berlin",
           "Heilbut, Iwan"
          ],
          [
           "Berlin",
           "Heilbut, Iwan"
          ],
          [
           "Berlin",
           "Heilbut, Iwan"
          ],
          [
           "Berlin",
           "Heilbut, Iwan"
          ],
          [
           "Berlin",
           "Heilbut, Iwan"
          ],
          [
           "Berlin",
           "Heilbut, Iwan"
          ],
          [
           "Berlin",
           "Heilbut, Iwan"
          ],
          [
           "Berlin",
           "Heilbut, Iwan"
          ],
          [
           "Berlin",
           "Heilbut, Iwan"
          ],
          [
           "Berlin",
           "Heilbut, Iwan"
          ],
          [
           "Berlin",
           "Heilbut, Iwan"
          ],
          [
           "Paris u.a.",
           "Heilbut, Iwan"
          ],
          [
           "Paris u.a.",
           "Heilbut, Iwan"
          ],
          [
           "Luzern",
           "Heilbut, Iwan"
          ],
          [
           "South Hadley, Mass.",
           "Heilbut, Iwan"
          ],
          [
           "Hamburg",
           "Heilbut, Iwan"
          ],
          [
           "Hamburg",
           "Heilbut, Iwan"
          ],
          [
           "Hamburg",
           "Heilbut, Iwan"
          ],
          [
           "Hamburg",
           "Heilbut, Iwan"
          ],
          [
           "Hamburg",
           "Heilbut, Iwan"
          ],
          [
           "Hamburg",
           "Heilbut, Iwan"
          ],
          [
           "Hamburg",
           "Heilbut, Iwan"
          ],
          [
           "Hamburg",
           "Heilbut, Iwan"
          ],
          [
           "Hamburg",
           "Heilbut, Iwan"
          ],
          [
           "Hamburg",
           "Heilbut, Iwan"
          ],
          [
           "Hamburg",
           "Heilbut, Iwan"
          ],
          [
           "Hamburg",
           "Heilbut, Iwan"
          ],
          [
           "Hamburg",
           "Heilbut, Iwan"
          ],
          [
           "Hamburg",
           "Heilbut, Iwan"
          ],
          [
           "Hamburg",
           "Heilbut, Iwan"
          ],
          [
           "Hamburg",
           "Heilbut, Iwan"
          ],
          [
           "Hamburg",
           "Heilbut, Iwan"
          ],
          [
           "Hamburg",
           "Heilbut, Iwan"
          ],
          [
           "Hamburg",
           "Heilbut, Iwan"
          ],
          [
           "Hamburg",
           "Heilbut, Iwan"
          ],
          [
           "Hamburg",
           "Heilbut, Iwan"
          ],
          [
           "Hamburg",
           "Heilbut, Iwan"
          ],
          [
           "Hamburg",
           "Heilbut, Iwan"
          ],
          [
           "Hamburg",
           "Heilbut, Iwan"
          ],
          [
           "Haar bei München",
           "Heilbut, Iwan"
          ],
          [
           "Beverly Hills, Calif.",
           "Heilbut, Iwan"
          ],
          [
           "Chicago, Ill.",
           "Heilbut, Iwan"
          ],
          [
           "Chicago, Ill.",
           "Heilbut, Iwan"
          ],
          [
           "Chicago, Ill.",
           "Heilbut, Iwan"
          ],
          [
           "Chicago, Ill.",
           "Heilbut, Iwan"
          ],
          [
           "Pacific Palisades, Calif.",
           "Heilbut, Iwan"
          ],
          [
           "Bad Harzburg",
           "Heilbut, Iwan"
          ],
          [
           "Staten Island, NY",
           "Heilbut, Iwan"
          ],
          [
           "Nizza",
           "Heilbut, Iwan"
          ],
          [
           "Bad Godesberg u.a.",
           "Heilbut, Iwan"
          ],
          [
           "Tel Aviv",
           "Heilbut, Iwan"
          ],
          [
           "Tel Aviv",
           "Heilbut, Iwan"
          ],
          [
           "Tel Aviv",
           "Heilbut, Iwan"
          ],
          [
           "Wien",
           "Heilbut, Iwan"
          ],
          [
           "Wien",
           "Heilbut, Iwan"
          ],
          [
           "Wien",
           "Heilbut, Iwan"
          ],
          [
           "Wien",
           "Heilbut, Iwan"
          ],
          [
           "Wien",
           "Heilbut, Iwan"
          ],
          [
           "Wien",
           "Heilbut, Iwan"
          ],
          [
           "Wien",
           "Heilbut, Iwan"
          ],
          [
           "Wien",
           "Heilbut, Iwan"
          ],
          [
           "Wien",
           "Heilbut, Iwan"
          ],
          [
           "Wien",
           "Heilbut, Iwan"
          ],
          [
           "Wien",
           "Heilbut, Iwan"
          ],
          [
           "Pittsburgh, Pa.",
           "Heilbut, Iwan"
          ],
          [
           "Marburg, Lahn",
           "Heilbut, Iwan"
          ],
          [
           "[München]",
           "Heilbut, Iwan"
          ],
          [
           "Berlin-Wilmersdorf",
           "Heilbut, Iwan"
          ],
          [
           "Berlin-Wilmersdorf",
           "Heilbut, Iwan"
          ],
          [
           "Berlin-Wilmersdorf",
           "Heilbut, Iwan"
          ],
          [
           "Woodmere, NY",
           "Heilbut, Iwan"
          ],
          [
           "Berlin-Schöneberg",
           "Heilbut, Iwan"
          ],
          [
           "Berlin-Schöneberg",
           "Heilbut, Iwan"
          ],
          [
           "Berlin-Schöneberg",
           "Heilbut, Iwan"
          ],
          [
           "Berlin-Schöneberg",
           "Heilbut, Iwan"
          ],
          [
           "Berlin-Schöneberg",
           "Heilbut, Iwan"
          ],
          [
           "Neugermering bei München",
           "Heilbut, Iwan"
          ],
          [
           "Stockholm",
           "Heilbut, Iwan"
          ],
          [
           "Stockholm",
           "Heilbut, Iwan"
          ],
          [
           "Stockholm",
           "Heilbut, Iwan"
          ],
          [
           "Mannheim",
           "Heilbut, Iwan"
          ],
          [
           "Mannheim",
           "Heilbut, Iwan"
          ],
          [
           "Basel",
           "Heilbut, Iwan"
          ],
          [
           "Basel",
           "Heilbut, Iwan"
          ],
          [
           "Basel",
           "Heilbut, Iwan"
          ],
          [
           "Basel",
           "Heilbut, Iwan"
          ],
          [
           "Heilbronn u.a.",
           "Heilbut, Iwan"
          ],
          [
           "München-Geiselgasteig",
           "Heilbut, Iwan"
          ],
          [
           "Berlin-Lichterfelde",
           "Heilbut, Iwan"
          ],
          [
           "Berlin-Lichterfelde",
           "Heilbut, Iwan"
          ],
          [
           "Berlin, West",
           "Heilbut, Iwan"
          ],
          [
           "Düsseldorf",
           "Heilbut, Iwan"
          ],
          [
           "Düsseldorf",
           "Heilbut, Iwan"
          ],
          [
           "Bochum",
           "Heilbut, Iwan"
          ],
          [
           "Hof an der Saale",
           "Heilbut, Iwan"
          ],
          [
           "Bonn",
           "Heilbut, Iwan"
          ],
          [
           "Bonn",
           "Heilbut, Iwan"
          ],
          [
           "Stuttgart",
           "Heilbut, Iwan"
          ],
          [
           "Stuttgart",
           "Heilbut, Iwan"
          ],
          [
           "Stuttgart",
           "Heilbut, Iwan"
          ],
          [
           "Stuttgart",
           "Heilbut, Iwan"
          ],
          [
           "Stuttgart",
           "Heilbut, Iwan"
          ],
          [
           "Stuttgart",
           "Heilbut, Iwan"
          ],
          [
           "Stuttgart",
           "Heilbut, Iwan"
          ],
          [
           "Stuttgart",
           "Heilbut, Iwan"
          ],
          [
           "Stuttgart",
           "Heilbut, Iwan"
          ],
          [
           "Stuttgart",
           "Heilbut, Iwan"
          ],
          [
           "Stuttgart",
           "Heilbut, Iwan"
          ],
          [
           "Stuttgart",
           "Heilbut, Iwan"
          ],
          [
           "Frankfurt am Main",
           "Heilbut, Iwan"
          ],
          [
           "Frankfurt am Main",
           "Heilbut, Iwan"
          ],
          [
           "Frankfurt am Main",
           "Heilbut, Iwan"
          ],
          [
           "Frankfurt am Main",
           "Heilbut, Iwan"
          ],
          [
           "Frankfurt am Main",
           "Heilbut, Iwan"
          ],
          [
           "Frankfurt am Main",
           "Heilbut, Iwan"
          ],
          [
           "Frankfurt am Main",
           "Heilbut, Iwan"
          ],
          [
           "Frankfurt am Main",
           "Heilbut, Iwan"
          ],
          [
           "Frankfurt am Main",
           "Heilbut, Iwan"
          ],
          [
           "Frankfurt am Main",
           "Heilbut, Iwan"
          ],
          [
           "Frankfurt am Main",
           "Heilbut, Iwan"
          ],
          [
           "Frankfurt am Main",
           "Heilbut, Iwan"
          ],
          [
           "Frankfurt am Main",
           "Heilbut, Iwan"
          ],
          [
           "Frankfurt am Main",
           "Heilbut, Iwan"
          ],
          [
           "Frankfurt am Main",
           "Heilbut, Iwan"
          ],
          [
           "Frankfurt am Main",
           "Heilbut, Iwan"
          ],
          [
           "o.O.",
           "Heilbut, Iwan"
          ],
          [
           "o.O.",
           "Heilbut, Iwan"
          ],
          [
           "o.O.",
           "Heilbut, Iwan"
          ],
          [
           "o.O.",
           "Heilbut, Iwan"
          ],
          [
           "o.O.",
           "Heilbut, Iwan"
          ],
          [
           "o.O.",
           "Heilbut, Iwan"
          ],
          [
           "o.O.",
           "Heilbut, Iwan"
          ],
          [
           "Berlin-Grunewald",
           "Heilbut, Iwan"
          ],
          [
           "Berlin-Grunewald",
           "Heilbut, Iwan"
          ],
          [
           "Berlin-Grunewald",
           "Heilbut, Iwan"
          ],
          [
           "Marseille",
           "Heilbut, Iwan"
          ],
          [
           "Marseille",
           "Heilbut, Iwan"
          ],
          [
           "Marseille",
           "Heilbut, Iwan"
          ],
          [
           "[New York, NY]",
           "Heilbut, Iwan"
          ],
          [
           "[New York, NY]",
           "Heilbut, Iwan"
          ],
          [
           "Berlin u.a.",
           "Heilbut, Iwan"
          ],
          [
           "Berlin u.a.",
           "Heilbut, Iwan"
          ],
          [
           "Berlin u.a.",
           "Heilbut, Iwan"
          ],
          [
           "Berlin u.a.",
           "Heilbut, Iwan"
          ],
          [
           "Berlin u.a.",
           "Heilbut, Iwan"
          ],
          [
           "Lissabon",
           "Heilbut, Iwan"
          ],
          [
           "Zürich",
           "Heilbut, Iwan"
          ],
          [
           "Zürich",
           "Heilbut, Iwan"
          ],
          [
           "Zürich",
           "Heilbut, Iwan"
          ],
          [
           "Zürich",
           "Heilbut, Iwan"
          ],
          [
           "Zürich",
           "Heilbut, Iwan"
          ],
          [
           "Zürich",
           "Heilbut, Iwan"
          ],
          [
           "Zürich",
           "Heilbut, Iwan"
          ],
          [
           "Zürich",
           "Heilbut, Iwan"
          ],
          [
           "Zürich",
           "Heilbut, Iwan"
          ],
          [
           "Zürich",
           "Heilbut, Iwan"
          ],
          [
           "Zürich",
           "Heilbut, Iwan"
          ],
          [
           "Zürich",
           "Heilbut, Iwan"
          ],
          [
           "Zürich",
           "Heilbut, Iwan"
          ],
          [
           "Zürich",
           "Heilbut, Iwan"
          ],
          [
           "Zürich",
           "Heilbut, Iwan"
          ],
          [
           "Toulouse",
           "Heilbut, Iwan"
          ],
          [
           "Paris",
           "Heilbut, Iwan"
          ],
          [
           "Paris",
           "Heilbut, Iwan"
          ],
          [
           "Paris",
           "Heilbut, Iwan"
          ],
          [
           "Paris",
           "Heilbut, Iwan"
          ],
          [
           "Paris",
           "Heilbut, Iwan"
          ],
          [
           "Paris",
           "Heilbut, Iwan"
          ],
          [
           "Paris",
           "Heilbut, Iwan"
          ],
          [
           "Paris",
           "Heilbut, Iwan"
          ],
          [
           "Paris",
           "Heilbut, Iwan"
          ],
          [
           "Jerusalem",
           "Heilbut, Iwan"
          ],
          [
           "Jerusalem",
           "Heilbut, Iwan"
          ],
          [
           "Jerusalem",
           "Heilbut, Iwan"
          ],
          [
           "Morgantown, W Va.",
           "Heilbut, Iwan"
          ],
          [
           "Wolfratshausen",
           "Heilbut, Iwan"
          ],
          [
           "Hamburg u.a.",
           "Heilbut, Iwan"
          ],
          [
           "Berlin-Friedenau",
           "Heilbut, Iwan"
          ],
          [
           "Überlingen",
           "Heilbut, Iwan"
          ],
          [
           "São Paulo",
           "Heilbut, Iwan"
          ],
          [
           "Mount Vernon, NY",
           "Heilbut, Iwan"
          ],
          [
           "Youngstown, Ohio",
           "Heilbut, Iwan"
          ],
          [
           "Waltham, Mass.",
           "Heilbut, Iwan"
          ],
          [
           "Chardonne sur Vevey",
           "Heilbut, Iwan"
          ],
          [
           "Washington, DC",
           "Heilbut, Iwan"
          ],
          [
           "Washington, DC",
           "Heilbut, Iwan"
          ],
          [
           "Washington, DC",
           "Heilbut, Iwan"
          ],
          [
           "Washington, DC",
           "Heilbut, Iwan"
          ],
          [
           "Washington, DC",
           "Heilbut, Iwan"
          ],
          [
           "Washington, DC",
           "Heilbut, Iwan"
          ],
          [
           "Salzburg",
           "Heilbut, Iwan"
          ],
          [
           "Tübingen",
           "Heilbut, Iwan"
          ],
          [
           "Darmstadt",
           "Heilbut, Iwan"
          ],
          [
           "Darmstadt",
           "Heilbut, Iwan"
          ],
          [
           "Darmstadt",
           "Heilbut, Iwan"
          ],
          [
           "Darmstadt",
           "Heilbut, Iwan"
          ],
          [
           "Darmstadt",
           "Heilbut, Iwan"
          ],
          [
           "Darmstadt",
           "Heilbut, Iwan"
          ],
          [
           "Bamberg",
           "Heilbut, Iwan"
          ],
          [
           "Berlin-Charlottenburg",
           "Heilbut, Iwan"
          ],
          [
           "Berlin-Charlottenburg",
           "Heilbut, Iwan"
          ],
          [
           "Berlin-Charlottenburg",
           "Heilbut, Iwan"
          ],
          [
           "Berlin-Charlottenburg",
           "Heilbut, Iwan"
          ],
          [
           "Berlin-Charlottenburg",
           "Heilbut, Iwan"
          ],
          [
           "Berlin-Charlottenburg",
           "Heilbut, Iwan"
          ],
          [
           "Berlin-Charlottenburg",
           "Heilbut, Iwan"
          ],
          [
           "Bremen",
           "Heilbut, Iwan"
          ],
          [
           "Bremen",
           "Heilbut, Iwan"
          ],
          [
           "Freiburg im Breisgau",
           "Heilbut, Iwan"
          ],
          [
           "Freiburg im Breisgau",
           "Heilbut, Iwan"
          ],
          [
           "Freiburg im Breisgau",
           "Heilbut, Iwan"
          ],
          [
           "Freiburg im Breisgau",
           "Heilbut, Iwan"
          ],
          [
           "Bad Hersfeld",
           "Heilbut, Iwan"
          ],
          [
           "Hof",
           "Heilbut, Iwan"
          ],
          [
           "Kaiserslautern",
           "Heilbut, Iwan"
          ],
          [
           "Ludwigsburg",
           "Heilbut, Iwan"
          ],
          [
           "Nürnberg",
           "Heilbut, Iwan"
          ],
          [
           "Nürnberg",
           "Heilbut, Iwan"
          ],
          [
           "Nürnberg",
           "Heilbut, Iwan"
          ],
          [
           "Regensburg",
           "Heilbut, Iwan"
          ],
          [
           "Schweinfurt",
           "Heilbut, Iwan"
          ],
          [
           "Straubing",
           "Heilbut, Iwan"
          ],
          [
           "Positano",
           "Heilbut, Iwan"
          ],
          [
           "Los Angeles, Calif.",
           "Heilbut, Iwan"
          ],
          [
           "Los Angeles, Calif.",
           "Heilbut, Iwan"
          ],
          [
           "Los Angeles, Calif.",
           "Heilbut, Iwan"
          ],
          [
           "Los Angeles, Calif.",
           "Heilbut, Iwan"
          ],
          [
           "Köln",
           "Heilbut, Iwan"
          ],
          [
           "Köln",
           "Heilbut, Iwan"
          ],
          [
           "London-Hampstead",
           "Heilbut, Iwan"
          ],
          [
           "London-Hampstead",
           "Heilbut, Iwan"
          ],
          [
           "Roslyn Heights, NY u.a.",
           "Heilbut, Iwan"
          ],
          [
           "Karlsruhe",
           "Heilbut, Iwan"
          ],
          [
           "Kemnath",
           "Heilbut, Iwan"
          ],
          [
           "Kemnath",
           "Heilbut, Iwan"
          ],
          [
           "Zittau",
           "Heilbut, Iwan"
          ],
          [
           "Amsterdam",
           "Heilbut, Iwan"
          ],
          [
           "Amsterdam",
           "Heilbut, Iwan"
          ],
          [
           "Amsterdam",
           "Heilbut, Iwan"
          ],
          [
           "Ravensburg u.a.",
           "Heilbut, Iwan"
          ],
          [
           "Los Angeles, Calif. u.a.",
           "Heilbut, Iwan"
          ],
          [
           "Worms am Rhein",
           "Heilbut, Iwan"
          ],
          [
           "Worms am Rhein",
           "Heilbut, Iwan"
          ],
          [
           "Hiddesen über Detmold",
           "Heilbut, Iwan"
          ],
          [
           "Erlangen",
           "Heilbut, Iwan"
          ],
          [
           "Erlangen",
           "Heilbut, Iwan"
          ],
          [
           "Zürich-Oerlikon",
           "Heilbut, Iwan"
          ],
          [
           "Berlin-Tempelhof",
           "Heilbut, Iwan"
          ],
          [
           "Berlin-Tempelhof",
           "Heilbut, Iwan"
          ],
          [
           "New York, NY u.a.",
           "Heilbut, Iwan"
          ],
          [
           "New York, NY u.a.",
           "Heilbut, Iwan"
          ],
          [
           "New York, NY u.a.",
           "Heilbut, Iwan"
          ],
          [
           "New York, NY u.a.",
           "Heilbut, Iwan"
          ],
          [
           "New York, NY u.a.",
           "Heilbut, Iwan"
          ],
          [
           "München-Riem",
           "Heilbut, Iwan"
          ],
          [
           "Auckland/NZ",
           "Heilbut, Iwan"
          ],
          [
           "Kettwig/Ruhr",
           "Heilbut, Iwan"
          ],
          [
           "Waldshut",
           "Heilbut, Iwan"
          ],
          [
           "Princeton, NJ",
           "Heilbut, Iwan"
          ],
          [
           "Sezze Romano",
           "Heilbut, Iwan"
          ],
          [
           "Oldenburg",
           "Heilbut, Iwan"
          ],
          [
           "Schleswig",
           "Heilbut, Iwan"
          ],
          [
           "London",
           "Heilbut, Iwan"
          ],
          [
           "London",
           "Heilbut, Iwan"
          ],
          [
           "London",
           "Heilbut, Iwan"
          ],
          [
           "London",
           "Heilbut, Iwan"
          ],
          [
           "London",
           "Heilbut, Iwan"
          ],
          [
           "London",
           "Heilbut, Iwan"
          ],
          [
           "Fort Lee, NJ",
           "Heilbut, Iwan"
          ],
          [
           "Wuppertal-Barmen",
           "Heilbut, Iwan"
          ],
          [
           "Neustadt bei Coburg",
           "Heilbut, Iwan"
          ],
          [
           "Washngton, DC",
           "Heilbut, Iwan"
          ],
          [
           "Haifa",
           "Heilbut, Iwan"
          ],
          [
           "Haifa",
           "Heilbut, Iwan"
          ],
          [
           "Queens, NY",
           "Heilbut, Iwan"
          ],
          [
           "Bremen u.a.",
           "Heilbut, Iwan"
          ],
          [
           "Boulogne/Seine",
           "Heilbut, Iwan"
          ],
          [
           "Bad Hofgastein",
           "Heilbut, Iwan"
          ],
          [
           "Brooklyn, NY",
           "Heilbut, Iwan"
          ],
          [
           "Brooklyn, NY",
           "Heilbut, Iwan"
          ],
          [
           "Brooklyn, NY",
           "Heilbut, Iwan"
          ],
          [
           "Mexico",
           "Heilbut, Iwan"
          ],
          [
           "Stuttgart-Vaihingen u.a.",
           "Heilbut, Iwan"
          ],
          [
           "Poughquag, NY",
           "Heilbut, Iwan"
          ],
          [
           "Saint Cloud (Paris)",
           "Heilbut, Iwan"
          ],
          [
           "Peoria, Ill.",
           "Heilbut, Iwan"
          ],
          [
           "Härtensdorf bei Wildenfels",
           "Heilbut, Iwan"
          ],
          [
           "Wörgl/Austria",
           "Heilbut, Iwan"
          ],
          [
           "Paterson, NJ",
           "Heilbut, Iwan"
          ],
          [
           "Weehawken, NJ",
           "Heilbut, Iwan"
          ],
          [
           "Auckland",
           "Heilbut, Iwan"
          ],
          [
           "Elmhurst, NY",
           "Heilbut, Iwan"
          ],
          [
           "Neustadt u.a.",
           "Heilbut, Iwan"
          ],
          [
           "Saarbrücken",
           "Heilbut, Iwan"
          ],
          [
           "Rotenburg",
           "Heilbut, Iwan"
          ],
          [
           "Croton-on-Hudson, NY",
           "Heilbut, Iwan"
          ],
          [
           "Croton-on-Hudson, NY",
           "Heilbut, Iwan"
          ],
          [
           "Berlin-Steglitz",
           "Heilbut, Iwan"
          ],
          [
           "Berlin-Steglitz",
           "Heilbut, Iwan"
          ],
          [
           "Gauting b. München u.a.",
           "Heilbut, Iwan"
          ],
          [
           "Kahl am Main",
           "Heilbut, Iwan"
          ],
          [
           "Überlingen am Bodensee",
           "Heilbut, Iwan"
          ],
          [
           "Coburg",
           "Heilbut, Iwan"
          ],
          [
           "Badgastein",
           "Heilbut, Iwan"
          ],
          [
           "Baldwin, NY",
           "Heilbut, Iwan"
          ],
          [
           "Amsterdam u.a.",
           "Heilbut, Iwan"
          ],
          [
           "Merseburg",
           "Heilbut, Iwan"
          ],
          [
           "Köln-Lindenthal",
           "Heilbut, Iwan"
          ],
          [
           "Augsburg",
           "Heilbut, Iwan"
          ],
          [
           "Stockdorf bei München",
           "Heilbut, Iwan"
          ],
          [
           "Rosenheim",
           "Heilbut, Iwan"
          ],
          [
           "Berlin-Lichtenrade u.a.",
           "Heilbut, Iwan"
          ],
          [
           "Berlin-Lankwitz",
           "Heilbut, Iwan"
          ],
          [
           "Fleischmanns, NY",
           "Heilbut, Iwan"
          ],
          [
           "Boston, Mass.",
           "Heilbut, Iwan"
          ],
          [
           "Hilversum",
           "Heilbut, Iwan"
          ],
          [
           "Berlin-Dahlem",
           "Heilbut, Iwan"
          ],
          [
           "Berlin-Dahlem",
           "Heilbut, Iwan"
          ],
          [
           "Berlin-Dahlem",
           "Heilbut, Iwan"
          ],
          [
           "Berlin-Siemensstadt",
           "Heilbut, Iwan"
          ],
          [
           "Hjerting",
           "Heilbut, Iwan"
          ],
          [
           "Santa Monica, Calif.",
           "Heilbut, Iwan"
          ],
          [
           "Hjerting/DK",
           "Heilbut, Iwan"
          ],
          [
           "Encino, Calif.",
           "Heilbut, Iwan"
          ],
          [
           "New Brunswick, NJ",
           "Heilbut, Iwan"
          ],
          [
           "Starnberg",
           "Heilbut, Iwan"
          ],
          [
           "Gauting u.a.",
           "Heilbut, Iwan"
          ],
          [
           "Karlsruhe u.a.",
           "Heilbut, Iwan"
          ],
          [
           "Ausable Forks, NY",
           "Heilbut, Iwan"
          ],
          [
           "Berlin-Schlachtensee",
           "Heilbut, Iwan"
          ],
          [
           "Marburg an der Lahn",
           "Heilbut, Iwan"
          ],
          [
           "Hannover-Ricklingen",
           "Heilbut, Iwan"
          ],
          [
           "Oberursel im Taunus",
           "Heilbut, Iwan"
          ],
          [
           "Stromboli",
           "Heilbut, Iwan"
          ],
          [
           "Baldham bei München",
           "Heilbut, Iwan"
          ],
          [
           "Darmstadt-Eberstadt",
           "Heilbut, Iwan"
          ],
          [
           "Rottmannshöhe, Post Assenhausen",
           "Heilbut, Iwan"
          ],
          [
           "Göttingen",
           "Heilbut, Iwan"
          ],
          [
           "Göttingen",
           "Heilbut, Iwan"
          ],
          [
           "Göttingen",
           "Heilbut, Iwan"
          ],
          [
           "Forest Hills, NY",
           "Heilbut, Iwan"
          ],
          [
           "Janneby über Flensburg u.a.",
           "Heilbut, Iwan"
          ],
          [
           "Nice",
           "Heilbut, Iwan"
          ],
          [
           "Nice",
           "Heilbut, Iwan"
          ],
          [
           "Santa Barbara, Calif.",
           "Heilbut, Iwan"
          ],
          [
           "Berlin-Zehlendorf",
           "Heilbut, Iwan"
          ],
          [
           "Feusisberg/CH",
           "Heilbut, Iwan"
          ],
          [
           "Alsbach (Bergstrasse)",
           "Heilbut, Iwan"
          ],
          [
           "Ebenhausen u.a.",
           "Heilbut, Iwan"
          ],
          [
           "Eckernförde",
           "Heilbut, Iwan"
          ],
          [
           "Camp de Gurs",
           "Heilbut, Iwan"
          ],
          [
           "Cincinnati, Ohio",
           "Heilbut, Iwan"
          ],
          [
           "Verscio, Tessin",
           "Heilbut, Iwan"
          ],
          [
           "Tutzing bei München",
           "Heilbut, Iwan"
          ],
          [
           "Berlin-Spandau",
           "Heilbut, Iwan"
          ],
          [
           "New york, NY",
           "Heilbut, Iwan"
          ],
          [
           "New york, NY",
           "Heilbut, Iwan"
          ],
          [
           "Englewood, NJ u.a.",
           "Heilbut, Iwan"
          ],
          [
           "Scarsdale, NY",
           "Heilbut, Iwan"
          ],
          [
           "Baierbrunn u.a.",
           "Heilbut, Iwan"
          ],
          [
           "Freiburg im Breisgau u.a.",
           "Heilbut, Iwan"
          ],
          [
           "Obernzell an der Donau",
           "Heilbut, Iwan"
          ],
          [
           "Dortmund",
           "Heilbut, Iwan"
          ],
          [
           "Berlin-Siemenstadt",
           "Heilbut, Iwan"
          ],
          [
           "New Rochelle, NY",
           "Heilbut, Iwan"
          ],
          [
           "Mainz u.a.",
           "Heilbut, Iwan"
          ],
          [
           "Geisenhausen bei Landshut",
           "Heilbut, Iwan"
          ],
          [
           "Gimsheim, Kreis Worms",
           "Heilbut, Iwan"
          ],
          [
           "Köln-Königsforst",
           "Heilbut, Iwan"
          ],
          [
           "Königstein/Ts.",
           "Heilbut, Iwan"
          ],
          [
           "Berchtesgaden",
           "Heilbut, Iwan"
          ],
          [
           "St. Louis, Mo.",
           "Heilbut, Iwan"
          ],
          [
           "Old Greenwich, Conn.",
           "Heilbut, Iwan"
          ],
          [
           "Gütersloh",
           "Heilbut, Iwan"
          ],
          [
           "Ulm",
           "Heilbut, Iwan"
          ],
          [
           "Ulm",
           "Heilbut, Iwan"
          ],
          [
           "Ulm",
           "Heilbut, Iwan"
          ],
          [
           "Berlin-Charlottenburg u.a.",
           "Heilbut, Iwan"
          ],
          [
           "o.O. [vermutl. New York, NY]",
           "Heilbut, Iwan"
          ],
          [
           "Neuss am Rhein",
           "Heilbut, Iwan"
          ],
          [
           "Oxford",
           "Heilbut, Iwan"
          ],
          [
           "Berlin (West)",
           "Heilbut, Iwan"
          ],
          [
           "Berlin (West)",
           "Heilbut, Iwan"
          ],
          [
           "Berlin (West)",
           "Heilbut, Iwan"
          ],
          [
           "Ambach",
           "Heilbut, Iwan"
          ],
          [
           "Riva-Varone",
           "Heilbut, Iwan"
          ],
          [
           "Gauting",
           "Heilbut, Iwan"
          ],
          [
           "Meersburg u.a.",
           "Heilbut, Iwan"
          ],
          [
           "Unterägeri, Zug",
           "Heilbut, Iwan"
          ],
          [
           "Bergen bei Traunstein",
           "Heilbut, Iwan"
          ],
          [
           "Königstein im Taunus",
           "Heilbut, Iwan"
          ],
          [
           "Bad Godesberg",
           "Heilbut, Iwan"
          ],
          [
           "Friedberg (Hessen)",
           "Heilbut, Iwan"
          ],
          [
           "Göppingen",
           "Heilbut, Iwan"
          ],
          [
           "Ebenhausen bei München",
           "Heilbut, Iwan"
          ],
          [
           "Ravensburg",
           "Heilbut, Iwan"
          ],
          [
           "Esslingen",
           "Heilbut, Iwan"
          ],
          [
           "Heilbronn",
           "Heilbut, Iwan"
          ],
          [
           "Heilbronn",
           "Heilbut, Iwan"
          ],
          [
           "Schwäbisch Gmünd",
           "Heilbut, Iwan"
          ],
          [
           "Schorndorf",
           "Heilbut, Iwan"
          ],
          [
           "Münster i.W.",
           "Heilbut, Iwan"
          ],
          [
           "Hofheim/Taunus",
           "Heilbut, Iwan"
          ],
          [
           "Olten",
           "Heilbut, Iwan"
          ],
          [
           "Monte-Carlo",
           "Heilbut, Iwan"
          ],
          [
           "Tenafly, NJ",
           "Heilbut, Iwan"
          ],
          [
           "Graz",
           "Heilbut, Iwan"
          ],
          [
           "Bad Cannstadt",
           "Heilbut, Iwan"
          ],
          [
           "Stamford, NY",
           "Heilbut, Iwan"
          ],
          [
           "Kansas City, Mo.",
           "Heilbut, Iwan"
          ],
          [
           "Ventimiglia",
           "Heilbut, Iwan"
          ],
          [
           "Bielefeld",
           "Heilbut, Iwan"
          ],
          [
           "Gaeta",
           "Heilbut, Iwan"
          ],
          [
           "Gebersheim bei Leonberg",
           "Heilbut, Iwan"
          ],
          [
           "München-Solln",
           "Heilbut, Iwan"
          ],
          [
           "Flushing, NY",
           "Heilbut, Iwan"
          ],
          [
           "München-Englschalking",
           "Heilbut, Iwan"
          ],
          [
           "Hemer (Kr. Iserlohn)",
           "Heilbut, Iwan"
          ],
          [
           "Söcking bei Starnberg",
           "Heilbut, Iwan"
          ],
          [
           "Mühlheim an der Ruhr",
           "Heilbut, Iwan"
          ],
          [
           "Great Neck, NY",
           "Heilbut, Iwan"
          ],
          [
           "Worpswede bei Bremen",
           "Heilbut, Iwan"
          ],
          [
           "Douglas",
           "Heilbut, Iwan"
          ],
          [
           "Douglas",
           "Heilbut, Iwan"
          ],
          [
           "Peel, Isle of Man",
           "Heilbut, Iwan"
          ],
          [
           "Berlin-Karlshorst",
           "Heilbut, Iwan"
          ],
          [
           "Neuwied",
           "Heilbut, Iwan"
          ],
          [
           "Montagnola u.a.",
           "Heilbut, Iwan"
          ],
          [
           "Montagnola",
           "Heilbut, Iwan"
          ],
          [
           "Glen Cove, NY",
           "Heilbut, Iwan"
          ],
          [
           "Merzhausen über Freiburg im Breisgau",
           "Heilbut, Iwan"
          ],
          [
           "Uerikon am Zürichsee",
           "Heilbut, Iwan"
          ],
          [
           "Liberty Corner, NJ",
           "Heilbut, Iwan"
          ]
         ],
         "geo": "geo",
         "hoverlabel": {
          "namelength": 0
         },
         "hovertemplate": "place=%{customdata[0]}<br>recipient=%{customdata[1]}<br>lat=%{lat}<br>lon=%{lon}",
         "lat": [
          null,
          null,
          52.47719,
          40.71427,
          40.71427,
          40.71427,
          40.71427,
          40.71427,
          40.71427,
          40.71427,
          40.71427,
          40.71427,
          40.71427,
          40.71427,
          40.71427,
          40.71427,
          40.71427,
          40.71427,
          40.71427,
          40.71427,
          40.71427,
          40.71427,
          40.71427,
          40.71427,
          40.71427,
          40.71427,
          40.71427,
          40.71427,
          40.71427,
          40.71427,
          40.71427,
          40.71427,
          40.71427,
          40.71427,
          40.71427,
          40.71427,
          40.71427,
          40.71427,
          40.71427,
          40.71427,
          40.71427,
          40.71427,
          40.71427,
          40.71427,
          40.71427,
          40.71427,
          40.71427,
          40.71427,
          40.71427,
          40.71427,
          40.71427,
          40.71427,
          40.71427,
          40.71427,
          40.71427,
          40.71427,
          40.71427,
          40.71427,
          40.71427,
          40.71427,
          40.71427,
          40.71427,
          40.71427,
          40.71427,
          40.71427,
          40.71427,
          40.71427,
          40.71427,
          40.71427,
          40.71427,
          40.71427,
          40.71427,
          40.71427,
          40.71427,
          40.71427,
          40.71427,
          40.71427,
          40.71427,
          40.71427,
          40.71427,
          40.71427,
          40.71427,
          40.71427,
          40.71427,
          40.71427,
          40.71427,
          40.71427,
          40.71427,
          40.71427,
          40.71427,
          40.71427,
          40.71427,
          40.71427,
          40.71427,
          40.71427,
          40.71427,
          40.71427,
          40.71427,
          40.71427,
          40.71427,
          40.71427,
          40.71427,
          40.71427,
          40.71427,
          40.71427,
          40.71427,
          40.71427,
          40.71427,
          40.71427,
          40.71427,
          40.71427,
          40.71427,
          40.71427,
          40.71427,
          40.71427,
          40.71427,
          40.71427,
          40.71427,
          40.71427,
          40.71427,
          40.71427,
          40.71427,
          40.71427,
          40.71427,
          40.71427,
          40.71427,
          40.71427,
          40.71427,
          40.71427,
          40.71427,
          40.71427,
          40.71427,
          40.71427,
          40.71427,
          40.71427,
          40.71427,
          40.71427,
          50.08258,
          50.08258,
          50.08258,
          50.08258,
          50.08258,
          52.41868,
          46.636390000000006,
          49.40768,
          49.40768,
          49.40768,
          49.40768,
          49.40768,
          49.40768,
          49.40768,
          49.40768,
          49.40768,
          48.13743,
          48.13743,
          48.13743,
          48.13743,
          48.13743,
          48.13743,
          48.13743,
          48.13743,
          48.13743,
          48.13743,
          48.13743,
          48.13743,
          48.13743,
          48.13743,
          48.13743,
          48.13743,
          48.13743,
          48.13743,
          48.13743,
          48.13743,
          48.13743,
          48.13743,
          48.13743,
          48.13743,
          48.13743,
          48.13743,
          48.13743,
          48.13743,
          48.13743,
          48.13743,
          48.13743,
          48.13743,
          48.13743,
          48.13743,
          48.13743,
          48.13743,
          48.13743,
          48.13743,
          48.13743,
          48.13743,
          48.13743,
          48.13743,
          48.13743,
          48.13743,
          48.13743,
          48.13743,
          48.13743,
          48.13743,
          48.13743,
          48.13743,
          48.13743,
          48.13743,
          48.13743,
          48.13743,
          48.13743,
          48.13743,
          48.13743,
          48.13743,
          48.13743,
          48.13743,
          48.13743,
          48.13743,
          48.13743,
          48.13743,
          48.13743,
          48.13743,
          48.13743,
          48.13743,
          48.13743,
          48.13743,
          48.13743,
          48.13743,
          48.13743,
          48.13743,
          48.13743,
          48.13743,
          48.13743,
          48.13743,
          48.13743,
          48.13743,
          48.13743,
          48.13743,
          48.13743,
          48.7606,
          48.7606,
          null,
          null,
          null,
          null,
          null,
          null,
          null,
          null,
          null,
          null,
          null,
          null,
          52.52437,
          52.52437,
          52.52437,
          52.52437,
          52.52437,
          52.52437,
          52.52437,
          52.52437,
          52.52437,
          52.52437,
          52.52437,
          52.52437,
          52.52437,
          52.52437,
          52.52437,
          52.52437,
          52.52437,
          52.52437,
          52.52437,
          52.52437,
          52.52437,
          52.52437,
          52.52437,
          52.52437,
          52.52437,
          52.52437,
          52.52437,
          52.52437,
          52.52437,
          52.52437,
          52.52437,
          32.207359999999994,
          32.207359999999994,
          47.05048,
          null,
          53.55073,
          53.55073,
          53.55073,
          53.55073,
          53.55073,
          53.55073,
          53.55073,
          53.55073,
          53.55073,
          53.55073,
          53.55073,
          53.55073,
          53.55073,
          53.55073,
          53.55073,
          53.55073,
          53.55073,
          53.55073,
          53.55073,
          53.55073,
          53.55073,
          53.55073,
          53.55073,
          53.55073,
          null,
          34.07362,
          null,
          null,
          null,
          null,
          32.80227,
          51.88268,
          40.562329999999996,
          43.70313,
          null,
          32.08088,
          32.08088,
          32.08088,
          48.208490000000005,
          48.208490000000005,
          48.208490000000005,
          48.208490000000005,
          48.208490000000005,
          48.208490000000005,
          48.208490000000005,
          48.208490000000005,
          48.208490000000005,
          48.208490000000005,
          48.208490000000005,
          40.44062,
          50.80904,
          48.13743,
          52.48333,
          52.48333,
          52.48333,
          40.63205,
          52.46666999999999,
          52.46666999999999,
          52.46666999999999,
          52.46666999999999,
          52.46666999999999,
          null,
          59.32938000000001,
          59.32938000000001,
          59.32938000000001,
          49.4891,
          49.4891,
          47.55839,
          47.55839,
          47.55839,
          47.55839,
          null,
          48.06122,
          52.4333,
          52.4333,
          52.53333000000001,
          51.22172,
          51.22172,
          51.48165,
          50.31297,
          50.87894,
          50.87894,
          48.78232,
          48.78232,
          48.78232,
          48.78232,
          48.78232,
          48.78232,
          48.78232,
          48.78232,
          48.78232,
          48.78232,
          48.78232,
          48.78232,
          50.115520000000004,
          50.115520000000004,
          50.115520000000004,
          50.115520000000004,
          50.115520000000004,
          50.115520000000004,
          50.115520000000004,
          50.115520000000004,
          50.115520000000004,
          50.115520000000004,
          50.115520000000004,
          50.115520000000004,
          50.115520000000004,
          50.115520000000004,
          50.115520000000004,
          50.115520000000004,
          18.54349,
          18.54349,
          18.54349,
          18.54349,
          18.54349,
          18.54349,
          18.54349,
          52.483380000000004,
          52.483380000000004,
          52.483380000000004,
          43.29695,
          43.29695,
          43.29695,
          40.71427,
          40.71427,
          39.79123,
          39.79123,
          39.79123,
          39.79123,
          39.79123,
          38.71667,
          47.36667,
          47.36667,
          47.36667,
          47.36667,
          47.36667,
          47.36667,
          47.36667,
          47.36667,
          47.36667,
          47.36667,
          47.36667,
          47.36667,
          47.36667,
          47.36667,
          47.36667,
          43.60426,
          48.85341,
          48.85341,
          48.85341,
          48.85341,
          48.85341,
          48.85341,
          48.85341,
          48.85341,
          48.85341,
          31.781990000000004,
          31.781990000000004,
          31.781990000000004,
          null,
          47.912890000000004,
          41.78291,
          52.47133,
          47.76977,
          -23.5475,
          40.9126,
          41.099779999999996,
          null,
          null,
          38.895109999999995,
          38.895109999999995,
          38.895109999999995,
          38.895109999999995,
          38.895109999999995,
          38.895109999999995,
          47.799409999999995,
          48.522659999999995,
          49.87167,
          49.87167,
          49.87167,
          49.87167,
          49.87167,
          49.87167,
          49.89873,
          52.51667,
          52.51667,
          52.51667,
          52.51667,
          52.51667,
          52.51667,
          52.51667,
          53.07581999999999,
          53.07581999999999,
          47.9959,
          47.9959,
          47.9959,
          47.9959,
          50.871970000000005,
          50.31297,
          49.443000000000005,
          48.89731,
          49.454209999999996,
          49.454209999999996,
          49.454209999999996,
          49.01513,
          50.04937,
          48.88126,
          40.62829,
          34.05223,
          34.05223,
          34.05223,
          34.05223,
          50.93333,
          50.93333,
          51.55744,
          51.55744,
          null,
          49.009370000000004,
          49.87007,
          49.87007,
          50.89772,
          52.37403,
          52.37403,
          52.37403,
          null,
          34.0507,
          49.7294,
          49.7294,
          null,
          49.590990000000005,
          49.590990000000005,
          47.408229999999996,
          52.46666999999999,
          52.46666999999999,
          40.6501,
          40.6501,
          40.6501,
          40.6501,
          40.6501,
          48.11667,
          -36.84853,
          null,
          47.62323,
          40.34872,
          null,
          53.141180000000006,
          54.2,
          51.50853,
          51.50853,
          51.50853,
          51.50853,
          51.50853,
          51.50853,
          40.85093,
          51.27737,
          50.32975,
          null,
          32.81841,
          32.81841,
          40.681490000000004,
          null,
          48.83545,
          47.172740000000005,
          40.6501,
          40.6501,
          40.6501,
          23,
          null,
          41.608979999999995,
          48.84598,
          null,
          null,
          47.489059999999995,
          40.91677,
          40.76955,
          -36.84853,
          40.73649,
          null,
          49.232620000000004,
          50.99556,
          41.20843,
          41.20843,
          52.4333,
          52.4333,
          null,
          50.06981,
          47.73834,
          50.259370000000004,
          null,
          40.656490000000005,
          52.35999,
          51.35478,
          50.9282,
          48.37154,
          null,
          47.85637,
          null,
          52.43623,
          42.15537,
          42.35843,
          52.22333,
          52.4581,
          52.4581,
          52.4581,
          52.540530000000004,
          55.5261,
          34.01945,
          55.5261,
          34.15917,
          40.48622,
          47.90348,
          null,
          null,
          44.44171,
          52.442780000000006,
          50.80904,
          52.4297,
          null,
          38.78333,
          null,
          49.82112,
          null,
          51.53443,
          51.53443,
          51.53443,
          40.71621,
          null,
          43.70313,
          43.70313,
          34.42083,
          52.433330000000005,
          47.18707,
          null,
          null,
          54.468540000000004,
          null,
          39.127109999999995,
          46.18482,
          null,
          52.5511,
          40.71427,
          40.71427,
          40.90343,
          41.0051,
          null,
          null,
          null,
          51.51494,
          52.5357,
          40.91149,
          null,
          null,
          null,
          null,
          null,
          47.63236,
          38.62727,
          null,
          51.906929999999996,
          48.39841,
          48.39841,
          48.39841,
          null,
          null,
          51.22035,
          51.75222,
          52.53333000000001,
          52.53333000000001,
          52.53333000000001,
          31.28095,
          45.90876,
          48.0664,
          null,
          47.13645,
          null,
          50.179429999999996,
          50.68457,
          50.33739,
          48.703540000000004,
          null,
          47.78198,
          48.73961,
          49.13995,
          49.13995,
          48.79947,
          48.80537,
          48.39861,
          50.09019,
          47.349990000000005,
          43.73976,
          40.92538,
          47.06667,
          48.8048,
          42.4073,
          39.09973,
          43.789559999999994,
          52.03333,
          41.214079999999996,
          null,
          48.09012,
          40.76538,
          48.15761,
          null,
          null,
          51.432179999999995,
          40.80066,
          null,
          54.15,
          54.15,
          54.22209,
          52.484190000000005,
          50.4336,
          null,
          45.98323,
          40.862320000000004,
          null,
          null,
          40.66482
         ],
         "legendgroup": "",
         "lon": [
          null,
          null,
          13.43126,
          -74.00596999999999,
          -74.00596999999999,
          -74.00596999999999,
          -74.00596999999999,
          -74.00596999999999,
          -74.00596999999999,
          -74.00596999999999,
          -74.00596999999999,
          -74.00596999999999,
          -74.00596999999999,
          -74.00596999999999,
          -74.00596999999999,
          -74.00596999999999,
          -74.00596999999999,
          -74.00596999999999,
          -74.00596999999999,
          -74.00596999999999,
          -74.00596999999999,
          -74.00596999999999,
          -74.00596999999999,
          -74.00596999999999,
          -74.00596999999999,
          -74.00596999999999,
          -74.00596999999999,
          -74.00596999999999,
          -74.00596999999999,
          -74.00596999999999,
          -74.00596999999999,
          -74.00596999999999,
          -74.00596999999999,
          -74.00596999999999,
          -74.00596999999999,
          -74.00596999999999,
          -74.00596999999999,
          -74.00596999999999,
          -74.00596999999999,
          -74.00596999999999,
          -74.00596999999999,
          -74.00596999999999,
          -74.00596999999999,
          -74.00596999999999,
          -74.00596999999999,
          -74.00596999999999,
          -74.00596999999999,
          -74.00596999999999,
          -74.00596999999999,
          -74.00596999999999,
          -74.00596999999999,
          -74.00596999999999,
          -74.00596999999999,
          -74.00596999999999,
          -74.00596999999999,
          -74.00596999999999,
          -74.00596999999999,
          -74.00596999999999,
          -74.00596999999999,
          -74.00596999999999,
          -74.00596999999999,
          -74.00596999999999,
          -74.00596999999999,
          -74.00596999999999,
          -74.00596999999999,
          -74.00596999999999,
          -74.00596999999999,
          -74.00596999999999,
          -74.00596999999999,
          -74.00596999999999,
          -74.00596999999999,
          -74.00596999999999,
          -74.00596999999999,
          -74.00596999999999,
          -74.00596999999999,
          -74.00596999999999,
          -74.00596999999999,
          -74.00596999999999,
          -74.00596999999999,
          -74.00596999999999,
          -74.00596999999999,
          -74.00596999999999,
          -74.00596999999999,
          -74.00596999999999,
          -74.00596999999999,
          -74.00596999999999,
          -74.00596999999999,
          -74.00596999999999,
          -74.00596999999999,
          -74.00596999999999,
          -74.00596999999999,
          -74.00596999999999,
          -74.00596999999999,
          -74.00596999999999,
          -74.00596999999999,
          -74.00596999999999,
          -74.00596999999999,
          -74.00596999999999,
          -74.00596999999999,
          -74.00596999999999,
          -74.00596999999999,
          -74.00596999999999,
          -74.00596999999999,
          -74.00596999999999,
          -74.00596999999999,
          -74.00596999999999,
          -74.00596999999999,
          -74.00596999999999,
          -74.00596999999999,
          -74.00596999999999,
          -74.00596999999999,
          -74.00596999999999,
          -74.00596999999999,
          -74.00596999999999,
          -74.00596999999999,
          -74.00596999999999,
          -74.00596999999999,
          -74.00596999999999,
          -74.00596999999999,
          -74.00596999999999,
          -74.00596999999999,
          -74.00596999999999,
          -74.00596999999999,
          -74.00596999999999,
          -74.00596999999999,
          -74.00596999999999,
          -74.00596999999999,
          -74.00596999999999,
          -74.00596999999999,
          -74.00596999999999,
          -74.00596999999999,
          -74.00596999999999,
          -74.00596999999999,
          -74.00596999999999,
          -74.00596999999999,
          -74.00596999999999,
          -74.00596999999999,
          8.249319999999999,
          8.249319999999999,
          8.249319999999999,
          8.249319999999999,
          8.249319999999999,
          13.36723,
          14.14639,
          8.69079,
          8.69079,
          8.69079,
          8.69079,
          8.69079,
          8.69079,
          8.69079,
          8.69079,
          8.69079,
          11.57549,
          11.57549,
          11.57549,
          11.57549,
          11.57549,
          11.57549,
          11.57549,
          11.57549,
          11.57549,
          11.57549,
          11.57549,
          11.57549,
          11.57549,
          11.57549,
          11.57549,
          11.57549,
          11.57549,
          11.57549,
          11.57549,
          11.57549,
          11.57549,
          11.57549,
          11.57549,
          11.57549,
          11.57549,
          11.57549,
          11.57549,
          11.57549,
          11.57549,
          11.57549,
          11.57549,
          11.57549,
          11.57549,
          11.57549,
          11.57549,
          11.57549,
          11.57549,
          11.57549,
          11.57549,
          11.57549,
          11.57549,
          11.57549,
          11.57549,
          11.57549,
          11.57549,
          11.57549,
          11.57549,
          11.57549,
          11.57549,
          11.57549,
          11.57549,
          11.57549,
          11.57549,
          11.57549,
          11.57549,
          11.57549,
          11.57549,
          11.57549,
          11.57549,
          11.57549,
          11.57549,
          11.57549,
          11.57549,
          11.57549,
          11.57549,
          11.57549,
          11.57549,
          11.57549,
          11.57549,
          11.57549,
          11.57549,
          11.57549,
          11.57549,
          11.57549,
          11.57549,
          11.57549,
          11.57549,
          11.57549,
          11.57549,
          11.57549,
          11.57549,
          11.57549,
          11.57549,
          8.23975,
          8.23975,
          null,
          null,
          null,
          null,
          null,
          null,
          null,
          null,
          null,
          null,
          null,
          null,
          13.41053,
          13.41053,
          13.41053,
          13.41053,
          13.41053,
          13.41053,
          13.41053,
          13.41053,
          13.41053,
          13.41053,
          13.41053,
          13.41053,
          13.41053,
          13.41053,
          13.41053,
          13.41053,
          13.41053,
          13.41053,
          13.41053,
          13.41053,
          13.41053,
          13.41053,
          13.41053,
          13.41053,
          13.41053,
          13.41053,
          13.41053,
          13.41053,
          13.41053,
          13.41053,
          13.41053,
          -87.4375,
          -87.4375,
          8.30635,
          null,
          9.99302,
          9.99302,
          9.99302,
          9.99302,
          9.99302,
          9.99302,
          9.99302,
          9.99302,
          9.99302,
          9.99302,
          9.99302,
          9.99302,
          9.99302,
          9.99302,
          9.99302,
          9.99302,
          9.99302,
          9.99302,
          9.99302,
          9.99302,
          9.99302,
          9.99302,
          9.99302,
          9.99302,
          null,
          -118.40036,
          null,
          null,
          null,
          null,
          -117.25948000000001,
          10.56157,
          -74.13986,
          7.2660800000000005,
          null,
          34.780570000000004,
          34.780570000000004,
          34.780570000000004,
          16.37208,
          16.37208,
          16.37208,
          16.37208,
          16.37208,
          16.37208,
          16.37208,
          16.37208,
          16.37208,
          16.37208,
          16.37208,
          -79.99589,
          8.77069,
          11.57549,
          13.316670000000002,
          13.316670000000002,
          13.316670000000002,
          -73.71263,
          13.35,
          13.35,
          13.35,
          13.35,
          13.35,
          null,
          18.06871,
          18.06871,
          18.06871,
          8.46694,
          8.46694,
          7.57327,
          7.57327,
          7.57327,
          7.57327,
          null,
          11.545,
          13.307620000000002,
          13.307620000000002,
          13.166670000000002,
          6.776160000000001,
          6.776160000000001,
          7.216480000000001,
          11.91261,
          7.12292,
          7.12292,
          9.177019999999999,
          9.177019999999999,
          9.177019999999999,
          9.177019999999999,
          9.177019999999999,
          9.177019999999999,
          9.177019999999999,
          9.177019999999999,
          9.177019999999999,
          9.177019999999999,
          9.177019999999999,
          9.177019999999999,
          8.68417,
          8.68417,
          8.68417,
          8.68417,
          8.68417,
          8.68417,
          8.68417,
          8.68417,
          8.68417,
          8.68417,
          8.68417,
          8.68417,
          8.68417,
          8.68417,
          8.68417,
          8.68417,
          -72.33881,
          -72.33881,
          -72.33881,
          -72.33881,
          -72.33881,
          -72.33881,
          -72.33881,
          13.26586,
          13.26586,
          13.26586,
          5.381069999999999,
          5.381069999999999,
          5.381069999999999,
          -74.00596999999999,
          -74.00596999999999,
          -74.92905,
          -74.92905,
          -74.92905,
          -74.92905,
          -74.92905,
          -9.13333,
          8.55,
          8.55,
          8.55,
          8.55,
          8.55,
          8.55,
          8.55,
          8.55,
          8.55,
          8.55,
          8.55,
          8.55,
          8.55,
          8.55,
          8.55,
          1.44367,
          2.3488,
          2.3488,
          2.3488,
          2.3488,
          2.3488,
          2.3488,
          2.3488,
          2.3488,
          2.3488,
          35.219609999999996,
          35.219609999999996,
          35.219609999999996,
          null,
          11.421660000000001,
          -123.06031999999999,
          13.328129999999998,
          9.17136,
          -46.636109999999995,
          -73.83708,
          -80.64952,
          null,
          null,
          -77.03636999999999,
          -77.03636999999999,
          -77.03636999999999,
          -77.03636999999999,
          -77.03636999999999,
          -77.03636999999999,
          13.043989999999999,
          9.05222,
          8.650269999999999,
          8.650269999999999,
          8.650269999999999,
          8.650269999999999,
          8.650269999999999,
          8.650269999999999,
          10.90067,
          13.28333,
          13.28333,
          13.28333,
          13.28333,
          13.28333,
          13.28333,
          13.28333,
          8.80717,
          8.80717,
          7.85222,
          7.85222,
          7.85222,
          7.85222,
          9.708910000000001,
          11.91261,
          7.771610000000001,
          9.19161,
          11.07752,
          11.07752,
          11.07752,
          12.10161,
          10.22175,
          12.57385,
          14.48427,
          -118.24368,
          -118.24368,
          -118.24368,
          -118.24368,
          6.95,
          6.95,
          -0.18213,
          -0.18213,
          null,
          8.40444,
          11.89077,
          11.89077,
          14.80764,
          4.88969,
          4.88969,
          4.88969,
          null,
          -118.25399999999999,
          8.43056,
          8.43056,
          null,
          11.00783,
          11.00783,
          8.542580000000001,
          13.4,
          13.4,
          -73.94958000000001,
          -73.94958000000001,
          -73.94958000000001,
          -73.94958000000001,
          -73.94958000000001,
          11.68333,
          174.76349,
          null,
          8.21717,
          -74.65905,
          null,
          8.21467,
          9.75,
          -0.12574000000000002,
          -0.12574000000000002,
          -0.12574000000000002,
          -0.12574000000000002,
          -0.12574000000000002,
          -0.12574000000000002,
          -73.97014,
          7.19802,
          11.12058,
          null,
          34.9885,
          34.9885,
          -73.83652,
          null,
          2.2412799999999997,
          13.09871,
          -73.94958000000001,
          -73.94958000000001,
          -73.94958000000001,
          -102,
          null,
          -73.6818,
          2.20289,
          null,
          null,
          12.061739999999999,
          -74.17181,
          -74.02042,
          174.76349,
          -73.87791,
          null,
          7.0098199999999995,
          9.72838,
          -73.89125,
          -73.89125,
          13.307620000000002,
          13.307620000000002,
          null,
          9.00553,
          8.8964,
          10.96384,
          null,
          -73.6093,
          4.8853599999999995,
          11.989230000000001,
          6.928260000000001,
          10.89851,
          null,
          12.12247,
          null,
          13.3459,
          -74.53238,
          -71.05977,
          5.1763900000000005,
          13.287020000000002,
          13.287020000000002,
          13.287020000000002,
          13.262939999999999,
          8.35802,
          -118.49118999999999,
          8.35802,
          -118.50119,
          -74.45182,
          11.311869999999999,
          null,
          null,
          -73.67458,
          13.21667,
          8.77069,
          9.50838,
          null,
          15.21667,
          null,
          8.64527,
          null,
          9.93228,
          9.93228,
          9.93228,
          -73.85014,
          null,
          7.2660800000000005,
          7.2660800000000005,
          -119.69819,
          13.25,
          8.74724,
          null,
          null,
          9.838239999999999,
          null,
          -84.51439,
          8.73224,
          null,
          13.19921,
          -74.00596999999999,
          -74.00596999999999,
          -73.96458,
          -73.78458,
          null,
          null,
          null,
          7.466,
          13.27297,
          -73.78235,
          null,
          null,
          null,
          null,
          null,
          13.00187,
          -90.19789,
          null,
          8.37853,
          9.99155,
          9.99155,
          9.99155,
          null,
          null,
          6.69753,
          -1.25596,
          13.166670000000002,
          13.166670000000002,
          13.166670000000002,
          -9.474680000000001,
          10.84188,
          11.3834,
          null,
          8.5853,
          null,
          8.47132,
          7.15393,
          8.75591,
          9.65209,
          null,
          9.610619999999999,
          9.304730000000001,
          9.22054,
          9.22054,
          9.79809,
          9.52721,
          9.99249,
          8.4493,
          7.903289999999999,
          7.42732,
          -73.96292,
          15.45,
          9.2145,
          -74.61431999999999,
          -94.57857,
          7.60872,
          8.53333,
          13.570820000000001,
          null,
          11.52758,
          -73.81736,
          11.648430000000001,
          null,
          null,
          6.87967,
          -73.72846,
          null,
          -4.4833300000000005,
          -4.4833300000000005,
          -4.69099,
          13.53185,
          7.4705699999999995,
          null,
          8.917860000000001,
          -73.63374,
          null,
          null,
          -74.57738
         ],
         "marker": {
          "color": "#636efa"
         },
         "name": "",
         "showlegend": false,
         "type": "scattergeo"
        }
       ],
       "layout": {
        "autosize": true,
        "geo": {
         "center": {
          "lat": 47.046871487905754,
          "lon": 11.96069921532611
         },
         "domain": {
          "x": [
           0,
           1
          ],
          "y": [
           0,
           1
          ]
         },
         "projection": {
          "rotation": {
           "lon": 11.96069921532611
          },
          "scale": 9.754040752610436
         },
         "scope": "world"
        },
        "legend": {
         "tracegroupgap": 0
        },
        "margin": {
         "t": 60
        },
        "template": {
         "data": {
          "bar": [
           {
            "error_x": {
             "color": "#2a3f5f"
            },
            "error_y": {
             "color": "#2a3f5f"
            },
            "marker": {
             "line": {
              "color": "#E5ECF6",
              "width": 0.5
             }
            },
            "type": "bar"
           }
          ],
          "barpolar": [
           {
            "marker": {
             "line": {
              "color": "#E5ECF6",
              "width": 0.5
             }
            },
            "type": "barpolar"
           }
          ],
          "carpet": [
           {
            "aaxis": {
             "endlinecolor": "#2a3f5f",
             "gridcolor": "white",
             "linecolor": "white",
             "minorgridcolor": "white",
             "startlinecolor": "#2a3f5f"
            },
            "baxis": {
             "endlinecolor": "#2a3f5f",
             "gridcolor": "white",
             "linecolor": "white",
             "minorgridcolor": "white",
             "startlinecolor": "#2a3f5f"
            },
            "type": "carpet"
           }
          ],
          "choropleth": [
           {
            "colorbar": {
             "outlinewidth": 0,
             "ticks": ""
            },
            "type": "choropleth"
           }
          ],
          "contour": [
           {
            "colorbar": {
             "outlinewidth": 0,
             "ticks": ""
            },
            "colorscale": [
             [
              0,
              "#0d0887"
             ],
             [
              0.1111111111111111,
              "#46039f"
             ],
             [
              0.2222222222222222,
              "#7201a8"
             ],
             [
              0.3333333333333333,
              "#9c179e"
             ],
             [
              0.4444444444444444,
              "#bd3786"
             ],
             [
              0.5555555555555556,
              "#d8576b"
             ],
             [
              0.6666666666666666,
              "#ed7953"
             ],
             [
              0.7777777777777778,
              "#fb9f3a"
             ],
             [
              0.8888888888888888,
              "#fdca26"
             ],
             [
              1,
              "#f0f921"
             ]
            ],
            "type": "contour"
           }
          ],
          "contourcarpet": [
           {
            "colorbar": {
             "outlinewidth": 0,
             "ticks": ""
            },
            "type": "contourcarpet"
           }
          ],
          "heatmap": [
           {
            "colorbar": {
             "outlinewidth": 0,
             "ticks": ""
            },
            "colorscale": [
             [
              0,
              "#0d0887"
             ],
             [
              0.1111111111111111,
              "#46039f"
             ],
             [
              0.2222222222222222,
              "#7201a8"
             ],
             [
              0.3333333333333333,
              "#9c179e"
             ],
             [
              0.4444444444444444,
              "#bd3786"
             ],
             [
              0.5555555555555556,
              "#d8576b"
             ],
             [
              0.6666666666666666,
              "#ed7953"
             ],
             [
              0.7777777777777778,
              "#fb9f3a"
             ],
             [
              0.8888888888888888,
              "#fdca26"
             ],
             [
              1,
              "#f0f921"
             ]
            ],
            "type": "heatmap"
           }
          ],
          "heatmapgl": [
           {
            "colorbar": {
             "outlinewidth": 0,
             "ticks": ""
            },
            "colorscale": [
             [
              0,
              "#0d0887"
             ],
             [
              0.1111111111111111,
              "#46039f"
             ],
             [
              0.2222222222222222,
              "#7201a8"
             ],
             [
              0.3333333333333333,
              "#9c179e"
             ],
             [
              0.4444444444444444,
              "#bd3786"
             ],
             [
              0.5555555555555556,
              "#d8576b"
             ],
             [
              0.6666666666666666,
              "#ed7953"
             ],
             [
              0.7777777777777778,
              "#fb9f3a"
             ],
             [
              0.8888888888888888,
              "#fdca26"
             ],
             [
              1,
              "#f0f921"
             ]
            ],
            "type": "heatmapgl"
           }
          ],
          "histogram": [
           {
            "marker": {
             "colorbar": {
              "outlinewidth": 0,
              "ticks": ""
             }
            },
            "type": "histogram"
           }
          ],
          "histogram2d": [
           {
            "colorbar": {
             "outlinewidth": 0,
             "ticks": ""
            },
            "colorscale": [
             [
              0,
              "#0d0887"
             ],
             [
              0.1111111111111111,
              "#46039f"
             ],
             [
              0.2222222222222222,
              "#7201a8"
             ],
             [
              0.3333333333333333,
              "#9c179e"
             ],
             [
              0.4444444444444444,
              "#bd3786"
             ],
             [
              0.5555555555555556,
              "#d8576b"
             ],
             [
              0.6666666666666666,
              "#ed7953"
             ],
             [
              0.7777777777777778,
              "#fb9f3a"
             ],
             [
              0.8888888888888888,
              "#fdca26"
             ],
             [
              1,
              "#f0f921"
             ]
            ],
            "type": "histogram2d"
           }
          ],
          "histogram2dcontour": [
           {
            "colorbar": {
             "outlinewidth": 0,
             "ticks": ""
            },
            "colorscale": [
             [
              0,
              "#0d0887"
             ],
             [
              0.1111111111111111,
              "#46039f"
             ],
             [
              0.2222222222222222,
              "#7201a8"
             ],
             [
              0.3333333333333333,
              "#9c179e"
             ],
             [
              0.4444444444444444,
              "#bd3786"
             ],
             [
              0.5555555555555556,
              "#d8576b"
             ],
             [
              0.6666666666666666,
              "#ed7953"
             ],
             [
              0.7777777777777778,
              "#fb9f3a"
             ],
             [
              0.8888888888888888,
              "#fdca26"
             ],
             [
              1,
              "#f0f921"
             ]
            ],
            "type": "histogram2dcontour"
           }
          ],
          "mesh3d": [
           {
            "colorbar": {
             "outlinewidth": 0,
             "ticks": ""
            },
            "type": "mesh3d"
           }
          ],
          "parcoords": [
           {
            "line": {
             "colorbar": {
              "outlinewidth": 0,
              "ticks": ""
             }
            },
            "type": "parcoords"
           }
          ],
          "pie": [
           {
            "automargin": true,
            "type": "pie"
           }
          ],
          "scatter": [
           {
            "marker": {
             "colorbar": {
              "outlinewidth": 0,
              "ticks": ""
             }
            },
            "type": "scatter"
           }
          ],
          "scatter3d": [
           {
            "line": {
             "colorbar": {
              "outlinewidth": 0,
              "ticks": ""
             }
            },
            "marker": {
             "colorbar": {
              "outlinewidth": 0,
              "ticks": ""
             }
            },
            "type": "scatter3d"
           }
          ],
          "scattercarpet": [
           {
            "marker": {
             "colorbar": {
              "outlinewidth": 0,
              "ticks": ""
             }
            },
            "type": "scattercarpet"
           }
          ],
          "scattergeo": [
           {
            "marker": {
             "colorbar": {
              "outlinewidth": 0,
              "ticks": ""
             }
            },
            "type": "scattergeo"
           }
          ],
          "scattergl": [
           {
            "marker": {
             "colorbar": {
              "outlinewidth": 0,
              "ticks": ""
             }
            },
            "type": "scattergl"
           }
          ],
          "scattermapbox": [
           {
            "marker": {
             "colorbar": {
              "outlinewidth": 0,
              "ticks": ""
             }
            },
            "type": "scattermapbox"
           }
          ],
          "scatterpolar": [
           {
            "marker": {
             "colorbar": {
              "outlinewidth": 0,
              "ticks": ""
             }
            },
            "type": "scatterpolar"
           }
          ],
          "scatterpolargl": [
           {
            "marker": {
             "colorbar": {
              "outlinewidth": 0,
              "ticks": ""
             }
            },
            "type": "scatterpolargl"
           }
          ],
          "scatterternary": [
           {
            "marker": {
             "colorbar": {
              "outlinewidth": 0,
              "ticks": ""
             }
            },
            "type": "scatterternary"
           }
          ],
          "surface": [
           {
            "colorbar": {
             "outlinewidth": 0,
             "ticks": ""
            },
            "colorscale": [
             [
              0,
              "#0d0887"
             ],
             [
              0.1111111111111111,
              "#46039f"
             ],
             [
              0.2222222222222222,
              "#7201a8"
             ],
             [
              0.3333333333333333,
              "#9c179e"
             ],
             [
              0.4444444444444444,
              "#bd3786"
             ],
             [
              0.5555555555555556,
              "#d8576b"
             ],
             [
              0.6666666666666666,
              "#ed7953"
             ],
             [
              0.7777777777777778,
              "#fb9f3a"
             ],
             [
              0.8888888888888888,
              "#fdca26"
             ],
             [
              1,
              "#f0f921"
             ]
            ],
            "type": "surface"
           }
          ],
          "table": [
           {
            "cells": {
             "fill": {
              "color": "#EBF0F8"
             },
             "line": {
              "color": "white"
             }
            },
            "header": {
             "fill": {
              "color": "#C8D4E3"
             },
             "line": {
              "color": "white"
             }
            },
            "type": "table"
           }
          ]
         },
         "layout": {
          "annotationdefaults": {
           "arrowcolor": "#2a3f5f",
           "arrowhead": 0,
           "arrowwidth": 1
          },
          "coloraxis": {
           "colorbar": {
            "outlinewidth": 0,
            "ticks": ""
           }
          },
          "colorscale": {
           "diverging": [
            [
             0,
             "#8e0152"
            ],
            [
             0.1,
             "#c51b7d"
            ],
            [
             0.2,
             "#de77ae"
            ],
            [
             0.3,
             "#f1b6da"
            ],
            [
             0.4,
             "#fde0ef"
            ],
            [
             0.5,
             "#f7f7f7"
            ],
            [
             0.6,
             "#e6f5d0"
            ],
            [
             0.7,
             "#b8e186"
            ],
            [
             0.8,
             "#7fbc41"
            ],
            [
             0.9,
             "#4d9221"
            ],
            [
             1,
             "#276419"
            ]
           ],
           "sequential": [
            [
             0,
             "#0d0887"
            ],
            [
             0.1111111111111111,
             "#46039f"
            ],
            [
             0.2222222222222222,
             "#7201a8"
            ],
            [
             0.3333333333333333,
             "#9c179e"
            ],
            [
             0.4444444444444444,
             "#bd3786"
            ],
            [
             0.5555555555555556,
             "#d8576b"
            ],
            [
             0.6666666666666666,
             "#ed7953"
            ],
            [
             0.7777777777777778,
             "#fb9f3a"
            ],
            [
             0.8888888888888888,
             "#fdca26"
            ],
            [
             1,
             "#f0f921"
            ]
           ],
           "sequentialminus": [
            [
             0,
             "#0d0887"
            ],
            [
             0.1111111111111111,
             "#46039f"
            ],
            [
             0.2222222222222222,
             "#7201a8"
            ],
            [
             0.3333333333333333,
             "#9c179e"
            ],
            [
             0.4444444444444444,
             "#bd3786"
            ],
            [
             0.5555555555555556,
             "#d8576b"
            ],
            [
             0.6666666666666666,
             "#ed7953"
            ],
            [
             0.7777777777777778,
             "#fb9f3a"
            ],
            [
             0.8888888888888888,
             "#fdca26"
            ],
            [
             1,
             "#f0f921"
            ]
           ]
          },
          "colorway": [
           "#636efa",
           "#EF553B",
           "#00cc96",
           "#ab63fa",
           "#FFA15A",
           "#19d3f3",
           "#FF6692",
           "#B6E880",
           "#FF97FF",
           "#FECB52"
          ],
          "font": {
           "color": "#2a3f5f"
          },
          "geo": {
           "bgcolor": "white",
           "lakecolor": "white",
           "landcolor": "#E5ECF6",
           "showlakes": true,
           "showland": true,
           "subunitcolor": "white"
          },
          "hoverlabel": {
           "align": "left"
          },
          "hovermode": "closest",
          "mapbox": {
           "style": "light"
          },
          "paper_bgcolor": "white",
          "plot_bgcolor": "#E5ECF6",
          "polar": {
           "angularaxis": {
            "gridcolor": "white",
            "linecolor": "white",
            "ticks": ""
           },
           "bgcolor": "#E5ECF6",
           "radialaxis": {
            "gridcolor": "white",
            "linecolor": "white",
            "ticks": ""
           }
          },
          "scene": {
           "xaxis": {
            "backgroundcolor": "#E5ECF6",
            "gridcolor": "white",
            "gridwidth": 2,
            "linecolor": "white",
            "showbackground": true,
            "ticks": "",
            "zerolinecolor": "white"
           },
           "yaxis": {
            "backgroundcolor": "#E5ECF6",
            "gridcolor": "white",
            "gridwidth": 2,
            "linecolor": "white",
            "showbackground": true,
            "ticks": "",
            "zerolinecolor": "white"
           },
           "zaxis": {
            "backgroundcolor": "#E5ECF6",
            "gridcolor": "white",
            "gridwidth": 2,
            "linecolor": "white",
            "showbackground": true,
            "ticks": "",
            "zerolinecolor": "white"
           }
          },
          "shapedefaults": {
           "line": {
            "color": "#2a3f5f"
           }
          },
          "ternary": {
           "aaxis": {
            "gridcolor": "white",
            "linecolor": "white",
            "ticks": ""
           },
           "baxis": {
            "gridcolor": "white",
            "linecolor": "white",
            "ticks": ""
           },
           "bgcolor": "#E5ECF6",
           "caxis": {
            "gridcolor": "white",
            "linecolor": "white",
            "ticks": ""
           }
          },
          "title": {
           "x": 0.05
          },
          "xaxis": {
           "automargin": true,
           "gridcolor": "white",
           "linecolor": "white",
           "ticks": "",
           "title": {
            "standoff": 15
           },
           "zerolinecolor": "white",
           "zerolinewidth": 2
          },
          "yaxis": {
           "automargin": true,
           "gridcolor": "white",
           "linecolor": "white",
           "ticks": "",
           "title": {
            "standoff": 15
           },
           "zerolinecolor": "white",
           "zerolinewidth": 2
          }
         }
        }
       }
      },
      "image/png": "[encoded data removed]",
      "text/html": [
       "<div>\n",
       "        \n",
       "        \n",
       "            <div id=\"50b48f64-4caa-4b30-b6a5-ba50eb60f42f\" class=\"plotly-graph-div\" style=\"height:600px; width:100%;\"></div>\n",
       "            <script type=\"text/javascript\">\n",
       "                require([\"plotly\"], function(Plotly) {\n",
       "                    window.PLOTLYENV=window.PLOTLYENV || {};\n",
       "                    \n",
       "                if (document.getElementById(\"50b48f64-4caa-4b30-b6a5-ba50eb60f42f\")) {\n",
       "                    Plotly.newPlot(\n",
       "                        '50b48f64-4caa-4b30-b6a5-ba50eb60f42f',\n",
       "                        [{\"customdata\": [[\"Tucson, Ariz.\", \"Heilbut, Iwan\"], [\"West Englewood, NJ u.a.\", \"Heilbut, Iwan\"], [\"Berlin-Neuko\\u0308lln\", \"Heilbut, Iwan\"], [\"New York, NY\", \"Heilbut, Iwan\"], [\"New York, NY\", \"Heilbut, Iwan\"], [\"New York, NY\", \"Heilbut, Iwan\"], [\"New York, NY\", \"Heilbut, Iwan\"], [\"New York, NY\", \"Heilbut, Iwan\"], [\"New York, NY\", \"Heilbut, Iwan\"], [\"New York, NY\", \"Heilbut, Iwan\"], [\"New York, NY\", \"Heilbut, Iwan\"], [\"New York, NY\", \"Heilbut, Iwan\"], [\"New York, NY\", \"Heilbut, Iwan\"], [\"New York, NY\", \"Heilbut, Iwan\"], [\"New York, NY\", \"Heilbut, Iwan\"], [\"New York, NY\", \"Heilbut, Iwan\"], [\"New York, NY\", \"Heilbut, Iwan\"], [\"New York, NY\", \"Heilbut, Iwan\"], [\"New York, NY\", \"Heilbut, Iwan\"], [\"New York, NY\", \"Heilbut, Iwan\"], [\"New York, NY\", \"Heilbut, Iwan\"], [\"New York, NY\", \"Heilbut, Iwan\"], [\"New York, NY\", \"Heilbut, Iwan\"], [\"New York, NY\", \"Heilbut, Iwan\"], [\"New York, NY\", \"Heilbut, Iwan\"], [\"New York, NY\", \"Heilbut, Iwan\"], [\"New York, NY\", \"Heilbut, Iwan\"], [\"New York, NY\", \"Heilbut, Iwan\"], [\"New York, NY\", \"Heilbut, Iwan\"], [\"New York, NY\", \"Heilbut, Iwan\"], [\"New York, NY\", \"Heilbut, Iwan\"], [\"New York, NY\", \"Heilbut, Iwan\"], [\"New York, NY\", \"Heilbut, Iwan\"], [\"New York, NY\", \"Heilbut, Iwan\"], [\"New York, NY\", \"Heilbut, Iwan\"], [\"New York, NY\", \"Heilbut, Iwan\"], [\"New York, NY\", \"Heilbut, Iwan\"], [\"New York, NY\", \"Heilbut, Iwan\"], [\"New York, NY\", \"Heilbut, Iwan\"], [\"New York, NY\", \"Heilbut, Iwan\"], [\"New York, NY\", \"Heilbut, Iwan\"], [\"New York, NY\", \"Heilbut, Iwan\"], [\"New York, NY\", \"Heilbut, Iwan\"], [\"New York, NY\", \"Heilbut, Iwan\"], [\"New York, NY\", \"Heilbut, Iwan\"], [\"New York, NY\", \"Heilbut, Iwan\"], [\"New York, NY\", \"Heilbut, Iwan\"], [\"New York, NY\", \"Heilbut, Iwan\"], [\"New York, NY\", \"Heilbut, Iwan\"], [\"New York, NY\", \"Heilbut, Iwan\"], [\"New York, NY\", \"Heilbut, Iwan\"], [\"New York, NY\", \"Heilbut, Iwan\"], [\"New York, NY\", \"Heilbut, Iwan\"], [\"New York, NY\", \"Heilbut, Iwan\"], [\"New York, NY\", \"Heilbut, Iwan\"], [\"New York, NY\", \"Heilbut, Iwan\"], [\"New York, NY\", \"Heilbut, Iwan\"], [\"New York, NY\", \"Heilbut, Iwan\"], [\"New York, NY\", \"Heilbut, Iwan\"], [\"New York, NY\", \"Heilbut, Iwan\"], [\"New York, NY\", \"Heilbut, Iwan\"], [\"New York, NY\", \"Heilbut, Iwan\"], [\"New York, NY\", \"Heilbut, Iwan\"], [\"New York, NY\", \"Heilbut, Iwan\"], [\"New York, NY\", \"Heilbut, Iwan\"], [\"New York, NY\", \"Heilbut, Iwan\"], [\"New York, NY\", \"Heilbut, Iwan\"], [\"New York, NY\", \"Heilbut, Iwan\"], [\"New York, NY\", \"Heilbut, Iwan\"], [\"New York, NY\", \"Heilbut, Iwan\"], [\"New York, NY\", \"Heilbut, Iwan\"], [\"New York, NY\", \"Heilbut, Iwan\"], [\"New York, NY\", \"Heilbut, Iwan\"], [\"New York, NY\", \"Heilbut, Iwan\"], [\"New York, NY\", \"Heilbut, Iwan\"], [\"New York, NY\", \"Heilbut, Iwan\"], [\"New York, NY\", \"Heilbut, Iwan\"], [\"New York, NY\", \"Heilbut, Iwan\"], [\"New York, NY\", \"Heilbut, Iwan\"], [\"New York, NY\", \"Heilbut, Iwan\"], [\"New York, NY\", \"Heilbut, Iwan\"], [\"New York, NY\", \"Heilbut, Iwan\"], [\"New York, NY\", \"Heilbut, Iwan\"], [\"New York, NY\", \"Heilbut, Iwan\"], [\"New York, NY\", \"Heilbut, Iwan\"], [\"New York, NY\", \"Heilbut, Iwan\"], [\"New York, NY\", \"Heilbut, Iwan\"], [\"New York, NY\", \"Heilbut, Iwan\"], [\"New York, NY\", \"Heilbut, Iwan\"], [\"New York, NY\", \"Heilbut, Iwan\"], [\"New York, NY\", \"Heilbut, Iwan\"], [\"New York, NY\", \"Heilbut, Iwan\"], [\"New York, NY\", \"Heilbut, Iwan\"], [\"New York, NY\", \"Heilbut, Iwan\"], [\"New York, NY\", \"Heilbut, Iwan\"], [\"New York, NY\", \"Heilbut, Iwan\"], [\"New York, NY\", \"Heilbut, Iwan\"], [\"New York, NY\", \"Heilbut, Iwan\"], [\"New York, NY\", \"Heilbut, Iwan\"], [\"New York, NY\", \"Heilbut, Iwan\"], [\"New York, NY\", \"Heilbut, Iwan\"], [\"New York, NY\", \"Heilbut, Iwan\"], [\"New York, NY\", \"Heilbut, Iwan\"], [\"New York, NY\", \"Heilbut, Iwan\"], [\"New York, NY\", \"Heilbut, Iwan\"], [\"New York, NY\", \"Heilbut, Iwan\"], [\"New York, NY\", \"Heilbut, Iwan\"], [\"New York, NY\", \"Heilbut, Iwan\"], [\"New York, NY\", \"Heilbut, Iwan\"], [\"New York, NY\", \"Heilbut, Iwan\"], [\"New York, NY\", \"Heilbut, Iwan\"], [\"New York, NY\", \"Heilbut, Iwan\"], [\"New York, NY\", \"Heilbut, Iwan\"], [\"New York, NY\", \"Heilbut, Iwan\"], [\"New York, NY\", \"Heilbut, Iwan\"], [\"New York, NY\", \"Heilbut, Iwan\"], [\"New York, NY\", \"Heilbut, Iwan\"], [\"New York, NY\", \"Heilbut, Iwan\"], [\"New York, NY\", \"Heilbut, Iwan\"], [\"New York, NY\", \"Heilbut, Iwan\"], [\"New York, NY\", \"Heilbut, Iwan\"], [\"New York, NY\", \"Heilbut, Iwan\"], [\"New York, NY\", \"Heilbut, Iwan\"], [\"New York, NY\", \"Heilbut, Iwan\"], [\"New York, NY\", \"Heilbut, Iwan\"], [\"New York, NY\", \"Heilbut, Iwan\"], [\"New York, NY\", \"Heilbut, Iwan\"], [\"New York, NY\", \"Heilbut, Iwan\"], [\"New York, NY\", \"Heilbut, Iwan\"], [\"New York, NY\", \"Heilbut, Iwan\"], [\"New York, NY\", \"Heilbut, Iwan\"], [\"New York, NY\", \"Heilbut, Iwan\"], [\"New York, NY\", \"Heilbut, Iwan\"], [\"New York, NY\", \"Heilbut, Iwan\"], [\"New York, NY\", \"Heilbut, Iwan\"], [\"New York, NY\", \"Heilbut, Iwan\"], [\"New York, NY\", \"Heilbut, Iwan\"], [\"Wiesbaden\", \"Heilbut, Iwan\"], [\"Wiesbaden\", \"Heilbut, Iwan\"], [\"Wiesbaden\", \"Heilbut, Iwan\"], [\"Wiesbaden\", \"Heilbut, Iwan\"], [\"Wiesbaden\", \"Heilbut, Iwan\"], [\"Berlin-Marienfelde\", \"Heilbut, Iwan\"], [\"Po\\u0308rtschach\", \"Heilbut, Iwan\"], [\"Heidelberg\", \"Heilbut, Iwan\"], [\"Heidelberg\", \"Heilbut, Iwan\"], [\"Heidelberg\", \"Heilbut, Iwan\"], [\"Heidelberg\", \"Heilbut, Iwan\"], [\"Heidelberg\", \"Heilbut, Iwan\"], [\"Heidelberg\", \"Heilbut, Iwan\"], [\"Heidelberg\", \"Heilbut, Iwan\"], [\"Heidelberg\", \"Heilbut, Iwan\"], [\"Heidelberg\", \"Heilbut, Iwan\"], [\"Mu\\u0308nchen\", \"Heilbut, Iwan\"], [\"Mu\\u0308nchen\", \"Heilbut, Iwan\"], [\"Mu\\u0308nchen\", \"Heilbut, Iwan\"], [\"Mu\\u0308nchen\", \"Heilbut, Iwan\"], [\"Mu\\u0308nchen\", \"Heilbut, Iwan\"], [\"Mu\\u0308nchen\", \"Heilbut, Iwan\"], [\"Mu\\u0308nchen\", \"Heilbut, Iwan\"], [\"Mu\\u0308nchen\", \"Heilbut, Iwan\"], [\"Mu\\u0308nchen\", \"Heilbut, Iwan\"], [\"Mu\\u0308nchen\", \"Heilbut, Iwan\"], [\"Mu\\u0308nchen\", \"Heilbut, Iwan\"], [\"Mu\\u0308nchen\", \"Heilbut, Iwan\"], [\"Mu\\u0308nchen\", \"Heilbut, Iwan\"], [\"Mu\\u0308nchen\", \"Heilbut, Iwan\"], [\"Mu\\u0308nchen\", \"Heilbut, Iwan\"], [\"Mu\\u0308nchen\", \"Heilbut, Iwan\"], [\"Mu\\u0308nchen\", \"Heilbut, Iwan\"], [\"Mu\\u0308nchen\", \"Heilbut, Iwan\"], [\"Mu\\u0308nchen\", \"Heilbut, Iwan\"], [\"Mu\\u0308nchen\", \"Heilbut, Iwan\"], [\"Mu\\u0308nchen\", \"Heilbut, Iwan\"], [\"Mu\\u0308nchen\", \"Heilbut, Iwan\"], [\"Mu\\u0308nchen\", \"Heilbut, Iwan\"], [\"Mu\\u0308nchen\", \"Heilbut, Iwan\"], [\"Mu\\u0308nchen\", \"Heilbut, Iwan\"], [\"Mu\\u0308nchen\", \"Heilbut, Iwan\"], [\"Mu\\u0308nchen\", \"Heilbut, Iwan\"], [\"Mu\\u0308nchen\", \"Heilbut, Iwan\"], [\"Mu\\u0308nchen\", \"Heilbut, Iwan\"], [\"Mu\\u0308nchen\", \"Heilbut, Iwan\"], [\"Mu\\u0308nchen\", \"Heilbut, Iwan\"], [\"Mu\\u0308nchen\", \"Heilbut, Iwan\"], [\"Mu\\u0308nchen\", \"Heilbut, Iwan\"], [\"Mu\\u0308nchen\", \"Heilbut, Iwan\"], [\"Mu\\u0308nchen\", \"Heilbut, Iwan\"], [\"Mu\\u0308nchen\", \"Heilbut, Iwan\"], [\"Mu\\u0308nchen\", \"Heilbut, Iwan\"], [\"Mu\\u0308nchen\", \"Heilbut, Iwan\"], [\"Mu\\u0308nchen\", \"Heilbut, Iwan\"], [\"Mu\\u0308nchen\", \"Heilbut, Iwan\"], [\"Mu\\u0308nchen\", \"Heilbut, Iwan\"], [\"Mu\\u0308nchen\", \"Heilbut, Iwan\"], [\"Mu\\u0308nchen\", \"Heilbut, Iwan\"], [\"Mu\\u0308nchen\", \"Heilbut, Iwan\"], [\"Mu\\u0308nchen\", \"Heilbut, Iwan\"], [\"Mu\\u0308nchen\", \"Heilbut, Iwan\"], [\"Mu\\u0308nchen\", \"Heilbut, Iwan\"], [\"Mu\\u0308nchen\", \"Heilbut, Iwan\"], [\"Mu\\u0308nchen\", \"Heilbut, Iwan\"], [\"Mu\\u0308nchen\", \"Heilbut, Iwan\"], [\"Mu\\u0308nchen\", \"Heilbut, Iwan\"], [\"Mu\\u0308nchen\", \"Heilbut, Iwan\"], [\"Mu\\u0308nchen\", \"Heilbut, Iwan\"], [\"Mu\\u0308nchen\", \"Heilbut, Iwan\"], [\"Mu\\u0308nchen\", \"Heilbut, Iwan\"], [\"Mu\\u0308nchen\", \"Heilbut, Iwan\"], [\"Mu\\u0308nchen\", \"Heilbut, Iwan\"], [\"Mu\\u0308nchen\", \"Heilbut, Iwan\"], [\"Mu\\u0308nchen\", \"Heilbut, Iwan\"], [\"Mu\\u0308nchen\", \"Heilbut, Iwan\"], [\"Mu\\u0308nchen\", \"Heilbut, Iwan\"], [\"Mu\\u0308nchen\", \"Heilbut, Iwan\"], [\"Mu\\u0308nchen\", \"Heilbut, Iwan\"], [\"Mu\\u0308nchen\", \"Heilbut, Iwan\"], [\"Mu\\u0308nchen\", \"Heilbut, Iwan\"], [\"Mu\\u0308nchen\", \"Heilbut, Iwan\"], [\"Mu\\u0308nchen\", \"Heilbut, Iwan\"], [\"Mu\\u0308nchen\", \"Heilbut, Iwan\"], [\"Mu\\u0308nchen\", \"Heilbut, Iwan\"], [\"Mu\\u0308nchen\", \"Heilbut, Iwan\"], [\"Mu\\u0308nchen\", \"Heilbut, Iwan\"], [\"Mu\\u0308nchen\", \"Heilbut, Iwan\"], [\"Mu\\u0308nchen\", \"Heilbut, Iwan\"], [\"Mu\\u0308nchen\", \"Heilbut, Iwan\"], [\"Mu\\u0308nchen\", \"Heilbut, Iwan\"], [\"Mu\\u0308nchen\", \"Heilbut, Iwan\"], [\"Mu\\u0308nchen\", \"Heilbut, Iwan\"], [\"Mu\\u0308nchen\", \"Heilbut, Iwan\"], [\"Mu\\u0308nchen\", \"Heilbut, Iwan\"], [\"Mu\\u0308nchen\", \"Heilbut, Iwan\"], [\"Mu\\u0308nchen\", \"Heilbut, Iwan\"], [\"Mu\\u0308nchen\", \"Heilbut, Iwan\"], [\"Mu\\u0308nchen\", \"Heilbut, Iwan\"], [\"Baden-Baden\", \"Heilbut, Iwan\"], [\"Baden-Baden\", \"Heilbut, Iwan\"], [\"Mu\\u0308nchen u.a.\", \"Heilbut, Iwan\"], [\"Mu\\u0308nchen u.a.\", \"Heilbut, Iwan\"], [\"Mu\\u0308nchen u.a.\", \"Heilbut, Iwan\"], [\"Mu\\u0308nchen u.a.\", \"Heilbut, Iwan\"], [\"Mu\\u0308nchen u.a.\", \"Heilbut, Iwan\"], [\"Mu\\u0308nchen u.a.\", \"Heilbut, Iwan\"], [\"Mu\\u0308nchen u.a.\", \"Heilbut, Iwan\"], [\"Mu\\u0308nchen u.a.\", \"Heilbut, Iwan\"], [\"Mu\\u0308nchen u.a.\", \"Heilbut, Iwan\"], [\"Mu\\u0308nchen u.a.\", \"Heilbut, Iwan\"], [\"Mu\\u0308nchen u.a.\", \"Heilbut, Iwan\"], [\"Mu\\u0308nchen u.a.\", \"Heilbut, Iwan\"], [\"Berlin\", \"Heilbut, Iwan\"], [\"Berlin\", \"Heilbut, Iwan\"], [\"Berlin\", \"Heilbut, Iwan\"], [\"Berlin\", \"Heilbut, Iwan\"], [\"Berlin\", \"Heilbut, Iwan\"], [\"Berlin\", \"Heilbut, Iwan\"], [\"Berlin\", \"Heilbut, Iwan\"], [\"Berlin\", \"Heilbut, Iwan\"], [\"Berlin\", \"Heilbut, Iwan\"], [\"Berlin\", \"Heilbut, Iwan\"], [\"Berlin\", \"Heilbut, Iwan\"], [\"Berlin\", \"Heilbut, Iwan\"], [\"Berlin\", \"Heilbut, Iwan\"], [\"Berlin\", \"Heilbut, Iwan\"], [\"Berlin\", \"Heilbut, Iwan\"], [\"Berlin\", \"Heilbut, Iwan\"], [\"Berlin\", \"Heilbut, Iwan\"], [\"Berlin\", \"Heilbut, Iwan\"], [\"Berlin\", \"Heilbut, Iwan\"], [\"Berlin\", \"Heilbut, Iwan\"], [\"Berlin\", \"Heilbut, Iwan\"], [\"Berlin\", \"Heilbut, Iwan\"], [\"Berlin\", \"Heilbut, Iwan\"], [\"Berlin\", \"Heilbut, Iwan\"], [\"Berlin\", \"Heilbut, Iwan\"], [\"Berlin\", \"Heilbut, Iwan\"], [\"Berlin\", \"Heilbut, Iwan\"], [\"Berlin\", \"Heilbut, Iwan\"], [\"Berlin\", \"Heilbut, Iwan\"], [\"Berlin\", \"Heilbut, Iwan\"], [\"Berlin\", \"Heilbut, Iwan\"], [\"Paris u.a.\", \"Heilbut, Iwan\"], [\"Paris u.a.\", \"Heilbut, Iwan\"], [\"Luzern\", \"Heilbut, Iwan\"], [\"South Hadley, Mass.\", \"Heilbut, Iwan\"], [\"Hamburg\", \"Heilbut, Iwan\"], [\"Hamburg\", \"Heilbut, Iwan\"], [\"Hamburg\", \"Heilbut, Iwan\"], [\"Hamburg\", \"Heilbut, Iwan\"], [\"Hamburg\", \"Heilbut, Iwan\"], [\"Hamburg\", \"Heilbut, Iwan\"], [\"Hamburg\", \"Heilbut, Iwan\"], [\"Hamburg\", \"Heilbut, Iwan\"], [\"Hamburg\", \"Heilbut, Iwan\"], [\"Hamburg\", \"Heilbut, Iwan\"], [\"Hamburg\", \"Heilbut, Iwan\"], [\"Hamburg\", \"Heilbut, Iwan\"], [\"Hamburg\", \"Heilbut, Iwan\"], [\"Hamburg\", \"Heilbut, Iwan\"], [\"Hamburg\", \"Heilbut, Iwan\"], [\"Hamburg\", \"Heilbut, Iwan\"], [\"Hamburg\", \"Heilbut, Iwan\"], [\"Hamburg\", \"Heilbut, Iwan\"], [\"Hamburg\", \"Heilbut, Iwan\"], [\"Hamburg\", \"Heilbut, Iwan\"], [\"Hamburg\", \"Heilbut, Iwan\"], [\"Hamburg\", \"Heilbut, Iwan\"], [\"Hamburg\", \"Heilbut, Iwan\"], [\"Hamburg\", \"Heilbut, Iwan\"], [\"Haar bei Mu\\u0308nchen\", \"Heilbut, Iwan\"], [\"Beverly Hills, Calif.\", \"Heilbut, Iwan\"], [\"Chicago, Ill.\", \"Heilbut, Iwan\"], [\"Chicago, Ill.\", \"Heilbut, Iwan\"], [\"Chicago, Ill.\", \"Heilbut, Iwan\"], [\"Chicago, Ill.\", \"Heilbut, Iwan\"], [\"Pacific Palisades, Calif.\", \"Heilbut, Iwan\"], [\"Bad Harzburg\", \"Heilbut, Iwan\"], [\"Staten Island, NY\", \"Heilbut, Iwan\"], [\"Nizza\", \"Heilbut, Iwan\"], [\"Bad Godesberg u.a.\", \"Heilbut, Iwan\"], [\"Tel Aviv\", \"Heilbut, Iwan\"], [\"Tel Aviv\", \"Heilbut, Iwan\"], [\"Tel Aviv\", \"Heilbut, Iwan\"], [\"Wien\", \"Heilbut, Iwan\"], [\"Wien\", \"Heilbut, Iwan\"], [\"Wien\", \"Heilbut, Iwan\"], [\"Wien\", \"Heilbut, Iwan\"], [\"Wien\", \"Heilbut, Iwan\"], [\"Wien\", \"Heilbut, Iwan\"], [\"Wien\", \"Heilbut, Iwan\"], [\"Wien\", \"Heilbut, Iwan\"], [\"Wien\", \"Heilbut, Iwan\"], [\"Wien\", \"Heilbut, Iwan\"], [\"Wien\", \"Heilbut, Iwan\"], [\"Pittsburgh, Pa.\", \"Heilbut, Iwan\"], [\"Marburg, Lahn\", \"Heilbut, Iwan\"], [\"[Mu\\u0308nchen]\", \"Heilbut, Iwan\"], [\"Berlin-Wilmersdorf\", \"Heilbut, Iwan\"], [\"Berlin-Wilmersdorf\", \"Heilbut, Iwan\"], [\"Berlin-Wilmersdorf\", \"Heilbut, Iwan\"], [\"Woodmere, NY\", \"Heilbut, Iwan\"], [\"Berlin-Scho\\u0308neberg\", \"Heilbut, Iwan\"], [\"Berlin-Scho\\u0308neberg\", \"Heilbut, Iwan\"], [\"Berlin-Scho\\u0308neberg\", \"Heilbut, Iwan\"], [\"Berlin-Scho\\u0308neberg\", \"Heilbut, Iwan\"], [\"Berlin-Scho\\u0308neberg\", \"Heilbut, Iwan\"], [\"Neugermering bei Mu\\u0308nchen\", \"Heilbut, Iwan\"], [\"Stockholm\", \"Heilbut, Iwan\"], [\"Stockholm\", \"Heilbut, Iwan\"], [\"Stockholm\", \"Heilbut, Iwan\"], [\"Mannheim\", \"Heilbut, Iwan\"], [\"Mannheim\", \"Heilbut, Iwan\"], [\"Basel\", \"Heilbut, Iwan\"], [\"Basel\", \"Heilbut, Iwan\"], [\"Basel\", \"Heilbut, Iwan\"], [\"Basel\", \"Heilbut, Iwan\"], [\"Heilbronn u.a.\", \"Heilbut, Iwan\"], [\"Mu\\u0308nchen-Geiselgasteig\", \"Heilbut, Iwan\"], [\"Berlin-Lichterfelde\", \"Heilbut, Iwan\"], [\"Berlin-Lichterfelde\", \"Heilbut, Iwan\"], [\"Berlin, West\", \"Heilbut, Iwan\"], [\"Du\\u0308sseldorf\", \"Heilbut, Iwan\"], [\"Du\\u0308sseldorf\", \"Heilbut, Iwan\"], [\"Bochum\", \"Heilbut, Iwan\"], [\"Hof an der Saale\", \"Heilbut, Iwan\"], [\"Bonn\", \"Heilbut, Iwan\"], [\"Bonn\", \"Heilbut, Iwan\"], [\"Stuttgart\", \"Heilbut, Iwan\"], [\"Stuttgart\", \"Heilbut, Iwan\"], [\"Stuttgart\", \"Heilbut, Iwan\"], [\"Stuttgart\", \"Heilbut, Iwan\"], [\"Stuttgart\", \"Heilbut, Iwan\"], [\"Stuttgart\", \"Heilbut, Iwan\"], [\"Stuttgart\", \"Heilbut, Iwan\"], [\"Stuttgart\", \"Heilbut, Iwan\"], [\"Stuttgart\", \"Heilbut, Iwan\"], [\"Stuttgart\", \"Heilbut, Iwan\"], [\"Stuttgart\", \"Heilbut, Iwan\"], [\"Stuttgart\", \"Heilbut, Iwan\"], [\"Frankfurt am Main\", \"Heilbut, Iwan\"], [\"Frankfurt am Main\", \"Heilbut, Iwan\"], [\"Frankfurt am Main\", \"Heilbut, Iwan\"], [\"Frankfurt am Main\", \"Heilbut, Iwan\"], [\"Frankfurt am Main\", \"Heilbut, Iwan\"], [\"Frankfurt am Main\", \"Heilbut, Iwan\"], [\"Frankfurt am Main\", \"Heilbut, Iwan\"], [\"Frankfurt am Main\", \"Heilbut, Iwan\"], [\"Frankfurt am Main\", \"Heilbut, Iwan\"], [\"Frankfurt am Main\", \"Heilbut, Iwan\"], [\"Frankfurt am Main\", \"Heilbut, Iwan\"], [\"Frankfurt am Main\", \"Heilbut, Iwan\"], [\"Frankfurt am Main\", \"Heilbut, Iwan\"], [\"Frankfurt am Main\", \"Heilbut, Iwan\"], [\"Frankfurt am Main\", \"Heilbut, Iwan\"], [\"Frankfurt am Main\", \"Heilbut, Iwan\"], [\"o.O.\", \"Heilbut, Iwan\"], [\"o.O.\", \"Heilbut, Iwan\"], [\"o.O.\", \"Heilbut, Iwan\"], [\"o.O.\", \"Heilbut, Iwan\"], [\"o.O.\", \"Heilbut, Iwan\"], [\"o.O.\", \"Heilbut, Iwan\"], [\"o.O.\", \"Heilbut, Iwan\"], [\"Berlin-Grunewald\", \"Heilbut, Iwan\"], [\"Berlin-Grunewald\", \"Heilbut, Iwan\"], [\"Berlin-Grunewald\", \"Heilbut, Iwan\"], [\"Marseille\", \"Heilbut, Iwan\"], [\"Marseille\", \"Heilbut, Iwan\"], [\"Marseille\", \"Heilbut, Iwan\"], [\"[New York, NY]\", \"Heilbut, Iwan\"], [\"[New York, NY]\", \"Heilbut, Iwan\"], [\"Berlin u.a.\", \"Heilbut, Iwan\"], [\"Berlin u.a.\", \"Heilbut, Iwan\"], [\"Berlin u.a.\", \"Heilbut, Iwan\"], [\"Berlin u.a.\", \"Heilbut, Iwan\"], [\"Berlin u.a.\", \"Heilbut, Iwan\"], [\"Lissabon\", \"Heilbut, Iwan\"], [\"Zu\\u0308rich\", \"Heilbut, Iwan\"], [\"Zu\\u0308rich\", \"Heilbut, Iwan\"], [\"Zu\\u0308rich\", \"Heilbut, Iwan\"], [\"Zu\\u0308rich\", \"Heilbut, Iwan\"], [\"Zu\\u0308rich\", \"Heilbut, Iwan\"], [\"Zu\\u0308rich\", \"Heilbut, Iwan\"], [\"Zu\\u0308rich\", \"Heilbut, Iwan\"], [\"Zu\\u0308rich\", \"Heilbut, Iwan\"], [\"Zu\\u0308rich\", \"Heilbut, Iwan\"], [\"Zu\\u0308rich\", \"Heilbut, Iwan\"], [\"Zu\\u0308rich\", \"Heilbut, Iwan\"], [\"Zu\\u0308rich\", \"Heilbut, Iwan\"], [\"Zu\\u0308rich\", \"Heilbut, Iwan\"], [\"Zu\\u0308rich\", \"Heilbut, Iwan\"], [\"Zu\\u0308rich\", \"Heilbut, Iwan\"], [\"Toulouse\", \"Heilbut, Iwan\"], [\"Paris\", \"Heilbut, Iwan\"], [\"Paris\", \"Heilbut, Iwan\"], [\"Paris\", \"Heilbut, Iwan\"], [\"Paris\", \"Heilbut, Iwan\"], [\"Paris\", \"Heilbut, Iwan\"], [\"Paris\", \"Heilbut, Iwan\"], [\"Paris\", \"Heilbut, Iwan\"], [\"Paris\", \"Heilbut, Iwan\"], [\"Paris\", \"Heilbut, Iwan\"], [\"Jerusalem\", \"Heilbut, Iwan\"], [\"Jerusalem\", \"Heilbut, Iwan\"], [\"Jerusalem\", \"Heilbut, Iwan\"], [\"Morgantown, W Va.\", \"Heilbut, Iwan\"], [\"Wolfratshausen\", \"Heilbut, Iwan\"], [\"Hamburg u.a.\", \"Heilbut, Iwan\"], [\"Berlin-Friedenau\", \"Heilbut, Iwan\"], [\"U\\u0308berlingen\", \"Heilbut, Iwan\"], [\"Sa\\u0303o Paulo\", \"Heilbut, Iwan\"], [\"Mount Vernon, NY\", \"Heilbut, Iwan\"], [\"Youngstown, Ohio\", \"Heilbut, Iwan\"], [\"Waltham, Mass.\", \"Heilbut, Iwan\"], [\"Chardonne sur Vevey\", \"Heilbut, Iwan\"], [\"Washington, DC\", \"Heilbut, Iwan\"], [\"Washington, DC\", \"Heilbut, Iwan\"], [\"Washington, DC\", \"Heilbut, Iwan\"], [\"Washington, DC\", \"Heilbut, Iwan\"], [\"Washington, DC\", \"Heilbut, Iwan\"], [\"Washington, DC\", \"Heilbut, Iwan\"], [\"Salzburg\", \"Heilbut, Iwan\"], [\"Tu\\u0308bingen\", \"Heilbut, Iwan\"], [\"Darmstadt\", \"Heilbut, Iwan\"], [\"Darmstadt\", \"Heilbut, Iwan\"], [\"Darmstadt\", \"Heilbut, Iwan\"], [\"Darmstadt\", \"Heilbut, Iwan\"], [\"Darmstadt\", \"Heilbut, Iwan\"], [\"Darmstadt\", \"Heilbut, Iwan\"], [\"Bamberg\", \"Heilbut, Iwan\"], [\"Berlin-Charlottenburg\", \"Heilbut, Iwan\"], [\"Berlin-Charlottenburg\", \"Heilbut, Iwan\"], [\"Berlin-Charlottenburg\", \"Heilbut, Iwan\"], [\"Berlin-Charlottenburg\", \"Heilbut, Iwan\"], [\"Berlin-Charlottenburg\", \"Heilbut, Iwan\"], [\"Berlin-Charlottenburg\", \"Heilbut, Iwan\"], [\"Berlin-Charlottenburg\", \"Heilbut, Iwan\"], [\"Bremen\", \"Heilbut, Iwan\"], [\"Bremen\", \"Heilbut, Iwan\"], [\"Freiburg im Breisgau\", \"Heilbut, Iwan\"], [\"Freiburg im Breisgau\", \"Heilbut, Iwan\"], [\"Freiburg im Breisgau\", \"Heilbut, Iwan\"], [\"Freiburg im Breisgau\", \"Heilbut, Iwan\"], [\"Bad Hersfeld\", \"Heilbut, Iwan\"], [\"Hof\", \"Heilbut, Iwan\"], [\"Kaiserslautern\", \"Heilbut, Iwan\"], [\"Ludwigsburg\", \"Heilbut, Iwan\"], [\"Nu\\u0308rnberg\", \"Heilbut, Iwan\"], [\"Nu\\u0308rnberg\", \"Heilbut, Iwan\"], [\"Nu\\u0308rnberg\", \"Heilbut, Iwan\"], [\"Regensburg\", \"Heilbut, Iwan\"], [\"Schweinfurt\", \"Heilbut, Iwan\"], [\"Straubing\", \"Heilbut, Iwan\"], [\"Positano\", \"Heilbut, Iwan\"], [\"Los Angeles, Calif.\", \"Heilbut, Iwan\"], [\"Los Angeles, Calif.\", \"Heilbut, Iwan\"], [\"Los Angeles, Calif.\", \"Heilbut, Iwan\"], [\"Los Angeles, Calif.\", \"Heilbut, Iwan\"], [\"Ko\\u0308ln\", \"Heilbut, Iwan\"], [\"Ko\\u0308ln\", \"Heilbut, Iwan\"], [\"London-Hampstead\", \"Heilbut, Iwan\"], [\"London-Hampstead\", \"Heilbut, Iwan\"], [\"Roslyn Heights, NY u.a.\", \"Heilbut, Iwan\"], [\"Karlsruhe\", \"Heilbut, Iwan\"], [\"Kemnath\", \"Heilbut, Iwan\"], [\"Kemnath\", \"Heilbut, Iwan\"], [\"Zittau\", \"Heilbut, Iwan\"], [\"Amsterdam\", \"Heilbut, Iwan\"], [\"Amsterdam\", \"Heilbut, Iwan\"], [\"Amsterdam\", \"Heilbut, Iwan\"], [\"Ravensburg u.a.\", \"Heilbut, Iwan\"], [\"Los Angeles, Calif. u.a.\", \"Heilbut, Iwan\"], [\"Worms am Rhein\", \"Heilbut, Iwan\"], [\"Worms am Rhein\", \"Heilbut, Iwan\"], [\"Hiddesen u\\u0308ber Detmold\", \"Heilbut, Iwan\"], [\"Erlangen\", \"Heilbut, Iwan\"], [\"Erlangen\", \"Heilbut, Iwan\"], [\"Zu\\u0308rich-Oerlikon\", \"Heilbut, Iwan\"], [\"Berlin-Tempelhof\", \"Heilbut, Iwan\"], [\"Berlin-Tempelhof\", \"Heilbut, Iwan\"], [\"New York, NY u.a.\", \"Heilbut, Iwan\"], [\"New York, NY u.a.\", \"Heilbut, Iwan\"], [\"New York, NY u.a.\", \"Heilbut, Iwan\"], [\"New York, NY u.a.\", \"Heilbut, Iwan\"], [\"New York, NY u.a.\", \"Heilbut, Iwan\"], [\"Mu\\u0308nchen-Riem\", \"Heilbut, Iwan\"], [\"Auckland/NZ\", \"Heilbut, Iwan\"], [\"Kettwig/Ruhr\", \"Heilbut, Iwan\"], [\"Waldshut\", \"Heilbut, Iwan\"], [\"Princeton, NJ\", \"Heilbut, Iwan\"], [\"Sezze Romano\", \"Heilbut, Iwan\"], [\"Oldenburg\", \"Heilbut, Iwan\"], [\"Schleswig\", \"Heilbut, Iwan\"], [\"London\", \"Heilbut, Iwan\"], [\"London\", \"Heilbut, Iwan\"], [\"London\", \"Heilbut, Iwan\"], [\"London\", \"Heilbut, Iwan\"], [\"London\", \"Heilbut, Iwan\"], [\"London\", \"Heilbut, Iwan\"], [\"Fort Lee, NJ\", \"Heilbut, Iwan\"], [\"Wuppertal-Barmen\", \"Heilbut, Iwan\"], [\"Neustadt bei Coburg\", \"Heilbut, Iwan\"], [\"Washngton, DC\", \"Heilbut, Iwan\"], [\"Haifa\", \"Heilbut, Iwan\"], [\"Haifa\", \"Heilbut, Iwan\"], [\"Queens, NY\", \"Heilbut, Iwan\"], [\"Bremen u.a.\", \"Heilbut, Iwan\"], [\"Boulogne/Seine\", \"Heilbut, Iwan\"], [\"Bad Hofgastein\", \"Heilbut, Iwan\"], [\"Brooklyn, NY\", \"Heilbut, Iwan\"], [\"Brooklyn, NY\", \"Heilbut, Iwan\"], [\"Brooklyn, NY\", \"Heilbut, Iwan\"], [\"Mexico\", \"Heilbut, Iwan\"], [\"Stuttgart-Vaihingen u.a.\", \"Heilbut, Iwan\"], [\"Poughquag, NY\", \"Heilbut, Iwan\"], [\"Saint Cloud (Paris)\", \"Heilbut, Iwan\"], [\"Peoria, Ill.\", \"Heilbut, Iwan\"], [\"Ha\\u0308rtensdorf bei Wildenfels\", \"Heilbut, Iwan\"], [\"Wo\\u0308rgl/Austria\", \"Heilbut, Iwan\"], [\"Paterson, NJ\", \"Heilbut, Iwan\"], [\"Weehawken, NJ\", \"Heilbut, Iwan\"], [\"Auckland\", \"Heilbut, Iwan\"], [\"Elmhurst, NY\", \"Heilbut, Iwan\"], [\"Neustadt u.a.\", \"Heilbut, Iwan\"], [\"Saarbru\\u0308cken\", \"Heilbut, Iwan\"], [\"Rotenburg\", \"Heilbut, Iwan\"], [\"Croton-on-Hudson, NY\", \"Heilbut, Iwan\"], [\"Croton-on-Hudson, NY\", \"Heilbut, Iwan\"], [\"Berlin-Steglitz\", \"Heilbut, Iwan\"], [\"Berlin-Steglitz\", \"Heilbut, Iwan\"], [\"Gauting b. Mu\\u0308nchen u.a.\", \"Heilbut, Iwan\"], [\"Kahl am Main\", \"Heilbut, Iwan\"], [\"U\\u0308berlingen am Bodensee\", \"Heilbut, Iwan\"], [\"Coburg\", \"Heilbut, Iwan\"], [\"Badgastein\", \"Heilbut, Iwan\"], [\"Baldwin, NY\", \"Heilbut, Iwan\"], [\"Amsterdam u.a.\", \"Heilbut, Iwan\"], [\"Merseburg\", \"Heilbut, Iwan\"], [\"Ko\\u0308ln-Lindenthal\", \"Heilbut, Iwan\"], [\"Augsburg\", \"Heilbut, Iwan\"], [\"Stockdorf bei Mu\\u0308nchen\", \"Heilbut, Iwan\"], [\"Rosenheim\", \"Heilbut, Iwan\"], [\"Berlin-Lichtenrade u.a.\", \"Heilbut, Iwan\"], [\"Berlin-Lankwitz\", \"Heilbut, Iwan\"], [\"Fleischmanns, NY\", \"Heilbut, Iwan\"], [\"Boston, Mass.\", \"Heilbut, Iwan\"], [\"Hilversum\", \"Heilbut, Iwan\"], [\"Berlin-Dahlem\", \"Heilbut, Iwan\"], [\"Berlin-Dahlem\", \"Heilbut, Iwan\"], [\"Berlin-Dahlem\", \"Heilbut, Iwan\"], [\"Berlin-Siemensstadt\", \"Heilbut, Iwan\"], [\"Hjerting\", \"Heilbut, Iwan\"], [\"Santa Monica, Calif.\", \"Heilbut, Iwan\"], [\"Hjerting/DK\", \"Heilbut, Iwan\"], [\"Encino, Calif.\", \"Heilbut, Iwan\"], [\"New Brunswick, NJ\", \"Heilbut, Iwan\"], [\"Starnberg\", \"Heilbut, Iwan\"], [\"Gauting u.a.\", \"Heilbut, Iwan\"], [\"Karlsruhe u.a.\", \"Heilbut, Iwan\"], [\"Ausable Forks, NY\", \"Heilbut, Iwan\"], [\"Berlin-Schlachtensee\", \"Heilbut, Iwan\"], [\"Marburg an der Lahn\", \"Heilbut, Iwan\"], [\"Hannover-Ricklingen\", \"Heilbut, Iwan\"], [\"Oberursel im Taunus\", \"Heilbut, Iwan\"], [\"Stromboli\", \"Heilbut, Iwan\"], [\"Baldham bei Mu\\u0308nchen\", \"Heilbut, Iwan\"], [\"Darmstadt-Eberstadt\", \"Heilbut, Iwan\"], [\"Rottmannsho\\u0308he, Post Assenhausen\", \"Heilbut, Iwan\"], [\"Go\\u0308ttingen\", \"Heilbut, Iwan\"], [\"Go\\u0308ttingen\", \"Heilbut, Iwan\"], [\"Go\\u0308ttingen\", \"Heilbut, Iwan\"], [\"Forest Hills, NY\", \"Heilbut, Iwan\"], [\"Janneby u\\u0308ber Flensburg u.a.\", \"Heilbut, Iwan\"], [\"Nice\", \"Heilbut, Iwan\"], [\"Nice\", \"Heilbut, Iwan\"], [\"Santa Barbara, Calif.\", \"Heilbut, Iwan\"], [\"Berlin-Zehlendorf\", \"Heilbut, Iwan\"], [\"Feusisberg/CH\", \"Heilbut, Iwan\"], [\"Alsbach (Bergstrasse)\", \"Heilbut, Iwan\"], [\"Ebenhausen u.a.\", \"Heilbut, Iwan\"], [\"Eckernfo\\u0308rde\", \"Heilbut, Iwan\"], [\"Camp de Gurs\", \"Heilbut, Iwan\"], [\"Cincinnati, Ohio\", \"Heilbut, Iwan\"], [\"Verscio, Tessin\", \"Heilbut, Iwan\"], [\"Tutzing bei Mu\\u0308nchen\", \"Heilbut, Iwan\"], [\"Berlin-Spandau\", \"Heilbut, Iwan\"], [\"New york, NY\", \"Heilbut, Iwan\"], [\"New york, NY\", \"Heilbut, Iwan\"], [\"Englewood, NJ u.a.\", \"Heilbut, Iwan\"], [\"Scarsdale, NY\", \"Heilbut, Iwan\"], [\"Baierbrunn u.a.\", \"Heilbut, Iwan\"], [\"Freiburg im Breisgau u.a.\", \"Heilbut, Iwan\"], [\"Obernzell an der Donau\", \"Heilbut, Iwan\"], [\"Dortmund\", \"Heilbut, Iwan\"], [\"Berlin-Siemenstadt\", \"Heilbut, Iwan\"], [\"New Rochelle, NY\", \"Heilbut, Iwan\"], [\"Mainz u.a.\", \"Heilbut, Iwan\"], [\"Geisenhausen bei Landshut\", \"Heilbut, Iwan\"], [\"Gimsheim, Kreis Worms\", \"Heilbut, Iwan\"], [\"Ko\\u0308ln-Ko\\u0308nigsforst\", \"Heilbut, Iwan\"], [\"Ko\\u0308nigstein/Ts.\", \"Heilbut, Iwan\"], [\"Berchtesgaden\", \"Heilbut, Iwan\"], [\"St. Louis, Mo.\", \"Heilbut, Iwan\"], [\"Old Greenwich, Conn.\", \"Heilbut, Iwan\"], [\"Gu\\u0308tersloh\", \"Heilbut, Iwan\"], [\"Ulm\", \"Heilbut, Iwan\"], [\"Ulm\", \"Heilbut, Iwan\"], [\"Ulm\", \"Heilbut, Iwan\"], [\"Berlin-Charlottenburg u.a.\", \"Heilbut, Iwan\"], [\"o.O. [vermutl. New York, NY]\", \"Heilbut, Iwan\"], [\"Neuss am Rhein\", \"Heilbut, Iwan\"], [\"Oxford\", \"Heilbut, Iwan\"], [\"Berlin (West)\", \"Heilbut, Iwan\"], [\"Berlin (West)\", \"Heilbut, Iwan\"], [\"Berlin (West)\", \"Heilbut, Iwan\"], [\"Ambach\", \"Heilbut, Iwan\"], [\"Riva-Varone\", \"Heilbut, Iwan\"], [\"Gauting\", \"Heilbut, Iwan\"], [\"Meersburg u.a.\", \"Heilbut, Iwan\"], [\"Untera\\u0308geri, Zug\", \"Heilbut, Iwan\"], [\"Bergen bei Traunstein\", \"Heilbut, Iwan\"], [\"Ko\\u0308nigstein im Taunus\", \"Heilbut, Iwan\"], [\"Bad Godesberg\", \"Heilbut, Iwan\"], [\"Friedberg (Hessen)\", \"Heilbut, Iwan\"], [\"Go\\u0308ppingen\", \"Heilbut, Iwan\"], [\"Ebenhausen bei Mu\\u0308nchen\", \"Heilbut, Iwan\"], [\"Ravensburg\", \"Heilbut, Iwan\"], [\"Esslingen\", \"Heilbut, Iwan\"], [\"Heilbronn\", \"Heilbut, Iwan\"], [\"Heilbronn\", \"Heilbut, Iwan\"], [\"Schwa\\u0308bisch Gmu\\u0308nd\", \"Heilbut, Iwan\"], [\"Schorndorf\", \"Heilbut, Iwan\"], [\"Mu\\u0308nster i.W.\", \"Heilbut, Iwan\"], [\"Hofheim/Taunus\", \"Heilbut, Iwan\"], [\"Olten\", \"Heilbut, Iwan\"], [\"Monte-Carlo\", \"Heilbut, Iwan\"], [\"Tenafly, NJ\", \"Heilbut, Iwan\"], [\"Graz\", \"Heilbut, Iwan\"], [\"Bad Cannstadt\", \"Heilbut, Iwan\"], [\"Stamford, NY\", \"Heilbut, Iwan\"], [\"Kansas City, Mo.\", \"Heilbut, Iwan\"], [\"Ventimiglia\", \"Heilbut, Iwan\"], [\"Bielefeld\", \"Heilbut, Iwan\"], [\"Gaeta\", \"Heilbut, Iwan\"], [\"Gebersheim bei Leonberg\", \"Heilbut, Iwan\"], [\"Mu\\u0308nchen-Solln\", \"Heilbut, Iwan\"], [\"Flushing, NY\", \"Heilbut, Iwan\"], [\"Mu\\u0308nchen-Englschalking\", \"Heilbut, Iwan\"], [\"Hemer (Kr. Iserlohn)\", \"Heilbut, Iwan\"], [\"So\\u0308cking bei Starnberg\", \"Heilbut, Iwan\"], [\"Mu\\u0308hlheim an der Ruhr\", \"Heilbut, Iwan\"], [\"Great Neck, NY\", \"Heilbut, Iwan\"], [\"Worpswede bei Bremen\", \"Heilbut, Iwan\"], [\"Douglas\", \"Heilbut, Iwan\"], [\"Douglas\", \"Heilbut, Iwan\"], [\"Peel, Isle of Man\", \"Heilbut, Iwan\"], [\"Berlin-Karlshorst\", \"Heilbut, Iwan\"], [\"Neuwied\", \"Heilbut, Iwan\"], [\"Montagnola u.a.\", \"Heilbut, Iwan\"], [\"Montagnola\", \"Heilbut, Iwan\"], [\"Glen Cove, NY\", \"Heilbut, Iwan\"], [\"Merzhausen u\\u0308ber Freiburg im Breisgau\", \"Heilbut, Iwan\"], [\"Uerikon am Zu\\u0308richsee\", \"Heilbut, Iwan\"], [\"Liberty Corner, NJ\", \"Heilbut, Iwan\"]], \"geo\": \"geo\", \"hoverlabel\": {\"namelength\": 0}, \"hovertemplate\": \"place=%{customdata[0]}<br>recipient=%{customdata[1]}<br>lat=%{lat}<br>lon=%{lon}\", \"lat\": [null, null, 52.47719, 40.71427, 40.71427, 40.71427, 40.71427, 40.71427, 40.71427, 40.71427, 40.71427, 40.71427, 40.71427, 40.71427, 40.71427, 40.71427, 40.71427, 40.71427, 40.71427, 40.71427, 40.71427, 40.71427, 40.71427, 40.71427, 40.71427, 40.71427, 40.71427, 40.71427, 40.71427, 40.71427, 40.71427, 40.71427, 40.71427, 40.71427, 40.71427, 40.71427, 40.71427, 40.71427, 40.71427, 40.71427, 40.71427, 40.71427, 40.71427, 40.71427, 40.71427, 40.71427, 40.71427, 40.71427, 40.71427, 40.71427, 40.71427, 40.71427, 40.71427, 40.71427, 40.71427, 40.71427, 40.71427, 40.71427, 40.71427, 40.71427, 40.71427, 40.71427, 40.71427, 40.71427, 40.71427, 40.71427, 40.71427, 40.71427, 40.71427, 40.71427, 40.71427, 40.71427, 40.71427, 40.71427, 40.71427, 40.71427, 40.71427, 40.71427, 40.71427, 40.71427, 40.71427, 40.71427, 40.71427, 40.71427, 40.71427, 40.71427, 40.71427, 40.71427, 40.71427, 40.71427, 40.71427, 40.71427, 40.71427, 40.71427, 40.71427, 40.71427, 40.71427, 40.71427, 40.71427, 40.71427, 40.71427, 40.71427, 40.71427, 40.71427, 40.71427, 40.71427, 40.71427, 40.71427, 40.71427, 40.71427, 40.71427, 40.71427, 40.71427, 40.71427, 40.71427, 40.71427, 40.71427, 40.71427, 40.71427, 40.71427, 40.71427, 40.71427, 40.71427, 40.71427, 40.71427, 40.71427, 40.71427, 40.71427, 40.71427, 40.71427, 40.71427, 40.71427, 40.71427, 40.71427, 40.71427, 40.71427, 40.71427, 50.08258, 50.08258, 50.08258, 50.08258, 50.08258, 52.41868, 46.636390000000006, 49.40768, 49.40768, 49.40768, 49.40768, 49.40768, 49.40768, 49.40768, 49.40768, 49.40768, 48.13743, 48.13743, 48.13743, 48.13743, 48.13743, 48.13743, 48.13743, 48.13743, 48.13743, 48.13743, 48.13743, 48.13743, 48.13743, 48.13743, 48.13743, 48.13743, 48.13743, 48.13743, 48.13743, 48.13743, 48.13743, 48.13743, 48.13743, 48.13743, 48.13743, 48.13743, 48.13743, 48.13743, 48.13743, 48.13743, 48.13743, 48.13743, 48.13743, 48.13743, 48.13743, 48.13743, 48.13743, 48.13743, 48.13743, 48.13743, 48.13743, 48.13743, 48.13743, 48.13743, 48.13743, 48.13743, 48.13743, 48.13743, 48.13743, 48.13743, 48.13743, 48.13743, 48.13743, 48.13743, 48.13743, 48.13743, 48.13743, 48.13743, 48.13743, 48.13743, 48.13743, 48.13743, 48.13743, 48.13743, 48.13743, 48.13743, 48.13743, 48.13743, 48.13743, 48.13743, 48.13743, 48.13743, 48.13743, 48.13743, 48.13743, 48.13743, 48.13743, 48.13743, 48.13743, 48.13743, 48.13743, 48.13743, 48.13743, 48.7606, 48.7606, null, null, null, null, null, null, null, null, null, null, null, null, 52.52437, 52.52437, 52.52437, 52.52437, 52.52437, 52.52437, 52.52437, 52.52437, 52.52437, 52.52437, 52.52437, 52.52437, 52.52437, 52.52437, 52.52437, 52.52437, 52.52437, 52.52437, 52.52437, 52.52437, 52.52437, 52.52437, 52.52437, 52.52437, 52.52437, 52.52437, 52.52437, 52.52437, 52.52437, 52.52437, 52.52437, 32.207359999999994, 32.207359999999994, 47.05048, null, 53.55073, 53.55073, 53.55073, 53.55073, 53.55073, 53.55073, 53.55073, 53.55073, 53.55073, 53.55073, 53.55073, 53.55073, 53.55073, 53.55073, 53.55073, 53.55073, 53.55073, 53.55073, 53.55073, 53.55073, 53.55073, 53.55073, 53.55073, 53.55073, null, 34.07362, null, null, null, null, 32.80227, 51.88268, 40.562329999999996, 43.70313, null, 32.08088, 32.08088, 32.08088, 48.208490000000005, 48.208490000000005, 48.208490000000005, 48.208490000000005, 48.208490000000005, 48.208490000000005, 48.208490000000005, 48.208490000000005, 48.208490000000005, 48.208490000000005, 48.208490000000005, 40.44062, 50.80904, 48.13743, 52.48333, 52.48333, 52.48333, 40.63205, 52.46666999999999, 52.46666999999999, 52.46666999999999, 52.46666999999999, 52.46666999999999, null, 59.32938000000001, 59.32938000000001, 59.32938000000001, 49.4891, 49.4891, 47.55839, 47.55839, 47.55839, 47.55839, null, 48.06122, 52.4333, 52.4333, 52.53333000000001, 51.22172, 51.22172, 51.48165, 50.31297, 50.87894, 50.87894, 48.78232, 48.78232, 48.78232, 48.78232, 48.78232, 48.78232, 48.78232, 48.78232, 48.78232, 48.78232, 48.78232, 48.78232, 50.115520000000004, 50.115520000000004, 50.115520000000004, 50.115520000000004, 50.115520000000004, 50.115520000000004, 50.115520000000004, 50.115520000000004, 50.115520000000004, 50.115520000000004, 50.115520000000004, 50.115520000000004, 50.115520000000004, 50.115520000000004, 50.115520000000004, 50.115520000000004, 18.54349, 18.54349, 18.54349, 18.54349, 18.54349, 18.54349, 18.54349, 52.483380000000004, 52.483380000000004, 52.483380000000004, 43.29695, 43.29695, 43.29695, 40.71427, 40.71427, 39.79123, 39.79123, 39.79123, 39.79123, 39.79123, 38.71667, 47.36667, 47.36667, 47.36667, 47.36667, 47.36667, 47.36667, 47.36667, 47.36667, 47.36667, 47.36667, 47.36667, 47.36667, 47.36667, 47.36667, 47.36667, 43.60426, 48.85341, 48.85341, 48.85341, 48.85341, 48.85341, 48.85341, 48.85341, 48.85341, 48.85341, 31.781990000000004, 31.781990000000004, 31.781990000000004, null, 47.912890000000004, 41.78291, 52.47133, 47.76977, -23.5475, 40.9126, 41.099779999999996, null, null, 38.895109999999995, 38.895109999999995, 38.895109999999995, 38.895109999999995, 38.895109999999995, 38.895109999999995, 47.799409999999995, 48.522659999999995, 49.87167, 49.87167, 49.87167, 49.87167, 49.87167, 49.87167, 49.89873, 52.51667, 52.51667, 52.51667, 52.51667, 52.51667, 52.51667, 52.51667, 53.07581999999999, 53.07581999999999, 47.9959, 47.9959, 47.9959, 47.9959, 50.871970000000005, 50.31297, 49.443000000000005, 48.89731, 49.454209999999996, 49.454209999999996, 49.454209999999996, 49.01513, 50.04937, 48.88126, 40.62829, 34.05223, 34.05223, 34.05223, 34.05223, 50.93333, 50.93333, 51.55744, 51.55744, null, 49.009370000000004, 49.87007, 49.87007, 50.89772, 52.37403, 52.37403, 52.37403, null, 34.0507, 49.7294, 49.7294, null, 49.590990000000005, 49.590990000000005, 47.408229999999996, 52.46666999999999, 52.46666999999999, 40.6501, 40.6501, 40.6501, 40.6501, 40.6501, 48.11667, -36.84853, null, 47.62323, 40.34872, null, 53.141180000000006, 54.2, 51.50853, 51.50853, 51.50853, 51.50853, 51.50853, 51.50853, 40.85093, 51.27737, 50.32975, null, 32.81841, 32.81841, 40.681490000000004, null, 48.83545, 47.172740000000005, 40.6501, 40.6501, 40.6501, 23.0, null, 41.608979999999995, 48.84598, null, null, 47.489059999999995, 40.91677, 40.76955, -36.84853, 40.73649, null, 49.232620000000004, 50.99556, 41.20843, 41.20843, 52.4333, 52.4333, null, 50.06981, 47.73834, 50.259370000000004, null, 40.656490000000005, 52.35999, 51.35478, 50.9282, 48.37154, null, 47.85637, null, 52.43623, 42.15537, 42.35843, 52.22333, 52.4581, 52.4581, 52.4581, 52.540530000000004, 55.5261, 34.01945, 55.5261, 34.15917, 40.48622, 47.90348, null, null, 44.44171, 52.442780000000006, 50.80904, 52.4297, null, 38.78333, null, 49.82112, null, 51.53443, 51.53443, 51.53443, 40.71621, null, 43.70313, 43.70313, 34.42083, 52.433330000000005, 47.18707, null, null, 54.468540000000004, null, 39.127109999999995, 46.18482, null, 52.5511, 40.71427, 40.71427, 40.90343, 41.0051, null, null, null, 51.51494, 52.5357, 40.91149, null, null, null, null, null, 47.63236, 38.62727, null, 51.906929999999996, 48.39841, 48.39841, 48.39841, null, null, 51.22035, 51.75222, 52.53333000000001, 52.53333000000001, 52.53333000000001, 31.28095, 45.90876, 48.0664, null, 47.13645, null, 50.179429999999996, 50.68457, 50.33739, 48.703540000000004, null, 47.78198, 48.73961, 49.13995, 49.13995, 48.79947, 48.80537, 48.39861, 50.09019, 47.349990000000005, 43.73976, 40.92538, 47.06667, 48.8048, 42.4073, 39.09973, 43.789559999999994, 52.03333, 41.214079999999996, null, 48.09012, 40.76538, 48.15761, null, null, 51.432179999999995, 40.80066, null, 54.15, 54.15, 54.22209, 52.484190000000005, 50.4336, null, 45.98323, 40.862320000000004, null, null, 40.66482], \"legendgroup\": \"\", \"lon\": [null, null, 13.43126, -74.00596999999999, -74.00596999999999, -74.00596999999999, -74.00596999999999, -74.00596999999999, -74.00596999999999, -74.00596999999999, -74.00596999999999, -74.00596999999999, -74.00596999999999, -74.00596999999999, -74.00596999999999, -74.00596999999999, -74.00596999999999, -74.00596999999999, -74.00596999999999, -74.00596999999999, -74.00596999999999, -74.00596999999999, -74.00596999999999, -74.00596999999999, -74.00596999999999, -74.00596999999999, -74.00596999999999, -74.00596999999999, -74.00596999999999, -74.00596999999999, -74.00596999999999, -74.00596999999999, -74.00596999999999, -74.00596999999999, -74.00596999999999, -74.00596999999999, -74.00596999999999, -74.00596999999999, -74.00596999999999, -74.00596999999999, -74.00596999999999, -74.00596999999999, -74.00596999999999, -74.00596999999999, -74.00596999999999, -74.00596999999999, -74.00596999999999, -74.00596999999999, -74.00596999999999, -74.00596999999999, -74.00596999999999, -74.00596999999999, -74.00596999999999, -74.00596999999999, -74.00596999999999, -74.00596999999999, -74.00596999999999, -74.00596999999999, -74.00596999999999, -74.00596999999999, -74.00596999999999, -74.00596999999999, -74.00596999999999, -74.00596999999999, -74.00596999999999, -74.00596999999999, -74.00596999999999, -74.00596999999999, -74.00596999999999, -74.00596999999999, -74.00596999999999, -74.00596999999999, -74.00596999999999, -74.00596999999999, -74.00596999999999, -74.00596999999999, -74.00596999999999, -74.00596999999999, -74.00596999999999, -74.00596999999999, -74.00596999999999, -74.00596999999999, -74.00596999999999, -74.00596999999999, -74.00596999999999, -74.00596999999999, -74.00596999999999, -74.00596999999999, -74.00596999999999, -74.00596999999999, -74.00596999999999, -74.00596999999999, -74.00596999999999, -74.00596999999999, -74.00596999999999, -74.00596999999999, -74.00596999999999, -74.00596999999999, -74.00596999999999, -74.00596999999999, -74.00596999999999, -74.00596999999999, -74.00596999999999, -74.00596999999999, -74.00596999999999, -74.00596999999999, -74.00596999999999, -74.00596999999999, -74.00596999999999, -74.00596999999999, -74.00596999999999, -74.00596999999999, -74.00596999999999, -74.00596999999999, -74.00596999999999, -74.00596999999999, -74.00596999999999, -74.00596999999999, -74.00596999999999, -74.00596999999999, -74.00596999999999, -74.00596999999999, -74.00596999999999, -74.00596999999999, -74.00596999999999, -74.00596999999999, -74.00596999999999, -74.00596999999999, -74.00596999999999, -74.00596999999999, -74.00596999999999, -74.00596999999999, -74.00596999999999, -74.00596999999999, -74.00596999999999, -74.00596999999999, -74.00596999999999, 8.249319999999999, 8.249319999999999, 8.249319999999999, 8.249319999999999, 8.249319999999999, 13.36723, 14.14639, 8.69079, 8.69079, 8.69079, 8.69079, 8.69079, 8.69079, 8.69079, 8.69079, 8.69079, 11.57549, 11.57549, 11.57549, 11.57549, 11.57549, 11.57549, 11.57549, 11.57549, 11.57549, 11.57549, 11.57549, 11.57549, 11.57549, 11.57549, 11.57549, 11.57549, 11.57549, 11.57549, 11.57549, 11.57549, 11.57549, 11.57549, 11.57549, 11.57549, 11.57549, 11.57549, 11.57549, 11.57549, 11.57549, 11.57549, 11.57549, 11.57549, 11.57549, 11.57549, 11.57549, 11.57549, 11.57549, 11.57549, 11.57549, 11.57549, 11.57549, 11.57549, 11.57549, 11.57549, 11.57549, 11.57549, 11.57549, 11.57549, 11.57549, 11.57549, 11.57549, 11.57549, 11.57549, 11.57549, 11.57549, 11.57549, 11.57549, 11.57549, 11.57549, 11.57549, 11.57549, 11.57549, 11.57549, 11.57549, 11.57549, 11.57549, 11.57549, 11.57549, 11.57549, 11.57549, 11.57549, 11.57549, 11.57549, 11.57549, 11.57549, 11.57549, 11.57549, 11.57549, 11.57549, 11.57549, 11.57549, 11.57549, 11.57549, 8.23975, 8.23975, null, null, null, null, null, null, null, null, null, null, null, null, 13.41053, 13.41053, 13.41053, 13.41053, 13.41053, 13.41053, 13.41053, 13.41053, 13.41053, 13.41053, 13.41053, 13.41053, 13.41053, 13.41053, 13.41053, 13.41053, 13.41053, 13.41053, 13.41053, 13.41053, 13.41053, 13.41053, 13.41053, 13.41053, 13.41053, 13.41053, 13.41053, 13.41053, 13.41053, 13.41053, 13.41053, -87.4375, -87.4375, 8.30635, null, 9.99302, 9.99302, 9.99302, 9.99302, 9.99302, 9.99302, 9.99302, 9.99302, 9.99302, 9.99302, 9.99302, 9.99302, 9.99302, 9.99302, 9.99302, 9.99302, 9.99302, 9.99302, 9.99302, 9.99302, 9.99302, 9.99302, 9.99302, 9.99302, null, -118.40036, null, null, null, null, -117.25948000000001, 10.56157, -74.13986, 7.2660800000000005, null, 34.780570000000004, 34.780570000000004, 34.780570000000004, 16.37208, 16.37208, 16.37208, 16.37208, 16.37208, 16.37208, 16.37208, 16.37208, 16.37208, 16.37208, 16.37208, -79.99589, 8.77069, 11.57549, 13.316670000000002, 13.316670000000002, 13.316670000000002, -73.71263, 13.35, 13.35, 13.35, 13.35, 13.35, null, 18.06871, 18.06871, 18.06871, 8.46694, 8.46694, 7.57327, 7.57327, 7.57327, 7.57327, null, 11.545, 13.307620000000002, 13.307620000000002, 13.166670000000002, 6.776160000000001, 6.776160000000001, 7.216480000000001, 11.91261, 7.12292, 7.12292, 9.177019999999999, 9.177019999999999, 9.177019999999999, 9.177019999999999, 9.177019999999999, 9.177019999999999, 9.177019999999999, 9.177019999999999, 9.177019999999999, 9.177019999999999, 9.177019999999999, 9.177019999999999, 8.68417, 8.68417, 8.68417, 8.68417, 8.68417, 8.68417, 8.68417, 8.68417, 8.68417, 8.68417, 8.68417, 8.68417, 8.68417, 8.68417, 8.68417, 8.68417, -72.33881, -72.33881, -72.33881, -72.33881, -72.33881, -72.33881, -72.33881, 13.26586, 13.26586, 13.26586, 5.381069999999999, 5.381069999999999, 5.381069999999999, -74.00596999999999, -74.00596999999999, -74.92905, -74.92905, -74.92905, -74.92905, -74.92905, -9.13333, 8.55, 8.55, 8.55, 8.55, 8.55, 8.55, 8.55, 8.55, 8.55, 8.55, 8.55, 8.55, 8.55, 8.55, 8.55, 1.44367, 2.3488, 2.3488, 2.3488, 2.3488, 2.3488, 2.3488, 2.3488, 2.3488, 2.3488, 35.219609999999996, 35.219609999999996, 35.219609999999996, null, 11.421660000000001, -123.06031999999999, 13.328129999999998, 9.17136, -46.636109999999995, -73.83708, -80.64952, null, null, -77.03636999999999, -77.03636999999999, -77.03636999999999, -77.03636999999999, -77.03636999999999, -77.03636999999999, 13.043989999999999, 9.05222, 8.650269999999999, 8.650269999999999, 8.650269999999999, 8.650269999999999, 8.650269999999999, 8.650269999999999, 10.90067, 13.28333, 13.28333, 13.28333, 13.28333, 13.28333, 13.28333, 13.28333, 8.80717, 8.80717, 7.85222, 7.85222, 7.85222, 7.85222, 9.708910000000001, 11.91261, 7.771610000000001, 9.19161, 11.07752, 11.07752, 11.07752, 12.10161, 10.22175, 12.57385, 14.48427, -118.24368, -118.24368, -118.24368, -118.24368, 6.95, 6.95, -0.18213, -0.18213, null, 8.40444, 11.89077, 11.89077, 14.80764, 4.88969, 4.88969, 4.88969, null, -118.25399999999999, 8.43056, 8.43056, null, 11.00783, 11.00783, 8.542580000000001, 13.4, 13.4, -73.94958000000001, -73.94958000000001, -73.94958000000001, -73.94958000000001, -73.94958000000001, 11.68333, 174.76349, null, 8.21717, -74.65905, null, 8.21467, 9.75, -0.12574000000000002, -0.12574000000000002, -0.12574000000000002, -0.12574000000000002, -0.12574000000000002, -0.12574000000000002, -73.97014, 7.19802, 11.12058, null, 34.9885, 34.9885, -73.83652, null, 2.2412799999999997, 13.09871, -73.94958000000001, -73.94958000000001, -73.94958000000001, -102.0, null, -73.6818, 2.20289, null, null, 12.061739999999999, -74.17181, -74.02042, 174.76349, -73.87791, null, 7.0098199999999995, 9.72838, -73.89125, -73.89125, 13.307620000000002, 13.307620000000002, null, 9.00553, 8.8964, 10.96384, null, -73.6093, 4.8853599999999995, 11.989230000000001, 6.928260000000001, 10.89851, null, 12.12247, null, 13.3459, -74.53238, -71.05977, 5.1763900000000005, 13.287020000000002, 13.287020000000002, 13.287020000000002, 13.262939999999999, 8.35802, -118.49118999999999, 8.35802, -118.50119, -74.45182, 11.311869999999999, null, null, -73.67458, 13.21667, 8.77069, 9.50838, null, 15.21667, null, 8.64527, null, 9.93228, 9.93228, 9.93228, -73.85014, null, 7.2660800000000005, 7.2660800000000005, -119.69819, 13.25, 8.74724, null, null, 9.838239999999999, null, -84.51439, 8.73224, null, 13.19921, -74.00596999999999, -74.00596999999999, -73.96458, -73.78458, null, null, null, 7.466, 13.27297, -73.78235, null, null, null, null, null, 13.00187, -90.19789, null, 8.37853, 9.99155, 9.99155, 9.99155, null, null, 6.69753, -1.25596, 13.166670000000002, 13.166670000000002, 13.166670000000002, -9.474680000000001, 10.84188, 11.3834, null, 8.5853, null, 8.47132, 7.15393, 8.75591, 9.65209, null, 9.610619999999999, 9.304730000000001, 9.22054, 9.22054, 9.79809, 9.52721, 9.99249, 8.4493, 7.903289999999999, 7.42732, -73.96292, 15.45, 9.2145, -74.61431999999999, -94.57857, 7.60872, 8.53333, 13.570820000000001, null, 11.52758, -73.81736, 11.648430000000001, null, null, 6.87967, -73.72846, null, -4.4833300000000005, -4.4833300000000005, -4.69099, 13.53185, 7.4705699999999995, null, 8.917860000000001, -73.63374, null, null, -74.57738], \"marker\": {\"color\": \"#636efa\"}, \"name\": \"\", \"showlegend\": false, \"type\": \"scattergeo\"}],\n",
       "                        {\"geo\": {\"center\": {}, \"domain\": {\"x\": [0.0, 1.0], \"y\": [0.0, 1.0]}, \"scope\": \"world\"}, \"height\": 600, \"legend\": {\"tracegroupgap\": 0}, \"margin\": {\"t\": 60}, \"template\": {\"data\": {\"bar\": [{\"error_x\": {\"color\": \"#2a3f5f\"}, \"error_y\": {\"color\": \"#2a3f5f\"}, \"marker\": {\"line\": {\"color\": \"#E5ECF6\", \"width\": 0.5}}, \"type\": \"bar\"}], \"barpolar\": [{\"marker\": {\"line\": {\"color\": \"#E5ECF6\", \"width\": 0.5}}, \"type\": \"barpolar\"}], \"carpet\": [{\"aaxis\": {\"endlinecolor\": \"#2a3f5f\", \"gridcolor\": \"white\", \"linecolor\": \"white\", \"minorgridcolor\": \"white\", \"startlinecolor\": \"#2a3f5f\"}, \"baxis\": {\"endlinecolor\": \"#2a3f5f\", \"gridcolor\": \"white\", \"linecolor\": \"white\", \"minorgridcolor\": \"white\", \"startlinecolor\": \"#2a3f5f\"}, \"type\": \"carpet\"}], \"choropleth\": [{\"colorbar\": {\"outlinewidth\": 0, \"ticks\": \"\"}, \"type\": \"choropleth\"}], \"contour\": [{\"colorbar\": {\"outlinewidth\": 0, \"ticks\": \"\"}, \"colorscale\": [[0.0, \"#0d0887\"], [0.1111111111111111, \"#46039f\"], [0.2222222222222222, \"#7201a8\"], [0.3333333333333333, \"#9c179e\"], [0.4444444444444444, \"#bd3786\"], [0.5555555555555556, \"#d8576b\"], [0.6666666666666666, \"#ed7953\"], [0.7777777777777778, \"#fb9f3a\"], [0.8888888888888888, \"#fdca26\"], [1.0, \"#f0f921\"]], \"type\": \"contour\"}], \"contourcarpet\": [{\"colorbar\": {\"outlinewidth\": 0, \"ticks\": \"\"}, \"type\": \"contourcarpet\"}], \"heatmap\": [{\"colorbar\": {\"outlinewidth\": 0, \"ticks\": \"\"}, \"colorscale\": [[0.0, \"#0d0887\"], [0.1111111111111111, \"#46039f\"], [0.2222222222222222, \"#7201a8\"], [0.3333333333333333, \"#9c179e\"], [0.4444444444444444, \"#bd3786\"], [0.5555555555555556, \"#d8576b\"], [0.6666666666666666, \"#ed7953\"], [0.7777777777777778, \"#fb9f3a\"], [0.8888888888888888, \"#fdca26\"], [1.0, \"#f0f921\"]], \"type\": \"heatmap\"}], \"heatmapgl\": [{\"colorbar\": {\"outlinewidth\": 0, \"ticks\": \"\"}, \"colorscale\": [[0.0, \"#0d0887\"], [0.1111111111111111, \"#46039f\"], [0.2222222222222222, \"#7201a8\"], [0.3333333333333333, \"#9c179e\"], [0.4444444444444444, \"#bd3786\"], [0.5555555555555556, \"#d8576b\"], [0.6666666666666666, \"#ed7953\"], [0.7777777777777778, \"#fb9f3a\"], [0.8888888888888888, \"#fdca26\"], [1.0, \"#f0f921\"]], \"type\": \"heatmapgl\"}], \"histogram\": [{\"marker\": {\"colorbar\": {\"outlinewidth\": 0, \"ticks\": \"\"}}, \"type\": \"histogram\"}], \"histogram2d\": [{\"colorbar\": {\"outlinewidth\": 0, \"ticks\": \"\"}, \"colorscale\": [[0.0, \"#0d0887\"], [0.1111111111111111, \"#46039f\"], [0.2222222222222222, \"#7201a8\"], [0.3333333333333333, \"#9c179e\"], [0.4444444444444444, \"#bd3786\"], [0.5555555555555556, \"#d8576b\"], [0.6666666666666666, \"#ed7953\"], [0.7777777777777778, \"#fb9f3a\"], [0.8888888888888888, \"#fdca26\"], [1.0, \"#f0f921\"]], \"type\": \"histogram2d\"}], \"histogram2dcontour\": [{\"colorbar\": {\"outlinewidth\": 0, \"ticks\": \"\"}, \"colorscale\": [[0.0, \"#0d0887\"], [0.1111111111111111, \"#46039f\"], [0.2222222222222222, \"#7201a8\"], [0.3333333333333333, \"#9c179e\"], [0.4444444444444444, \"#bd3786\"], [0.5555555555555556, \"#d8576b\"], [0.6666666666666666, \"#ed7953\"], [0.7777777777777778, \"#fb9f3a\"], [0.8888888888888888, \"#fdca26\"], [1.0, \"#f0f921\"]], \"type\": \"histogram2dcontour\"}], \"mesh3d\": [{\"colorbar\": {\"outlinewidth\": 0, \"ticks\": \"\"}, \"type\": \"mesh3d\"}], \"parcoords\": [{\"line\": {\"colorbar\": {\"outlinewidth\": 0, \"ticks\": \"\"}}, \"type\": \"parcoords\"}], \"pie\": [{\"automargin\": true, \"type\": \"pie\"}], \"scatter\": [{\"marker\": {\"colorbar\": {\"outlinewidth\": 0, \"ticks\": \"\"}}, \"type\": \"scatter\"}], \"scatter3d\": [{\"line\": {\"colorbar\": {\"outlinewidth\": 0, \"ticks\": \"\"}}, \"marker\": {\"colorbar\": {\"outlinewidth\": 0, \"ticks\": \"\"}}, \"type\": \"scatter3d\"}], \"scattercarpet\": [{\"marker\": {\"colorbar\": {\"outlinewidth\": 0, \"ticks\": \"\"}}, \"type\": \"scattercarpet\"}], \"scattergeo\": [{\"marker\": {\"colorbar\": {\"outlinewidth\": 0, \"ticks\": \"\"}}, \"type\": \"scattergeo\"}], \"scattergl\": [{\"marker\": {\"colorbar\": {\"outlinewidth\": 0, \"ticks\": \"\"}}, \"type\": \"scattergl\"}], \"scattermapbox\": [{\"marker\": {\"colorbar\": {\"outlinewidth\": 0, \"ticks\": \"\"}}, \"type\": \"scattermapbox\"}], \"scatterpolar\": [{\"marker\": {\"colorbar\": {\"outlinewidth\": 0, \"ticks\": \"\"}}, \"type\": \"scatterpolar\"}], \"scatterpolargl\": [{\"marker\": {\"colorbar\": {\"outlinewidth\": 0, \"ticks\": \"\"}}, \"type\": \"scatterpolargl\"}], \"scatterternary\": [{\"marker\": {\"colorbar\": {\"outlinewidth\": 0, \"ticks\": \"\"}}, \"type\": \"scatterternary\"}], \"surface\": [{\"colorbar\": {\"outlinewidth\": 0, \"ticks\": \"\"}, \"colorscale\": [[0.0, \"#0d0887\"], [0.1111111111111111, \"#46039f\"], [0.2222222222222222, \"#7201a8\"], [0.3333333333333333, \"#9c179e\"], [0.4444444444444444, \"#bd3786\"], [0.5555555555555556, \"#d8576b\"], [0.6666666666666666, \"#ed7953\"], [0.7777777777777778, \"#fb9f3a\"], [0.8888888888888888, \"#fdca26\"], [1.0, \"#f0f921\"]], \"type\": \"surface\"}], \"table\": [{\"cells\": {\"fill\": {\"color\": \"#EBF0F8\"}, \"line\": {\"color\": \"white\"}}, \"header\": {\"fill\": {\"color\": \"#C8D4E3\"}, \"line\": {\"color\": \"white\"}}, \"type\": \"table\"}]}, \"layout\": {\"annotationdefaults\": {\"arrowcolor\": \"#2a3f5f\", \"arrowhead\": 0, \"arrowwidth\": 1}, \"coloraxis\": {\"colorbar\": {\"outlinewidth\": 0, \"ticks\": \"\"}}, \"colorscale\": {\"diverging\": [[0, \"#8e0152\"], [0.1, \"#c51b7d\"], [0.2, \"#de77ae\"], [0.3, \"#f1b6da\"], [0.4, \"#fde0ef\"], [0.5, \"#f7f7f7\"], [0.6, \"#e6f5d0\"], [0.7, \"#b8e186\"], [0.8, \"#7fbc41\"], [0.9, \"#4d9221\"], [1, \"#276419\"]], \"sequential\": [[0.0, \"#0d0887\"], [0.1111111111111111, \"#46039f\"], [0.2222222222222222, \"#7201a8\"], [0.3333333333333333, \"#9c179e\"], [0.4444444444444444, \"#bd3786\"], [0.5555555555555556, \"#d8576b\"], [0.6666666666666666, \"#ed7953\"], [0.7777777777777778, \"#fb9f3a\"], [0.8888888888888888, \"#fdca26\"], [1.0, \"#f0f921\"]], \"sequentialminus\": [[0.0, \"#0d0887\"], [0.1111111111111111, \"#46039f\"], [0.2222222222222222, \"#7201a8\"], [0.3333333333333333, \"#9c179e\"], [0.4444444444444444, \"#bd3786\"], [0.5555555555555556, \"#d8576b\"], [0.6666666666666666, \"#ed7953\"], [0.7777777777777778, \"#fb9f3a\"], [0.8888888888888888, \"#fdca26\"], [1.0, \"#f0f921\"]]}, \"colorway\": [\"#636efa\", \"#EF553B\", \"#00cc96\", \"#ab63fa\", \"#FFA15A\", \"#19d3f3\", \"#FF6692\", \"#B6E880\", \"#FF97FF\", \"#FECB52\"], \"font\": {\"color\": \"#2a3f5f\"}, \"geo\": {\"bgcolor\": \"white\", \"lakecolor\": \"white\", \"landcolor\": \"#E5ECF6\", \"showlakes\": true, \"showland\": true, \"subunitcolor\": \"white\"}, \"hoverlabel\": {\"align\": \"left\"}, \"hovermode\": \"closest\", \"mapbox\": {\"style\": \"light\"}, \"paper_bgcolor\": \"white\", \"plot_bgcolor\": \"#E5ECF6\", \"polar\": {\"angularaxis\": {\"gridcolor\": \"white\", \"linecolor\": \"white\", \"ticks\": \"\"}, \"bgcolor\": \"#E5ECF6\", \"radialaxis\": {\"gridcolor\": \"white\", \"linecolor\": \"white\", \"ticks\": \"\"}}, \"scene\": {\"xaxis\": {\"backgroundcolor\": \"#E5ECF6\", \"gridcolor\": \"white\", \"gridwidth\": 2, \"linecolor\": \"white\", \"showbackground\": true, \"ticks\": \"\", \"zerolinecolor\": \"white\"}, \"yaxis\": {\"backgroundcolor\": \"#E5ECF6\", \"gridcolor\": \"white\", \"gridwidth\": 2, \"linecolor\": \"white\", \"showbackground\": true, \"ticks\": \"\", \"zerolinecolor\": \"white\"}, \"zaxis\": {\"backgroundcolor\": \"#E5ECF6\", \"gridcolor\": \"white\", \"gridwidth\": 2, \"linecolor\": \"white\", \"showbackground\": true, \"ticks\": \"\", \"zerolinecolor\": \"white\"}}, \"shapedefaults\": {\"line\": {\"color\": \"#2a3f5f\"}}, \"ternary\": {\"aaxis\": {\"gridcolor\": \"white\", \"linecolor\": \"white\", \"ticks\": \"\"}, \"baxis\": {\"gridcolor\": \"white\", \"linecolor\": \"white\", \"ticks\": \"\"}, \"bgcolor\": \"#E5ECF6\", \"caxis\": {\"gridcolor\": \"white\", \"linecolor\": \"white\", \"ticks\": \"\"}}, \"title\": {\"x\": 0.05}, \"xaxis\": {\"automargin\": true, \"gridcolor\": \"white\", \"linecolor\": \"white\", \"ticks\": \"\", \"title\": {\"standoff\": 15}, \"zerolinecolor\": \"white\", \"zerolinewidth\": 2}, \"yaxis\": {\"automargin\": true, \"gridcolor\": \"white\", \"linecolor\": \"white\", \"ticks\": \"\", \"title\": {\"standoff\": 15}, \"zerolinecolor\": \"white\", \"zerolinewidth\": 2}}}},\n",
       "                        {\"responsive\": true}\n",
       "                    ).then(function(){\n",
       "                            \n",
       "var gd = document.getElementById('50b48f64-4caa-4b30-b6a5-ba50eb60f42f');\n",
       "var x = new MutationObserver(function (mutations, observer) {{\n",
       "        var display = window.getComputedStyle(gd).display;\n",
       "        if (!display || display === 'none') {{\n",
       "            console.log([gd, 'removed!']);\n",
       "            Plotly.purge(gd);\n",
       "            observer.disconnect();\n",
       "        }}\n",
       "}});\n",
       "\n",
       "// Listen for the removal of the full notebook cells\n",
       "var notebookContainer = gd.closest('#notebook-container');\n",
       "if (notebookContainer) {{\n",
       "    x.observe(notebookContainer, {childList: true});\n",
       "}}\n",
       "\n",
       "// Listen for the clearing of the current output cell\n",
       "var outputEl = gd.closest('.output');\n",
       "if (outputEl) {{\n",
       "    x.observe(outputEl, {childList: true});\n",
       "}}\n",
       "\n",
       "                        })\n",
       "                };\n",
       "                });\n",
       "            </script>\n",
       "        </div>"
      ]
     },
     "metadata": {},
     "output_type": "display_data"
    }
   ],
   "source": [
    "fig.show()"
   ]
  },
  {
   "cell_type": "code",
   "execution_count": null,
   "metadata": {},
   "outputs": [],
   "source": []
  }
 ],
 "metadata": {
  "kernelspec": {
   "display_name": "Python 3",
   "language": "python",
   "name": "python3"
  },
  "language_info": {
   "codemirror_mode": {
    "name": "ipython",
    "version": 3
   },
   "file_extension": ".py",
   "mimetype": "text/x-python",
   "name": "python",
   "nbconvert_exporter": "python",
   "pygments_lexer": "ipython3",
   "version": "3.7.4"
  }
 },
 "nbformat": 4,
 "nbformat_minor": 4
}
