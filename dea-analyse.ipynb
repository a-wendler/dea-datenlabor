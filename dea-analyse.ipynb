{
 "cells": [
  {
   "cell_type": "code",
   "execution_count": 1,
   "metadata": {},
   "outputs": [],
   "source": [
    "import pandas as pd\n",
    "from glob import glob\n",
    "#from bs4 import BeautifulSoup as soup\n",
    "import plotly.express as px\n",
    "from pymarc import parse_xml_to_array\n",
    "#import re\n",
    "import geopy.geocoders as geo\n",
    "\n",
    "from geopy.extra.rate_limiter import RateLimiter\n",
    "from tqdm import tqdm"
   ]
  },
  {
   "cell_type": "code",
   "execution_count": 2,
   "metadata": {},
   "outputs": [],
   "source": [
    "path = './data/*.xml'\n",
    "files = glob(path)\n",
    "collection = pd.DataFrame()"
   ]
  },
  {
   "cell_type": "code",
   "execution_count": 3,
   "metadata": {},
   "outputs": [],
   "source": [
    "def make_collection(records):\n",
    "    for record in records:\n",
    "        global collection\n",
    "        #idn\n",
    "        if record['016']:\n",
    "            idn = record['016']['a']\n",
    "        \n",
    "        #author\n",
    "        if record['100']:\n",
    "            if record['100']['4'] == 'aut':\n",
    "                author = record['100']['a']\n",
    "            else:\n",
    "                author = None\n",
    "        \n",
    "        #recipient\n",
    "        if record['700']:\n",
    "            if record['700']['4'] == 'rcp':\n",
    "                recipient = record['700']['a']\n",
    "            else:\n",
    "                recipient = None\n",
    "                \n",
    "        #year    \n",
    "        if record['264']:\n",
    "            if record['264']['c']:\n",
    "                year = record['264']['c'].strip()\n",
    "            else:\n",
    "                year = None\n",
    "        else:\n",
    "            year = None\n",
    "\n",
    "        #place\n",
    "        if record['264']:\n",
    "            if record['264']['a']:\n",
    "                place = record['264']['a'].strip()\n",
    "            elif record['264']['b']:\n",
    "                place = record['264']['b'].strip()\n",
    "            else:\n",
    "                place = None\n",
    "        else:\n",
    "            place = None\n",
    "        #title\n",
    "        title = record.title().strip()\n",
    "\n",
    "        entry = {'idn': idn, 'author': author, 'recipient': recipient, 'year': year, 'title': title, 'place': place}\n",
    "        collection = collection.append(entry, ignore_index=True)"
   ]
  },
  {
   "cell_type": "code",
   "execution_count": 4,
   "metadata": {},
   "outputs": [
    {
     "name": "stderr",
     "output_type": "stream",
     "text": [
      "100%|██████████| 15/15 [00:04<00:00,  3.22it/s]\n"
     ]
    },
    {
     "data": {
      "text/html": [
       "<div>\n",
       "<style scoped>\n",
       "    .dataframe tbody tr th:only-of-type {\n",
       "        vertical-align: middle;\n",
       "    }\n",
       "\n",
       "    .dataframe tbody tr th {\n",
       "        vertical-align: top;\n",
       "    }\n",
       "\n",
       "    .dataframe thead th {\n",
       "        text-align: right;\n",
       "    }\n",
       "</style>\n",
       "<table border=\"1\" class=\"dataframe\">\n",
       "  <thead>\n",
       "    <tr style=\"text-align: right;\">\n",
       "      <th></th>\n",
       "      <th>author</th>\n",
       "      <th>idn</th>\n",
       "      <th>place</th>\n",
       "      <th>recipient</th>\n",
       "      <th>title</th>\n",
       "      <th>year</th>\n",
       "    </tr>\n",
       "  </thead>\n",
       "  <tbody>\n",
       "    <tr>\n",
       "      <td>0</td>\n",
       "      <td>Lewisohn, Ludwig</td>\n",
       "      <td>99681471X</td>\n",
       "      <td>Tucson, Ariz.</td>\n",
       "      <td>Heilbut, Iwan</td>\n",
       "      <td>Korrespondenz</td>\n",
       "      <td>1943-1943</td>\n",
       "    </tr>\n",
       "    <tr>\n",
       "      <td>1</td>\n",
       "      <td>Liedke, Herbert R.</td>\n",
       "      <td>996815287</td>\n",
       "      <td>West Englewood, NJ u.a.</td>\n",
       "      <td>Heilbut, Iwan</td>\n",
       "      <td>Korrespondenz</td>\n",
       "      <td>1948-1950</td>\n",
       "    </tr>\n",
       "    <tr>\n",
       "      <td>2</td>\n",
       "      <td>Lienek, Heinz</td>\n",
       "      <td>996816038</td>\n",
       "      <td>Berlin-Neukölln</td>\n",
       "      <td>Heilbut, Iwan</td>\n",
       "      <td>Korrespondenz</td>\n",
       "      <td>1948-1969</td>\n",
       "    </tr>\n",
       "    <tr>\n",
       "      <td>3</td>\n",
       "      <td>Rosin, Katherine</td>\n",
       "      <td>996816887</td>\n",
       "      <td>New York, NY</td>\n",
       "      <td>Heilbut, Iwan</td>\n",
       "      <td>Korrespondenz</td>\n",
       "      <td>1944-1944</td>\n",
       "    </tr>\n",
       "    <tr>\n",
       "      <td>4</td>\n",
       "      <td>Schlüter, Marguerite Valerie</td>\n",
       "      <td>996817344</td>\n",
       "      <td>Wiesbaden</td>\n",
       "      <td>Heilbut, Iwan</td>\n",
       "      <td>Korrespondenz</td>\n",
       "      <td>1970-1970</td>\n",
       "    </tr>\n",
       "    <tr>\n",
       "      <td>...</td>\n",
       "      <td>...</td>\n",
       "      <td>...</td>\n",
       "      <td>...</td>\n",
       "      <td>...</td>\n",
       "      <td>...</td>\n",
       "      <td>...</td>\n",
       "    </tr>\n",
       "    <tr>\n",
       "      <td>1396</td>\n",
       "      <td>Hester, Lilian</td>\n",
       "      <td>996253602</td>\n",
       "      <td>Glen Cove, NY</td>\n",
       "      <td>Heilbut, Iwan</td>\n",
       "      <td>Korrespondenz</td>\n",
       "      <td>1942-1942</td>\n",
       "    </tr>\n",
       "    <tr>\n",
       "      <td>1397</td>\n",
       "      <td>Heynicke, Kurt</td>\n",
       "      <td>99625806X</td>\n",
       "      <td>Merzhausen über Freiburg im Breisgau</td>\n",
       "      <td>Heilbut, Iwan</td>\n",
       "      <td>Korrespondenz</td>\n",
       "      <td>1948-1953</td>\n",
       "    </tr>\n",
       "    <tr>\n",
       "      <td>1398</td>\n",
       "      <td>Hiltbrunner, Hermann</td>\n",
       "      <td>996261338</td>\n",
       "      <td>Uerikon am Zürichsee</td>\n",
       "      <td>Heilbut, Iwan</td>\n",
       "      <td>Korrespondenz</td>\n",
       "      <td>1948-1948</td>\n",
       "    </tr>\n",
       "    <tr>\n",
       "      <td>1399</td>\n",
       "      <td>Hinzelmann, Elsa Margot</td>\n",
       "      <td>99626244X</td>\n",
       "      <td>Zürich</td>\n",
       "      <td>Heilbut, Iwan</td>\n",
       "      <td>Korrespondenz</td>\n",
       "      <td>1941-1941</td>\n",
       "    </tr>\n",
       "    <tr>\n",
       "      <td>1400</td>\n",
       "      <td>Hirsch, Karl Jakob</td>\n",
       "      <td>996262733</td>\n",
       "      <td>Liberty Corner, NJ</td>\n",
       "      <td>Heilbut, Iwan</td>\n",
       "      <td>Korrespondenz</td>\n",
       "      <td>1948-1948</td>\n",
       "    </tr>\n",
       "  </tbody>\n",
       "</table>\n",
       "<p>1401 rows × 6 columns</p>\n",
       "</div>"
      ],
      "text/plain": [
       "                             author        idn  \\\n",
       "0                  Lewisohn, Ludwig  99681471X   \n",
       "1                Liedke, Herbert R.  996815287   \n",
       "2                     Lienek, Heinz  996816038   \n",
       "3                  Rosin, Katherine  996816887   \n",
       "4     Schlüter, Marguerite Valerie  996817344   \n",
       "...                             ...        ...   \n",
       "1396                 Hester, Lilian  996253602   \n",
       "1397                 Heynicke, Kurt  99625806X   \n",
       "1398           Hiltbrunner, Hermann  996261338   \n",
       "1399        Hinzelmann, Elsa Margot  99626244X   \n",
       "1400             Hirsch, Karl Jakob  996262733   \n",
       "\n",
       "                                      place      recipient          title  \\\n",
       "0                             Tucson, Ariz.  Heilbut, Iwan  Korrespondenz   \n",
       "1                   West Englewood, NJ u.a.  Heilbut, Iwan  Korrespondenz   \n",
       "2                          Berlin-Neukölln  Heilbut, Iwan  Korrespondenz   \n",
       "3                              New York, NY  Heilbut, Iwan  Korrespondenz   \n",
       "4                                 Wiesbaden  Heilbut, Iwan  Korrespondenz   \n",
       "...                                     ...            ...            ...   \n",
       "1396                          Glen Cove, NY  Heilbut, Iwan  Korrespondenz   \n",
       "1397  Merzhausen über Freiburg im Breisgau  Heilbut, Iwan  Korrespondenz   \n",
       "1398                  Uerikon am Zürichsee  Heilbut, Iwan  Korrespondenz   \n",
       "1399                                Zürich  Heilbut, Iwan  Korrespondenz   \n",
       "1400                     Liberty Corner, NJ  Heilbut, Iwan  Korrespondenz   \n",
       "\n",
       "           year  \n",
       "0     1943-1943  \n",
       "1     1948-1950  \n",
       "2     1948-1969  \n",
       "3     1944-1944  \n",
       "4     1970-1970  \n",
       "...         ...  \n",
       "1396  1942-1942  \n",
       "1397  1948-1953  \n",
       "1398  1948-1948  \n",
       "1399  1941-1941  \n",
       "1400  1948-1948  \n",
       "\n",
       "[1401 rows x 6 columns]"
      ]
     },
     "execution_count": 4,
     "metadata": {},
     "output_type": "execute_result"
    }
   ],
   "source": [
    "for file in tqdm(files):\n",
    "    records = parse_xml_to_array(file)\n",
    "    make_collection(records)\n",
    "collection"
   ]
  },
  {
   "cell_type": "code",
   "execution_count": 7,
   "metadata": {},
   "outputs": [],
   "source": [
    "geolocator = geo.Nominatim(user_agent='dea-places')\n",
    "geo.options.default_timeout = 10\n",
    "geocode = RateLimiter(geolocator.geocode, min_delay_seconds=1)"
   ]
  },
  {
   "cell_type": "code",
   "execution_count": 8,
   "metadata": {
    "collapsed": true,
    "jupyter": {
     "outputs_hidden": true
    }
   },
   "outputs": [
    {
     "name": "stderr",
     "output_type": "stream",
     "text": [
      "\n",
      "  0%|          | 0/294 [00:00<?, ?it/s]\u001b[A\n",
      "  1%|          | 2/294 [00:00<01:41,  2.88it/s]\u001b[A\n",
      "  1%|          | 3/294 [00:02<03:17,  1.47it/s]\u001b[A\n",
      "  1%|▏         | 4/294 [00:03<04:36,  1.05it/s]\u001b[A\n",
      "  2%|▏         | 5/294 [00:05<05:28,  1.14s/it]\u001b[A\n",
      "  2%|▏         | 6/294 [00:06<05:27,  1.14s/it]\u001b[A\n",
      "  2%|▏         | 7/294 [00:07<05:27,  1.14s/it]\u001b[A\n",
      "  3%|▎         | 8/294 [00:08<05:28,  1.15s/it]\u001b[A\n",
      "  3%|▎         | 9/294 [00:09<05:26,  1.15s/it]\u001b[A\n",
      "  3%|▎         | 10/294 [00:11<05:24,  1.14s/it]\u001b[A\n",
      "  4%|▎         | 11/294 [00:12<05:22,  1.14s/it]\u001b[A\n",
      "  4%|▍         | 12/294 [00:13<05:21,  1.14s/it]\u001b[A\n",
      "  4%|▍         | 13/294 [00:14<05:20,  1.14s/it]\u001b[A\n",
      "  5%|▍         | 14/294 [00:15<05:19,  1.14s/it]\u001b[A\n",
      "  5%|▌         | 15/294 [00:16<05:17,  1.14s/it]\u001b[A\n",
      "  5%|▌         | 16/294 [00:17<05:27,  1.18s/it]\u001b[A\n",
      "  6%|▌         | 17/294 [00:19<05:26,  1.18s/it]\u001b[A\n",
      "  6%|▌         | 18/294 [00:20<05:28,  1.19s/it]\u001b[A\n",
      "  6%|▋         | 19/294 [00:21<05:23,  1.17s/it]\u001b[A\n",
      "  7%|▋         | 20/294 [00:22<05:18,  1.16s/it]\u001b[A\n",
      "  7%|▋         | 21/294 [00:23<05:15,  1.16s/it]\u001b[A\n",
      "  7%|▋         | 22/294 [00:24<05:14,  1.16s/it]\u001b[A\n",
      "  8%|▊         | 23/294 [00:26<05:14,  1.16s/it]\u001b[A\n",
      "  8%|▊         | 24/294 [00:27<05:13,  1.16s/it]\u001b[A\n",
      "  9%|▊         | 25/294 [00:28<05:11,  1.16s/it]\u001b[A\n",
      "  9%|▉         | 26/294 [00:29<05:08,  1.15s/it]\u001b[A\n",
      "  9%|▉         | 27/294 [00:30<05:04,  1.14s/it]\u001b[A\n",
      " 10%|▉         | 28/294 [00:31<05:01,  1.13s/it]\u001b[A\n",
      " 10%|▉         | 29/294 [00:32<05:04,  1.15s/it]\u001b[A\n",
      " 10%|█         | 30/294 [00:34<05:21,  1.22s/it]\u001b[A\n",
      " 11%|█         | 31/294 [00:35<05:13,  1.19s/it]\u001b[A\n",
      " 11%|█         | 32/294 [00:36<05:08,  1.18s/it]\u001b[A\n",
      " 11%|█         | 33/294 [00:37<05:03,  1.16s/it]\u001b[A\n",
      " 12%|█▏        | 34/294 [00:39<05:27,  1.26s/it]\u001b[A\n",
      " 12%|█▏        | 35/294 [00:40<05:23,  1.25s/it]\u001b[A\n",
      " 12%|█▏        | 36/294 [00:41<05:28,  1.27s/it]\u001b[A\n",
      " 13%|█▎        | 37/294 [00:43<05:20,  1.25s/it]\u001b[A\n",
      " 13%|█▎        | 38/294 [00:44<05:10,  1.21s/it]\u001b[A\n",
      " 13%|█▎        | 39/294 [00:45<05:03,  1.19s/it]\u001b[A\n",
      " 14%|█▎        | 40/294 [00:46<04:57,  1.17s/it]\u001b[A\n",
      " 14%|█▍        | 41/294 [00:47<04:53,  1.16s/it]\u001b[A\n",
      " 14%|█▍        | 42/294 [00:48<04:50,  1.15s/it]\u001b[A\n",
      " 15%|█▍        | 43/294 [00:49<04:53,  1.17s/it]\u001b[A\n",
      " 15%|█▍        | 44/294 [00:50<04:48,  1.15s/it]\u001b[A\n",
      " 15%|█▌        | 45/294 [00:52<04:45,  1.15s/it]\u001b[A\n",
      " 16%|█▌        | 46/294 [00:53<04:43,  1.14s/it]\u001b[A\n",
      " 16%|█▌        | 47/294 [00:54<04:42,  1.14s/it]\u001b[A\n",
      " 16%|█▋        | 48/294 [00:55<04:40,  1.14s/it]\u001b[A\n",
      " 17%|█▋        | 49/294 [00:56<04:38,  1.14s/it]\u001b[A\n",
      " 17%|█▋        | 50/294 [00:57<04:43,  1.16s/it]\u001b[A\n",
      " 17%|█▋        | 51/294 [00:59<04:41,  1.16s/it]\u001b[A\n",
      " 18%|█▊        | 52/294 [01:00<04:38,  1.15s/it]\u001b[A\n",
      " 18%|█▊        | 53/294 [01:01<04:40,  1.16s/it]\u001b[A\n",
      " 18%|█▊        | 54/294 [01:02<04:42,  1.18s/it]\u001b[A\n",
      " 19%|█▊        | 55/294 [01:03<04:38,  1.16s/it]\u001b[A\n",
      " 19%|█▉        | 56/294 [01:04<04:33,  1.15s/it]\u001b[A\n",
      " 19%|█▉        | 57/294 [01:05<04:31,  1.15s/it]\u001b[A\n",
      " 20%|█▉        | 58/294 [01:07<04:29,  1.14s/it]\u001b[A\n",
      " 20%|██        | 59/294 [01:08<04:27,  1.14s/it]\u001b[A\n",
      " 20%|██        | 60/294 [01:09<04:26,  1.14s/it]\u001b[A\n",
      " 21%|██        | 61/294 [01:10<04:25,  1.14s/it]\u001b[A\n",
      " 21%|██        | 62/294 [01:11<04:24,  1.14s/it]\u001b[A\n",
      " 21%|██▏       | 63/294 [01:12<04:22,  1.13s/it]\u001b[A\n",
      " 22%|██▏       | 64/294 [01:13<04:26,  1.16s/it]\u001b[A\n",
      " 22%|██▏       | 65/294 [01:15<04:23,  1.15s/it]\u001b[A\n",
      " 22%|██▏       | 66/294 [01:16<04:21,  1.15s/it]\u001b[A\n",
      " 23%|██▎       | 67/294 [01:19<06:38,  1.76s/it]\u001b[A\n",
      " 23%|██▎       | 68/294 [01:20<05:55,  1.57s/it]\u001b[A\n",
      " 23%|██▎       | 69/294 [01:21<05:24,  1.44s/it]\u001b[A\n",
      " 24%|██▍       | 70/294 [01:22<05:01,  1.35s/it]\u001b[A\n",
      " 24%|██▍       | 71/294 [01:24<04:50,  1.30s/it]\u001b[A\n",
      " 24%|██▍       | 72/294 [01:25<04:37,  1.25s/it]\u001b[A\n",
      " 25%|██▍       | 73/294 [01:26<04:27,  1.21s/it]\u001b[A\n",
      " 25%|██▌       | 74/294 [01:27<04:22,  1.19s/it]\u001b[A\n",
      " 26%|██▌       | 75/294 [01:28<04:18,  1.18s/it]\u001b[A\n",
      " 26%|██▌       | 76/294 [01:29<04:17,  1.18s/it]\u001b[A\n",
      " 26%|██▌       | 77/294 [01:30<04:15,  1.18s/it]\u001b[A\n",
      " 27%|██▋       | 78/294 [01:32<04:12,  1.17s/it]\u001b[A\n",
      " 27%|██▋       | 79/294 [01:33<04:09,  1.16s/it]\u001b[A\n",
      " 27%|██▋       | 80/294 [01:34<04:06,  1.15s/it]\u001b[A\n",
      " 28%|██▊       | 81/294 [01:35<04:05,  1.15s/it]\u001b[A\n",
      " 28%|██▊       | 82/294 [01:36<04:06,  1.16s/it]\u001b[A\n",
      " 28%|██▊       | 83/294 [01:37<04:03,  1.16s/it]\u001b[A\n",
      " 29%|██▊       | 84/294 [01:38<04:01,  1.15s/it]\u001b[A\n",
      " 29%|██▉       | 85/294 [01:40<03:58,  1.14s/it]\u001b[A\n",
      " 29%|██▉       | 86/294 [01:41<03:57,  1.14s/it]\u001b[A\n",
      " 30%|██▉       | 87/294 [01:42<03:54,  1.13s/it]\u001b[A\n",
      " 30%|██▉       | 88/294 [01:43<03:53,  1.13s/it]\u001b[A\n",
      " 30%|███       | 89/294 [01:44<03:53,  1.14s/it]\u001b[A\n",
      " 31%|███       | 90/294 [01:45<03:52,  1.14s/it]\u001b[A\n",
      " 31%|███       | 91/294 [01:46<03:53,  1.15s/it]\u001b[A\n",
      " 31%|███▏      | 92/294 [01:48<03:52,  1.15s/it]\u001b[A\n",
      " 32%|███▏      | 93/294 [01:49<03:50,  1.15s/it]\u001b[A\n",
      " 32%|███▏      | 94/294 [01:50<03:50,  1.15s/it]\u001b[A\n",
      " 32%|███▏      | 95/294 [01:51<03:48,  1.15s/it]\u001b[A\n",
      " 33%|███▎      | 96/294 [01:52<03:46,  1.15s/it]\u001b[A\n",
      " 33%|███▎      | 97/294 [01:53<03:46,  1.15s/it]\u001b[A\n",
      " 33%|███▎      | 98/294 [01:55<03:45,  1.15s/it]\u001b[A\n",
      " 34%|███▎      | 99/294 [01:56<03:43,  1.15s/it]\u001b[A\n",
      " 34%|███▍      | 100/294 [01:57<03:42,  1.14s/it]\u001b[A\n",
      " 34%|███▍      | 101/294 [01:58<03:43,  1.16s/it]\u001b[A\n",
      " 35%|███▍      | 102/294 [01:59<03:41,  1.15s/it]\u001b[A\n",
      " 35%|███▌      | 103/294 [02:00<03:39,  1.15s/it]\u001b[A\n",
      " 35%|███▌      | 104/294 [02:01<03:36,  1.14s/it]\u001b[A\n",
      " 36%|███▌      | 105/294 [02:03<03:35,  1.14s/it]\u001b[A\n",
      " 36%|███▌      | 106/294 [02:04<03:33,  1.14s/it]\u001b[A\n",
      " 36%|███▋      | 107/294 [02:05<03:34,  1.15s/it]\u001b[A\n",
      " 37%|███▋      | 108/294 [02:06<03:33,  1.15s/it]\u001b[A\n",
      " 37%|███▋      | 109/294 [02:07<03:31,  1.15s/it]\u001b[A\n",
      " 37%|███▋      | 110/294 [02:08<03:30,  1.14s/it]\u001b[A\n",
      " 38%|███▊      | 111/294 [02:09<03:28,  1.14s/it]\u001b[A\n",
      " 38%|███▊      | 112/294 [02:11<03:34,  1.18s/it]\u001b[A\n",
      " 38%|███▊      | 113/294 [02:12<03:31,  1.17s/it]\u001b[A\n",
      " 39%|███▉      | 114/294 [02:13<03:28,  1.16s/it]\u001b[A\n",
      " 39%|███▉      | 115/294 [02:14<03:25,  1.15s/it]\u001b[A\n",
      " 39%|███▉      | 116/294 [02:15<03:27,  1.17s/it]\u001b[A\n",
      " 40%|███▉      | 117/294 [02:16<03:25,  1.16s/it]\u001b[A\n",
      " 40%|████      | 118/294 [02:18<03:24,  1.16s/it]\u001b[A\n",
      " 40%|████      | 119/294 [02:19<03:22,  1.16s/it]\u001b[A\n",
      " 41%|████      | 120/294 [02:20<03:31,  1.22s/it]\u001b[A\n",
      " 41%|████      | 121/294 [02:21<03:26,  1.19s/it]\u001b[A\n",
      " 41%|████▏     | 122/294 [02:23<04:15,  1.48s/it]\u001b[A\n",
      " 42%|████▏     | 123/294 [02:25<03:56,  1.38s/it]\u001b[A\n",
      " 42%|████▏     | 124/294 [02:26<03:42,  1.31s/it]\u001b[A\n",
      " 43%|████▎     | 125/294 [02:27<03:32,  1.26s/it]\u001b[A\n",
      " 43%|████▎     | 126/294 [02:28<03:25,  1.22s/it]\u001b[A\n",
      " 43%|████▎     | 127/294 [02:29<03:24,  1.22s/it]\u001b[A\n",
      " 44%|████▎     | 128/294 [02:30<03:18,  1.20s/it]\u001b[A\n",
      " 44%|████▍     | 129/294 [02:31<03:15,  1.18s/it]\u001b[A\n",
      " 44%|████▍     | 130/294 [02:33<03:11,  1.17s/it]\u001b[A\n",
      " 45%|████▍     | 131/294 [02:34<03:08,  1.16s/it]\u001b[A\n",
      " 45%|████▍     | 132/294 [02:35<03:06,  1.15s/it]\u001b[A\n",
      " 45%|████▌     | 133/294 [02:36<03:04,  1.15s/it]\u001b[A\n",
      " 46%|████▌     | 134/294 [02:37<03:05,  1.16s/it]\u001b[A\n",
      " 46%|████▌     | 135/294 [02:38<03:04,  1.16s/it]\u001b[A\n",
      " 46%|████▋     | 136/294 [02:39<03:02,  1.15s/it]\u001b[A\n",
      " 47%|████▋     | 137/294 [02:41<03:01,  1.16s/it]\u001b[A\n",
      " 47%|████▋     | 138/294 [02:42<03:01,  1.16s/it]\u001b[A\n",
      " 47%|████▋     | 139/294 [02:43<03:00,  1.16s/it]\u001b[A\n",
      " 48%|████▊     | 140/294 [02:44<02:58,  1.16s/it]\u001b[A\n",
      " 48%|████▊     | 141/294 [02:45<02:55,  1.15s/it]\u001b[A\n",
      " 48%|████▊     | 142/294 [02:46<02:53,  1.14s/it]\u001b[A\n",
      " 49%|████▊     | 143/294 [02:48<02:54,  1.15s/it]\u001b[A\n",
      " 49%|████▉     | 144/294 [02:49<02:51,  1.14s/it]\u001b[A\n",
      " 49%|████▉     | 145/294 [02:50<02:52,  1.15s/it]\u001b[A\n",
      " 50%|████▉     | 146/294 [02:51<02:50,  1.15s/it]\u001b[A\n",
      " 50%|█████     | 147/294 [02:52<02:50,  1.16s/it]\u001b[A\n",
      " 50%|█████     | 148/294 [02:53<02:47,  1.15s/it]\u001b[A\n",
      " 51%|█████     | 149/294 [02:54<02:45,  1.14s/it]\u001b[A\n",
      " 51%|█████     | 150/294 [02:56<02:45,  1.15s/it]\u001b[A\n",
      " 51%|█████▏    | 151/294 [02:57<02:43,  1.15s/it]\u001b[A\n",
      " 52%|█████▏    | 152/294 [02:58<02:42,  1.14s/it]\u001b[A\n",
      " 52%|█████▏    | 153/294 [02:59<02:42,  1.16s/it]\u001b[A\n",
      " 52%|█████▏    | 154/294 [03:00<02:41,  1.15s/it]\u001b[A\n",
      " 53%|█████▎    | 155/294 [03:01<02:39,  1.15s/it]\u001b[A\n",
      " 53%|█████▎    | 156/294 [03:02<02:38,  1.15s/it]\u001b[A\n",
      " 53%|█████▎    | 157/294 [03:04<02:37,  1.15s/it]\u001b[A\n",
      " 54%|█████▎    | 158/294 [03:05<02:36,  1.15s/it]\u001b[A\n",
      " 54%|█████▍    | 159/294 [03:06<02:48,  1.25s/it]\u001b[A\n",
      " 54%|█████▍    | 160/294 [03:07<02:42,  1.21s/it]\u001b[A\n",
      " 55%|█████▍    | 161/294 [03:09<02:39,  1.20s/it]\u001b[A\n",
      " 55%|█████▌    | 162/294 [03:10<02:35,  1.18s/it]\u001b[A\n",
      " 55%|█████▌    | 163/294 [03:11<02:33,  1.17s/it]\u001b[A\n",
      " 56%|█████▌    | 164/294 [03:12<02:30,  1.16s/it]\u001b[A\n",
      " 56%|█████▌    | 165/294 [03:13<02:28,  1.15s/it]\u001b[A\n",
      " 56%|█████▋    | 166/294 [03:14<02:27,  1.15s/it]\u001b[A\n",
      " 57%|█████▋    | 167/294 [03:15<02:26,  1.15s/it]\u001b[A\n",
      " 57%|█████▋    | 168/294 [03:17<02:26,  1.16s/it]\u001b[A\n",
      " 57%|█████▋    | 169/294 [03:18<02:24,  1.15s/it]\u001b[A\n",
      " 58%|█████▊    | 170/294 [03:19<02:22,  1.15s/it]\u001b[A\n",
      " 58%|█████▊    | 171/294 [03:20<02:23,  1.17s/it]\u001b[A\n",
      " 59%|█████▊    | 172/294 [03:21<02:23,  1.18s/it]\u001b[A\n",
      " 59%|█████▉    | 173/294 [03:22<02:20,  1.16s/it]\u001b[A\n",
      " 59%|█████▉    | 174/294 [03:24<02:18,  1.16s/it]\u001b[A\n",
      " 60%|█████▉    | 175/294 [03:25<02:17,  1.15s/it]\u001b[A\n",
      " 60%|█████▉    | 176/294 [03:26<02:15,  1.15s/it]\u001b[A\n",
      " 60%|██████    | 177/294 [03:27<02:13,  1.14s/it]\u001b[A\n",
      " 61%|██████    | 178/294 [03:28<02:12,  1.14s/it]\u001b[A\n",
      " 61%|██████    | 179/294 [03:29<02:10,  1.14s/it]\u001b[A\n",
      " 61%|██████    | 180/294 [03:30<02:09,  1.14s/it]\u001b[A\n",
      " 62%|██████▏   | 181/294 [03:32<02:08,  1.14s/it]\u001b[A\n",
      " 62%|██████▏   | 182/294 [03:33<02:07,  1.14s/it]\u001b[A\n",
      " 62%|██████▏   | 183/294 [03:34<02:05,  1.13s/it]\u001b[A\n",
      " 63%|██████▎   | 184/294 [03:35<02:05,  1.14s/it]\u001b[A\n",
      " 63%|██████▎   | 185/294 [03:36<02:03,  1.14s/it]\u001b[A\n",
      " 63%|██████▎   | 186/294 [03:37<02:03,  1.14s/it]\u001b[A\n",
      " 64%|██████▎   | 187/294 [03:38<02:01,  1.14s/it]\u001b[A\n",
      " 64%|██████▍   | 188/294 [03:40<02:00,  1.14s/it]\u001b[A\n",
      " 64%|██████▍   | 189/294 [03:41<01:59,  1.14s/it]\u001b[A\n",
      " 65%|██████▍   | 190/294 [03:42<01:58,  1.14s/it]\u001b[A\n",
      " 65%|██████▍   | 191/294 [03:43<01:57,  1.14s/it]\u001b[A\n",
      " 65%|██████▌   | 192/294 [03:44<01:56,  1.14s/it]\u001b[A\n",
      " 66%|██████▌   | 193/294 [03:45<01:55,  1.14s/it]\u001b[A\n",
      " 66%|██████▌   | 194/294 [03:46<01:53,  1.14s/it]\u001b[A\n",
      " 66%|██████▋   | 195/294 [03:47<01:52,  1.14s/it]\u001b[A\n",
      " 67%|██████▋   | 196/294 [03:49<01:51,  1.14s/it]\u001b[A\n",
      " 67%|██████▋   | 197/294 [03:50<01:50,  1.14s/it]\u001b[A\n",
      " 67%|██████▋   | 198/294 [03:51<01:49,  1.14s/it]\u001b[A\n",
      " 68%|██████▊   | 199/294 [03:52<01:48,  1.14s/it]\u001b[A\n",
      " 68%|██████▊   | 200/294 [03:53<01:46,  1.14s/it]\u001b[A\n",
      " 68%|██████▊   | 201/294 [03:54<01:45,  1.14s/it]\u001b[A\n",
      " 69%|██████▊   | 202/294 [03:55<01:44,  1.14s/it]\u001b[A\n",
      " 69%|██████▉   | 203/294 [03:57<01:46,  1.17s/it]\u001b[A\n",
      " 69%|██████▉   | 204/294 [03:58<01:44,  1.16s/it]\u001b[A\n",
      " 70%|██████▉   | 205/294 [03:59<01:43,  1.17s/it]\u001b[A\n",
      " 70%|███████   | 206/294 [04:00<01:41,  1.16s/it]\u001b[A\n",
      " 70%|███████   | 207/294 [04:01<01:40,  1.15s/it]\u001b[A\n",
      " 71%|███████   | 208/294 [04:02<01:38,  1.15s/it]\u001b[A\n",
      " 71%|███████   | 209/294 [04:04<01:37,  1.14s/it]\u001b[A\n",
      " 71%|███████▏  | 210/294 [04:05<01:37,  1.16s/it]\u001b[A\n",
      " 72%|███████▏  | 211/294 [04:06<01:35,  1.15s/it]\u001b[A\n",
      " 72%|███████▏  | 212/294 [04:07<01:34,  1.15s/it]\u001b[A\n",
      " 72%|███████▏  | 213/294 [04:08<01:33,  1.15s/it]\u001b[A\n",
      " 73%|███████▎  | 214/294 [04:09<01:31,  1.15s/it]\u001b[A\n",
      " 73%|███████▎  | 215/294 [04:10<01:30,  1.14s/it]\u001b[A\n",
      " 73%|███████▎  | 216/294 [04:12<01:30,  1.17s/it]\u001b[A\n",
      " 74%|███████▍  | 217/294 [04:13<01:28,  1.16s/it]\u001b[A\n",
      " 74%|███████▍  | 218/294 [04:14<01:27,  1.15s/it]\u001b[A\n",
      " 74%|███████▍  | 219/294 [04:15<01:26,  1.15s/it]\u001b[A\n",
      " 75%|███████▍  | 220/294 [04:16<01:24,  1.14s/it]\u001b[A\n",
      " 75%|███████▌  | 221/294 [04:17<01:23,  1.14s/it]\u001b[A\n",
      " 76%|███████▌  | 222/294 [04:19<01:22,  1.14s/it]\u001b[A\n",
      " 76%|███████▌  | 223/294 [04:20<01:21,  1.14s/it]\u001b[A\n",
      " 76%|███████▌  | 224/294 [04:21<01:19,  1.14s/it]\u001b[A\n",
      " 77%|███████▋  | 225/294 [04:22<01:18,  1.14s/it]\u001b[A\n",
      " 77%|███████▋  | 226/294 [04:23<01:17,  1.13s/it]\u001b[A\n",
      " 77%|███████▋  | 227/294 [04:24<01:15,  1.13s/it]\u001b[A\n",
      " 78%|███████▊  | 228/294 [04:26<01:19,  1.20s/it]\u001b[A\n",
      " 78%|███████▊  | 229/294 [04:27<01:21,  1.25s/it]\u001b[A\n",
      " 78%|███████▊  | 230/294 [04:28<01:17,  1.21s/it]\u001b[A\n",
      " 79%|███████▊  | 231/294 [04:29<01:15,  1.20s/it]\u001b[A\n",
      " 79%|███████▉  | 232/294 [04:30<01:12,  1.17s/it]\u001b[A\n",
      " 79%|███████▉  | 233/294 [04:31<01:11,  1.16s/it]\u001b[A\n",
      " 80%|███████▉  | 234/294 [04:33<01:09,  1.16s/it]\u001b[A\n",
      " 80%|███████▉  | 235/294 [04:34<01:08,  1.15s/it]\u001b[A\n",
      " 80%|████████  | 236/294 [04:35<01:06,  1.14s/it]\u001b[A\n",
      " 81%|████████  | 237/294 [04:36<01:04,  1.14s/it]\u001b[A\n",
      " 81%|████████  | 238/294 [04:37<01:07,  1.21s/it]\u001b[A\n",
      " 81%|████████▏ | 239/294 [04:38<01:05,  1.18s/it]\u001b[A\n",
      " 82%|████████▏ | 240/294 [04:40<01:04,  1.19s/it]\u001b[A\n",
      " 82%|████████▏ | 241/294 [04:41<01:02,  1.17s/it]\u001b[A\n",
      " 82%|████████▏ | 242/294 [04:42<01:00,  1.16s/it]\u001b[A\n",
      " 83%|████████▎ | 243/294 [04:43<01:00,  1.19s/it]\u001b[A\n",
      " 83%|████████▎ | 244/294 [04:44<00:58,  1.17s/it]\u001b[A\n",
      " 83%|████████▎ | 245/294 [04:45<00:57,  1.17s/it]\u001b[A\n",
      " 84%|████████▎ | 246/294 [04:47<00:56,  1.17s/it]\u001b[A\n",
      " 84%|████████▍ | 247/294 [04:48<00:54,  1.16s/it]\u001b[A\n",
      " 84%|████████▍ | 248/294 [04:49<00:53,  1.15s/it]\u001b[A\n",
      " 85%|████████▍ | 249/294 [04:50<00:52,  1.17s/it]\u001b[A\n",
      " 85%|████████▌ | 250/294 [04:51<00:51,  1.16s/it]\u001b[A\n",
      " 85%|████████▌ | 251/294 [04:52<00:50,  1.17s/it]\u001b[A\n",
      " 86%|████████▌ | 252/294 [04:54<00:48,  1.16s/it]\u001b[A\n",
      " 86%|████████▌ | 253/294 [04:55<00:47,  1.15s/it]\u001b[A\n",
      " 86%|████████▋ | 254/294 [04:56<00:46,  1.15s/it]\u001b[A\n",
      " 87%|████████▋ | 255/294 [04:57<00:44,  1.15s/it]\u001b[A\n",
      " 87%|████████▋ | 256/294 [04:58<00:43,  1.15s/it]\u001b[A\n",
      " 87%|████████▋ | 257/294 [04:59<00:42,  1.15s/it]\u001b[A\n",
      " 88%|████████▊ | 258/294 [05:00<00:41,  1.15s/it]\u001b[A\n",
      " 88%|████████▊ | 259/294 [05:02<00:40,  1.16s/it]\u001b[A\n",
      " 88%|████████▊ | 260/294 [05:03<00:39,  1.16s/it]\u001b[A\n",
      " 89%|████████▉ | 261/294 [05:04<00:41,  1.25s/it]\u001b[A\n",
      " 89%|████████▉ | 262/294 [05:05<00:38,  1.21s/it]\u001b[A\n",
      " 89%|████████▉ | 263/294 [05:07<00:36,  1.19s/it]\u001b[A\n",
      " 90%|████████▉ | 264/294 [05:08<00:35,  1.18s/it]\u001b[A\n",
      " 90%|█████████ | 265/294 [05:09<00:33,  1.16s/it]\u001b[A\n",
      " 90%|█████████ | 266/294 [05:10<00:32,  1.17s/it]\u001b[A\n",
      " 91%|█████████ | 267/294 [05:11<00:31,  1.16s/it]\u001b[A\n",
      " 91%|█████████ | 268/294 [05:12<00:30,  1.16s/it]\u001b[A\n",
      " 91%|█████████▏| 269/294 [05:13<00:28,  1.15s/it]\u001b[A\n",
      " 92%|█████████▏| 270/294 [05:15<00:27,  1.15s/it]\u001b[A\n",
      " 92%|█████████▏| 271/294 [05:16<00:26,  1.14s/it]\u001b[A\n",
      " 93%|█████████▎| 272/294 [05:17<00:25,  1.14s/it]\u001b[A\n",
      " 93%|█████████▎| 273/294 [05:18<00:23,  1.14s/it]\u001b[A\n",
      " 93%|█████████▎| 274/294 [05:19<00:22,  1.14s/it]\u001b[A\n",
      " 94%|█████████▎| 275/294 [05:20<00:21,  1.14s/it]\u001b[A\n",
      " 94%|█████████▍| 276/294 [05:21<00:20,  1.14s/it]\u001b[A\n",
      " 94%|█████████▍| 277/294 [05:23<00:19,  1.14s/it]\u001b[A\n",
      " 95%|█████████▍| 278/294 [05:24<00:18,  1.16s/it]\u001b[A\n",
      " 95%|█████████▍| 279/294 [05:25<00:17,  1.15s/it]\u001b[A\n",
      " 95%|█████████▌| 280/294 [05:26<00:16,  1.16s/it]\u001b[A\n",
      " 96%|█████████▌| 281/294 [05:27<00:15,  1.16s/it]\u001b[A\n",
      " 96%|█████████▌| 282/294 [05:28<00:13,  1.15s/it]\u001b[A\n",
      " 96%|█████████▋| 283/294 [05:30<00:12,  1.16s/it]\u001b[A\n",
      " 97%|█████████▋| 284/294 [05:31<00:11,  1.16s/it]\u001b[A\n",
      " 97%|█████████▋| 285/294 [05:32<00:10,  1.15s/it]\u001b[A\n",
      " 97%|█████████▋| 286/294 [05:33<00:09,  1.19s/it]\u001b[A\n",
      " 98%|█████████▊| 287/294 [05:34<00:08,  1.18s/it]\u001b[A\n",
      " 98%|█████████▊| 288/294 [05:35<00:06,  1.16s/it]\u001b[A\n",
      " 98%|█████████▊| 289/294 [05:36<00:05,  1.14s/it]\u001b[A\n",
      " 99%|█████████▊| 290/294 [05:38<00:04,  1.16s/it]\u001b[A\n",
      " 99%|█████████▉| 291/294 [05:39<00:03,  1.15s/it]\u001b[A\n",
      " 99%|█████████▉| 292/294 [05:40<00:02,  1.15s/it]\u001b[A\n",
      "100%|█████████▉| 293/294 [05:41<00:01,  1.15s/it]\u001b[A\n",
      "100%|██████████| 294/294 [05:43<00:00,  1.17s/it]\u001b[A\n"
     ]
    },
    {
     "data": {
      "text/html": [
       "<div>\n",
       "<style scoped>\n",
       "    .dataframe tbody tr th:only-of-type {\n",
       "        vertical-align: middle;\n",
       "    }\n",
       "\n",
       "    .dataframe tbody tr th {\n",
       "        vertical-align: top;\n",
       "    }\n",
       "\n",
       "    .dataframe thead th {\n",
       "        text-align: right;\n",
       "    }\n",
       "</style>\n",
       "<table border=\"1\" class=\"dataframe\">\n",
       "  <thead>\n",
       "    <tr style=\"text-align: right;\">\n",
       "      <th></th>\n",
       "      <th>place</th>\n",
       "      <th>location</th>\n",
       "      <th>point</th>\n",
       "    </tr>\n",
       "  </thead>\n",
       "  <tbody>\n",
       "    <tr>\n",
       "      <td>0</td>\n",
       "      <td>New York, NY</td>\n",
       "      <td>(New York, United States of America, (40.71272...</td>\n",
       "      <td>(40.7127281, -74.0060152, 0.0)</td>\n",
       "    </tr>\n",
       "    <tr>\n",
       "      <td>1</td>\n",
       "      <td>München</td>\n",
       "      <td>(München, Oberbayern, Bayern, Deutschland, (48...</td>\n",
       "      <td>(48.1371079, 11.5753822, 0.0)</td>\n",
       "    </tr>\n",
       "    <tr>\n",
       "      <td>2</td>\n",
       "      <td>Berlin</td>\n",
       "      <td>(Berlin, 10117, Deutschland, (52.5170365, 13.3...</td>\n",
       "      <td>(52.5170365, 13.3888599, 0.0)</td>\n",
       "    </tr>\n",
       "    <tr>\n",
       "      <td>3</td>\n",
       "      <td>München u.a.</td>\n",
       "      <td>(A, Olympisches Dorf, Bezirksteil Am Riesenfel...</td>\n",
       "      <td>(48.1791699, 11.5541431, 0.0)</td>\n",
       "    </tr>\n",
       "    <tr>\n",
       "      <td>4</td>\n",
       "      <td>Hamburg</td>\n",
       "      <td>(Hamburg, 20095, Deutschland, (53.550341, 10.0...</td>\n",
       "      <td>(53.550341, 10.000654, 0.0)</td>\n",
       "    </tr>\n",
       "    <tr>\n",
       "      <td>...</td>\n",
       "      <td>...</td>\n",
       "      <td>...</td>\n",
       "      <td>...</td>\n",
       "    </tr>\n",
       "    <tr>\n",
       "      <td>289</td>\n",
       "      <td>München-Geiselgasteig</td>\n",
       "      <td>(Geiselgasteig, Grünwald, Landkreis München, O...</td>\n",
       "      <td>(48.0626315, 11.5479446, 0.0)</td>\n",
       "    </tr>\n",
       "    <tr>\n",
       "      <td>290</td>\n",
       "      <td>Gaeta</td>\n",
       "      <td>(Gaeta, Latina, Lazio, 04024, Italia, (41.2183...</td>\n",
       "      <td>(41.218312, 13.56281, 0.0)</td>\n",
       "    </tr>\n",
       "    <tr>\n",
       "      <td>291</td>\n",
       "      <td>Stockdorf bei München</td>\n",
       "      <td>(Tannroda, Landkreis Weimarer Land, Thüringen,...</td>\n",
       "      <td>(50.8596222, 11.2460637, 0.0)</td>\n",
       "    </tr>\n",
       "    <tr>\n",
       "      <td>292</td>\n",
       "      <td>Stuttgart-Vaihingen u.a.</td>\n",
       "      <td>None</td>\n",
       "      <td>None</td>\n",
       "    </tr>\n",
       "    <tr>\n",
       "      <td>293</td>\n",
       "      <td>Berlin-Charlottenburg u.a.</td>\n",
       "      <td>None</td>\n",
       "      <td>None</td>\n",
       "    </tr>\n",
       "  </tbody>\n",
       "</table>\n",
       "<p>294 rows × 3 columns</p>\n",
       "</div>"
      ],
      "text/plain": [
       "                          place  \\\n",
       "0                  New York, NY   \n",
       "1                      München   \n",
       "2                        Berlin   \n",
       "3                 München u.a.   \n",
       "4                       Hamburg   \n",
       "..                          ...   \n",
       "289      München-Geiselgasteig   \n",
       "290                       Gaeta   \n",
       "291      Stockdorf bei München   \n",
       "292    Stuttgart-Vaihingen u.a.   \n",
       "293  Berlin-Charlottenburg u.a.   \n",
       "\n",
       "                                              location  \\\n",
       "0    (New York, United States of America, (40.71272...   \n",
       "1    (München, Oberbayern, Bayern, Deutschland, (48...   \n",
       "2    (Berlin, 10117, Deutschland, (52.5170365, 13.3...   \n",
       "3    (A, Olympisches Dorf, Bezirksteil Am Riesenfel...   \n",
       "4    (Hamburg, 20095, Deutschland, (53.550341, 10.0...   \n",
       "..                                                 ...   \n",
       "289  (Geiselgasteig, Grünwald, Landkreis München, O...   \n",
       "290  (Gaeta, Latina, Lazio, 04024, Italia, (41.2183...   \n",
       "291  (Tannroda, Landkreis Weimarer Land, Thüringen,...   \n",
       "292                                               None   \n",
       "293                                               None   \n",
       "\n",
       "                              point  \n",
       "0    (40.7127281, -74.0060152, 0.0)  \n",
       "1     (48.1371079, 11.5753822, 0.0)  \n",
       "2     (52.5170365, 13.3888599, 0.0)  \n",
       "3     (48.1791699, 11.5541431, 0.0)  \n",
       "4       (53.550341, 10.000654, 0.0)  \n",
       "..                              ...  \n",
       "289   (48.0626315, 11.5479446, 0.0)  \n",
       "290      (41.218312, 13.56281, 0.0)  \n",
       "291   (50.8596222, 11.2460637, 0.0)  \n",
       "292                            None  \n",
       "293                            None  \n",
       "\n",
       "[294 rows x 3 columns]"
      ]
     },
     "execution_count": 8,
     "metadata": {},
     "output_type": "execute_result"
    }
   ],
   "source": [
    "tqdm.pandas()\n",
    "unique_places = pd.DataFrame(collection.place.value_counts().index.tolist(), columns=['place'])\n",
    "unique_places['location'] = unique_places['place'].progress_apply(geocode)\n",
    "unique_places['point'] = unique_places['location'].apply(lambda loc: tuple(loc.point) if loc else None)\n",
    "unique_places"
   ]
  },
  {
   "cell_type": "code",
   "execution_count": 9,
   "metadata": {},
   "outputs": [],
   "source": [
    "collection = collection.merge(unique_places, on='place')"
   ]
  },
  {
   "cell_type": "code",
   "execution_count": 10,
   "metadata": {},
   "outputs": [
    {
     "data": {
      "text/html": [
       "<div>\n",
       "<style scoped>\n",
       "    .dataframe tbody tr th:only-of-type {\n",
       "        vertical-align: middle;\n",
       "    }\n",
       "\n",
       "    .dataframe tbody tr th {\n",
       "        vertical-align: top;\n",
       "    }\n",
       "\n",
       "    .dataframe thead th {\n",
       "        text-align: right;\n",
       "    }\n",
       "</style>\n",
       "<table border=\"1\" class=\"dataframe\">\n",
       "  <thead>\n",
       "    <tr style=\"text-align: right;\">\n",
       "      <th></th>\n",
       "      <th>author</th>\n",
       "      <th>idn</th>\n",
       "      <th>place</th>\n",
       "      <th>recipient</th>\n",
       "      <th>title</th>\n",
       "      <th>year</th>\n",
       "      <th>location</th>\n",
       "      <th>point</th>\n",
       "    </tr>\n",
       "  </thead>\n",
       "  <tbody>\n",
       "    <tr>\n",
       "      <td>0</td>\n",
       "      <td>Lewisohn, Ludwig</td>\n",
       "      <td>99681471X</td>\n",
       "      <td>Tucson, Ariz.</td>\n",
       "      <td>Heilbut, Iwan</td>\n",
       "      <td>Korrespondenz</td>\n",
       "      <td>1943-1943</td>\n",
       "      <td>(Tucson, Pima County, Arizona, United States, ...</td>\n",
       "      <td>(32.2218917, -110.9262353, 0.0)</td>\n",
       "    </tr>\n",
       "    <tr>\n",
       "      <td>1</td>\n",
       "      <td>Liedke, Herbert R.</td>\n",
       "      <td>996815287</td>\n",
       "      <td>West Englewood, NJ u.a.</td>\n",
       "      <td>Heilbut, Iwan</td>\n",
       "      <td>Korrespondenz</td>\n",
       "      <td>1948-1950</td>\n",
       "      <td>(West Englewood, Teaneck Township, Bergen Coun...</td>\n",
       "      <td>(40.9020512, -74.0046211, 0.0)</td>\n",
       "    </tr>\n",
       "    <tr>\n",
       "      <td>2</td>\n",
       "      <td>Lienek, Heinz</td>\n",
       "      <td>996816038</td>\n",
       "      <td>Berlin-Neukölln</td>\n",
       "      <td>Heilbut, Iwan</td>\n",
       "      <td>Korrespondenz</td>\n",
       "      <td>1948-1969</td>\n",
       "      <td>(Berlin-Neukölln, Sterndamm, Johannisthal, Tre...</td>\n",
       "      <td>(52.4454318, 13.443459827373, 0.0)</td>\n",
       "    </tr>\n",
       "    <tr>\n",
       "      <td>3</td>\n",
       "      <td>Rosin, Katherine</td>\n",
       "      <td>996816887</td>\n",
       "      <td>New York, NY</td>\n",
       "      <td>Heilbut, Iwan</td>\n",
       "      <td>Korrespondenz</td>\n",
       "      <td>1944-1944</td>\n",
       "      <td>(New York, United States of America, (40.71272...</td>\n",
       "      <td>(40.7127281, -74.0060152, 0.0)</td>\n",
       "    </tr>\n",
       "    <tr>\n",
       "      <td>4</td>\n",
       "      <td>Lindt, Peter M.</td>\n",
       "      <td>996925112</td>\n",
       "      <td>New York, NY</td>\n",
       "      <td>Heilbut, Iwan</td>\n",
       "      <td>Korrespondenz</td>\n",
       "      <td>1943-1943</td>\n",
       "      <td>(New York, United States of America, (40.71272...</td>\n",
       "      <td>(40.7127281, -74.0060152, 0.0)</td>\n",
       "    </tr>\n",
       "    <tr>\n",
       "      <td>...</td>\n",
       "      <td>...</td>\n",
       "      <td>...</td>\n",
       "      <td>...</td>\n",
       "      <td>...</td>\n",
       "      <td>...</td>\n",
       "      <td>...</td>\n",
       "      <td>...</td>\n",
       "      <td>...</td>\n",
       "    </tr>\n",
       "    <tr>\n",
       "      <td>1375</td>\n",
       "      <td>Hesse, Ninon</td>\n",
       "      <td>996231145</td>\n",
       "      <td>Montagnola</td>\n",
       "      <td>Heilbut, Iwan</td>\n",
       "      <td>Korrespondenz</td>\n",
       "      <td>1947-1947</td>\n",
       "      <td>(La Montagnola, Cascia, Perugia, Umbria, 06043...</td>\n",
       "      <td>(42.6458314, 13.0313757, 0.0)</td>\n",
       "    </tr>\n",
       "    <tr>\n",
       "      <td>1376</td>\n",
       "      <td>Hester, Lilian</td>\n",
       "      <td>996253602</td>\n",
       "      <td>Glen Cove, NY</td>\n",
       "      <td>Heilbut, Iwan</td>\n",
       "      <td>Korrespondenz</td>\n",
       "      <td>1942-1942</td>\n",
       "      <td>(Glen Cove, Nassau County, New York, United St...</td>\n",
       "      <td>(40.862755, -73.6336094, 0.0)</td>\n",
       "    </tr>\n",
       "    <tr>\n",
       "      <td>1377</td>\n",
       "      <td>Heynicke, Kurt</td>\n",
       "      <td>99625806X</td>\n",
       "      <td>Merzhausen über Freiburg im Breisgau</td>\n",
       "      <td>Heilbut, Iwan</td>\n",
       "      <td>Korrespondenz</td>\n",
       "      <td>1948-1953</td>\n",
       "      <td>None</td>\n",
       "      <td>None</td>\n",
       "    </tr>\n",
       "    <tr>\n",
       "      <td>1378</td>\n",
       "      <td>Hiltbrunner, Hermann</td>\n",
       "      <td>996261338</td>\n",
       "      <td>Uerikon am Zürichsee</td>\n",
       "      <td>Heilbut, Iwan</td>\n",
       "      <td>Korrespondenz</td>\n",
       "      <td>1948-1948</td>\n",
       "      <td>None</td>\n",
       "      <td>None</td>\n",
       "    </tr>\n",
       "    <tr>\n",
       "      <td>1379</td>\n",
       "      <td>Hirsch, Karl Jakob</td>\n",
       "      <td>996262733</td>\n",
       "      <td>Liberty Corner, NJ</td>\n",
       "      <td>Heilbut, Iwan</td>\n",
       "      <td>Korrespondenz</td>\n",
       "      <td>1948-1948</td>\n",
       "      <td>(Liberty Corner, Somerset County, New Jersey, ...</td>\n",
       "      <td>(40.6648238, -74.5773795, 0.0)</td>\n",
       "    </tr>\n",
       "  </tbody>\n",
       "</table>\n",
       "<p>1380 rows × 8 columns</p>\n",
       "</div>"
      ],
      "text/plain": [
       "                    author        idn                                  place  \\\n",
       "0         Lewisohn, Ludwig  99681471X                          Tucson, Ariz.   \n",
       "1       Liedke, Herbert R.  996815287                West Englewood, NJ u.a.   \n",
       "2            Lienek, Heinz  996816038                       Berlin-Neukölln   \n",
       "3         Rosin, Katherine  996816887                           New York, NY   \n",
       "4          Lindt, Peter M.  996925112                           New York, NY   \n",
       "...                    ...        ...                                    ...   \n",
       "1375          Hesse, Ninon  996231145                             Montagnola   \n",
       "1376        Hester, Lilian  996253602                          Glen Cove, NY   \n",
       "1377        Heynicke, Kurt  99625806X  Merzhausen über Freiburg im Breisgau   \n",
       "1378  Hiltbrunner, Hermann  996261338                  Uerikon am Zürichsee   \n",
       "1379    Hirsch, Karl Jakob  996262733                     Liberty Corner, NJ   \n",
       "\n",
       "          recipient          title       year  \\\n",
       "0     Heilbut, Iwan  Korrespondenz  1943-1943   \n",
       "1     Heilbut, Iwan  Korrespondenz  1948-1950   \n",
       "2     Heilbut, Iwan  Korrespondenz  1948-1969   \n",
       "3     Heilbut, Iwan  Korrespondenz  1944-1944   \n",
       "4     Heilbut, Iwan  Korrespondenz  1943-1943   \n",
       "...             ...            ...        ...   \n",
       "1375  Heilbut, Iwan  Korrespondenz  1947-1947   \n",
       "1376  Heilbut, Iwan  Korrespondenz  1942-1942   \n",
       "1377  Heilbut, Iwan  Korrespondenz  1948-1953   \n",
       "1378  Heilbut, Iwan  Korrespondenz  1948-1948   \n",
       "1379  Heilbut, Iwan  Korrespondenz  1948-1948   \n",
       "\n",
       "                                               location  \\\n",
       "0     (Tucson, Pima County, Arizona, United States, ...   \n",
       "1     (West Englewood, Teaneck Township, Bergen Coun...   \n",
       "2     (Berlin-Neukölln, Sterndamm, Johannisthal, Tre...   \n",
       "3     (New York, United States of America, (40.71272...   \n",
       "4     (New York, United States of America, (40.71272...   \n",
       "...                                                 ...   \n",
       "1375  (La Montagnola, Cascia, Perugia, Umbria, 06043...   \n",
       "1376  (Glen Cove, Nassau County, New York, United St...   \n",
       "1377                                               None   \n",
       "1378                                               None   \n",
       "1379  (Liberty Corner, Somerset County, New Jersey, ...   \n",
       "\n",
       "                                   point  \n",
       "0        (32.2218917, -110.9262353, 0.0)  \n",
       "1         (40.9020512, -74.0046211, 0.0)  \n",
       "2     (52.4454318, 13.443459827373, 0.0)  \n",
       "3         (40.7127281, -74.0060152, 0.0)  \n",
       "4         (40.7127281, -74.0060152, 0.0)  \n",
       "...                                  ...  \n",
       "1375       (42.6458314, 13.0313757, 0.0)  \n",
       "1376       (40.862755, -73.6336094, 0.0)  \n",
       "1377                                None  \n",
       "1378                                None  \n",
       "1379      (40.6648238, -74.5773795, 0.0)  \n",
       "\n",
       "[1380 rows x 8 columns]"
      ]
     },
     "execution_count": 10,
     "metadata": {},
     "output_type": "execute_result"
    }
   ],
   "source": [
    "collection"
   ]
  },
  {
   "cell_type": "code",
   "execution_count": 99,
   "metadata": {
    "collapsed": true,
    "jupyter": {
     "outputs_hidden": true
    }
   },
   "outputs": [
    {
     "data": {
      "text/html": [
       "<div>\n",
       "<style scoped>\n",
       "    .dataframe tbody tr th:only-of-type {\n",
       "        vertical-align: middle;\n",
       "    }\n",
       "\n",
       "    .dataframe tbody tr th {\n",
       "        vertical-align: top;\n",
       "    }\n",
       "\n",
       "    .dataframe thead th {\n",
       "        text-align: right;\n",
       "    }\n",
       "</style>\n",
       "<table border=\"1\" class=\"dataframe\">\n",
       "  <thead>\n",
       "    <tr style=\"text-align: right;\">\n",
       "      <th></th>\n",
       "      <th>author</th>\n",
       "      <th>idn</th>\n",
       "      <th>place</th>\n",
       "      <th>recipient</th>\n",
       "      <th>title</th>\n",
       "      <th>year</th>\n",
       "      <th>location</th>\n",
       "      <th>point</th>\n",
       "    </tr>\n",
       "  </thead>\n",
       "  <tbody>\n",
       "    <tr>\n",
       "      <td>0</td>\n",
       "      <td>Lewisohn, Ludwig</td>\n",
       "      <td>99681471X</td>\n",
       "      <td>Tucson, Ariz.</td>\n",
       "      <td>Heilbut, Iwan</td>\n",
       "      <td>Korrespondenz</td>\n",
       "      <td>1943-1943</td>\n",
       "      <td>(Tucson, Pima County, Arizona, United States, ...</td>\n",
       "      <td>(32.2218917, -110.9262353, 0.0)</td>\n",
       "    </tr>\n",
       "    <tr>\n",
       "      <td>1</td>\n",
       "      <td>Liedke, Herbert R.</td>\n",
       "      <td>996815287</td>\n",
       "      <td>West Englewood, NJ u.a.</td>\n",
       "      <td>Heilbut, Iwan</td>\n",
       "      <td>Korrespondenz</td>\n",
       "      <td>1948-1950</td>\n",
       "      <td>(West Englewood, Teaneck Township, Bergen Coun...</td>\n",
       "      <td>(40.9020512, -74.0046211, 0.0)</td>\n",
       "    </tr>\n",
       "    <tr>\n",
       "      <td>2</td>\n",
       "      <td>Lienek, Heinz</td>\n",
       "      <td>996816038</td>\n",
       "      <td>Berlin-Neukölln</td>\n",
       "      <td>Heilbut, Iwan</td>\n",
       "      <td>Korrespondenz</td>\n",
       "      <td>1948-1969</td>\n",
       "      <td>(Berlin-Neukölln, Sterndamm, Johannisthal, Tre...</td>\n",
       "      <td>(52.4454318, 13.443459827373, 0.0)</td>\n",
       "    </tr>\n",
       "    <tr>\n",
       "      <td>3</td>\n",
       "      <td>Rosin, Katherine</td>\n",
       "      <td>996816887</td>\n",
       "      <td>New York, NY</td>\n",
       "      <td>Heilbut, Iwan</td>\n",
       "      <td>Korrespondenz</td>\n",
       "      <td>1944-1944</td>\n",
       "      <td>(New York, United States of America, (40.71272...</td>\n",
       "      <td>(40.7127281, -74.0060152, 0.0)</td>\n",
       "    </tr>\n",
       "    <tr>\n",
       "      <td>4</td>\n",
       "      <td>Lindt, Peter M.</td>\n",
       "      <td>996925112</td>\n",
       "      <td>New York, NY</td>\n",
       "      <td>Heilbut, Iwan</td>\n",
       "      <td>Korrespondenz</td>\n",
       "      <td>1943-1943</td>\n",
       "      <td>(New York, United States of America, (40.71272...</td>\n",
       "      <td>(40.7127281, -74.0060152, 0.0)</td>\n",
       "    </tr>\n",
       "    <tr>\n",
       "      <td>...</td>\n",
       "      <td>...</td>\n",
       "      <td>...</td>\n",
       "      <td>...</td>\n",
       "      <td>...</td>\n",
       "      <td>...</td>\n",
       "      <td>...</td>\n",
       "      <td>...</td>\n",
       "      <td>...</td>\n",
       "    </tr>\n",
       "    <tr>\n",
       "      <td>1375</td>\n",
       "      <td>Hesse, Ninon</td>\n",
       "      <td>996231145</td>\n",
       "      <td>Montagnola</td>\n",
       "      <td>Heilbut, Iwan</td>\n",
       "      <td>Korrespondenz</td>\n",
       "      <td>1947-1947</td>\n",
       "      <td>(La Montagnola, Cascia, Perugia, Umbria, 06043...</td>\n",
       "      <td>(42.6458314, 13.0313757, 0.0)</td>\n",
       "    </tr>\n",
       "    <tr>\n",
       "      <td>1376</td>\n",
       "      <td>Hester, Lilian</td>\n",
       "      <td>996253602</td>\n",
       "      <td>Glen Cove, NY</td>\n",
       "      <td>Heilbut, Iwan</td>\n",
       "      <td>Korrespondenz</td>\n",
       "      <td>1942-1942</td>\n",
       "      <td>(Glen Cove, Nassau County, New York, United St...</td>\n",
       "      <td>(40.862755, -73.6336094, 0.0)</td>\n",
       "    </tr>\n",
       "    <tr>\n",
       "      <td>1377</td>\n",
       "      <td>Heynicke, Kurt</td>\n",
       "      <td>99625806X</td>\n",
       "      <td>Merzhausen über Freiburg im Breisgau</td>\n",
       "      <td>Heilbut, Iwan</td>\n",
       "      <td>Korrespondenz</td>\n",
       "      <td>1948-1953</td>\n",
       "      <td>None</td>\n",
       "      <td>None</td>\n",
       "    </tr>\n",
       "    <tr>\n",
       "      <td>1378</td>\n",
       "      <td>Hiltbrunner, Hermann</td>\n",
       "      <td>996261338</td>\n",
       "      <td>Uerikon am Zürichsee</td>\n",
       "      <td>Heilbut, Iwan</td>\n",
       "      <td>Korrespondenz</td>\n",
       "      <td>1948-1948</td>\n",
       "      <td>None</td>\n",
       "      <td>None</td>\n",
       "    </tr>\n",
       "    <tr>\n",
       "      <td>1379</td>\n",
       "      <td>Hirsch, Karl Jakob</td>\n",
       "      <td>996262733</td>\n",
       "      <td>Liberty Corner, NJ</td>\n",
       "      <td>Heilbut, Iwan</td>\n",
       "      <td>Korrespondenz</td>\n",
       "      <td>1948-1948</td>\n",
       "      <td>(Liberty Corner, Somerset County, New Jersey, ...</td>\n",
       "      <td>(40.6648238, -74.5773795, 0.0)</td>\n",
       "    </tr>\n",
       "  </tbody>\n",
       "</table>\n",
       "<p>703 rows × 8 columns</p>\n",
       "</div>"
      ],
      "text/plain": [
       "                    author        idn                                  place  \\\n",
       "0         Lewisohn, Ludwig  99681471X                          Tucson, Ariz.   \n",
       "1       Liedke, Herbert R.  996815287                West Englewood, NJ u.a.   \n",
       "2            Lienek, Heinz  996816038                       Berlin-Neukölln   \n",
       "3         Rosin, Katherine  996816887                           New York, NY   \n",
       "4          Lindt, Peter M.  996925112                           New York, NY   \n",
       "...                    ...        ...                                    ...   \n",
       "1375          Hesse, Ninon  996231145                             Montagnola   \n",
       "1376        Hester, Lilian  996253602                          Glen Cove, NY   \n",
       "1377        Heynicke, Kurt  99625806X  Merzhausen über Freiburg im Breisgau   \n",
       "1378  Hiltbrunner, Hermann  996261338                  Uerikon am Zürichsee   \n",
       "1379    Hirsch, Karl Jakob  996262733                     Liberty Corner, NJ   \n",
       "\n",
       "          recipient          title       year  \\\n",
       "0     Heilbut, Iwan  Korrespondenz  1943-1943   \n",
       "1     Heilbut, Iwan  Korrespondenz  1948-1950   \n",
       "2     Heilbut, Iwan  Korrespondenz  1948-1969   \n",
       "3     Heilbut, Iwan  Korrespondenz  1944-1944   \n",
       "4     Heilbut, Iwan  Korrespondenz  1943-1943   \n",
       "...             ...            ...        ...   \n",
       "1375  Heilbut, Iwan  Korrespondenz  1947-1947   \n",
       "1376  Heilbut, Iwan  Korrespondenz  1942-1942   \n",
       "1377  Heilbut, Iwan  Korrespondenz  1948-1953   \n",
       "1378  Heilbut, Iwan  Korrespondenz  1948-1948   \n",
       "1379  Heilbut, Iwan  Korrespondenz  1948-1948   \n",
       "\n",
       "                                               location  \\\n",
       "0     (Tucson, Pima County, Arizona, United States, ...   \n",
       "1     (West Englewood, Teaneck Township, Bergen Coun...   \n",
       "2     (Berlin-Neukölln, Sterndamm, Johannisthal, Tre...   \n",
       "3     (New York, United States of America, (40.71272...   \n",
       "4     (New York, United States of America, (40.71272...   \n",
       "...                                                 ...   \n",
       "1375  (La Montagnola, Cascia, Perugia, Umbria, 06043...   \n",
       "1376  (Glen Cove, Nassau County, New York, United St...   \n",
       "1377                                               None   \n",
       "1378                                               None   \n",
       "1379  (Liberty Corner, Somerset County, New Jersey, ...   \n",
       "\n",
       "                                   point  \n",
       "0        (32.2218917, -110.9262353, 0.0)  \n",
       "1         (40.9020512, -74.0046211, 0.0)  \n",
       "2     (52.4454318, 13.443459827373, 0.0)  \n",
       "3         (40.7127281, -74.0060152, 0.0)  \n",
       "4         (40.7127281, -74.0060152, 0.0)  \n",
       "...                                  ...  \n",
       "1375       (42.6458314, 13.0313757, 0.0)  \n",
       "1376       (40.862755, -73.6336094, 0.0)  \n",
       "1377                                None  \n",
       "1378                                None  \n",
       "1379      (40.6648238, -74.5773795, 0.0)  \n",
       "\n",
       "[703 rows x 8 columns]"
      ]
     },
     "execution_count": 99,
     "metadata": {},
     "output_type": "execute_result"
    }
   ],
   "source": [
    "collection[collection.recipient == 'Heilbut, Iwan']"
   ]
  },
  {
   "cell_type": "code",
   "execution_count": 21,
   "metadata": {
    "jupyter": {
     "source_hidden": true
    }
   },
   "outputs": [],
   "source": [
    "pat = r'\\((\\-?\\d+\\.\\d+), (\\-?\\d+\\.\\d+)'\n",
    "def repl(m):\n",
    "    return m.group(1)"
   ]
  },
  {
   "cell_type": "code",
   "execution_count": 34,
   "metadata": {},
   "outputs": [],
   "source": [
    "collection['lat'] = collection['point'].str.get(0)\n",
    "collection['lon'] = collection['point'].str.get(1)"
   ]
  },
  {
   "cell_type": "code",
   "execution_count": 35,
   "metadata": {},
   "outputs": [
    {
     "data": {
      "text/html": [
       "<div>\n",
       "<style scoped>\n",
       "    .dataframe tbody tr th:only-of-type {\n",
       "        vertical-align: middle;\n",
       "    }\n",
       "\n",
       "    .dataframe tbody tr th {\n",
       "        vertical-align: top;\n",
       "    }\n",
       "\n",
       "    .dataframe thead th {\n",
       "        text-align: right;\n",
       "    }\n",
       "</style>\n",
       "<table border=\"1\" class=\"dataframe\">\n",
       "  <thead>\n",
       "    <tr style=\"text-align: right;\">\n",
       "      <th></th>\n",
       "      <th>author</th>\n",
       "      <th>idn</th>\n",
       "      <th>place</th>\n",
       "      <th>recipient</th>\n",
       "      <th>title</th>\n",
       "      <th>year</th>\n",
       "      <th>location</th>\n",
       "      <th>point</th>\n",
       "      <th>lat</th>\n",
       "      <th>lon</th>\n",
       "    </tr>\n",
       "  </thead>\n",
       "  <tbody>\n",
       "    <tr>\n",
       "      <td>0</td>\n",
       "      <td>Lewisohn, Ludwig</td>\n",
       "      <td>99681471X</td>\n",
       "      <td>Tucson, Ariz.</td>\n",
       "      <td>Heilbut, Iwan</td>\n",
       "      <td>Korrespondenz</td>\n",
       "      <td>1943-1943</td>\n",
       "      <td>(Tucson, Pima County, Arizona, United States, ...</td>\n",
       "      <td>(32.2218917, -110.9262353, 0.0)</td>\n",
       "      <td>32.221892</td>\n",
       "      <td>-110.926235</td>\n",
       "    </tr>\n",
       "    <tr>\n",
       "      <td>1</td>\n",
       "      <td>Liedke, Herbert R.</td>\n",
       "      <td>996815287</td>\n",
       "      <td>West Englewood, NJ u.a.</td>\n",
       "      <td>Heilbut, Iwan</td>\n",
       "      <td>Korrespondenz</td>\n",
       "      <td>1948-1950</td>\n",
       "      <td>(West Englewood, Teaneck Township, Bergen Coun...</td>\n",
       "      <td>(40.9020512, -74.0046211, 0.0)</td>\n",
       "      <td>40.902051</td>\n",
       "      <td>-74.004621</td>\n",
       "    </tr>\n",
       "    <tr>\n",
       "      <td>2</td>\n",
       "      <td>Lienek, Heinz</td>\n",
       "      <td>996816038</td>\n",
       "      <td>Berlin-Neukölln</td>\n",
       "      <td>Heilbut, Iwan</td>\n",
       "      <td>Korrespondenz</td>\n",
       "      <td>1948-1969</td>\n",
       "      <td>(Berlin-Neukölln, Sterndamm, Johannisthal, Tre...</td>\n",
       "      <td>(52.4454318, 13.443459827373, 0.0)</td>\n",
       "      <td>52.445432</td>\n",
       "      <td>13.443460</td>\n",
       "    </tr>\n",
       "    <tr>\n",
       "      <td>3</td>\n",
       "      <td>Rosin, Katherine</td>\n",
       "      <td>996816887</td>\n",
       "      <td>New York, NY</td>\n",
       "      <td>Heilbut, Iwan</td>\n",
       "      <td>Korrespondenz</td>\n",
       "      <td>1944-1944</td>\n",
       "      <td>(New York, United States of America, (40.71272...</td>\n",
       "      <td>(40.7127281, -74.0060152, 0.0)</td>\n",
       "      <td>40.712728</td>\n",
       "      <td>-74.006015</td>\n",
       "    </tr>\n",
       "    <tr>\n",
       "      <td>4</td>\n",
       "      <td>Lindt, Peter M.</td>\n",
       "      <td>996925112</td>\n",
       "      <td>New York, NY</td>\n",
       "      <td>Heilbut, Iwan</td>\n",
       "      <td>Korrespondenz</td>\n",
       "      <td>1943-1943</td>\n",
       "      <td>(New York, United States of America, (40.71272...</td>\n",
       "      <td>(40.7127281, -74.0060152, 0.0)</td>\n",
       "      <td>40.712728</td>\n",
       "      <td>-74.006015</td>\n",
       "    </tr>\n",
       "    <tr>\n",
       "      <td>...</td>\n",
       "      <td>...</td>\n",
       "      <td>...</td>\n",
       "      <td>...</td>\n",
       "      <td>...</td>\n",
       "      <td>...</td>\n",
       "      <td>...</td>\n",
       "      <td>...</td>\n",
       "      <td>...</td>\n",
       "      <td>...</td>\n",
       "      <td>...</td>\n",
       "    </tr>\n",
       "    <tr>\n",
       "      <td>1375</td>\n",
       "      <td>Hesse, Ninon</td>\n",
       "      <td>996231145</td>\n",
       "      <td>Montagnola</td>\n",
       "      <td>Heilbut, Iwan</td>\n",
       "      <td>Korrespondenz</td>\n",
       "      <td>1947-1947</td>\n",
       "      <td>(La Montagnola, Cascia, Perugia, Umbria, 06043...</td>\n",
       "      <td>(42.6458314, 13.0313757, 0.0)</td>\n",
       "      <td>42.645831</td>\n",
       "      <td>13.031376</td>\n",
       "    </tr>\n",
       "    <tr>\n",
       "      <td>1376</td>\n",
       "      <td>Hester, Lilian</td>\n",
       "      <td>996253602</td>\n",
       "      <td>Glen Cove, NY</td>\n",
       "      <td>Heilbut, Iwan</td>\n",
       "      <td>Korrespondenz</td>\n",
       "      <td>1942-1942</td>\n",
       "      <td>(Glen Cove, Nassau County, New York, United St...</td>\n",
       "      <td>(40.862755, -73.6336094, 0.0)</td>\n",
       "      <td>40.862755</td>\n",
       "      <td>-73.633609</td>\n",
       "    </tr>\n",
       "    <tr>\n",
       "      <td>1377</td>\n",
       "      <td>Heynicke, Kurt</td>\n",
       "      <td>99625806X</td>\n",
       "      <td>Merzhausen über Freiburg im Breisgau</td>\n",
       "      <td>Heilbut, Iwan</td>\n",
       "      <td>Korrespondenz</td>\n",
       "      <td>1948-1953</td>\n",
       "      <td>None</td>\n",
       "      <td>None</td>\n",
       "      <td>NaN</td>\n",
       "      <td>NaN</td>\n",
       "    </tr>\n",
       "    <tr>\n",
       "      <td>1378</td>\n",
       "      <td>Hiltbrunner, Hermann</td>\n",
       "      <td>996261338</td>\n",
       "      <td>Uerikon am Zürichsee</td>\n",
       "      <td>Heilbut, Iwan</td>\n",
       "      <td>Korrespondenz</td>\n",
       "      <td>1948-1948</td>\n",
       "      <td>None</td>\n",
       "      <td>None</td>\n",
       "      <td>NaN</td>\n",
       "      <td>NaN</td>\n",
       "    </tr>\n",
       "    <tr>\n",
       "      <td>1379</td>\n",
       "      <td>Hirsch, Karl Jakob</td>\n",
       "      <td>996262733</td>\n",
       "      <td>Liberty Corner, NJ</td>\n",
       "      <td>Heilbut, Iwan</td>\n",
       "      <td>Korrespondenz</td>\n",
       "      <td>1948-1948</td>\n",
       "      <td>(Liberty Corner, Somerset County, New Jersey, ...</td>\n",
       "      <td>(40.6648238, -74.5773795, 0.0)</td>\n",
       "      <td>40.664824</td>\n",
       "      <td>-74.577380</td>\n",
       "    </tr>\n",
       "  </tbody>\n",
       "</table>\n",
       "<p>1380 rows × 10 columns</p>\n",
       "</div>"
      ],
      "text/plain": [
       "                    author        idn                                  place  \\\n",
       "0         Lewisohn, Ludwig  99681471X                          Tucson, Ariz.   \n",
       "1       Liedke, Herbert R.  996815287                West Englewood, NJ u.a.   \n",
       "2            Lienek, Heinz  996816038                       Berlin-Neukölln   \n",
       "3         Rosin, Katherine  996816887                           New York, NY   \n",
       "4          Lindt, Peter M.  996925112                           New York, NY   \n",
       "...                    ...        ...                                    ...   \n",
       "1375          Hesse, Ninon  996231145                             Montagnola   \n",
       "1376        Hester, Lilian  996253602                          Glen Cove, NY   \n",
       "1377        Heynicke, Kurt  99625806X  Merzhausen über Freiburg im Breisgau   \n",
       "1378  Hiltbrunner, Hermann  996261338                  Uerikon am Zürichsee   \n",
       "1379    Hirsch, Karl Jakob  996262733                     Liberty Corner, NJ   \n",
       "\n",
       "          recipient          title       year  \\\n",
       "0     Heilbut, Iwan  Korrespondenz  1943-1943   \n",
       "1     Heilbut, Iwan  Korrespondenz  1948-1950   \n",
       "2     Heilbut, Iwan  Korrespondenz  1948-1969   \n",
       "3     Heilbut, Iwan  Korrespondenz  1944-1944   \n",
       "4     Heilbut, Iwan  Korrespondenz  1943-1943   \n",
       "...             ...            ...        ...   \n",
       "1375  Heilbut, Iwan  Korrespondenz  1947-1947   \n",
       "1376  Heilbut, Iwan  Korrespondenz  1942-1942   \n",
       "1377  Heilbut, Iwan  Korrespondenz  1948-1953   \n",
       "1378  Heilbut, Iwan  Korrespondenz  1948-1948   \n",
       "1379  Heilbut, Iwan  Korrespondenz  1948-1948   \n",
       "\n",
       "                                               location  \\\n",
       "0     (Tucson, Pima County, Arizona, United States, ...   \n",
       "1     (West Englewood, Teaneck Township, Bergen Coun...   \n",
       "2     (Berlin-Neukölln, Sterndamm, Johannisthal, Tre...   \n",
       "3     (New York, United States of America, (40.71272...   \n",
       "4     (New York, United States of America, (40.71272...   \n",
       "...                                                 ...   \n",
       "1375  (La Montagnola, Cascia, Perugia, Umbria, 06043...   \n",
       "1376  (Glen Cove, Nassau County, New York, United St...   \n",
       "1377                                               None   \n",
       "1378                                               None   \n",
       "1379  (Liberty Corner, Somerset County, New Jersey, ...   \n",
       "\n",
       "                                   point        lat         lon  \n",
       "0        (32.2218917, -110.9262353, 0.0)  32.221892 -110.926235  \n",
       "1         (40.9020512, -74.0046211, 0.0)  40.902051  -74.004621  \n",
       "2     (52.4454318, 13.443459827373, 0.0)  52.445432   13.443460  \n",
       "3         (40.7127281, -74.0060152, 0.0)  40.712728  -74.006015  \n",
       "4         (40.7127281, -74.0060152, 0.0)  40.712728  -74.006015  \n",
       "...                                  ...        ...         ...  \n",
       "1375       (42.6458314, 13.0313757, 0.0)  42.645831   13.031376  \n",
       "1376       (40.862755, -73.6336094, 0.0)  40.862755  -73.633609  \n",
       "1377                                None        NaN         NaN  \n",
       "1378                                None        NaN         NaN  \n",
       "1379      (40.6648238, -74.5773795, 0.0)  40.664824  -74.577380  \n",
       "\n",
       "[1380 rows x 10 columns]"
      ]
     },
     "execution_count": 35,
     "metadata": {},
     "output_type": "execute_result"
    }
   ],
   "source": [
    "collection"
   ]
  },
  {
   "cell_type": "code",
   "execution_count": 37,
   "metadata": {},
   "outputs": [],
   "source": [
    "collection.to_csv('collection.csv', index=None)"
   ]
  },
  {
   "cell_type": "code",
   "execution_count": 3,
   "metadata": {},
   "outputs": [],
   "source": [
    "collection = pd.read_csv('collection.csv')"
   ]
  },
  {
   "cell_type": "code",
   "execution_count": 5,
   "metadata": {},
   "outputs": [
    {
     "data": {
      "text/html": [
       "<div>\n",
       "<style scoped>\n",
       "    .dataframe tbody tr th:only-of-type {\n",
       "        vertical-align: middle;\n",
       "    }\n",
       "\n",
       "    .dataframe tbody tr th {\n",
       "        vertical-align: top;\n",
       "    }\n",
       "\n",
       "    .dataframe thead th {\n",
       "        text-align: right;\n",
       "    }\n",
       "</style>\n",
       "<table border=\"1\" class=\"dataframe\">\n",
       "  <thead>\n",
       "    <tr style=\"text-align: right;\">\n",
       "      <th></th>\n",
       "      <th>author</th>\n",
       "      <th>idn</th>\n",
       "      <th>place</th>\n",
       "      <th>recipient</th>\n",
       "      <th>title</th>\n",
       "      <th>year</th>\n",
       "      <th>location</th>\n",
       "      <th>point</th>\n",
       "      <th>lat</th>\n",
       "      <th>lon</th>\n",
       "    </tr>\n",
       "  </thead>\n",
       "  <tbody>\n",
       "    <tr>\n",
       "      <td>0</td>\n",
       "      <td>Lewisohn, Ludwig</td>\n",
       "      <td>99681471X</td>\n",
       "      <td>Tucson, Ariz.</td>\n",
       "      <td>Heilbut, Iwan</td>\n",
       "      <td>Korrespondenz</td>\n",
       "      <td>1943-1943</td>\n",
       "      <td>Tucson, Pima County, Arizona, United States</td>\n",
       "      <td>(32.2218917, -110.9262353, 0.0)</td>\n",
       "      <td>32.221892</td>\n",
       "      <td>-110.926235</td>\n",
       "    </tr>\n",
       "    <tr>\n",
       "      <td>1</td>\n",
       "      <td>Liedke, Herbert R.</td>\n",
       "      <td>996815287</td>\n",
       "      <td>West Englewood, NJ u.a.</td>\n",
       "      <td>Heilbut, Iwan</td>\n",
       "      <td>Korrespondenz</td>\n",
       "      <td>1948-1950</td>\n",
       "      <td>West Englewood, Teaneck Township, Bergen Count...</td>\n",
       "      <td>(40.9020512, -74.0046211, 0.0)</td>\n",
       "      <td>40.902051</td>\n",
       "      <td>-74.004621</td>\n",
       "    </tr>\n",
       "    <tr>\n",
       "      <td>2</td>\n",
       "      <td>Lienek, Heinz</td>\n",
       "      <td>996816038</td>\n",
       "      <td>Berlin-Neukölln</td>\n",
       "      <td>Heilbut, Iwan</td>\n",
       "      <td>Korrespondenz</td>\n",
       "      <td>1948-1969</td>\n",
       "      <td>Berlin-Neukölln, Sterndamm, Johannisthal, Trep...</td>\n",
       "      <td>(52.4454318, 13.443459827373, 0.0)</td>\n",
       "      <td>52.445432</td>\n",
       "      <td>13.443460</td>\n",
       "    </tr>\n",
       "    <tr>\n",
       "      <td>3</td>\n",
       "      <td>Rosin, Katherine</td>\n",
       "      <td>996816887</td>\n",
       "      <td>New York, NY</td>\n",
       "      <td>Heilbut, Iwan</td>\n",
       "      <td>Korrespondenz</td>\n",
       "      <td>1944-1944</td>\n",
       "      <td>New York, United States of America</td>\n",
       "      <td>(40.7127281, -74.0060152, 0.0)</td>\n",
       "      <td>40.712728</td>\n",
       "      <td>-74.006015</td>\n",
       "    </tr>\n",
       "    <tr>\n",
       "      <td>4</td>\n",
       "      <td>Lindt, Peter M.</td>\n",
       "      <td>996925112</td>\n",
       "      <td>New York, NY</td>\n",
       "      <td>Heilbut, Iwan</td>\n",
       "      <td>Korrespondenz</td>\n",
       "      <td>1943-1943</td>\n",
       "      <td>New York, United States of America</td>\n",
       "      <td>(40.7127281, -74.0060152, 0.0)</td>\n",
       "      <td>40.712728</td>\n",
       "      <td>-74.006015</td>\n",
       "    </tr>\n",
       "    <tr>\n",
       "      <td>...</td>\n",
       "      <td>...</td>\n",
       "      <td>...</td>\n",
       "      <td>...</td>\n",
       "      <td>...</td>\n",
       "      <td>...</td>\n",
       "      <td>...</td>\n",
       "      <td>...</td>\n",
       "      <td>...</td>\n",
       "      <td>...</td>\n",
       "      <td>...</td>\n",
       "    </tr>\n",
       "    <tr>\n",
       "      <td>1375</td>\n",
       "      <td>Hesse, Ninon</td>\n",
       "      <td>996231145</td>\n",
       "      <td>Montagnola</td>\n",
       "      <td>Heilbut, Iwan</td>\n",
       "      <td>Korrespondenz</td>\n",
       "      <td>1947-1947</td>\n",
       "      <td>La Montagnola, Cascia, Perugia, Umbria, 06043,...</td>\n",
       "      <td>(42.6458314, 13.0313757, 0.0)</td>\n",
       "      <td>42.645831</td>\n",
       "      <td>13.031376</td>\n",
       "    </tr>\n",
       "    <tr>\n",
       "      <td>1376</td>\n",
       "      <td>Hester, Lilian</td>\n",
       "      <td>996253602</td>\n",
       "      <td>Glen Cove, NY</td>\n",
       "      <td>Heilbut, Iwan</td>\n",
       "      <td>Korrespondenz</td>\n",
       "      <td>1942-1942</td>\n",
       "      <td>Glen Cove, Nassau County, New York, United States</td>\n",
       "      <td>(40.862755, -73.6336094, 0.0)</td>\n",
       "      <td>40.862755</td>\n",
       "      <td>-73.633609</td>\n",
       "    </tr>\n",
       "    <tr>\n",
       "      <td>1377</td>\n",
       "      <td>Heynicke, Kurt</td>\n",
       "      <td>99625806X</td>\n",
       "      <td>Merzhausen über Freiburg im Breisgau</td>\n",
       "      <td>Heilbut, Iwan</td>\n",
       "      <td>Korrespondenz</td>\n",
       "      <td>1948-1953</td>\n",
       "      <td>NaN</td>\n",
       "      <td>NaN</td>\n",
       "      <td>NaN</td>\n",
       "      <td>NaN</td>\n",
       "    </tr>\n",
       "    <tr>\n",
       "      <td>1378</td>\n",
       "      <td>Hiltbrunner, Hermann</td>\n",
       "      <td>996261338</td>\n",
       "      <td>Uerikon am Zürichsee</td>\n",
       "      <td>Heilbut, Iwan</td>\n",
       "      <td>Korrespondenz</td>\n",
       "      <td>1948-1948</td>\n",
       "      <td>NaN</td>\n",
       "      <td>NaN</td>\n",
       "      <td>NaN</td>\n",
       "      <td>NaN</td>\n",
       "    </tr>\n",
       "    <tr>\n",
       "      <td>1379</td>\n",
       "      <td>Hirsch, Karl Jakob</td>\n",
       "      <td>996262733</td>\n",
       "      <td>Liberty Corner, NJ</td>\n",
       "      <td>Heilbut, Iwan</td>\n",
       "      <td>Korrespondenz</td>\n",
       "      <td>1948-1948</td>\n",
       "      <td>Liberty Corner, Somerset County, New Jersey, 0...</td>\n",
       "      <td>(40.6648238, -74.5773795, 0.0)</td>\n",
       "      <td>40.664824</td>\n",
       "      <td>-74.577380</td>\n",
       "    </tr>\n",
       "  </tbody>\n",
       "</table>\n",
       "<p>1380 rows × 10 columns</p>\n",
       "</div>"
      ],
      "text/plain": [
       "                    author        idn                                  place  \\\n",
       "0         Lewisohn, Ludwig  99681471X                          Tucson, Ariz.   \n",
       "1       Liedke, Herbert R.  996815287                West Englewood, NJ u.a.   \n",
       "2            Lienek, Heinz  996816038                       Berlin-Neukölln   \n",
       "3         Rosin, Katherine  996816887                           New York, NY   \n",
       "4          Lindt, Peter M.  996925112                           New York, NY   \n",
       "...                    ...        ...                                    ...   \n",
       "1375          Hesse, Ninon  996231145                             Montagnola   \n",
       "1376        Hester, Lilian  996253602                          Glen Cove, NY   \n",
       "1377        Heynicke, Kurt  99625806X  Merzhausen über Freiburg im Breisgau   \n",
       "1378  Hiltbrunner, Hermann  996261338                  Uerikon am Zürichsee   \n",
       "1379    Hirsch, Karl Jakob  996262733                     Liberty Corner, NJ   \n",
       "\n",
       "          recipient          title       year  \\\n",
       "0     Heilbut, Iwan  Korrespondenz  1943-1943   \n",
       "1     Heilbut, Iwan  Korrespondenz  1948-1950   \n",
       "2     Heilbut, Iwan  Korrespondenz  1948-1969   \n",
       "3     Heilbut, Iwan  Korrespondenz  1944-1944   \n",
       "4     Heilbut, Iwan  Korrespondenz  1943-1943   \n",
       "...             ...            ...        ...   \n",
       "1375  Heilbut, Iwan  Korrespondenz  1947-1947   \n",
       "1376  Heilbut, Iwan  Korrespondenz  1942-1942   \n",
       "1377  Heilbut, Iwan  Korrespondenz  1948-1953   \n",
       "1378  Heilbut, Iwan  Korrespondenz  1948-1948   \n",
       "1379  Heilbut, Iwan  Korrespondenz  1948-1948   \n",
       "\n",
       "                                               location  \\\n",
       "0           Tucson, Pima County, Arizona, United States   \n",
       "1     West Englewood, Teaneck Township, Bergen Count...   \n",
       "2     Berlin-Neukölln, Sterndamm, Johannisthal, Trep...   \n",
       "3                    New York, United States of America   \n",
       "4                    New York, United States of America   \n",
       "...                                                 ...   \n",
       "1375  La Montagnola, Cascia, Perugia, Umbria, 06043,...   \n",
       "1376  Glen Cove, Nassau County, New York, United States   \n",
       "1377                                                NaN   \n",
       "1378                                                NaN   \n",
       "1379  Liberty Corner, Somerset County, New Jersey, 0...   \n",
       "\n",
       "                                   point        lat         lon  \n",
       "0        (32.2218917, -110.9262353, 0.0)  32.221892 -110.926235  \n",
       "1         (40.9020512, -74.0046211, 0.0)  40.902051  -74.004621  \n",
       "2     (52.4454318, 13.443459827373, 0.0)  52.445432   13.443460  \n",
       "3         (40.7127281, -74.0060152, 0.0)  40.712728  -74.006015  \n",
       "4         (40.7127281, -74.0060152, 0.0)  40.712728  -74.006015  \n",
       "...                                  ...        ...         ...  \n",
       "1375       (42.6458314, 13.0313757, 0.0)  42.645831   13.031376  \n",
       "1376       (40.862755, -73.6336094, 0.0)  40.862755  -73.633609  \n",
       "1377                                 NaN        NaN         NaN  \n",
       "1378                                 NaN        NaN         NaN  \n",
       "1379      (40.6648238, -74.5773795, 0.0)  40.664824  -74.577380  \n",
       "\n",
       "[1380 rows x 10 columns]"
      ]
     },
     "execution_count": 5,
     "metadata": {},
     "output_type": "execute_result"
    }
   ],
   "source": [
    "collection"
   ]
  },
  {
   "cell_type": "code",
   "execution_count": 24,
   "metadata": {},
   "outputs": [],
   "source": [
    "fig = px.scatter_geo(collection[collection.author == 'Heilbut, Iwan'], lat='lat', lon='lon', scope='world',\n",
    "                        hover_data=['place', 'recipient'], color='author')"
   ]
  },
  {
   "cell_type": "code",
   "execution_count": 25,
   "metadata": {},
   "outputs": [
    {
     "data": {
      "application/vnd.plotly.v1+json": {
       "config": {
        "plotlyServerURL": "https://plot.ly"
       },
       "data": [
        {
         "customdata": [
          [
           "New York, NY",
           "Bergengruen, Werner"
          ],
          [
           "New York, NY",
           "Berger, David"
          ],
          [
           "New York, NY",
           "Berghof, ..."
          ],
          [
           "New York, NY",
           "Bergner, Elisabeth"
          ],
          [
           "New York, NY",
           "Berlowitz, Klara"
          ],
          [
           "New York, NY",
           "Bermann Fischer, Gottfried"
          ],
          [
           "New York, NY",
           "Bezzel, Mathilde"
          ],
          [
           "New York, NY",
           "Bildt, Paul"
          ],
          [
           "New York, NY",
           "Bissinger, ..."
          ],
          [
           "New York, NY",
           "Böckmann, Paul"
          ],
          [
           "New York, NY",
           "Böhm, Franz"
          ],
          [
           "New York, NY",
           "Bonnier, Åke"
          ],
          [
           "New York, NY",
           "Borcherdt, Hans Heinrich"
          ],
          [
           "New York, NY",
           "Bothas, Dagmar"
          ],
          [
           "New York, NY",
           "Britting, Georg"
          ],
          [
           "New York, NY",
           "Buerkle, Werner Jakob"
          ],
          [
           "New York, NY",
           "Busoni, Rafaello"
          ],
          [
           "New York, NY",
           "Buttenwieser, Hilda"
          ],
          [
           "New York, NY",
           "Pagel, Karl"
          ],
          [
           "New York, NY",
           "Wilson, Howard E."
          ],
          [
           "New York, NY",
           "Wheelock, John Hall"
          ],
          [
           "New York, NY",
           "Christ, Ray"
          ],
          [
           "New York, NY",
           "Wegner, Christian"
          ],
          [
           "New York, NY",
           "Churchill, Winston"
          ],
          [
           "New York, NY",
           "Classen, Werner"
          ],
          [
           "New York, NY",
           "Willson, E. T."
          ],
          [
           "New York, NY",
           "Cooke, Eleanor B."
          ],
          [
           "New York, NY",
           "Cooke, Eleanor B."
          ],
          [
           "New York, NY",
           "Ogden, Archibald G."
          ],
          [
           "New York, NY",
           "Armstrong, Hamilton Fish"
          ],
          [
           "New York, NY",
           "Haggard, Edith"
          ],
          [
           "New York, NY",
           "Danzoll, Francis S."
          ],
          [
           "New York, NY",
           "Siemer, Heinrich"
          ],
          [
           "New York, NY",
           "Alexander, R. T."
          ],
          [
           "New York, NY",
           "Döblin, Alfred"
          ],
          [
           "New York, NY",
           "Dolle, Elisabeth"
          ],
          [
           "New York, NY",
           "Wenzel, ..."
          ],
          [
           "New York, NY",
           "Cady, Howard S."
          ],
          [
           "New York, NY",
           "Dunay, Karl"
          ],
          [
           "New York, NY",
           "Dunay, Sigmund"
          ],
          [
           "New York, NY",
           "Eisenstaedt, Karl"
          ],
          [
           "New York, NY",
           "Eisner, Bruno"
          ],
          [
           "New York, NY",
           "Schiebelhuth, Marie"
          ],
          [
           "New York, NY",
           "Schiff, ..."
          ],
          [
           "New York, NY",
           "Schnack, Anton"
          ],
          [
           "New York, NY",
           "Schnack, Friedrich"
          ],
          [
           "New York, NY",
           "Schneider, Georg"
          ],
          [
           "New York, NY",
           "Schneider, Reinhold"
          ],
          [
           "New York, NY",
           null
          ],
          [
           "New York, NY",
           "Schönlank, Erich"
          ],
          [
           "New York, NY",
           "Schoepke, Helmut"
          ],
          [
           "New York, NY",
           "Schoeps, Hans-Joachim"
          ],
          [
           "New York, NY",
           "Schröder, Rudolf Alexander"
          ],
          [
           "New York, NY",
           "Schumacher, Hans"
          ],
          [
           "New York, NY",
           "Scott, Tom"
          ],
          [
           "New York, NY",
           "Schweikart, Hans"
          ],
          [
           "New York, NY",
           "Seelmann, Kurt"
          ],
          [
           "New York, NY",
           "Sertorius, Lili"
          ],
          [
           "New York, NY",
           "Siegel, ..."
          ],
          [
           "New York, NY",
           "Heide, Heinrich"
          ],
          [
           "New York, NY",
           "Stech, Marianne"
          ],
          [
           "New York, NY",
           "Braun-Fernwald, Jella von"
          ],
          [
           "New York, NY",
           "Steinberg, Milton"
          ],
          [
           "New York, NY",
           "Steiner, Franz Baermann"
          ],
          [
           "New York, NY",
           "Sternthal, Friedrich"
          ],
          [
           "New York, NY",
           "Schwedhelm, Karl"
          ],
          [
           "New York, NY",
           "Süskind, Wilhelm E."
          ],
          [
           "New York, NY",
           "Szyk, Arthur"
          ],
          [
           "New York, NY",
           "Taube, Otto von"
          ],
          [
           "New York, NY",
           "Treuenfels, Therese"
          ],
          [
           "New York, NY",
           "Ulbricht, Hanns"
          ],
          [
           "New York, NY",
           "Scholl, Inge"
          ],
          [
           "New York, NY",
           "Cohen, Myer"
          ],
          [
           "New York, NY",
           "Bundy, Frederic O."
          ],
          [
           "New York, NY",
           "Davis, Elmer"
          ],
          [
           "New York, NY",
           "Hilldring, John A."
          ],
          [
           "New York, NY",
           "Hilldring, John A."
          ],
          [
           "New York, NY",
           "Unruh, Fritz von"
          ],
          [
           "New York, NY",
           "Usinger, Fritz"
          ],
          [
           "New York, NY",
           "Desch, Kurt"
          ],
          [
           "New York, NY",
           "Viertel, Berthold"
          ],
          [
           "New York, NY",
           "Huebsch, B. W."
          ],
          [
           "New York, NY",
           "Schöpfer, Siegfried"
          ],
          [
           "New York, NY",
           "Rentschler, Hedwig Eleonore"
          ],
          [
           "New York, NY",
           "Schmücker, Irma"
          ],
          [
           "New York, NY",
           "Walter, Helmut"
          ],
          [
           "New York, NY",
           "Vring, Georg von der"
          ],
          [
           "New York, NY",
           "Farau, Alfred"
          ],
          [
           "New York, NY",
           "Feder, Ernst"
          ],
          [
           "New York, NY",
           "Fischer, Hedwig"
          ],
          [
           "New York, NY",
           "Flesch, Philipp"
          ],
          [
           "New York, NY",
           "Forell, Frederick J."
          ],
          [
           "New York, NY",
           "Freund, Erich"
          ],
          [
           "New York, NY",
           "Wittig, Friedrich"
          ],
          [
           "New York, NY",
           "Gode, Alexander"
          ],
          [
           "New York, NY",
           "Goes, Albrecht"
          ],
          [
           "New York, NY",
           "Goll, Yvan"
          ],
          [
           "New York, NY",
           "Goulet, Alexandre"
          ],
          [
           "New York, NY",
           "Grasshoff, Fritz"
          ],
          [
           "New York, NY",
           "Groll, Gunter"
          ],
          [
           "New York, NY",
           "Gründgens, Gustaf"
          ],
          [
           "New York, NY",
           "Guinzburg, Harold K."
          ],
          [
           "New York, NY",
           "Gumpert, Martin"
          ],
          [
           "New York, NY",
           "Hadas, Ethel"
          ],
          [
           "New York, NY",
           "Hagelstange, Rudolf"
          ],
          [
           "New York, NY",
           "Hagen, Louis"
          ],
          [
           "New York, NY",
           "H°akansson, Lo"
          ],
          [
           "New York, NY",
           "Hampe, Johann Christoph"
          ],
          [
           "New York, NY",
           "Hauptmann, Margarete"
          ],
          [
           "New York, NY",
           "Hausmann, Manfred"
          ],
          [
           "New York, NY",
           "Heilbut, Jacob"
          ],
          [
           "New York, NY",
           "Heilbut, Minna"
          ],
          [
           "New York, NY",
           "Hesse, Hermann"
          ],
          [
           "New York, NY",
           "Heynicke, Kurt"
          ],
          [
           "New York, NY",
           "Hildebrand, ... von"
          ],
          [
           "New York, NY",
           "Hilpert, Heinz"
          ],
          [
           "New York, NY",
           "Hiltbrunner, Hermann"
          ],
          [
           "New York, NY",
           "Hirsch, Karl Jakob"
          ],
          [
           "New York, NY",
           "Hoffmeister, Heinz"
          ],
          [
           "New York, NY",
           "Daniels, Eleanor"
          ],
          [
           "New York, NY",
           "Hulse, Wilfred C."
          ],
          [
           "New York, NY",
           "Shuster, George N."
          ],
          [
           "New York, NY",
           "Michael, Friedrich"
          ],
          [
           "New York, NY",
           "Irving, L. P."
          ],
          [
           "New York, NY",
           "Meckauer, Walter"
          ],
          [
           "New York, NY",
           "Mehring, Walter"
          ],
          [
           "New York, NY",
           "Mell, Max"
          ],
          [
           "New York, NY",
           "Mendel, Rosa"
          ],
          [
           "New York, NY",
           "Hurwitz, Henry"
          ],
          [
           "New York, NY",
           "Milch, Werner"
          ],
          [
           "New York, NY",
           "Namuth, Hans"
          ],
          [
           "New York, NY",
           "Pierson, ..."
          ],
          [
           "New York, NY",
           "Gutheil, Lilly"
          ],
          [
           "New York, NY",
           "Gutheil, Lilly"
          ],
          [
           "New York, NY",
           "Schuchard, Gottlieb C. L."
          ],
          [
           "New York, NY",
           "Nick, Dagmar"
          ],
          [
           "New York, NY",
           "Auburtin, A."
          ],
          [
           "New York, NY",
           "Nossack, Hans Erich"
          ],
          [
           "New York, NY",
           "Gramm, Hanns"
          ],
          [
           "New York, NY",
           "Omansen, Willibald"
          ],
          [
           "New York, NY",
           "Pabst, Curt"
          ],
          [
           "New York, NY",
           "Pauker, Edmond"
          ],
          [
           "New York, NY",
           "Paulsen, Anna"
          ],
          [
           "New York, NY",
           "Peine, Eva"
          ],
          [
           "New York, NY",
           "Perleberg, Gilbert"
          ],
          [
           "New York, NY",
           "Picard, Jacob"
          ],
          [
           "New York, NY",
           "Pinthus, Kurt"
          ],
          [
           "New York, NY",
           "Pitt, Louis W."
          ],
          [
           "New York, NY",
           "Pollak, Anneliese"
          ],
          [
           "New York, NY",
           "Preminger, Otto"
          ],
          [
           "New York, NY",
           "Pschigode, Karl"
          ],
          [
           "New York, NY",
           "Commins, Saxe"
          ],
          [
           "New York, NY",
           "Rasche, Friedrich"
          ],
          [
           "New York, NY",
           "Rasche, Friedrich"
          ],
          [
           "New York, NY",
           "Rebo, Fred"
          ],
          [
           "New York, NY",
           "Regler, Gustav"
          ],
          [
           "New York, NY",
           "Reich, Hanns Leo"
          ],
          [
           "New York, NY",
           "Reisiger, Hans"
          ],
          [
           "New York, NY",
           "Reyman, Randolph A."
          ],
          [
           "New York, NY",
           "Riedel, Otto"
          ],
          [
           "New York, NY",
           "Rothenberg, Friedrich"
          ],
          [
           "New York, NY",
           "Rothgiesser, Fritz"
          ],
          [
           "New York, NY",
           "Raddatz, Fritz J."
          ],
          [
           "New York, NY",
           "Rypins, Senta Jonas"
          ],
          [
           "New York, NY",
           "Sahl, Hans"
          ],
          [
           "New York, NY",
           "Salm, Louise"
          ],
          [
           "New York, NY",
           null
          ],
          [
           "New York, NY",
           "Schaeffer, Albrecht"
          ],
          [
           "New York, NY",
           "Schaffner, Emil A."
          ],
          [
           "New York, NY",
           "Schaumann, Ruth"
          ],
          [
           "New York, NY",
           "Heilbut, Iwan"
          ],
          [
           "New York, NY",
           "Adams, ..."
          ],
          [
           "New York, NY",
           "Adler, Hermann"
          ],
          [
           "New York, NY",
           "Koppell, Henry G."
          ],
          [
           "New York, NY",
           "Altmann, Manfred"
          ],
          [
           "New York, NY",
           "Robbins, Jeannette"
          ],
          [
           "New York, NY",
           "Andres, Stefan"
          ],
          [
           "New York, NY",
           "Arlt, Gustave O."
          ],
          [
           "New York, NY",
           "Asch, Sholem"
          ],
          [
           "New York, NY",
           "Georg, Manfred"
          ],
          [
           "New York, NY",
           "Aust, Hertha"
          ],
          [
           "New York, NY",
           "Bab, Julius"
          ],
          [
           "New York, NY",
           "Bach, Rudolf"
          ],
          [
           "New York, NY",
           "Barfoed, E. W."
          ],
          [
           "New York, NY",
           "Bassermann, Albert"
          ],
          [
           "New York, NY",
           "Batzdorf, ..."
          ],
          [
           "New York, NY",
           "Bauer, Ernest"
          ],
          [
           "New York, NY",
           "Bauer, Franz"
          ],
          [
           "New York, NY",
           "Münster, Clemens"
          ],
          [
           "New York, NY",
           "Beauclair, Gotthard de"
          ],
          [
           "New York, NY",
           "Beck, Anna"
          ],
          [
           "New York, NY",
           "Lunt, Storer B."
          ],
          [
           "New York, NY",
           "Wackernagel, Martin"
          ],
          [
           "New York, NY",
           "Waldinger, Ernst"
          ],
          [
           "New York, NY",
           "Waller, Gertrud"
          ],
          [
           "New York, NY",
           "Sternberger, Dolf"
          ],
          [
           "New York, NY",
           "Wanner, Franz"
          ],
          [
           "New York, NY",
           "Wedekind, Kadidja"
          ],
          [
           "New York, NY",
           "Wedekind, Pamela"
          ],
          [
           "New York, NY",
           "Weinmann, Fritz Siegfried"
          ],
          [
           "New York, NY",
           "Weismantel, Leo"
          ],
          [
           "New York, NY",
           "Whyte, John"
          ],
          [
           "New York, NY",
           "Wiechert, Ernst"
          ],
          [
           "New York, NY",
           "Wiener, Alfred"
          ],
          [
           "New York, NY",
           "Weismann, Willi"
          ],
          [
           "New York, NY",
           "Wulff, Clara"
          ],
          [
           "New York, NY",
           "Wulff, Nellie"
          ],
          [
           "New York, NY",
           "Zoff, Otto"
          ],
          [
           "New York, NY",
           "Zohn, Harry"
          ],
          [
           "New York, NY",
           "Zweig, Arnold"
          ],
          [
           "New York, NY",
           "Zweig, Stefan"
          ],
          [
           "New York, NY",
           "Unbekannt"
          ],
          [
           "New York, NY",
           "Unbekannt"
          ],
          [
           "New York, NY",
           "Jacob, Heinrich Eduard"
          ],
          [
           "New York, NY",
           "Jacobsen, Karin"
          ],
          [
           "New York, NY",
           "Jacobsen, Poul"
          ],
          [
           "New York, NY",
           "Jakobsen, Jens"
          ],
          [
           "New York, NY",
           "Jungermann, ..."
          ],
          [
           "New York, NY",
           "Kästner, Erich"
          ],
          [
           "New York, NY",
           "Kaskel, Josef"
          ],
          [
           "New York, NY",
           "Kent, Rockwell"
          ],
          [
           "New York, NY",
           "Kerr, Alfred"
          ],
          [
           "New York, NY",
           "Klitscher, Hermann"
          ],
          [
           "New York, NY",
           "Klumb, Hans"
          ],
          [
           "New York, NY",
           "Kogon, Eugen"
          ],
          [
           "New York, NY",
           "Kohner, Paul"
          ],
          [
           "New York, NY",
           "Kokoschka, Oskar"
          ],
          [
           "New York, NY",
           "Kosleck, Martin"
          ],
          [
           "New York, NY",
           "Kranz, Heinrich B."
          ],
          [
           "New York, NY",
           "Krawielicki, Robert"
          ],
          [
           "New York, NY",
           "Krolow, Karl"
          ],
          [
           "New York, NY",
           "Kronacher, Alwin"
          ],
          [
           "New York, NY",
           "Kruse, Heinz"
          ],
          [
           "New York, NY",
           "Kruse, Johann"
          ],
          [
           "New York, NY",
           "Langgässer, Elisabeth"
          ],
          [
           "New York, NY",
           "Lebegott, E."
          ],
          [
           "New York, NY",
           "Le Fort, Gertrud von"
          ],
          [
           "New York, NY",
           "Lehmann, Wilhelm"
          ],
          [
           "New York, NY",
           "Leiner, Ludwig"
          ],
          [
           "New York, NY",
           "Leip, Hans"
          ],
          [
           "New York, NY",
           "Lernet-Holenia, Alexander"
          ],
          [
           "New York, NY",
           "Lesser, H. R."
          ],
          [
           "New York, NY",
           "Lewisohn, Ludwig"
          ],
          [
           "New York, NY",
           "Liedke, Herbert R."
          ],
          [
           "New York, NY",
           "Lienek, Heinz"
          ],
          [
           "New York, NY",
           "Rosin, Katherine"
          ],
          [
           "New York, NY",
           "Lindenlaub, Erich"
          ],
          [
           "New York, NY",
           "Lindt, Peter M."
          ],
          [
           "New York, NY",
           "Lips, Julius"
          ],
          [
           "New York, NY",
           "Meier, Henry"
          ],
          [
           "New York, NY",
           "Lohmeyer, Wolfgang"
          ],
          [
           "New York, NY",
           "Ludwig, Emil"
          ],
          [
           "New York, NY",
           "Luschnat, David"
          ],
          [
           "New York, NY",
           null
          ],
          [
           "New York, NY",
           "Maass, Joachim"
          ],
          [
           "New York, NY",
           "Mähl, Albert"
          ],
          [
           "New York, NY",
           "Mahler-Werfel, Alma Maria"
          ],
          [
           "New York, NY",
           "Maisch, Herbert"
          ],
          [
           "New York, NY",
           "Mann, Monika"
          ],
          [
           "New York, NY",
           "Marck, Louis"
          ],
          [
           "New York, NY",
           "Maringer, Karen"
          ],
          [
           "New York, NY",
           "Marmann, ..."
          ],
          [
           "New York, NY",
           "Martin, George"
          ],
          [
           "New York, NY",
           "Martin, Hilda Maria"
          ],
          [
           "New York, NY",
           "Mautz, Kurt"
          ],
          [
           "München",
           "Berendsohn, Walter A."
          ],
          [
           "München",
           "Gerber, Hela"
          ],
          [
           "München",
           "Blisse, Gerda"
          ],
          [
           "München",
           "Bruckner, Hermann"
          ],
          [
           "München",
           "Engesser, Klaus"
          ],
          [
           "München",
           "Skulima, Loni"
          ],
          [
           "München",
           "Bundschuh, ..."
          ],
          [
           "München",
           "Christlieb, ..."
          ],
          [
           "München",
           "Bissinger, F."
          ],
          [
           "München",
           "Colbert, Helga"
          ],
          [
           "München",
           "Cotton, Maurice"
          ],
          [
           "München",
           "Deutsch, Ernst"
          ],
          [
           "München",
           "Böse, Georg"
          ],
          [
           "München",
           "Barjansky, Michael"
          ],
          [
           "München",
           "Müller-Horn, ..."
          ],
          [
           "München",
           "Hasselblatt, Dieter"
          ],
          [
           "München",
           "Dèvignes, Yvonne"
          ],
          [
           "München",
           "Diem-Tilp, Ida"
          ],
          [
           "München",
           "Daskaljuk, Paula"
          ],
          [
           "München",
           "Drewitz, Ingeborg"
          ],
          [
           "München",
           "Bolle, Fritz"
          ],
          [
           "München",
           "Elbau, Julius"
          ],
          [
           "München",
           "Meurer, Kurt"
          ],
          [
           "München",
           "Engelmeier, ..."
          ],
          [
           "München",
           "Zoeller-Dudman, Juscha"
          ],
          [
           "München",
           "Scheiner, Hedwig"
          ],
          [
           "München",
           "Schlabrendorff, Fabian von"
          ],
          [
           "München",
           "Schneidt, Christl"
          ],
          [
           "München",
           "Schnetz, Wolf Peter"
          ],
          [
           "München",
           "Schönburg-Hartenstein, Agathe von"
          ],
          [
           "München",
           "Schultes, Christl"
          ],
          [
           "München",
           "Schulze, Verena"
          ],
          [
           "München",
           "Landau, Edwin Maria"
          ],
          [
           "München",
           "Schwarz, Georg"
          ],
          [
           "München",
           "Seeberger, Kurt"
          ],
          [
           "München",
           "Schwarz, Hilde"
          ],
          [
           "München",
           "Seiderer, Hermann"
          ],
          [
           "München",
           "Setzer, Johanna"
          ],
          [
           "München",
           "Siadimas, Miltiades"
          ],
          [
           "München",
           "Simundt, Anna Maria"
          ],
          [
           "München",
           "Deharde, Gustav"
          ],
          [
           "München",
           "Bröger, Friedrich"
          ],
          [
           "München",
           "Vogt, Hans Joachim"
          ],
          [
           "München",
           "Stark, Günther"
          ],
          [
           "München",
           "Stefl, Max"
          ],
          [
           "München",
           "Stern, Desider"
          ],
          [
           "München",
           "Seydelmann, Gertrud"
          ],
          [
           "München",
           "Goldschmit, Rudolf"
          ],
          [
           "München",
           "Suhrkamp, Peter"
          ],
          [
           "München",
           "Theile, Albert"
          ],
          [
           "München",
           "Ulmer, Elisabeth"
          ],
          [
           "München",
           "Joyce, ..."
          ],
          [
           "München",
           "Witsch, Joseph Caspar"
          ],
          [
           "München",
           "Schneider, Lambert"
          ],
          [
           "München",
           "Pfleiderer, D."
          ],
          [
           "München",
           "Féaux de la Croix, Ernst"
          ],
          [
           "München",
           "Forstat, ..."
          ],
          [
           "München",
           "Forstat, ..."
          ],
          [
           "München",
           "Frank, D. M."
          ],
          [
           "München",
           "Gerold, Karl"
          ],
          [
           "München",
           "Bach, Rudolf"
          ],
          [
           "München",
           "Schneekluth, Franz"
          ],
          [
           "München",
           "Galleani di St. Ambroise, Barbara"
          ],
          [
           "München",
           "Ginsberg, Ernst"
          ],
          [
           "München",
           "Grüntzig, Walter"
          ],
          [
           "München",
           "Gürster, Eugen"
          ],
          [
           "München",
           "Habe, Hans"
          ],
          [
           "München",
           "Häuser-Lentz, Hertha"
          ],
          [
           "München",
           "Hampe, Johann Christoph"
          ],
          [
           "München",
           "Hansemann, Walter"
          ],
          [
           "München",
           "Harbeck, Anni"
          ],
          [
           "München",
           "Heilbut, Charlotte"
          ],
          [
           "München",
           "Heilbut, Charlotte"
          ],
          [
           "München",
           "Heilbut, Francis"
          ],
          [
           "München",
           "Heinrich, Ursula"
          ],
          [
           "München",
           "Schonauer, Franz"
          ],
          [
           "München",
           "Herrenkind, Otto"
          ],
          [
           "München",
           "Roloff, Fränze"
          ],
          [
           "München",
           "Hirschberg, Dorothea"
          ],
          [
           "München",
           "Hirschfeld, Hans Emil"
          ],
          [
           "München",
           "Hochfilser, ..."
          ],
          [
           "München",
           "Hofer, ..."
          ],
          [
           "München",
           "Hutter, ..."
          ],
          [
           "München",
           "Hirsch, Rudolf"
          ],
          [
           "München",
           "Röder, Werner"
          ],
          [
           "München",
           "Kohn, Hein"
          ],
          [
           "München",
           "Meierott, Hans"
          ],
          [
           "München",
           "Meyer, Werner"
          ],
          [
           "München",
           "Meyer, William"
          ],
          [
           "München",
           "Morvilius, Gretchen"
          ],
          [
           "München",
           "Bergold, Werner"
          ],
          [
           "München",
           "Zellner, Werner"
          ],
          [
           "München",
           "Hohenemser, Herbert"
          ],
          [
           "München",
           "Müssener, Helmut"
          ],
          [
           "München",
           "Drese, Claus Helmut"
          ],
          [
           "München",
           "Hirschberg, R."
          ],
          [
           "München",
           "Tergit, Gabriele"
          ],
          [
           "München",
           "Perleberg, Gilbert"
          ],
          [
           "München",
           "Pallmann, Gerhard"
          ],
          [
           "München",
           "Piper, Reinhard"
          ],
          [
           "München",
           "Jedlitschka, Hans"
          ],
          [
           "München",
           "Radt, Meta"
          ],
          [
           "München",
           "Martin, Geoffrey G."
          ],
          [
           "München",
           "Raue, Gernot"
          ],
          [
           "München",
           "Müller, G."
          ],
          [
           "München",
           "Rehn, Jens"
          ],
          [
           "München",
           "Richter, Stéphane"
          ],
          [
           "München",
           "Rosen, Hans"
          ],
          [
           "München",
           "Rothe, Hans"
          ],
          [
           "München",
           "Sackmauer, Ludwig"
          ],
          [
           "München",
           "Abold, ..."
          ],
          [
           "München",
           "Huder, Walther"
          ],
          [
           "München",
           "Albers, Heinz"
          ],
          [
           "München",
           "Lilienfeld, Gerhard von"
          ],
          [
           "München",
           "Scott, James A."
          ],
          [
           "München",
           "Schreiber, Hans"
          ],
          [
           "München",
           "Nash, Marian L."
          ],
          [
           "München",
           "Gruntz, ..."
          ],
          [
           "München",
           "Koslowski, Helen A."
          ],
          [
           "München",
           "Koslowski, Helen A."
          ],
          [
           "München",
           "Fuhrmann, Günther"
          ],
          [
           "München",
           "Maskow, Ilse"
          ],
          [
           "München",
           "Flach, Horst"
          ],
          [
           "München",
           "Ash, Adrienne"
          ],
          [
           "München",
           "Asmus, Johannes"
          ],
          [
           "München",
           "Springer, Axel"
          ],
          [
           "München",
           "Baedeker, Peer"
          ],
          [
           "München",
           "Barthelmeß, Erich"
          ],
          [
           "München",
           "Schröder, Arnulf"
          ],
          [
           "München",
           "Belmore, Manford"
          ],
          [
           "München",
           "Walter, Hans-Albert"
          ],
          [
           "München",
           "Rast, Josef"
          ],
          [
           "München",
           "Weber, Kurt"
          ],
          [
           "München",
           "Wegner, Armin T."
          ],
          [
           "München",
           "Weigelt, Friedrich"
          ],
          [
           "München",
           "Weiss, Luitpold"
          ],
          [
           "München",
           "Haas, Helmuth de"
          ],
          [
           "München",
           "Werner, Arthur"
          ],
          [
           "München",
           "Hermann, ..."
          ],
          [
           "München",
           "Wimmer, Maria"
          ],
          [
           "München",
           "Ziersch, ..."
          ],
          [
           "München",
           "Walther, Karl-Heinz"
          ],
          [
           "München",
           "Zivier, ..."
          ],
          [
           "München",
           "Jacobson, Anna"
          ],
          [
           "München",
           "Pinto, M."
          ],
          [
           "München",
           "Jonas, Klaus W."
          ],
          [
           "München",
           "Kaupisch von Reppert, Irmgard"
          ],
          [
           "München",
           "Kiener, Theodor"
          ],
          [
           "München",
           "Falkenberg, Hans-Geert"
          ],
          [
           "München",
           "Kirchhoff, Helma"
          ],
          [
           "München",
           "Kockerols, Friedrich Adolf"
          ],
          [
           "München",
           "Kortner, Fritz"
          ],
          [
           "München",
           "Kraft, Helga"
          ],
          [
           "München",
           "Krushel, Jacqueline"
          ],
          [
           "München",
           "Landers, Margot"
          ],
          [
           "München",
           "Laubenthal, Michaela"
          ],
          [
           "München",
           "Leibl, Herta"
          ],
          [
           "München",
           "Leonhard, Erna"
          ],
          [
           "München",
           "Lippert, Albert"
          ],
          [
           "München",
           "Lipton, Liane"
          ],
          [
           "München",
           "Lorenz, Wilfried"
          ],
          [
           "München",
           "Lühr, Peter"
          ],
          [
           "München",
           "Mainzer, Otto"
          ],
          [
           "München",
           "Mann, Erika"
          ],
          [
           "München",
           "Mannheim, Lucie"
          ],
          [
           "München",
           "Masereel, Frans"
          ],
          [
           "München",
           "Matern, Kitty"
          ],
          [
           "München u.a.",
           "Benedikt, Ernst Martin"
          ],
          [
           "München u.a.",
           "Klausnitzer, Horst"
          ],
          [
           "München u.a.",
           "Diestel, Hedwig"
          ],
          [
           "München u.a.",
           "Dombrowski, Erich"
          ],
          [
           "München u.a.",
           "Edel, Gottfried"
          ],
          [
           "München u.a.",
           "Schmitt-Sulzthal, Rudolf"
          ],
          [
           "München u.a.",
           "Sellenthin, Hans Gerd"
          ],
          [
           "München u.a.",
           "Ebert, Carl"
          ],
          [
           "München u.a.",
           "Rosengarten, Walter"
          ],
          [
           "München u.a.",
           "Trausil, Hans"
          ],
          [
           "München u.a.",
           "Schifferli, Peter"
          ],
          [
           "München u.a.",
           "Fernau, Rudolf"
          ],
          [
           "München u.a.",
           "Frank, D. M."
          ],
          [
           "München u.a.",
           "Heilbut, Charlotte"
          ],
          [
           "München u.a.",
           "Heilbut, Charlotte"
          ],
          [
           "München u.a.",
           "Hohenemser, Herbert"
          ],
          [
           "München u.a.",
           "Wallenberg, Hans"
          ],
          [
           "München u.a.",
           "Schönwiese, Ernst"
          ],
          [
           "München u.a.",
           "Preuss, Gerhard"
          ],
          [
           "München u.a.",
           "Giefer, Günter"
          ],
          [
           "München u.a.",
           "Ude, Karl"
          ],
          [
           "München u.a.",
           "Wicclair, Walter"
          ],
          [
           "München u.a.",
           "Wolf, Eleanor B."
          ],
          [
           "München u.a.",
           "Vietta, Egon"
          ],
          [
           "München u.a.",
           "Maximowna, Ita"
          ],
          [
           "Berlin",
           "Herda, Wolfgang"
          ],
          [
           "Berlin",
           "Carreras, Maria"
          ],
          [
           "Berlin",
           "Struß, Dieter"
          ],
          [
           "Berlin",
           "Sternfeld, Wilhelm"
          ],
          [
           "Berlin",
           "Behrend, Horst"
          ],
          [
           "Berlin",
           "Guajardo, V. L."
          ],
          [
           "Berlin",
           "Hell, Heinz"
          ],
          [
           "Berlin",
           "Hermoni, Šelômît"
          ],
          [
           "Berlin",
           "Molzahn, Loretto"
          ],
          [
           "Berlin",
           "Noeggerath, Marga"
          ],
          [
           "Berlin",
           "Reinholz, Franz"
          ],
          [
           "Berlin",
           "Ropertz, Hans-Rolf"
          ],
          [
           "Berlin",
           "Szypula, Rudolf"
          ],
          [
           "Berlin",
           "Jiptner, Lou"
          ],
          [
           "Berlin",
           "Keller, Josef"
          ],
          [
           "Berlin",
           "Leiser, Erwin"
          ],
          [
           "Hamburg",
           "Gerber, Hela"
          ],
          [
           "Hamburg",
           "Bothas, Dagmar"
          ],
          [
           "Hamburg",
           "Stercken, Hans"
          ],
          [
           "Hamburg",
           "Goes, Albrecht"
          ],
          [
           "Hamburg",
           "Vogel, Paul O."
          ],
          [
           "Hamburg",
           "Hampe, Johann Christoph"
          ],
          [
           "Hamburg",
           "Auburtin, A."
          ],
          [
           "Hamburg",
           "Rimpel, Alexandra"
          ],
          [
           "Hamburg",
           "Sinhuber, Bartel F."
          ],
          [
           "Hamburg",
           "Kasper, Ottilie"
          ],
          [
           "Hamburg",
           "Kerr, Alfred"
          ],
          [
           "Hamburg",
           "Koch, Willi August"
          ],
          [
           "Berlin-Wilmersdorf",
           "Blume, ..."
          ],
          [
           "Berlin-Wilmersdorf",
           "Brüdern, Gerd"
          ],
          [
           "Berlin-Wilmersdorf",
           "Ganzer, Karl"
          ],
          [
           "Berlin-Wilmersdorf",
           "Voigt, Rainer"
          ],
          [
           "Berlin-Wilmersdorf",
           "Kahnert, Walter"
          ],
          [
           "Berlin-Wilmersdorf",
           "Heuss, Theodor"
          ],
          [
           "Berlin-Wilmersdorf",
           "Meingast, Fritz"
          ],
          [
           "Berlin-Wilmersdorf",
           "Meyer, Elisabeth"
          ],
          [
           "Berlin-Wilmersdorf",
           "Müller-Jabusch, Maximilian"
          ],
          [
           "Berlin-Wilmersdorf",
           "Wenninger, Hermann"
          ],
          [
           "Berlin-Wilmersdorf",
           "Raeck, Kurt"
          ],
          [
           "Berlin-Wilmersdorf",
           "Engert, Fritz"
          ],
          [
           "Berlin-Wilmersdorf",
           "Ashcroft, Peggy"
          ],
          [
           "Berlin-Wilmersdorf",
           "Mayerhof, ..."
          ],
          [
           "Berlin, West",
           "Norden, Adalbert"
          ],
          [
           "Bonn",
           "Kippenberg, F."
          ],
          [
           "Stuttgart",
           "Henning, Otto"
          ],
          [
           "Stuttgart",
           "Friedheim, ..."
          ],
          [
           "Stuttgart",
           "Grupp, Friedrich"
          ],
          [
           "Stuttgart",
           "Gumpert, Martin"
          ],
          [
           "Stuttgart",
           "Franke, Hans"
          ],
          [
           "Stuttgart",
           "Schuchard, Gottlieb C. L."
          ],
          [
           "Stuttgart",
           "Behrens, Robert"
          ],
          [
           "Stuttgart",
           "Laubenthal, Michaela"
          ],
          [
           "o.O.",
           "Ben-Ḥorin, Shalom"
          ],
          [
           "o.O.",
           "Bruer, Ursula"
          ],
          [
           "o.O.",
           "Thormann, Charlotte"
          ],
          [
           "o.O.",
           "Perera, Carolyn"
          ],
          [
           "o.O.",
           "Ramsperger, Ina"
          ],
          [
           "o.O.",
           "Bannert, Karl Jos."
          ],
          [
           "o.O.",
           "Baur, Hans"
          ],
          [
           "o.O.",
           "Bellardi, Ingrid"
          ],
          [
           "o.O.",
           "Wilde, Harry"
          ],
          [
           "o.O.",
           "Mager, Ingeborg"
          ],
          [
           "Berlin-Wilmersdorf u.a.",
           "Zarek, Otto"
          ],
          [
           "Berlin-Wilmersdorf u.a.",
           "Zarek, Otto"
          ],
          [
           "Berlin-Wilmersdorf u.a.",
           "Böse, Georg"
          ],
          [
           "Berlin-Wilmersdorf u.a.",
           "Lietzau, Hans"
          ],
          [
           "Berlin-Wilmersdorf u.a.",
           "Laubrinus, ..."
          ],
          [
           "Berlin-Wilmersdorf u.a.",
           "Gillen, Otto"
          ],
          [
           "Berlin-Wilmersdorf u.a.",
           "Beer-Hofmann, Nae͏̈mah"
          ],
          [
           "Berlin-Wilmersdorf u.a.",
           "Urbach, Ilse"
          ],
          [
           "Berlin-Wilmersdorf u.a.",
           "Lemmer, Ernst"
          ],
          [
           "Berlin-Grunewald",
           "Garbe, ..."
          ],
          [
           "Berlin-Grunewald",
           "Lambart, ..."
          ],
          [
           "Berlin-Grunewald",
           "Blumenfeld, Fanny"
          ],
          [
           "Berlin-Grunewald",
           "Dammann, Anna"
          ],
          [
           "Berlin-Grunewald",
           "Dorsch, Käthe"
          ],
          [
           "Berlin-Grunewald",
           "Treitel, Miriam"
          ],
          [
           "Berlin-Grunewald",
           "Karsch, Walther"
          ],
          [
           "Berlin-Grunewald",
           "Fiene, Jeanette"
          ],
          [
           "Berlin-Grunewald",
           "Giraudoux, Jean-Pierre"
          ],
          [
           "Berlin-Grunewald",
           "Kohn, Hein"
          ],
          [
           "Berlin-Grunewald",
           "Hohenemser, Herbert"
          ],
          [
           "Berlin-Grunewald",
           "Gildner, Jay W."
          ],
          [
           "Berlin-Grunewald",
           "Scott, James A."
          ],
          [
           "Berlin-Grunewald",
           "Aust, Hertha"
          ],
          [
           "Berlin-Grunewald",
           "Wells, Henry Willis"
          ],
          [
           "Berlin-Grunewald",
           "Kinski, Klaus"
          ],
          [
           "Berlin-Grunewald",
           "Krieger, Arnold"
          ],
          [
           "München , Berlin-Grunewald",
           "Carsch, Friedel"
          ],
          [
           "Marseille",
           "Cohn, ..."
          ],
          [
           "Marseille",
           "Frank, Bruno"
          ],
          [
           "Marseille",
           "Fry, Varian"
          ],
          [
           "Marseille",
           "Kleiber, Otto"
          ],
          [
           "[New York, NY]",
           "Cohn, Ruth C."
          ],
          [
           "Teilw. Entwurf",
           "Ehrenberg, Hanny"
          ],
          [
           "Berlin-Grunewald u.a.",
           "Elsberg, Heinz"
          ],
          [
           "Berlin-Grunewald u.a.",
           "Meyer, James"
          ],
          [
           "Berlin-Grunewald u.a.",
           "Hopkins, Arthur H."
          ],
          [
           "Berlin-Grunewald u.a.",
           "Szypula, Rudolf"
          ],
          [
           "Berlin-Grunewald u.a.",
           "Marni-Kahans, Bella"
          ],
          [
           "Berlin u.a.",
           "Gasper, Dieter"
          ],
          [
           "Berlin u.a.",
           "Schulz, Günter"
          ],
          [
           "Berlin u.a.",
           "Hirsch, Rudolf"
          ],
          [
           "Lissabon",
           null
          ],
          [
           "Lissabon",
           "Thompson, Dorothy"
          ],
          [
           "Lissabon",
           "Pollak, Anneliese"
          ],
          [
           "Lissabon",
           "Ragaz, Christine"
          ],
          [
           "Lissabon",
           "Adler, Jenny"
          ],
          [
           "Lissabon",
           "Altmann, Manfred"
          ],
          [
           "Lissabon",
           null
          ],
          [
           "Lissabon",
           "Schumacher, Karl von"
          ],
          [
           "Lissabon",
           "Landau, Ida"
          ],
          [
           "Lissabon",
           "Maass, Ilse"
          ],
          [
           "Stuttgart u.a.",
           "Eberle, Josef"
          ],
          [
           "Berlin (West) u.a.",
           "Silex, Karl"
          ],
          [
           "Geretsried",
           "Tesche, Gusti"
          ],
          [
           "Zürich",
           "Vahsen, Arnold"
          ],
          [
           "Zürich",
           "Hessing, Jakob"
          ],
          [
           "Zürich",
           "Wiesenthal, Simon"
          ],
          [
           "Zürich",
           "Wolffheim, Hans"
          ],
          [
           "Toulouse",
           "Oprecht, Emil"
          ],
          [
           "Toulouse",
           null
          ],
          [
           "Paris",
           "Gaetke, Eleonore"
          ],
          [
           "Paris",
           "Heilbut, Charlotte"
          ],
          [
           "Paris",
           "Verschiedene"
          ],
          [
           "Jerusalem",
           "Gianolini, A."
          ],
          [
           "Jerusalem",
           "Meiershofer, Edel"
          ],
          [
           "Jerusalem",
           "Pollak, Anneliese"
          ],
          [
           "Jerusalem",
           "Kormes, ..."
          ],
          [
           "Stuttart",
           "Heilbut, Charlotte"
          ],
          [
           "Berlin-Wilmerdorf u.a.",
           "Giefer, Günter"
          ],
          [
           "Salzburg",
           "Altmann, Manfred"
          ],
          [
           "Tübingen",
           "Merkel, H."
          ],
          [
           "Landshut",
           "Weber, Willibald"
          ],
          [
           "Fulda",
           "Jennerich, Louise"
          ],
          [
           "München, Nizza u.a.",
           "Keller, Josef"
          ],
          [
           "Tel-Aviv",
           "Kreisselmeier, Hermann"
          ]
         ],
         "geo": "geo",
         "hoverlabel": {
          "namelength": 0
         },
         "hovertemplate": "author=Heilbut, Iwan<br>place=%{customdata[0]}<br>recipient=%{customdata[1]}<br>lat=%{lat}<br>lon=%{lon}",
         "lat": [
          40.7127281,
          40.7127281,
          40.7127281,
          40.7127281,
          40.7127281,
          40.7127281,
          40.7127281,
          40.7127281,
          40.7127281,
          40.7127281,
          40.7127281,
          40.7127281,
          40.7127281,
          40.7127281,
          40.7127281,
          40.7127281,
          40.7127281,
          40.7127281,
          40.7127281,
          40.7127281,
          40.7127281,
          40.7127281,
          40.7127281,
          40.7127281,
          40.7127281,
          40.7127281,
          40.7127281,
          40.7127281,
          40.7127281,
          40.7127281,
          40.7127281,
          40.7127281,
          40.7127281,
          40.7127281,
          40.7127281,
          40.7127281,
          40.7127281,
          40.7127281,
          40.7127281,
          40.7127281,
          40.7127281,
          40.7127281,
          40.7127281,
          40.7127281,
          40.7127281,
          40.7127281,
          40.7127281,
          40.7127281,
          40.7127281,
          40.7127281,
          40.7127281,
          40.7127281,
          40.7127281,
          40.7127281,
          40.7127281,
          40.7127281,
          40.7127281,
          40.7127281,
          40.7127281,
          40.7127281,
          40.7127281,
          40.7127281,
          40.7127281,
          40.7127281,
          40.7127281,
          40.7127281,
          40.7127281,
          40.7127281,
          40.7127281,
          40.7127281,
          40.7127281,
          40.7127281,
          40.7127281,
          40.7127281,
          40.7127281,
          40.7127281,
          40.7127281,
          40.7127281,
          40.7127281,
          40.7127281,
          40.7127281,
          40.7127281,
          40.7127281,
          40.7127281,
          40.7127281,
          40.7127281,
          40.7127281,
          40.7127281,
          40.7127281,
          40.7127281,
          40.7127281,
          40.7127281,
          40.7127281,
          40.7127281,
          40.7127281,
          40.7127281,
          40.7127281,
          40.7127281,
          40.7127281,
          40.7127281,
          40.7127281,
          40.7127281,
          40.7127281,
          40.7127281,
          40.7127281,
          40.7127281,
          40.7127281,
          40.7127281,
          40.7127281,
          40.7127281,
          40.7127281,
          40.7127281,
          40.7127281,
          40.7127281,
          40.7127281,
          40.7127281,
          40.7127281,
          40.7127281,
          40.7127281,
          40.7127281,
          40.7127281,
          40.7127281,
          40.7127281,
          40.7127281,
          40.7127281,
          40.7127281,
          40.7127281,
          40.7127281,
          40.7127281,
          40.7127281,
          40.7127281,
          40.7127281,
          40.7127281,
          40.7127281,
          40.7127281,
          40.7127281,
          40.7127281,
          40.7127281,
          40.7127281,
          40.7127281,
          40.7127281,
          40.7127281,
          40.7127281,
          40.7127281,
          40.7127281,
          40.7127281,
          40.7127281,
          40.7127281,
          40.7127281,
          40.7127281,
          40.7127281,
          40.7127281,
          40.7127281,
          40.7127281,
          40.7127281,
          40.7127281,
          40.7127281,
          40.7127281,
          40.7127281,
          40.7127281,
          40.7127281,
          40.7127281,
          40.7127281,
          40.7127281,
          40.7127281,
          40.7127281,
          40.7127281,
          40.7127281,
          40.7127281,
          40.7127281,
          40.7127281,
          40.7127281,
          40.7127281,
          40.7127281,
          40.7127281,
          40.7127281,
          40.7127281,
          40.7127281,
          40.7127281,
          40.7127281,
          40.7127281,
          40.7127281,
          40.7127281,
          40.7127281,
          40.7127281,
          40.7127281,
          40.7127281,
          40.7127281,
          40.7127281,
          40.7127281,
          40.7127281,
          40.7127281,
          40.7127281,
          40.7127281,
          40.7127281,
          40.7127281,
          40.7127281,
          40.7127281,
          40.7127281,
          40.7127281,
          40.7127281,
          40.7127281,
          40.7127281,
          40.7127281,
          40.7127281,
          40.7127281,
          40.7127281,
          40.7127281,
          40.7127281,
          40.7127281,
          40.7127281,
          40.7127281,
          40.7127281,
          40.7127281,
          40.7127281,
          40.7127281,
          40.7127281,
          40.7127281,
          40.7127281,
          40.7127281,
          40.7127281,
          40.7127281,
          40.7127281,
          40.7127281,
          40.7127281,
          40.7127281,
          40.7127281,
          40.7127281,
          40.7127281,
          40.7127281,
          40.7127281,
          40.7127281,
          40.7127281,
          40.7127281,
          40.7127281,
          40.7127281,
          40.7127281,
          40.7127281,
          40.7127281,
          40.7127281,
          40.7127281,
          40.7127281,
          40.7127281,
          40.7127281,
          40.7127281,
          40.7127281,
          40.7127281,
          40.7127281,
          40.7127281,
          40.7127281,
          40.7127281,
          40.7127281,
          40.7127281,
          40.7127281,
          40.7127281,
          40.7127281,
          40.7127281,
          40.7127281,
          40.7127281,
          40.7127281,
          40.7127281,
          40.7127281,
          40.7127281,
          40.7127281,
          40.7127281,
          48.1371079,
          48.1371079,
          48.1371079,
          48.1371079,
          48.1371079,
          48.1371079,
          48.1371079,
          48.1371079,
          48.1371079,
          48.1371079,
          48.1371079,
          48.1371079,
          48.1371079,
          48.1371079,
          48.1371079,
          48.1371079,
          48.1371079,
          48.1371079,
          48.1371079,
          48.1371079,
          48.1371079,
          48.1371079,
          48.1371079,
          48.1371079,
          48.1371079,
          48.1371079,
          48.1371079,
          48.1371079,
          48.1371079,
          48.1371079,
          48.1371079,
          48.1371079,
          48.1371079,
          48.1371079,
          48.1371079,
          48.1371079,
          48.1371079,
          48.1371079,
          48.1371079,
          48.1371079,
          48.1371079,
          48.1371079,
          48.1371079,
          48.1371079,
          48.1371079,
          48.1371079,
          48.1371079,
          48.1371079,
          48.1371079,
          48.1371079,
          48.1371079,
          48.1371079,
          48.1371079,
          48.1371079,
          48.1371079,
          48.1371079,
          48.1371079,
          48.1371079,
          48.1371079,
          48.1371079,
          48.1371079,
          48.1371079,
          48.1371079,
          48.1371079,
          48.1371079,
          48.1371079,
          48.1371079,
          48.1371079,
          48.1371079,
          48.1371079,
          48.1371079,
          48.1371079,
          48.1371079,
          48.1371079,
          48.1371079,
          48.1371079,
          48.1371079,
          48.1371079,
          48.1371079,
          48.1371079,
          48.1371079,
          48.1371079,
          48.1371079,
          48.1371079,
          48.1371079,
          48.1371079,
          48.1371079,
          48.1371079,
          48.1371079,
          48.1371079,
          48.1371079,
          48.1371079,
          48.1371079,
          48.1371079,
          48.1371079,
          48.1371079,
          48.1371079,
          48.1371079,
          48.1371079,
          48.1371079,
          48.1371079,
          48.1371079,
          48.1371079,
          48.1371079,
          48.1371079,
          48.1371079,
          48.1371079,
          48.1371079,
          48.1371079,
          48.1371079,
          48.1371079,
          48.1371079,
          48.1371079,
          48.1371079,
          48.1371079,
          48.1371079,
          48.1371079,
          48.1371079,
          48.1371079,
          48.1371079,
          48.1371079,
          48.1371079,
          48.1371079,
          48.1371079,
          48.1371079,
          48.1371079,
          48.1371079,
          48.1371079,
          48.1371079,
          48.1371079,
          48.1371079,
          48.1371079,
          48.1371079,
          48.1371079,
          48.1371079,
          48.1371079,
          48.1371079,
          48.1371079,
          48.1371079,
          48.1371079,
          48.1371079,
          48.1371079,
          48.1371079,
          48.1371079,
          48.1371079,
          48.1371079,
          48.1371079,
          48.1371079,
          48.1371079,
          48.1371079,
          48.1371079,
          48.1371079,
          48.1371079,
          48.1371079,
          48.1371079,
          48.1371079,
          48.1371079,
          48.1371079,
          48.1371079,
          48.1371079,
          48.1371079,
          48.1371079,
          48.1371079,
          48.1371079,
          48.1371079,
          48.1371079,
          48.1371079,
          48.1791699,
          48.1791699,
          48.1791699,
          48.1791699,
          48.1791699,
          48.1791699,
          48.1791699,
          48.1791699,
          48.1791699,
          48.1791699,
          48.1791699,
          48.1791699,
          48.1791699,
          48.1791699,
          48.1791699,
          48.1791699,
          48.1791699,
          48.1791699,
          48.1791699,
          48.1791699,
          48.1791699,
          48.1791699,
          48.1791699,
          48.1791699,
          48.1791699,
          52.517036499999996,
          52.517036499999996,
          52.517036499999996,
          52.517036499999996,
          52.517036499999996,
          52.517036499999996,
          52.517036499999996,
          52.517036499999996,
          52.517036499999996,
          52.517036499999996,
          52.517036499999996,
          52.517036499999996,
          52.517036499999996,
          52.517036499999996,
          52.517036499999996,
          52.517036499999996,
          53.550341,
          53.550341,
          53.550341,
          53.550341,
          53.550341,
          53.550341,
          53.550341,
          53.550341,
          53.550341,
          53.550341,
          53.550341,
          53.550341,
          52.4871152,
          52.4871152,
          52.4871152,
          52.4871152,
          52.4871152,
          52.4871152,
          52.4871152,
          52.4871152,
          52.4871152,
          52.4871152,
          52.4871152,
          52.4871152,
          52.4871152,
          52.4871152,
          52.517036499999996,
          50.735851000000004,
          48.778448499999996,
          48.778448499999996,
          48.778448499999996,
          48.778448499999996,
          48.778448499999996,
          48.778448499999996,
          48.778448499999996,
          48.778448499999996,
          51.5524449,
          51.5524449,
          51.5524449,
          51.5524449,
          51.5524449,
          51.5524449,
          51.5524449,
          51.5524449,
          51.5524449,
          51.5524449,
          52.4758015,
          52.4758015,
          52.4758015,
          52.4758015,
          52.4758015,
          52.4758015,
          52.4758015,
          52.4758015,
          52.4758015,
          52.4903556,
          52.4903556,
          52.4903556,
          52.4903556,
          52.4903556,
          52.4903556,
          52.4903556,
          52.4903556,
          52.4903556,
          52.4903556,
          52.4903556,
          52.4903556,
          52.4903556,
          52.4903556,
          52.4903556,
          52.4903556,
          52.4903556,
          null,
          43.2961743,
          43.2961743,
          43.2961743,
          43.2961743,
          40.7127281,
          null,
          null,
          null,
          null,
          null,
          null,
          10.0150648,
          10.0150648,
          10.0150648,
          38.707750700000005,
          38.707750700000005,
          38.707750700000005,
          38.707750700000005,
          38.707750700000005,
          38.707750700000005,
          38.707750700000005,
          38.707750700000005,
          38.707750700000005,
          38.707750700000005,
          25.135498000000002,
          52.4850209,
          47.8646925,
          47.3723941,
          47.3723941,
          47.3723941,
          47.3723941,
          43.6044622,
          43.6044622,
          48.856610100000005,
          48.856610100000005,
          48.856610100000005,
          31.778345,
          31.778345,
          31.778345,
          31.778345,
          null,
          null,
          47.798134600000004,
          48.5236164,
          48.545717100000005,
          50.5521486,
          null,
          32.080480800000004
         ],
         "legendgroup": "author=Heilbut, Iwan",
         "lon": [
          -74.0060152,
          -74.0060152,
          -74.0060152,
          -74.0060152,
          -74.0060152,
          -74.0060152,
          -74.0060152,
          -74.0060152,
          -74.0060152,
          -74.0060152,
          -74.0060152,
          -74.0060152,
          -74.0060152,
          -74.0060152,
          -74.0060152,
          -74.0060152,
          -74.0060152,
          -74.0060152,
          -74.0060152,
          -74.0060152,
          -74.0060152,
          -74.0060152,
          -74.0060152,
          -74.0060152,
          -74.0060152,
          -74.0060152,
          -74.0060152,
          -74.0060152,
          -74.0060152,
          -74.0060152,
          -74.0060152,
          -74.0060152,
          -74.0060152,
          -74.0060152,
          -74.0060152,
          -74.0060152,
          -74.0060152,
          -74.0060152,
          -74.0060152,
          -74.0060152,
          -74.0060152,
          -74.0060152,
          -74.0060152,
          -74.0060152,
          -74.0060152,
          -74.0060152,
          -74.0060152,
          -74.0060152,
          -74.0060152,
          -74.0060152,
          -74.0060152,
          -74.0060152,
          -74.0060152,
          -74.0060152,
          -74.0060152,
          -74.0060152,
          -74.0060152,
          -74.0060152,
          -74.0060152,
          -74.0060152,
          -74.0060152,
          -74.0060152,
          -74.0060152,
          -74.0060152,
          -74.0060152,
          -74.0060152,
          -74.0060152,
          -74.0060152,
          -74.0060152,
          -74.0060152,
          -74.0060152,
          -74.0060152,
          -74.0060152,
          -74.0060152,
          -74.0060152,
          -74.0060152,
          -74.0060152,
          -74.0060152,
          -74.0060152,
          -74.0060152,
          -74.0060152,
          -74.0060152,
          -74.0060152,
          -74.0060152,
          -74.0060152,
          -74.0060152,
          -74.0060152,
          -74.0060152,
          -74.0060152,
          -74.0060152,
          -74.0060152,
          -74.0060152,
          -74.0060152,
          -74.0060152,
          -74.0060152,
          -74.0060152,
          -74.0060152,
          -74.0060152,
          -74.0060152,
          -74.0060152,
          -74.0060152,
          -74.0060152,
          -74.0060152,
          -74.0060152,
          -74.0060152,
          -74.0060152,
          -74.0060152,
          -74.0060152,
          -74.0060152,
          -74.0060152,
          -74.0060152,
          -74.0060152,
          -74.0060152,
          -74.0060152,
          -74.0060152,
          -74.0060152,
          -74.0060152,
          -74.0060152,
          -74.0060152,
          -74.0060152,
          -74.0060152,
          -74.0060152,
          -74.0060152,
          -74.0060152,
          -74.0060152,
          -74.0060152,
          -74.0060152,
          -74.0060152,
          -74.0060152,
          -74.0060152,
          -74.0060152,
          -74.0060152,
          -74.0060152,
          -74.0060152,
          -74.0060152,
          -74.0060152,
          -74.0060152,
          -74.0060152,
          -74.0060152,
          -74.0060152,
          -74.0060152,
          -74.0060152,
          -74.0060152,
          -74.0060152,
          -74.0060152,
          -74.0060152,
          -74.0060152,
          -74.0060152,
          -74.0060152,
          -74.0060152,
          -74.0060152,
          -74.0060152,
          -74.0060152,
          -74.0060152,
          -74.0060152,
          -74.0060152,
          -74.0060152,
          -74.0060152,
          -74.0060152,
          -74.0060152,
          -74.0060152,
          -74.0060152,
          -74.0060152,
          -74.0060152,
          -74.0060152,
          -74.0060152,
          -74.0060152,
          -74.0060152,
          -74.0060152,
          -74.0060152,
          -74.0060152,
          -74.0060152,
          -74.0060152,
          -74.0060152,
          -74.0060152,
          -74.0060152,
          -74.0060152,
          -74.0060152,
          -74.0060152,
          -74.0060152,
          -74.0060152,
          -74.0060152,
          -74.0060152,
          -74.0060152,
          -74.0060152,
          -74.0060152,
          -74.0060152,
          -74.0060152,
          -74.0060152,
          -74.0060152,
          -74.0060152,
          -74.0060152,
          -74.0060152,
          -74.0060152,
          -74.0060152,
          -74.0060152,
          -74.0060152,
          -74.0060152,
          -74.0060152,
          -74.0060152,
          -74.0060152,
          -74.0060152,
          -74.0060152,
          -74.0060152,
          -74.0060152,
          -74.0060152,
          -74.0060152,
          -74.0060152,
          -74.0060152,
          -74.0060152,
          -74.0060152,
          -74.0060152,
          -74.0060152,
          -74.0060152,
          -74.0060152,
          -74.0060152,
          -74.0060152,
          -74.0060152,
          -74.0060152,
          -74.0060152,
          -74.0060152,
          -74.0060152,
          -74.0060152,
          -74.0060152,
          -74.0060152,
          -74.0060152,
          -74.0060152,
          -74.0060152,
          -74.0060152,
          -74.0060152,
          -74.0060152,
          -74.0060152,
          -74.0060152,
          -74.0060152,
          -74.0060152,
          -74.0060152,
          -74.0060152,
          -74.0060152,
          -74.0060152,
          -74.0060152,
          -74.0060152,
          -74.0060152,
          -74.0060152,
          -74.0060152,
          -74.0060152,
          -74.0060152,
          -74.0060152,
          -74.0060152,
          -74.0060152,
          -74.0060152,
          -74.0060152,
          -74.0060152,
          -74.0060152,
          -74.0060152,
          -74.0060152,
          -74.0060152,
          -74.0060152,
          -74.0060152,
          -74.0060152,
          -74.0060152,
          -74.0060152,
          -74.0060152,
          -74.0060152,
          -74.0060152,
          -74.0060152,
          11.575382199999998,
          11.575382199999998,
          11.575382199999998,
          11.575382199999998,
          11.575382199999998,
          11.575382199999998,
          11.575382199999998,
          11.575382199999998,
          11.575382199999998,
          11.575382199999998,
          11.575382199999998,
          11.575382199999998,
          11.575382199999998,
          11.575382199999998,
          11.575382199999998,
          11.575382199999998,
          11.575382199999998,
          11.575382199999998,
          11.575382199999998,
          11.575382199999998,
          11.575382199999998,
          11.575382199999998,
          11.575382199999998,
          11.575382199999998,
          11.575382199999998,
          11.575382199999998,
          11.575382199999998,
          11.575382199999998,
          11.575382199999998,
          11.575382199999998,
          11.575382199999998,
          11.575382199999998,
          11.575382199999998,
          11.575382199999998,
          11.575382199999998,
          11.575382199999998,
          11.575382199999998,
          11.575382199999998,
          11.575382199999998,
          11.575382199999998,
          11.575382199999998,
          11.575382199999998,
          11.575382199999998,
          11.575382199999998,
          11.575382199999998,
          11.575382199999998,
          11.575382199999998,
          11.575382199999998,
          11.575382199999998,
          11.575382199999998,
          11.575382199999998,
          11.575382199999998,
          11.575382199999998,
          11.575382199999998,
          11.575382199999998,
          11.575382199999998,
          11.575382199999998,
          11.575382199999998,
          11.575382199999998,
          11.575382199999998,
          11.575382199999998,
          11.575382199999998,
          11.575382199999998,
          11.575382199999998,
          11.575382199999998,
          11.575382199999998,
          11.575382199999998,
          11.575382199999998,
          11.575382199999998,
          11.575382199999998,
          11.575382199999998,
          11.575382199999998,
          11.575382199999998,
          11.575382199999998,
          11.575382199999998,
          11.575382199999998,
          11.575382199999998,
          11.575382199999998,
          11.575382199999998,
          11.575382199999998,
          11.575382199999998,
          11.575382199999998,
          11.575382199999998,
          11.575382199999998,
          11.575382199999998,
          11.575382199999998,
          11.575382199999998,
          11.575382199999998,
          11.575382199999998,
          11.575382199999998,
          11.575382199999998,
          11.575382199999998,
          11.575382199999998,
          11.575382199999998,
          11.575382199999998,
          11.575382199999998,
          11.575382199999998,
          11.575382199999998,
          11.575382199999998,
          11.575382199999998,
          11.575382199999998,
          11.575382199999998,
          11.575382199999998,
          11.575382199999998,
          11.575382199999998,
          11.575382199999998,
          11.575382199999998,
          11.575382199999998,
          11.575382199999998,
          11.575382199999998,
          11.575382199999998,
          11.575382199999998,
          11.575382199999998,
          11.575382199999998,
          11.575382199999998,
          11.575382199999998,
          11.575382199999998,
          11.575382199999998,
          11.575382199999998,
          11.575382199999998,
          11.575382199999998,
          11.575382199999998,
          11.575382199999998,
          11.575382199999998,
          11.575382199999998,
          11.575382199999998,
          11.575382199999998,
          11.575382199999998,
          11.575382199999998,
          11.575382199999998,
          11.575382199999998,
          11.575382199999998,
          11.575382199999998,
          11.575382199999998,
          11.575382199999998,
          11.575382199999998,
          11.575382199999998,
          11.575382199999998,
          11.575382199999998,
          11.575382199999998,
          11.575382199999998,
          11.575382199999998,
          11.575382199999998,
          11.575382199999998,
          11.575382199999998,
          11.575382199999998,
          11.575382199999998,
          11.575382199999998,
          11.575382199999998,
          11.575382199999998,
          11.575382199999998,
          11.575382199999998,
          11.575382199999998,
          11.575382199999998,
          11.575382199999998,
          11.575382199999998,
          11.575382199999998,
          11.575382199999998,
          11.575382199999998,
          11.575382199999998,
          11.575382199999998,
          11.575382199999998,
          11.575382199999998,
          11.575382199999998,
          11.575382199999998,
          11.575382199999998,
          11.575382199999998,
          11.5541431,
          11.5541431,
          11.5541431,
          11.5541431,
          11.5541431,
          11.5541431,
          11.5541431,
          11.5541431,
          11.5541431,
          11.5541431,
          11.5541431,
          11.5541431,
          11.5541431,
          11.5541431,
          11.5541431,
          11.5541431,
          11.5541431,
          11.5541431,
          11.5541431,
          11.5541431,
          11.5541431,
          11.5541431,
          11.5541431,
          11.5541431,
          11.5541431,
          13.388859900000002,
          13.388859900000002,
          13.388859900000002,
          13.388859900000002,
          13.388859900000002,
          13.388859900000002,
          13.388859900000002,
          13.388859900000002,
          13.388859900000002,
          13.388859900000002,
          13.388859900000002,
          13.388859900000002,
          13.388859900000002,
          13.388859900000002,
          13.388859900000002,
          13.388859900000002,
          10.000653999999999,
          10.000653999999999,
          10.000653999999999,
          10.000653999999999,
          10.000653999999999,
          10.000653999999999,
          10.000653999999999,
          10.000653999999999,
          10.000653999999999,
          10.000653999999999,
          10.000653999999999,
          10.000653999999999,
          13.320329800000001,
          13.320329800000001,
          13.320329800000001,
          13.320329800000001,
          13.320329800000001,
          13.320329800000001,
          13.320329800000001,
          13.320329800000001,
          13.320329800000001,
          13.320329800000001,
          13.320329800000001,
          13.320329800000001,
          13.320329800000001,
          13.320329800000001,
          13.388859900000002,
          7.10066,
          9.1800132,
          9.1800132,
          9.1800132,
          9.1800132,
          9.1800132,
          9.1800132,
          9.1800132,
          9.1800132,
          4.5917796,
          4.5917796,
          4.5917796,
          4.5917796,
          4.5917796,
          4.5917796,
          4.5917796,
          4.5917796,
          4.5917796,
          4.5917796,
          13.3248541,
          13.3248541,
          13.3248541,
          13.3248541,
          13.3248541,
          13.3248541,
          13.3248541,
          13.3248541,
          13.3248541,
          13.265232199999998,
          13.265232199999998,
          13.265232199999998,
          13.265232199999998,
          13.265232199999998,
          13.265232199999998,
          13.265232199999998,
          13.265232199999998,
          13.265232199999998,
          13.265232199999998,
          13.265232199999998,
          13.265232199999998,
          13.265232199999998,
          13.265232199999998,
          13.265232199999998,
          13.265232199999998,
          13.265232199999998,
          null,
          5.3699525,
          5.3699525,
          5.3699525,
          5.3699525,
          -74.0060152,
          null,
          null,
          null,
          null,
          null,
          null,
          -84.4734765,
          -84.4734765,
          -84.4734765,
          -9.1365919,
          -9.1365919,
          -9.1365919,
          -9.1365919,
          -9.1365919,
          -9.1365919,
          -9.1365919,
          -9.1365919,
          -9.1365919,
          -9.1365919,
          55.22161260000001,
          13.437284900000002,
          11.479351,
          8.5423328,
          8.5423328,
          8.5423328,
          8.5423328,
          1.4442469,
          1.4442469,
          2.3514992,
          2.3514992,
          2.3514992,
          35.2250786,
          35.2250786,
          35.2250786,
          35.2250786,
          null,
          null,
          13.046480599999999,
          9.0535531,
          12.2081029,
          9.676511,
          null,
          34.7805274
         ],
         "marker": {
          "color": "#636efa"
         },
         "name": "author=Heilbut, Iwan",
         "showlegend": true,
         "type": "scattergeo"
        }
       ],
       "layout": {
        "autosize": true,
        "geo": {
         "center": {
          "lat": 25.44879352219847,
          "lon": -3.6396360104946037
         },
         "domain": {
          "x": [
           0,
           1
          ],
          "y": [
           0,
           1
          ]
         },
         "projection": {
          "rotation": {
           "lon": -3.6396360104946037
          },
          "scale": 2.4149611829729936
         },
         "scope": "world"
        },
        "legend": {
         "tracegroupgap": 0
        },
        "margin": {
         "t": 60
        },
        "template": {
         "data": {
          "bar": [
           {
            "error_x": {
             "color": "#2a3f5f"
            },
            "error_y": {
             "color": "#2a3f5f"
            },
            "marker": {
             "line": {
              "color": "#E5ECF6",
              "width": 0.5
             }
            },
            "type": "bar"
           }
          ],
          "barpolar": [
           {
            "marker": {
             "line": {
              "color": "#E5ECF6",
              "width": 0.5
             }
            },
            "type": "barpolar"
           }
          ],
          "carpet": [
           {
            "aaxis": {
             "endlinecolor": "#2a3f5f",
             "gridcolor": "white",
             "linecolor": "white",
             "minorgridcolor": "white",
             "startlinecolor": "#2a3f5f"
            },
            "baxis": {
             "endlinecolor": "#2a3f5f",
             "gridcolor": "white",
             "linecolor": "white",
             "minorgridcolor": "white",
             "startlinecolor": "#2a3f5f"
            },
            "type": "carpet"
           }
          ],
          "choropleth": [
           {
            "colorbar": {
             "outlinewidth": 0,
             "ticks": ""
            },
            "type": "choropleth"
           }
          ],
          "contour": [
           {
            "colorbar": {
             "outlinewidth": 0,
             "ticks": ""
            },
            "colorscale": [
             [
              0,
              "#0d0887"
             ],
             [
              0.1111111111111111,
              "#46039f"
             ],
             [
              0.2222222222222222,
              "#7201a8"
             ],
             [
              0.3333333333333333,
              "#9c179e"
             ],
             [
              0.4444444444444444,
              "#bd3786"
             ],
             [
              0.5555555555555556,
              "#d8576b"
             ],
             [
              0.6666666666666666,
              "#ed7953"
             ],
             [
              0.7777777777777778,
              "#fb9f3a"
             ],
             [
              0.8888888888888888,
              "#fdca26"
             ],
             [
              1,
              "#f0f921"
             ]
            ],
            "type": "contour"
           }
          ],
          "contourcarpet": [
           {
            "colorbar": {
             "outlinewidth": 0,
             "ticks": ""
            },
            "type": "contourcarpet"
           }
          ],
          "heatmap": [
           {
            "colorbar": {
             "outlinewidth": 0,
             "ticks": ""
            },
            "colorscale": [
             [
              0,
              "#0d0887"
             ],
             [
              0.1111111111111111,
              "#46039f"
             ],
             [
              0.2222222222222222,
              "#7201a8"
             ],
             [
              0.3333333333333333,
              "#9c179e"
             ],
             [
              0.4444444444444444,
              "#bd3786"
             ],
             [
              0.5555555555555556,
              "#d8576b"
             ],
             [
              0.6666666666666666,
              "#ed7953"
             ],
             [
              0.7777777777777778,
              "#fb9f3a"
             ],
             [
              0.8888888888888888,
              "#fdca26"
             ],
             [
              1,
              "#f0f921"
             ]
            ],
            "type": "heatmap"
           }
          ],
          "heatmapgl": [
           {
            "colorbar": {
             "outlinewidth": 0,
             "ticks": ""
            },
            "colorscale": [
             [
              0,
              "#0d0887"
             ],
             [
              0.1111111111111111,
              "#46039f"
             ],
             [
              0.2222222222222222,
              "#7201a8"
             ],
             [
              0.3333333333333333,
              "#9c179e"
             ],
             [
              0.4444444444444444,
              "#bd3786"
             ],
             [
              0.5555555555555556,
              "#d8576b"
             ],
             [
              0.6666666666666666,
              "#ed7953"
             ],
             [
              0.7777777777777778,
              "#fb9f3a"
             ],
             [
              0.8888888888888888,
              "#fdca26"
             ],
             [
              1,
              "#f0f921"
             ]
            ],
            "type": "heatmapgl"
           }
          ],
          "histogram": [
           {
            "marker": {
             "colorbar": {
              "outlinewidth": 0,
              "ticks": ""
             }
            },
            "type": "histogram"
           }
          ],
          "histogram2d": [
           {
            "colorbar": {
             "outlinewidth": 0,
             "ticks": ""
            },
            "colorscale": [
             [
              0,
              "#0d0887"
             ],
             [
              0.1111111111111111,
              "#46039f"
             ],
             [
              0.2222222222222222,
              "#7201a8"
             ],
             [
              0.3333333333333333,
              "#9c179e"
             ],
             [
              0.4444444444444444,
              "#bd3786"
             ],
             [
              0.5555555555555556,
              "#d8576b"
             ],
             [
              0.6666666666666666,
              "#ed7953"
             ],
             [
              0.7777777777777778,
              "#fb9f3a"
             ],
             [
              0.8888888888888888,
              "#fdca26"
             ],
             [
              1,
              "#f0f921"
             ]
            ],
            "type": "histogram2d"
           }
          ],
          "histogram2dcontour": [
           {
            "colorbar": {
             "outlinewidth": 0,
             "ticks": ""
            },
            "colorscale": [
             [
              0,
              "#0d0887"
             ],
             [
              0.1111111111111111,
              "#46039f"
             ],
             [
              0.2222222222222222,
              "#7201a8"
             ],
             [
              0.3333333333333333,
              "#9c179e"
             ],
             [
              0.4444444444444444,
              "#bd3786"
             ],
             [
              0.5555555555555556,
              "#d8576b"
             ],
             [
              0.6666666666666666,
              "#ed7953"
             ],
             [
              0.7777777777777778,
              "#fb9f3a"
             ],
             [
              0.8888888888888888,
              "#fdca26"
             ],
             [
              1,
              "#f0f921"
             ]
            ],
            "type": "histogram2dcontour"
           }
          ],
          "mesh3d": [
           {
            "colorbar": {
             "outlinewidth": 0,
             "ticks": ""
            },
            "type": "mesh3d"
           }
          ],
          "parcoords": [
           {
            "line": {
             "colorbar": {
              "outlinewidth": 0,
              "ticks": ""
             }
            },
            "type": "parcoords"
           }
          ],
          "pie": [
           {
            "automargin": true,
            "type": "pie"
           }
          ],
          "scatter": [
           {
            "marker": {
             "colorbar": {
              "outlinewidth": 0,
              "ticks": ""
             }
            },
            "type": "scatter"
           }
          ],
          "scatter3d": [
           {
            "line": {
             "colorbar": {
              "outlinewidth": 0,
              "ticks": ""
             }
            },
            "marker": {
             "colorbar": {
              "outlinewidth": 0,
              "ticks": ""
             }
            },
            "type": "scatter3d"
           }
          ],
          "scattercarpet": [
           {
            "marker": {
             "colorbar": {
              "outlinewidth": 0,
              "ticks": ""
             }
            },
            "type": "scattercarpet"
           }
          ],
          "scattergeo": [
           {
            "marker": {
             "colorbar": {
              "outlinewidth": 0,
              "ticks": ""
             }
            },
            "type": "scattergeo"
           }
          ],
          "scattergl": [
           {
            "marker": {
             "colorbar": {
              "outlinewidth": 0,
              "ticks": ""
             }
            },
            "type": "scattergl"
           }
          ],
          "scattermapbox": [
           {
            "marker": {
             "colorbar": {
              "outlinewidth": 0,
              "ticks": ""
             }
            },
            "type": "scattermapbox"
           }
          ],
          "scatterpolar": [
           {
            "marker": {
             "colorbar": {
              "outlinewidth": 0,
              "ticks": ""
             }
            },
            "type": "scatterpolar"
           }
          ],
          "scatterpolargl": [
           {
            "marker": {
             "colorbar": {
              "outlinewidth": 0,
              "ticks": ""
             }
            },
            "type": "scatterpolargl"
           }
          ],
          "scatterternary": [
           {
            "marker": {
             "colorbar": {
              "outlinewidth": 0,
              "ticks": ""
             }
            },
            "type": "scatterternary"
           }
          ],
          "surface": [
           {
            "colorbar": {
             "outlinewidth": 0,
             "ticks": ""
            },
            "colorscale": [
             [
              0,
              "#0d0887"
             ],
             [
              0.1111111111111111,
              "#46039f"
             ],
             [
              0.2222222222222222,
              "#7201a8"
             ],
             [
              0.3333333333333333,
              "#9c179e"
             ],
             [
              0.4444444444444444,
              "#bd3786"
             ],
             [
              0.5555555555555556,
              "#d8576b"
             ],
             [
              0.6666666666666666,
              "#ed7953"
             ],
             [
              0.7777777777777778,
              "#fb9f3a"
             ],
             [
              0.8888888888888888,
              "#fdca26"
             ],
             [
              1,
              "#f0f921"
             ]
            ],
            "type": "surface"
           }
          ],
          "table": [
           {
            "cells": {
             "fill": {
              "color": "#EBF0F8"
             },
             "line": {
              "color": "white"
             }
            },
            "header": {
             "fill": {
              "color": "#C8D4E3"
             },
             "line": {
              "color": "white"
             }
            },
            "type": "table"
           }
          ]
         },
         "layout": {
          "annotationdefaults": {
           "arrowcolor": "#2a3f5f",
           "arrowhead": 0,
           "arrowwidth": 1
          },
          "coloraxis": {
           "colorbar": {
            "outlinewidth": 0,
            "ticks": ""
           }
          },
          "colorscale": {
           "diverging": [
            [
             0,
             "#8e0152"
            ],
            [
             0.1,
             "#c51b7d"
            ],
            [
             0.2,
             "#de77ae"
            ],
            [
             0.3,
             "#f1b6da"
            ],
            [
             0.4,
             "#fde0ef"
            ],
            [
             0.5,
             "#f7f7f7"
            ],
            [
             0.6,
             "#e6f5d0"
            ],
            [
             0.7,
             "#b8e186"
            ],
            [
             0.8,
             "#7fbc41"
            ],
            [
             0.9,
             "#4d9221"
            ],
            [
             1,
             "#276419"
            ]
           ],
           "sequential": [
            [
             0,
             "#0d0887"
            ],
            [
             0.1111111111111111,
             "#46039f"
            ],
            [
             0.2222222222222222,
             "#7201a8"
            ],
            [
             0.3333333333333333,
             "#9c179e"
            ],
            [
             0.4444444444444444,
             "#bd3786"
            ],
            [
             0.5555555555555556,
             "#d8576b"
            ],
            [
             0.6666666666666666,
             "#ed7953"
            ],
            [
             0.7777777777777778,
             "#fb9f3a"
            ],
            [
             0.8888888888888888,
             "#fdca26"
            ],
            [
             1,
             "#f0f921"
            ]
           ],
           "sequentialminus": [
            [
             0,
             "#0d0887"
            ],
            [
             0.1111111111111111,
             "#46039f"
            ],
            [
             0.2222222222222222,
             "#7201a8"
            ],
            [
             0.3333333333333333,
             "#9c179e"
            ],
            [
             0.4444444444444444,
             "#bd3786"
            ],
            [
             0.5555555555555556,
             "#d8576b"
            ],
            [
             0.6666666666666666,
             "#ed7953"
            ],
            [
             0.7777777777777778,
             "#fb9f3a"
            ],
            [
             0.8888888888888888,
             "#fdca26"
            ],
            [
             1,
             "#f0f921"
            ]
           ]
          },
          "colorway": [
           "#636efa",
           "#EF553B",
           "#00cc96",
           "#ab63fa",
           "#FFA15A",
           "#19d3f3",
           "#FF6692",
           "#B6E880",
           "#FF97FF",
           "#FECB52"
          ],
          "font": {
           "color": "#2a3f5f"
          },
          "geo": {
           "bgcolor": "white",
           "lakecolor": "white",
           "landcolor": "#E5ECF6",
           "showlakes": true,
           "showland": true,
           "subunitcolor": "white"
          },
          "hoverlabel": {
           "align": "left"
          },
          "hovermode": "closest",
          "mapbox": {
           "style": "light"
          },
          "paper_bgcolor": "white",
          "plot_bgcolor": "#E5ECF6",
          "polar": {
           "angularaxis": {
            "gridcolor": "white",
            "linecolor": "white",
            "ticks": ""
           },
           "bgcolor": "#E5ECF6",
           "radialaxis": {
            "gridcolor": "white",
            "linecolor": "white",
            "ticks": ""
           }
          },
          "scene": {
           "xaxis": {
            "backgroundcolor": "#E5ECF6",
            "gridcolor": "white",
            "gridwidth": 2,
            "linecolor": "white",
            "showbackground": true,
            "ticks": "",
            "zerolinecolor": "white"
           },
           "yaxis": {
            "backgroundcolor": "#E5ECF6",
            "gridcolor": "white",
            "gridwidth": 2,
            "linecolor": "white",
            "showbackground": true,
            "ticks": "",
            "zerolinecolor": "white"
           },
           "zaxis": {
            "backgroundcolor": "#E5ECF6",
            "gridcolor": "white",
            "gridwidth": 2,
            "linecolor": "white",
            "showbackground": true,
            "ticks": "",
            "zerolinecolor": "white"
           }
          },
          "shapedefaults": {
           "line": {
            "color": "#2a3f5f"
           }
          },
          "ternary": {
           "aaxis": {
            "gridcolor": "white",
            "linecolor": "white",
            "ticks": ""
           },
           "baxis": {
            "gridcolor": "white",
            "linecolor": "white",
            "ticks": ""
           },
           "bgcolor": "#E5ECF6",
           "caxis": {
            "gridcolor": "white",
            "linecolor": "white",
            "ticks": ""
           }
          },
          "title": {
           "x": 0.05
          },
          "xaxis": {
           "automargin": true,
           "gridcolor": "white",
           "linecolor": "white",
           "ticks": "",
           "title": {
            "standoff": 15
           },
           "zerolinecolor": "white",
           "zerolinewidth": 2
          },
          "yaxis": {
           "automargin": true,
           "gridcolor": "white",
           "linecolor": "white",
           "ticks": "",
           "title": {
            "standoff": 15
           },
           "zerolinecolor": "white",
           "zerolinewidth": 2
          }
         }
        }
       }
      },
      "image/png": "[encoded data removed]",
      "text/html": [
       "<div>\n",
       "        \n",
       "        \n",
       "            <div id=\"fd34629c-0875-481d-929d-2b1f07910bef\" class=\"plotly-graph-div\" style=\"height:600px; width:100%;\"></div>\n",
       "            <script type=\"text/javascript\">\n",
       "                require([\"plotly\"], function(Plotly) {\n",
       "                    window.PLOTLYENV=window.PLOTLYENV || {};\n",
       "                    \n",
       "                if (document.getElementById(\"fd34629c-0875-481d-929d-2b1f07910bef\")) {\n",
       "                    Plotly.newPlot(\n",
       "                        'fd34629c-0875-481d-929d-2b1f07910bef',\n",
       "                        [{\"customdata\": [[\"New York, NY\", \"Bergengruen, Werner\"], [\"New York, NY\", \"Berger, David\"], [\"New York, NY\", \"Berghof, ...\"], [\"New York, NY\", \"Bergner, Elisabeth\"], [\"New York, NY\", \"Berlowitz, Klara\"], [\"New York, NY\", \"Bermann Fischer, Gottfried\"], [\"New York, NY\", \"Bezzel, Mathilde\"], [\"New York, NY\", \"Bildt, Paul\"], [\"New York, NY\", \"Bissinger, ...\"], [\"New York, NY\", \"Bo\\u0308ckmann, Paul\"], [\"New York, NY\", \"Bo\\u0308hm, Franz\"], [\"New York, NY\", \"Bonnier, A\\u030ake\"], [\"New York, NY\", \"Borcherdt, Hans Heinrich\"], [\"New York, NY\", \"Bothas, Dagmar\"], [\"New York, NY\", \"Britting, Georg\"], [\"New York, NY\", \"Buerkle, Werner Jakob\"], [\"New York, NY\", \"Busoni, Rafaello\"], [\"New York, NY\", \"Buttenwieser, Hilda\"], [\"New York, NY\", \"Pagel, Karl\"], [\"New York, NY\", \"Wilson, Howard E.\"], [\"New York, NY\", \"Wheelock, John Hall\"], [\"New York, NY\", \"Christ, Ray\"], [\"New York, NY\", \"Wegner, Christian\"], [\"New York, NY\", \"Churchill, Winston\"], [\"New York, NY\", \"Classen, Werner\"], [\"New York, NY\", \"Willson, E. T.\"], [\"New York, NY\", \"Cooke, Eleanor B.\"], [\"New York, NY\", \"Cooke, Eleanor B.\"], [\"New York, NY\", \"Ogden, Archibald G.\"], [\"New York, NY\", \"Armstrong, Hamilton Fish\"], [\"New York, NY\", \"Haggard, Edith\"], [\"New York, NY\", \"Danzoll, Francis S.\"], [\"New York, NY\", \"Siemer, Heinrich\"], [\"New York, NY\", \"Alexander, R. T.\"], [\"New York, NY\", \"Do\\u0308blin, Alfred\"], [\"New York, NY\", \"Dolle, Elisabeth\"], [\"New York, NY\", \"Wenzel, ...\"], [\"New York, NY\", \"Cady, Howard S.\"], [\"New York, NY\", \"Dunay, Karl\"], [\"New York, NY\", \"Dunay, Sigmund\"], [\"New York, NY\", \"Eisenstaedt, Karl\"], [\"New York, NY\", \"Eisner, Bruno\"], [\"New York, NY\", \"Schiebelhuth, Marie\"], [\"New York, NY\", \"Schiff, ...\"], [\"New York, NY\", \"Schnack, Anton\"], [\"New York, NY\", \"Schnack, Friedrich\"], [\"New York, NY\", \"Schneider, Georg\"], [\"New York, NY\", \"Schneider, Reinhold\"], [\"New York, NY\", null], [\"New York, NY\", \"Scho\\u0308nlank, Erich\"], [\"New York, NY\", \"Schoepke, Helmut\"], [\"New York, NY\", \"Schoeps, Hans-Joachim\"], [\"New York, NY\", \"Schro\\u0308der, Rudolf Alexander\"], [\"New York, NY\", \"Schumacher, Hans\"], [\"New York, NY\", \"Scott, Tom\"], [\"New York, NY\", \"Schweikart, Hans\"], [\"New York, NY\", \"Seelmann, Kurt\"], [\"New York, NY\", \"Sertorius, Lili\"], [\"New York, NY\", \"Siegel, ...\"], [\"New York, NY\", \"Heide, Heinrich\"], [\"New York, NY\", \"Stech, Marianne\"], [\"New York, NY\", \"Braun-Fernwald, Jella \\u0098von\\u009c\"], [\"New York, NY\", \"Steinberg, Milton\"], [\"New York, NY\", \"Steiner, Franz Baermann\"], [\"New York, NY\", \"Sternthal, Friedrich\"], [\"New York, NY\", \"Schwedhelm, Karl\"], [\"New York, NY\", \"Su\\u0308skind, Wilhelm E.\"], [\"New York, NY\", \"Szyk, Arthur\"], [\"New York, NY\", \"Taube, Otto \\u0098von\\u009c\"], [\"New York, NY\", \"Treuenfels, Therese\"], [\"New York, NY\", \"Ulbricht, Hanns\"], [\"New York, NY\", \"Scholl, Inge\"], [\"New York, NY\", \"Cohen, Myer\"], [\"New York, NY\", \"Bundy, Frederic O.\"], [\"New York, NY\", \"Davis, Elmer\"], [\"New York, NY\", \"Hilldring, John A.\"], [\"New York, NY\", \"Hilldring, John A.\"], [\"New York, NY\", \"Unruh, Fritz \\u0098von\\u009c\"], [\"New York, NY\", \"Usinger, Fritz\"], [\"New York, NY\", \"Desch, Kurt\"], [\"New York, NY\", \"Viertel, Berthold\"], [\"New York, NY\", \"Huebsch, B. W.\"], [\"New York, NY\", \"Scho\\u0308pfer, Siegfried\"], [\"New York, NY\", \"Rentschler, Hedwig Eleonore\"], [\"New York, NY\", \"Schmu\\u0308cker, Irma\"], [\"New York, NY\", \"Walter, Helmut\"], [\"New York, NY\", \"Vring, Georg \\u0098von der\\u009c\"], [\"New York, NY\", \"Farau, Alfred\"], [\"New York, NY\", \"Feder, Ernst\"], [\"New York, NY\", \"Fischer, Hedwig\"], [\"New York, NY\", \"Flesch, Philipp\"], [\"New York, NY\", \"Forell, Frederick J.\"], [\"New York, NY\", \"Freund, Erich\"], [\"New York, NY\", \"Wittig, Friedrich\"], [\"New York, NY\", \"Gode, Alexander\"], [\"New York, NY\", \"Goes, Albrecht\"], [\"New York, NY\", \"Goll, Yvan\"], [\"New York, NY\", \"Goulet, Alexandre\"], [\"New York, NY\", \"Grasshoff, Fritz\"], [\"New York, NY\", \"Groll, Gunter\"], [\"New York, NY\", \"Gru\\u0308ndgens, Gustaf\"], [\"New York, NY\", \"Guinzburg, Harold K.\"], [\"New York, NY\", \"Gumpert, Martin\"], [\"New York, NY\", \"Hadas, Ethel\"], [\"New York, NY\", \"Hagelstange, Rudolf\"], [\"New York, NY\", \"Hagen, Louis\"], [\"New York, NY\", \"H\\u00b0akansson, Lo\"], [\"New York, NY\", \"Hampe, Johann Christoph\"], [\"New York, NY\", \"Hauptmann, Margarete\"], [\"New York, NY\", \"Hausmann, Manfred\"], [\"New York, NY\", \"Heilbut, Jacob\"], [\"New York, NY\", \"Heilbut, Minna\"], [\"New York, NY\", \"Hesse, Hermann\"], [\"New York, NY\", \"Heynicke, Kurt\"], [\"New York, NY\", \"Hildebrand, ... \\u0098von\\u009c\"], [\"New York, NY\", \"Hilpert, Heinz\"], [\"New York, NY\", \"Hiltbrunner, Hermann\"], [\"New York, NY\", \"Hirsch, Karl Jakob\"], [\"New York, NY\", \"Hoffmeister, Heinz\"], [\"New York, NY\", \"Daniels, Eleanor\"], [\"New York, NY\", \"Hulse, Wilfred C.\"], [\"New York, NY\", \"Shuster, George N.\"], [\"New York, NY\", \"Michael, Friedrich\"], [\"New York, NY\", \"Irving, L. P.\"], [\"New York, NY\", \"Meckauer, Walter\"], [\"New York, NY\", \"Mehring, Walter\"], [\"New York, NY\", \"Mell, Max\"], [\"New York, NY\", \"Mendel, Rosa\"], [\"New York, NY\", \"Hurwitz, Henry\"], [\"New York, NY\", \"Milch, Werner\"], [\"New York, NY\", \"Namuth, Hans\"], [\"New York, NY\", \"Pierson, ...\"], [\"New York, NY\", \"Gutheil, Lilly\"], [\"New York, NY\", \"Gutheil, Lilly\"], [\"New York, NY\", \"Schuchard, Gottlieb C. L.\"], [\"New York, NY\", \"Nick, Dagmar\"], [\"New York, NY\", \"Auburtin, A.\"], [\"New York, NY\", \"Nossack, Hans Erich\"], [\"New York, NY\", \"Gramm, Hanns\"], [\"New York, NY\", \"Omansen, Willibald\"], [\"New York, NY\", \"Pabst, Curt\"], [\"New York, NY\", \"Pauker, Edmond\"], [\"New York, NY\", \"Paulsen, Anna\"], [\"New York, NY\", \"Peine, Eva\"], [\"New York, NY\", \"Perleberg, Gilbert\"], [\"New York, NY\", \"Picard, Jacob\"], [\"New York, NY\", \"Pinthus, Kurt\"], [\"New York, NY\", \"Pitt, Louis W.\"], [\"New York, NY\", \"Pollak, Anneliese\"], [\"New York, NY\", \"Preminger, Otto\"], [\"New York, NY\", \"Pschigode, Karl\"], [\"New York, NY\", \"Commins, Saxe\"], [\"New York, NY\", \"Rasche, Friedrich\"], [\"New York, NY\", \"Rasche, Friedrich\"], [\"New York, NY\", \"Rebo, Fred\"], [\"New York, NY\", \"Regler, Gustav\"], [\"New York, NY\", \"Reich, Hanns Leo\"], [\"New York, NY\", \"Reisiger, Hans\"], [\"New York, NY\", \"Reyman, Randolph A.\"], [\"New York, NY\", \"Riedel, Otto\"], [\"New York, NY\", \"Rothenberg, Friedrich\"], [\"New York, NY\", \"Rothgiesser, Fritz\"], [\"New York, NY\", \"Raddatz, Fritz J.\"], [\"New York, NY\", \"Rypins, Senta Jonas\"], [\"New York, NY\", \"Sahl, Hans\"], [\"New York, NY\", \"Salm, Louise\"], [\"New York, NY\", null], [\"New York, NY\", \"Schaeffer, Albrecht\"], [\"New York, NY\", \"Schaffner, Emil A.\"], [\"New York, NY\", \"Schaumann, Ruth\"], [\"New York, NY\", \"Heilbut, Iwan\"], [\"New York, NY\", \"Adams, ...\"], [\"New York, NY\", \"Adler, Hermann\"], [\"New York, NY\", \"Koppell, Henry G.\"], [\"New York, NY\", \"Altmann, Manfred\"], [\"New York, NY\", \"Robbins, Jeannette\"], [\"New York, NY\", \"Andres, Stefan\"], [\"New York, NY\", \"Arlt, Gustave O.\"], [\"New York, NY\", \"Asch, Sholem\"], [\"New York, NY\", \"Georg, Manfred\"], [\"New York, NY\", \"Aust, Hertha\"], [\"New York, NY\", \"Bab, Julius\"], [\"New York, NY\", \"Bach, Rudolf\"], [\"New York, NY\", \"Barfoed, E. W.\"], [\"New York, NY\", \"Bassermann, Albert\"], [\"New York, NY\", \"Batzdorf, ...\"], [\"New York, NY\", \"Bauer, Ernest\"], [\"New York, NY\", \"Bauer, Franz\"], [\"New York, NY\", \"Mu\\u0308nster, Clemens\"], [\"New York, NY\", \"Beauclair, Gotthard \\u0098de\\u009c\"], [\"New York, NY\", \"Beck, Anna\"], [\"New York, NY\", \"Lunt, Storer B.\"], [\"New York, NY\", \"Wackernagel, Martin\"], [\"New York, NY\", \"Waldinger, Ernst\"], [\"New York, NY\", \"Waller, Gertrud\"], [\"New York, NY\", \"Sternberger, Dolf\"], [\"New York, NY\", \"Wanner, Franz\"], [\"New York, NY\", \"Wedekind, Kadidja\"], [\"New York, NY\", \"Wedekind, Pamela\"], [\"New York, NY\", \"Weinmann, Fritz Siegfried\"], [\"New York, NY\", \"Weismantel, Leo\"], [\"New York, NY\", \"Whyte, John\"], [\"New York, NY\", \"Wiechert, Ernst\"], [\"New York, NY\", \"Wiener, Alfred\"], [\"New York, NY\", \"Weismann, Willi\"], [\"New York, NY\", \"Wulff, Clara\"], [\"New York, NY\", \"Wulff, Nellie\"], [\"New York, NY\", \"Zoff, Otto\"], [\"New York, NY\", \"Zohn, Harry\"], [\"New York, NY\", \"Zweig, Arnold\"], [\"New York, NY\", \"Zweig, Stefan\"], [\"New York, NY\", \"Unbekannt\"], [\"New York, NY\", \"Unbekannt\"], [\"New York, NY\", \"Jacob, Heinrich Eduard\"], [\"New York, NY\", \"Jacobsen, Karin\"], [\"New York, NY\", \"Jacobsen, Poul\"], [\"New York, NY\", \"Jakobsen, Jens\"], [\"New York, NY\", \"Jungermann, ...\"], [\"New York, NY\", \"Ka\\u0308stner, Erich\"], [\"New York, NY\", \"Kaskel, Josef\"], [\"New York, NY\", \"Kent, Rockwell\"], [\"New York, NY\", \"Kerr, Alfred\"], [\"New York, NY\", \"Klitscher, Hermann\"], [\"New York, NY\", \"Klumb, Hans\"], [\"New York, NY\", \"Kogon, Eugen\"], [\"New York, NY\", \"Kohner, Paul\"], [\"New York, NY\", \"Kokoschka, Oskar\"], [\"New York, NY\", \"Kosleck, Martin\"], [\"New York, NY\", \"Kranz, Heinrich B.\"], [\"New York, NY\", \"Krawielicki, Robert\"], [\"New York, NY\", \"Krolow, Karl\"], [\"New York, NY\", \"Kronacher, Alwin\"], [\"New York, NY\", \"Kruse, Heinz\"], [\"New York, NY\", \"Kruse, Johann\"], [\"New York, NY\", \"Langga\\u0308sser, Elisabeth\"], [\"New York, NY\", \"Lebegott, E.\"], [\"New York, NY\", \"Le Fort, Gertrud \\u0098von\\u009c\"], [\"New York, NY\", \"Lehmann, Wilhelm\"], [\"New York, NY\", \"Leiner, Ludwig\"], [\"New York, NY\", \"Leip, Hans\"], [\"New York, NY\", \"Lernet-Holenia, Alexander\"], [\"New York, NY\", \"Lesser, H. R.\"], [\"New York, NY\", \"Lewisohn, Ludwig\"], [\"New York, NY\", \"Liedke, Herbert R.\"], [\"New York, NY\", \"Lienek, Heinz\"], [\"New York, NY\", \"Rosin, Katherine\"], [\"New York, NY\", \"Lindenlaub, Erich\"], [\"New York, NY\", \"Lindt, Peter M.\"], [\"New York, NY\", \"Lips, Julius\"], [\"New York, NY\", \"Meier, Henry\"], [\"New York, NY\", \"Lohmeyer, Wolfgang\"], [\"New York, NY\", \"Ludwig, Emil\"], [\"New York, NY\", \"Luschnat, David\"], [\"New York, NY\", null], [\"New York, NY\", \"Maass, Joachim\"], [\"New York, NY\", \"Ma\\u0308hl, Albert\"], [\"New York, NY\", \"Mahler-Werfel, Alma Maria\"], [\"New York, NY\", \"Maisch, Herbert\"], [\"New York, NY\", \"Mann, Monika\"], [\"New York, NY\", \"Marck, Louis\"], [\"New York, NY\", \"Maringer, Karen\"], [\"New York, NY\", \"Marmann, ...\"], [\"New York, NY\", \"Martin, George\"], [\"New York, NY\", \"Martin, Hilda Maria\"], [\"New York, NY\", \"Mautz, Kurt\"], [\"Mu\\u0308nchen\", \"Berendsohn, Walter A.\"], [\"Mu\\u0308nchen\", \"Gerber, Hela\"], [\"Mu\\u0308nchen\", \"Blisse, Gerda\"], [\"Mu\\u0308nchen\", \"Bruckner, Hermann\"], [\"Mu\\u0308nchen\", \"Engesser, Klaus\"], [\"Mu\\u0308nchen\", \"Skulima, Loni\"], [\"Mu\\u0308nchen\", \"Bundschuh, ...\"], [\"Mu\\u0308nchen\", \"Christlieb, ...\"], [\"Mu\\u0308nchen\", \"Bissinger, F.\"], [\"Mu\\u0308nchen\", \"Colbert, Helga\"], [\"Mu\\u0308nchen\", \"Cotton, Maurice\"], [\"Mu\\u0308nchen\", \"Deutsch, Ernst\"], [\"Mu\\u0308nchen\", \"Bo\\u0308se, Georg\"], [\"Mu\\u0308nchen\", \"Barjansky, Michael\"], [\"Mu\\u0308nchen\", \"Mu\\u0308ller-Horn, ...\"], [\"Mu\\u0308nchen\", \"Hasselblatt, Dieter\"], [\"Mu\\u0308nchen\", \"De\\u0300vignes, Yvonne\"], [\"Mu\\u0308nchen\", \"Diem-Tilp, Ida\"], [\"Mu\\u0308nchen\", \"Daskaljuk, Paula\"], [\"Mu\\u0308nchen\", \"Drewitz, Ingeborg\"], [\"Mu\\u0308nchen\", \"Bolle, Fritz\"], [\"Mu\\u0308nchen\", \"Elbau, Julius\"], [\"Mu\\u0308nchen\", \"Meurer, Kurt\"], [\"Mu\\u0308nchen\", \"Engelmeier, ...\"], [\"Mu\\u0308nchen\", \"Zoeller-Dudman, Juscha\"], [\"Mu\\u0308nchen\", \"Scheiner, Hedwig\"], [\"Mu\\u0308nchen\", \"Schlabrendorff, Fabian \\u0098von\\u009c\"], [\"Mu\\u0308nchen\", \"Schneidt, Christl\"], [\"Mu\\u0308nchen\", \"Schnetz, Wolf Peter\"], [\"Mu\\u0308nchen\", \"Scho\\u0308nburg-Hartenstein, Agathe \\u0098von\\u009c\"], [\"Mu\\u0308nchen\", \"Schultes, Christl\"], [\"Mu\\u0308nchen\", \"Schulze, Verena\"], [\"Mu\\u0308nchen\", \"Landau, Edwin Maria\"], [\"Mu\\u0308nchen\", \"Schwarz, Georg\"], [\"Mu\\u0308nchen\", \"Seeberger, Kurt\"], [\"Mu\\u0308nchen\", \"Schwarz, Hilde\"], [\"Mu\\u0308nchen\", \"Seiderer, Hermann\"], [\"Mu\\u0308nchen\", \"Setzer, Johanna\"], [\"Mu\\u0308nchen\", \"Siadimas, Miltiades\"], [\"Mu\\u0308nchen\", \"Simundt, Anna Maria\"], [\"Mu\\u0308nchen\", \"Deharde, Gustav\"], [\"Mu\\u0308nchen\", \"Bro\\u0308ger, Friedrich\"], [\"Mu\\u0308nchen\", \"Vogt, Hans Joachim\"], [\"Mu\\u0308nchen\", \"Stark, Gu\\u0308nther\"], [\"Mu\\u0308nchen\", \"Stefl, Max\"], [\"Mu\\u0308nchen\", \"Stern, Desider\"], [\"Mu\\u0308nchen\", \"Seydelmann, Gertrud\"], [\"Mu\\u0308nchen\", \"Goldschmit, Rudolf\"], [\"Mu\\u0308nchen\", \"Suhrkamp, Peter\"], [\"Mu\\u0308nchen\", \"Theile, Albert\"], [\"Mu\\u0308nchen\", \"Ulmer, Elisabeth\"], [\"Mu\\u0308nchen\", \"Joyce, ...\"], [\"Mu\\u0308nchen\", \"Witsch, Joseph Caspar\"], [\"Mu\\u0308nchen\", \"Schneider, Lambert\"], [\"Mu\\u0308nchen\", \"Pfleiderer, D.\"], [\"Mu\\u0308nchen\", \"Fe\\u0301aux de la Croix, Ernst\"], [\"Mu\\u0308nchen\", \"Forstat, ...\"], [\"Mu\\u0308nchen\", \"Forstat, ...\"], [\"Mu\\u0308nchen\", \"Frank, D. M.\"], [\"Mu\\u0308nchen\", \"Gerold, Karl\"], [\"Mu\\u0308nchen\", \"Bach, Rudolf\"], [\"Mu\\u0308nchen\", \"Schneekluth, Franz\"], [\"Mu\\u0308nchen\", \"Galleani di St. Ambroise, Barbara\"], [\"Mu\\u0308nchen\", \"Ginsberg, Ernst\"], [\"Mu\\u0308nchen\", \"Gru\\u0308ntzig, Walter\"], [\"Mu\\u0308nchen\", \"Gu\\u0308rster, Eugen\"], [\"Mu\\u0308nchen\", \"Habe, Hans\"], [\"Mu\\u0308nchen\", \"Ha\\u0308user-Lentz, Hertha\"], [\"Mu\\u0308nchen\", \"Hampe, Johann Christoph\"], [\"Mu\\u0308nchen\", \"Hansemann, Walter\"], [\"Mu\\u0308nchen\", \"Harbeck, Anni\"], [\"Mu\\u0308nchen\", \"Heilbut, Charlotte\"], [\"Mu\\u0308nchen\", \"Heilbut, Charlotte\"], [\"Mu\\u0308nchen\", \"Heilbut, Francis\"], [\"Mu\\u0308nchen\", \"Heinrich, Ursula\"], [\"Mu\\u0308nchen\", \"Schonauer, Franz\"], [\"Mu\\u0308nchen\", \"Herrenkind, Otto\"], [\"Mu\\u0308nchen\", \"Roloff, Fra\\u0308nze\"], [\"Mu\\u0308nchen\", \"Hirschberg, Dorothea\"], [\"Mu\\u0308nchen\", \"Hirschfeld, Hans Emil\"], [\"Mu\\u0308nchen\", \"Hochfilser, ...\"], [\"Mu\\u0308nchen\", \"Hofer, ...\"], [\"Mu\\u0308nchen\", \"Hutter, ...\"], [\"Mu\\u0308nchen\", \"Hirsch, Rudolf\"], [\"Mu\\u0308nchen\", \"Ro\\u0308der, Werner\"], [\"Mu\\u0308nchen\", \"Kohn, Hein\"], [\"Mu\\u0308nchen\", \"Meierott, Hans\"], [\"Mu\\u0308nchen\", \"Meyer, Werner\"], [\"Mu\\u0308nchen\", \"Meyer, William\"], [\"Mu\\u0308nchen\", \"Morvilius, Gretchen\"], [\"Mu\\u0308nchen\", \"Bergold, Werner\"], [\"Mu\\u0308nchen\", \"Zellner, Werner\"], [\"Mu\\u0308nchen\", \"Hohenemser, Herbert\"], [\"Mu\\u0308nchen\", \"Mu\\u0308ssener, Helmut\"], [\"Mu\\u0308nchen\", \"Drese, Claus Helmut\"], [\"Mu\\u0308nchen\", \"Hirschberg, R.\"], [\"Mu\\u0308nchen\", \"Tergit, Gabriele\"], [\"Mu\\u0308nchen\", \"Perleberg, Gilbert\"], [\"Mu\\u0308nchen\", \"Pallmann, Gerhard\"], [\"Mu\\u0308nchen\", \"Piper, Reinhard\"], [\"Mu\\u0308nchen\", \"Jedlitschka, Hans\"], [\"Mu\\u0308nchen\", \"Radt, Meta\"], [\"Mu\\u0308nchen\", \"Martin, Geoffrey G.\"], [\"Mu\\u0308nchen\", \"Raue, Gernot\"], [\"Mu\\u0308nchen\", \"Mu\\u0308ller, G.\"], [\"Mu\\u0308nchen\", \"Rehn, Jens\"], [\"Mu\\u0308nchen\", \"Richter, Ste\\u0301phane\"], [\"Mu\\u0308nchen\", \"Rosen, Hans\"], [\"Mu\\u0308nchen\", \"Rothe, Hans\"], [\"Mu\\u0308nchen\", \"Sackmauer, Ludwig\"], [\"Mu\\u0308nchen\", \"Abold, ...\"], [\"Mu\\u0308nchen\", \"Huder, Walther\"], [\"Mu\\u0308nchen\", \"Albers, Heinz\"], [\"Mu\\u0308nchen\", \"Lilienfeld, Gerhard \\u0098von\\u009c\"], [\"Mu\\u0308nchen\", \"Scott, James A.\"], [\"Mu\\u0308nchen\", \"Schreiber, Hans\"], [\"Mu\\u0308nchen\", \"Nash, Marian L.\"], [\"Mu\\u0308nchen\", \"Gruntz, ...\"], [\"Mu\\u0308nchen\", \"Koslowski, Helen A.\"], [\"Mu\\u0308nchen\", \"Koslowski, Helen A.\"], [\"Mu\\u0308nchen\", \"Fuhrmann, Gu\\u0308nther\"], [\"Mu\\u0308nchen\", \"Maskow, Ilse\"], [\"Mu\\u0308nchen\", \"Flach, Horst\"], [\"Mu\\u0308nchen\", \"Ash, Adrienne\"], [\"Mu\\u0308nchen\", \"Asmus, Johannes\"], [\"Mu\\u0308nchen\", \"Springer, Axel\"], [\"Mu\\u0308nchen\", \"Baedeker, Peer\"], [\"Mu\\u0308nchen\", \"Barthelme\\u00df, Erich\"], [\"Mu\\u0308nchen\", \"Schro\\u0308der, Arnulf\"], [\"Mu\\u0308nchen\", \"Belmore, Manford\"], [\"Mu\\u0308nchen\", \"Walter, Hans-Albert\"], [\"Mu\\u0308nchen\", \"Rast, Josef\"], [\"Mu\\u0308nchen\", \"Weber, Kurt\"], [\"Mu\\u0308nchen\", \"Wegner, Armin T.\"], [\"Mu\\u0308nchen\", \"Weigelt, Friedrich\"], [\"Mu\\u0308nchen\", \"Weiss, Luitpold\"], [\"Mu\\u0308nchen\", \"Haas, Helmuth \\u0098de\\u009c\"], [\"Mu\\u0308nchen\", \"Werner, Arthur\"], [\"Mu\\u0308nchen\", \"Hermann, ...\"], [\"Mu\\u0308nchen\", \"Wimmer, Maria\"], [\"Mu\\u0308nchen\", \"Ziersch, ...\"], [\"Mu\\u0308nchen\", \"Walther, Karl-Heinz\"], [\"Mu\\u0308nchen\", \"Zivier, ...\"], [\"Mu\\u0308nchen\", \"Jacobson, Anna\"], [\"Mu\\u0308nchen\", \"Pinto, M.\"], [\"Mu\\u0308nchen\", \"Jonas, Klaus W.\"], [\"Mu\\u0308nchen\", \"Kaupisch von Reppert, Irmgard\"], [\"Mu\\u0308nchen\", \"Kiener, Theodor\"], [\"Mu\\u0308nchen\", \"Falkenberg, Hans-Geert\"], [\"Mu\\u0308nchen\", \"Kirchhoff, Helma\"], [\"Mu\\u0308nchen\", \"Kockerols, Friedrich Adolf\"], [\"Mu\\u0308nchen\", \"Kortner, Fritz\"], [\"Mu\\u0308nchen\", \"Kraft, Helga\"], [\"Mu\\u0308nchen\", \"Krushel, Jacqueline\"], [\"Mu\\u0308nchen\", \"Landers, Margot\"], [\"Mu\\u0308nchen\", \"Laubenthal, Michaela\"], [\"Mu\\u0308nchen\", \"Leibl, Herta\"], [\"Mu\\u0308nchen\", \"Leonhard, Erna\"], [\"Mu\\u0308nchen\", \"Lippert, Albert\"], [\"Mu\\u0308nchen\", \"Lipton, Liane\"], [\"Mu\\u0308nchen\", \"Lorenz, Wilfried\"], [\"Mu\\u0308nchen\", \"Lu\\u0308hr, Peter\"], [\"Mu\\u0308nchen\", \"Mainzer, Otto\"], [\"Mu\\u0308nchen\", \"Mann, Erika\"], [\"Mu\\u0308nchen\", \"Mannheim, Lucie\"], [\"Mu\\u0308nchen\", \"Masereel, Frans\"], [\"Mu\\u0308nchen\", \"Matern, Kitty\"], [\"Mu\\u0308nchen u.a.\", \"Benedikt, Ernst Martin\"], [\"Mu\\u0308nchen u.a.\", \"Klausnitzer, Horst\"], [\"Mu\\u0308nchen u.a.\", \"Diestel, Hedwig\"], [\"Mu\\u0308nchen u.a.\", \"Dombrowski, Erich\"], [\"Mu\\u0308nchen u.a.\", \"Edel, Gottfried\"], [\"Mu\\u0308nchen u.a.\", \"Schmitt-Sulzthal, Rudolf\"], [\"Mu\\u0308nchen u.a.\", \"Sellenthin, Hans Gerd\"], [\"Mu\\u0308nchen u.a.\", \"Ebert, Carl\"], [\"Mu\\u0308nchen u.a.\", \"Rosengarten, Walter\"], [\"Mu\\u0308nchen u.a.\", \"Trausil, Hans\"], [\"Mu\\u0308nchen u.a.\", \"Schifferli, Peter\"], [\"Mu\\u0308nchen u.a.\", \"Fernau, Rudolf\"], [\"Mu\\u0308nchen u.a.\", \"Frank, D. M.\"], [\"Mu\\u0308nchen u.a.\", \"Heilbut, Charlotte\"], [\"Mu\\u0308nchen u.a.\", \"Heilbut, Charlotte\"], [\"Mu\\u0308nchen u.a.\", \"Hohenemser, Herbert\"], [\"Mu\\u0308nchen u.a.\", \"Wallenberg, Hans\"], [\"Mu\\u0308nchen u.a.\", \"Scho\\u0308nwiese, Ernst\"], [\"Mu\\u0308nchen u.a.\", \"Preuss, Gerhard\"], [\"Mu\\u0308nchen u.a.\", \"Giefer, Gu\\u0308nter\"], [\"Mu\\u0308nchen u.a.\", \"Ude, Karl\"], [\"Mu\\u0308nchen u.a.\", \"Wicclair, Walter\"], [\"Mu\\u0308nchen u.a.\", \"Wolf, Eleanor B.\"], [\"Mu\\u0308nchen u.a.\", \"Vietta, Egon\"], [\"Mu\\u0308nchen u.a.\", \"Maximowna, Ita\"], [\"Berlin\", \"Herda, Wolfgang\"], [\"Berlin\", \"Carreras, Maria\"], [\"Berlin\", \"Stru\\u00df, Dieter\"], [\"Berlin\", \"Sternfeld, Wilhelm\"], [\"Berlin\", \"Behrend, Horst\"], [\"Berlin\", \"Guajardo, V. L.\"], [\"Berlin\", \"Hell, Heinz\"], [\"Berlin\", \"Hermoni, S\\u030celo\\u0302mi\\u0302t\"], [\"Berlin\", \"Molzahn, Loretto\"], [\"Berlin\", \"Noeggerath, Marga\"], [\"Berlin\", \"Reinholz, Franz\"], [\"Berlin\", \"Ropertz, Hans-Rolf\"], [\"Berlin\", \"Szypula, Rudolf\"], [\"Berlin\", \"Jiptner, Lou\"], [\"Berlin\", \"Keller, Josef\"], [\"Berlin\", \"Leiser, Erwin\"], [\"Hamburg\", \"Gerber, Hela\"], [\"Hamburg\", \"Bothas, Dagmar\"], [\"Hamburg\", \"Stercken, Hans\"], [\"Hamburg\", \"Goes, Albrecht\"], [\"Hamburg\", \"Vogel, Paul O.\"], [\"Hamburg\", \"Hampe, Johann Christoph\"], [\"Hamburg\", \"Auburtin, A.\"], [\"Hamburg\", \"Rimpel, Alexandra\"], [\"Hamburg\", \"Sinhuber, Bartel F.\"], [\"Hamburg\", \"Kasper, Ottilie\"], [\"Hamburg\", \"Kerr, Alfred\"], [\"Hamburg\", \"Koch, Willi August\"], [\"Berlin-Wilmersdorf\", \"Blume, ...\"], [\"Berlin-Wilmersdorf\", \"Bru\\u0308dern, Gerd\"], [\"Berlin-Wilmersdorf\", \"Ganzer, Karl\"], [\"Berlin-Wilmersdorf\", \"Voigt, Rainer\"], [\"Berlin-Wilmersdorf\", \"Kahnert, Walter\"], [\"Berlin-Wilmersdorf\", \"Heuss, Theodor\"], [\"Berlin-Wilmersdorf\", \"Meingast, Fritz\"], [\"Berlin-Wilmersdorf\", \"Meyer, Elisabeth\"], [\"Berlin-Wilmersdorf\", \"Mu\\u0308ller-Jabusch, Maximilian\"], [\"Berlin-Wilmersdorf\", \"Wenninger, Hermann\"], [\"Berlin-Wilmersdorf\", \"Raeck, Kurt\"], [\"Berlin-Wilmersdorf\", \"Engert, Fritz\"], [\"Berlin-Wilmersdorf\", \"Ashcroft, Peggy\"], [\"Berlin-Wilmersdorf\", \"Mayerhof, ...\"], [\"Berlin, West\", \"Norden, Adalbert\"], [\"Bonn\", \"Kippenberg, F.\"], [\"Stuttgart\", \"Henning, Otto\"], [\"Stuttgart\", \"Friedheim, ...\"], [\"Stuttgart\", \"Grupp, Friedrich\"], [\"Stuttgart\", \"Gumpert, Martin\"], [\"Stuttgart\", \"Franke, Hans\"], [\"Stuttgart\", \"Schuchard, Gottlieb C. L.\"], [\"Stuttgart\", \"Behrens, Robert\"], [\"Stuttgart\", \"Laubenthal, Michaela\"], [\"o.O.\", \"Ben-H\\u0323orin, Shalom\"], [\"o.O.\", \"Bruer, Ursula\"], [\"o.O.\", \"Thormann, Charlotte\"], [\"o.O.\", \"Perera, Carolyn\"], [\"o.O.\", \"Ramsperger, Ina\"], [\"o.O.\", \"Bannert, Karl Jos.\"], [\"o.O.\", \"Baur, Hans\"], [\"o.O.\", \"Bellardi, Ingrid\"], [\"o.O.\", \"Wilde, Harry\"], [\"o.O.\", \"Mager, Ingeborg\"], [\"Berlin-Wilmersdorf u.a.\", \"Zarek, Otto\"], [\"Berlin-Wilmersdorf u.a.\", \"Zarek, Otto\"], [\"Berlin-Wilmersdorf u.a.\", \"Bo\\u0308se, Georg\"], [\"Berlin-Wilmersdorf u.a.\", \"Lietzau, Hans\"], [\"Berlin-Wilmersdorf u.a.\", \"Laubrinus, ...\"], [\"Berlin-Wilmersdorf u.a.\", \"Gillen, Otto\"], [\"Berlin-Wilmersdorf u.a.\", \"Beer-Hofmann, Nae\\u034f\\u0308mah\"], [\"Berlin-Wilmersdorf u.a.\", \"Urbach, Ilse\"], [\"Berlin-Wilmersdorf u.a.\", \"Lemmer, Ernst\"], [\"Berlin-Grunewald\", \"Garbe, ...\"], [\"Berlin-Grunewald\", \"Lambart, ...\"], [\"Berlin-Grunewald\", \"Blumenfeld, Fanny\"], [\"Berlin-Grunewald\", \"Dammann, Anna\"], [\"Berlin-Grunewald\", \"Dorsch, Ka\\u0308the\"], [\"Berlin-Grunewald\", \"Treitel, Miriam\"], [\"Berlin-Grunewald\", \"Karsch, Walther\"], [\"Berlin-Grunewald\", \"Fiene, Jeanette\"], [\"Berlin-Grunewald\", \"Giraudoux, Jean-Pierre\"], [\"Berlin-Grunewald\", \"Kohn, Hein\"], [\"Berlin-Grunewald\", \"Hohenemser, Herbert\"], [\"Berlin-Grunewald\", \"Gildner, Jay W.\"], [\"Berlin-Grunewald\", \"Scott, James A.\"], [\"Berlin-Grunewald\", \"Aust, Hertha\"], [\"Berlin-Grunewald\", \"Wells, Henry Willis\"], [\"Berlin-Grunewald\", \"Kinski, Klaus\"], [\"Berlin-Grunewald\", \"Krieger, Arnold\"], [\"Mu\\u0308nchen , Berlin-Grunewald\", \"Carsch, Friedel\"], [\"Marseille\", \"Cohn, ...\"], [\"Marseille\", \"Frank, Bruno\"], [\"Marseille\", \"Fry, Varian\"], [\"Marseille\", \"Kleiber, Otto\"], [\"[New York, NY]\", \"Cohn, Ruth C.\"], [\"Teilw. Entwurf\", \"Ehrenberg, Hanny\"], [\"Berlin-Grunewald u.a.\", \"Elsberg, Heinz\"], [\"Berlin-Grunewald u.a.\", \"Meyer, James\"], [\"Berlin-Grunewald u.a.\", \"Hopkins, Arthur H.\"], [\"Berlin-Grunewald u.a.\", \"Szypula, Rudolf\"], [\"Berlin-Grunewald u.a.\", \"Marni-Kahans, Bella\"], [\"Berlin u.a.\", \"Gasper, Dieter\"], [\"Berlin u.a.\", \"Schulz, Gu\\u0308nter\"], [\"Berlin u.a.\", \"Hirsch, Rudolf\"], [\"Lissabon\", null], [\"Lissabon\", \"Thompson, Dorothy\"], [\"Lissabon\", \"Pollak, Anneliese\"], [\"Lissabon\", \"Ragaz, Christine\"], [\"Lissabon\", \"Adler, Jenny\"], [\"Lissabon\", \"Altmann, Manfred\"], [\"Lissabon\", null], [\"Lissabon\", \"Schumacher, Karl \\u0098von\\u009c\"], [\"Lissabon\", \"Landau, Ida\"], [\"Lissabon\", \"Maass, Ilse\"], [\"Stuttgart u.a.\", \"Eberle, Josef\"], [\"Berlin (West) u.a.\", \"Silex, Karl\"], [\"Geretsried\", \"Tesche, Gusti\"], [\"Zu\\u0308rich\", \"Vahsen, Arnold\"], [\"Zu\\u0308rich\", \"Hessing, Jakob\"], [\"Zu\\u0308rich\", \"Wiesenthal, Simon\"], [\"Zu\\u0308rich\", \"Wolffheim, Hans\"], [\"Toulouse\", \"Oprecht, Emil\"], [\"Toulouse\", null], [\"Paris\", \"Gaetke, Eleonore\"], [\"Paris\", \"Heilbut, Charlotte\"], [\"Paris\", \"Verschiedene\"], [\"Jerusalem\", \"Gianolini, A.\"], [\"Jerusalem\", \"Meiershofer, Edel\"], [\"Jerusalem\", \"Pollak, Anneliese\"], [\"Jerusalem\", \"Kormes, ...\"], [\"Stuttart\", \"Heilbut, Charlotte\"], [\"Berlin-Wilmerdorf u.a.\", \"Giefer, Gu\\u0308nter\"], [\"Salzburg\", \"Altmann, Manfred\"], [\"Tu\\u0308bingen\", \"Merkel, H.\"], [\"Landshut\", \"Weber, Willibald\"], [\"Fulda\", \"Jennerich, Louise\"], [\"Mu\\u0308nchen, Nizza u.a.\", \"Keller, Josef\"], [\"Tel-Aviv\", \"Kreisselmeier, Hermann\"]], \"geo\": \"geo\", \"hoverlabel\": {\"namelength\": 0}, \"hovertemplate\": \"author=Heilbut, Iwan<br>place=%{customdata[0]}<br>recipient=%{customdata[1]}<br>lat=%{lat}<br>lon=%{lon}\", \"lat\": [40.7127281, 40.7127281, 40.7127281, 40.7127281, 40.7127281, 40.7127281, 40.7127281, 40.7127281, 40.7127281, 40.7127281, 40.7127281, 40.7127281, 40.7127281, 40.7127281, 40.7127281, 40.7127281, 40.7127281, 40.7127281, 40.7127281, 40.7127281, 40.7127281, 40.7127281, 40.7127281, 40.7127281, 40.7127281, 40.7127281, 40.7127281, 40.7127281, 40.7127281, 40.7127281, 40.7127281, 40.7127281, 40.7127281, 40.7127281, 40.7127281, 40.7127281, 40.7127281, 40.7127281, 40.7127281, 40.7127281, 40.7127281, 40.7127281, 40.7127281, 40.7127281, 40.7127281, 40.7127281, 40.7127281, 40.7127281, 40.7127281, 40.7127281, 40.7127281, 40.7127281, 40.7127281, 40.7127281, 40.7127281, 40.7127281, 40.7127281, 40.7127281, 40.7127281, 40.7127281, 40.7127281, 40.7127281, 40.7127281, 40.7127281, 40.7127281, 40.7127281, 40.7127281, 40.7127281, 40.7127281, 40.7127281, 40.7127281, 40.7127281, 40.7127281, 40.7127281, 40.7127281, 40.7127281, 40.7127281, 40.7127281, 40.7127281, 40.7127281, 40.7127281, 40.7127281, 40.7127281, 40.7127281, 40.7127281, 40.7127281, 40.7127281, 40.7127281, 40.7127281, 40.7127281, 40.7127281, 40.7127281, 40.7127281, 40.7127281, 40.7127281, 40.7127281, 40.7127281, 40.7127281, 40.7127281, 40.7127281, 40.7127281, 40.7127281, 40.7127281, 40.7127281, 40.7127281, 40.7127281, 40.7127281, 40.7127281, 40.7127281, 40.7127281, 40.7127281, 40.7127281, 40.7127281, 40.7127281, 40.7127281, 40.7127281, 40.7127281, 40.7127281, 40.7127281, 40.7127281, 40.7127281, 40.7127281, 40.7127281, 40.7127281, 40.7127281, 40.7127281, 40.7127281, 40.7127281, 40.7127281, 40.7127281, 40.7127281, 40.7127281, 40.7127281, 40.7127281, 40.7127281, 40.7127281, 40.7127281, 40.7127281, 40.7127281, 40.7127281, 40.7127281, 40.7127281, 40.7127281, 40.7127281, 40.7127281, 40.7127281, 40.7127281, 40.7127281, 40.7127281, 40.7127281, 40.7127281, 40.7127281, 40.7127281, 40.7127281, 40.7127281, 40.7127281, 40.7127281, 40.7127281, 40.7127281, 40.7127281, 40.7127281, 40.7127281, 40.7127281, 40.7127281, 40.7127281, 40.7127281, 40.7127281, 40.7127281, 40.7127281, 40.7127281, 40.7127281, 40.7127281, 40.7127281, 40.7127281, 40.7127281, 40.7127281, 40.7127281, 40.7127281, 40.7127281, 40.7127281, 40.7127281, 40.7127281, 40.7127281, 40.7127281, 40.7127281, 40.7127281, 40.7127281, 40.7127281, 40.7127281, 40.7127281, 40.7127281, 40.7127281, 40.7127281, 40.7127281, 40.7127281, 40.7127281, 40.7127281, 40.7127281, 40.7127281, 40.7127281, 40.7127281, 40.7127281, 40.7127281, 40.7127281, 40.7127281, 40.7127281, 40.7127281, 40.7127281, 40.7127281, 40.7127281, 40.7127281, 40.7127281, 40.7127281, 40.7127281, 40.7127281, 40.7127281, 40.7127281, 40.7127281, 40.7127281, 40.7127281, 40.7127281, 40.7127281, 40.7127281, 40.7127281, 40.7127281, 40.7127281, 40.7127281, 40.7127281, 40.7127281, 40.7127281, 40.7127281, 40.7127281, 40.7127281, 40.7127281, 40.7127281, 40.7127281, 40.7127281, 40.7127281, 40.7127281, 40.7127281, 40.7127281, 40.7127281, 40.7127281, 40.7127281, 40.7127281, 40.7127281, 40.7127281, 40.7127281, 40.7127281, 40.7127281, 40.7127281, 40.7127281, 40.7127281, 40.7127281, 40.7127281, 40.7127281, 40.7127281, 40.7127281, 40.7127281, 40.7127281, 40.7127281, 40.7127281, 40.7127281, 40.7127281, 40.7127281, 48.1371079, 48.1371079, 48.1371079, 48.1371079, 48.1371079, 48.1371079, 48.1371079, 48.1371079, 48.1371079, 48.1371079, 48.1371079, 48.1371079, 48.1371079, 48.1371079, 48.1371079, 48.1371079, 48.1371079, 48.1371079, 48.1371079, 48.1371079, 48.1371079, 48.1371079, 48.1371079, 48.1371079, 48.1371079, 48.1371079, 48.1371079, 48.1371079, 48.1371079, 48.1371079, 48.1371079, 48.1371079, 48.1371079, 48.1371079, 48.1371079, 48.1371079, 48.1371079, 48.1371079, 48.1371079, 48.1371079, 48.1371079, 48.1371079, 48.1371079, 48.1371079, 48.1371079, 48.1371079, 48.1371079, 48.1371079, 48.1371079, 48.1371079, 48.1371079, 48.1371079, 48.1371079, 48.1371079, 48.1371079, 48.1371079, 48.1371079, 48.1371079, 48.1371079, 48.1371079, 48.1371079, 48.1371079, 48.1371079, 48.1371079, 48.1371079, 48.1371079, 48.1371079, 48.1371079, 48.1371079, 48.1371079, 48.1371079, 48.1371079, 48.1371079, 48.1371079, 48.1371079, 48.1371079, 48.1371079, 48.1371079, 48.1371079, 48.1371079, 48.1371079, 48.1371079, 48.1371079, 48.1371079, 48.1371079, 48.1371079, 48.1371079, 48.1371079, 48.1371079, 48.1371079, 48.1371079, 48.1371079, 48.1371079, 48.1371079, 48.1371079, 48.1371079, 48.1371079, 48.1371079, 48.1371079, 48.1371079, 48.1371079, 48.1371079, 48.1371079, 48.1371079, 48.1371079, 48.1371079, 48.1371079, 48.1371079, 48.1371079, 48.1371079, 48.1371079, 48.1371079, 48.1371079, 48.1371079, 48.1371079, 48.1371079, 48.1371079, 48.1371079, 48.1371079, 48.1371079, 48.1371079, 48.1371079, 48.1371079, 48.1371079, 48.1371079, 48.1371079, 48.1371079, 48.1371079, 48.1371079, 48.1371079, 48.1371079, 48.1371079, 48.1371079, 48.1371079, 48.1371079, 48.1371079, 48.1371079, 48.1371079, 48.1371079, 48.1371079, 48.1371079, 48.1371079, 48.1371079, 48.1371079, 48.1371079, 48.1371079, 48.1371079, 48.1371079, 48.1371079, 48.1371079, 48.1371079, 48.1371079, 48.1371079, 48.1371079, 48.1371079, 48.1371079, 48.1371079, 48.1371079, 48.1371079, 48.1371079, 48.1371079, 48.1371079, 48.1371079, 48.1371079, 48.1371079, 48.1371079, 48.1371079, 48.1791699, 48.1791699, 48.1791699, 48.1791699, 48.1791699, 48.1791699, 48.1791699, 48.1791699, 48.1791699, 48.1791699, 48.1791699, 48.1791699, 48.1791699, 48.1791699, 48.1791699, 48.1791699, 48.1791699, 48.1791699, 48.1791699, 48.1791699, 48.1791699, 48.1791699, 48.1791699, 48.1791699, 48.1791699, 52.517036499999996, 52.517036499999996, 52.517036499999996, 52.517036499999996, 52.517036499999996, 52.517036499999996, 52.517036499999996, 52.517036499999996, 52.517036499999996, 52.517036499999996, 52.517036499999996, 52.517036499999996, 52.517036499999996, 52.517036499999996, 52.517036499999996, 52.517036499999996, 53.550341, 53.550341, 53.550341, 53.550341, 53.550341, 53.550341, 53.550341, 53.550341, 53.550341, 53.550341, 53.550341, 53.550341, 52.4871152, 52.4871152, 52.4871152, 52.4871152, 52.4871152, 52.4871152, 52.4871152, 52.4871152, 52.4871152, 52.4871152, 52.4871152, 52.4871152, 52.4871152, 52.4871152, 52.517036499999996, 50.735851000000004, 48.778448499999996, 48.778448499999996, 48.778448499999996, 48.778448499999996, 48.778448499999996, 48.778448499999996, 48.778448499999996, 48.778448499999996, 51.5524449, 51.5524449, 51.5524449, 51.5524449, 51.5524449, 51.5524449, 51.5524449, 51.5524449, 51.5524449, 51.5524449, 52.4758015, 52.4758015, 52.4758015, 52.4758015, 52.4758015, 52.4758015, 52.4758015, 52.4758015, 52.4758015, 52.4903556, 52.4903556, 52.4903556, 52.4903556, 52.4903556, 52.4903556, 52.4903556, 52.4903556, 52.4903556, 52.4903556, 52.4903556, 52.4903556, 52.4903556, 52.4903556, 52.4903556, 52.4903556, 52.4903556, null, 43.2961743, 43.2961743, 43.2961743, 43.2961743, 40.7127281, null, null, null, null, null, null, 10.0150648, 10.0150648, 10.0150648, 38.707750700000005, 38.707750700000005, 38.707750700000005, 38.707750700000005, 38.707750700000005, 38.707750700000005, 38.707750700000005, 38.707750700000005, 38.707750700000005, 38.707750700000005, 25.135498000000002, 52.4850209, 47.8646925, 47.3723941, 47.3723941, 47.3723941, 47.3723941, 43.6044622, 43.6044622, 48.856610100000005, 48.856610100000005, 48.856610100000005, 31.778345, 31.778345, 31.778345, 31.778345, null, null, 47.798134600000004, 48.5236164, 48.545717100000005, 50.5521486, null, 32.080480800000004], \"legendgroup\": \"author=Heilbut, Iwan\", \"lon\": [-74.0060152, -74.0060152, -74.0060152, -74.0060152, -74.0060152, -74.0060152, -74.0060152, -74.0060152, -74.0060152, -74.0060152, -74.0060152, -74.0060152, -74.0060152, -74.0060152, -74.0060152, -74.0060152, -74.0060152, -74.0060152, -74.0060152, -74.0060152, -74.0060152, -74.0060152, -74.0060152, -74.0060152, -74.0060152, -74.0060152, -74.0060152, -74.0060152, -74.0060152, -74.0060152, -74.0060152, -74.0060152, -74.0060152, -74.0060152, -74.0060152, -74.0060152, -74.0060152, -74.0060152, -74.0060152, -74.0060152, -74.0060152, -74.0060152, -74.0060152, -74.0060152, -74.0060152, -74.0060152, -74.0060152, -74.0060152, -74.0060152, -74.0060152, -74.0060152, -74.0060152, -74.0060152, -74.0060152, -74.0060152, -74.0060152, -74.0060152, -74.0060152, -74.0060152, -74.0060152, -74.0060152, -74.0060152, -74.0060152, -74.0060152, -74.0060152, -74.0060152, -74.0060152, -74.0060152, -74.0060152, -74.0060152, -74.0060152, -74.0060152, -74.0060152, -74.0060152, -74.0060152, -74.0060152, -74.0060152, -74.0060152, -74.0060152, -74.0060152, -74.0060152, -74.0060152, -74.0060152, -74.0060152, -74.0060152, -74.0060152, -74.0060152, -74.0060152, -74.0060152, -74.0060152, -74.0060152, -74.0060152, -74.0060152, -74.0060152, -74.0060152, -74.0060152, -74.0060152, -74.0060152, -74.0060152, -74.0060152, -74.0060152, -74.0060152, -74.0060152, -74.0060152, -74.0060152, -74.0060152, -74.0060152, -74.0060152, -74.0060152, -74.0060152, -74.0060152, -74.0060152, -74.0060152, -74.0060152, -74.0060152, -74.0060152, -74.0060152, -74.0060152, -74.0060152, -74.0060152, -74.0060152, -74.0060152, -74.0060152, -74.0060152, -74.0060152, -74.0060152, -74.0060152, -74.0060152, -74.0060152, -74.0060152, -74.0060152, -74.0060152, -74.0060152, -74.0060152, -74.0060152, -74.0060152, -74.0060152, -74.0060152, -74.0060152, -74.0060152, -74.0060152, -74.0060152, -74.0060152, -74.0060152, -74.0060152, -74.0060152, -74.0060152, -74.0060152, -74.0060152, -74.0060152, -74.0060152, -74.0060152, -74.0060152, -74.0060152, -74.0060152, -74.0060152, -74.0060152, -74.0060152, -74.0060152, -74.0060152, -74.0060152, -74.0060152, -74.0060152, -74.0060152, -74.0060152, -74.0060152, -74.0060152, -74.0060152, -74.0060152, -74.0060152, -74.0060152, -74.0060152, -74.0060152, -74.0060152, -74.0060152, -74.0060152, -74.0060152, -74.0060152, -74.0060152, -74.0060152, -74.0060152, -74.0060152, -74.0060152, -74.0060152, -74.0060152, -74.0060152, -74.0060152, -74.0060152, -74.0060152, -74.0060152, -74.0060152, -74.0060152, -74.0060152, -74.0060152, -74.0060152, -74.0060152, -74.0060152, -74.0060152, -74.0060152, -74.0060152, -74.0060152, -74.0060152, -74.0060152, -74.0060152, -74.0060152, -74.0060152, -74.0060152, -74.0060152, -74.0060152, -74.0060152, -74.0060152, -74.0060152, -74.0060152, -74.0060152, -74.0060152, -74.0060152, -74.0060152, -74.0060152, -74.0060152, -74.0060152, -74.0060152, -74.0060152, -74.0060152, -74.0060152, -74.0060152, -74.0060152, -74.0060152, -74.0060152, -74.0060152, -74.0060152, -74.0060152, -74.0060152, -74.0060152, -74.0060152, -74.0060152, -74.0060152, -74.0060152, -74.0060152, -74.0060152, -74.0060152, -74.0060152, -74.0060152, -74.0060152, -74.0060152, -74.0060152, -74.0060152, -74.0060152, -74.0060152, -74.0060152, -74.0060152, -74.0060152, -74.0060152, -74.0060152, -74.0060152, -74.0060152, -74.0060152, -74.0060152, -74.0060152, -74.0060152, -74.0060152, -74.0060152, -74.0060152, -74.0060152, -74.0060152, -74.0060152, 11.575382199999998, 11.575382199999998, 11.575382199999998, 11.575382199999998, 11.575382199999998, 11.575382199999998, 11.575382199999998, 11.575382199999998, 11.575382199999998, 11.575382199999998, 11.575382199999998, 11.575382199999998, 11.575382199999998, 11.575382199999998, 11.575382199999998, 11.575382199999998, 11.575382199999998, 11.575382199999998, 11.575382199999998, 11.575382199999998, 11.575382199999998, 11.575382199999998, 11.575382199999998, 11.575382199999998, 11.575382199999998, 11.575382199999998, 11.575382199999998, 11.575382199999998, 11.575382199999998, 11.575382199999998, 11.575382199999998, 11.575382199999998, 11.575382199999998, 11.575382199999998, 11.575382199999998, 11.575382199999998, 11.575382199999998, 11.575382199999998, 11.575382199999998, 11.575382199999998, 11.575382199999998, 11.575382199999998, 11.575382199999998, 11.575382199999998, 11.575382199999998, 11.575382199999998, 11.575382199999998, 11.575382199999998, 11.575382199999998, 11.575382199999998, 11.575382199999998, 11.575382199999998, 11.575382199999998, 11.575382199999998, 11.575382199999998, 11.575382199999998, 11.575382199999998, 11.575382199999998, 11.575382199999998, 11.575382199999998, 11.575382199999998, 11.575382199999998, 11.575382199999998, 11.575382199999998, 11.575382199999998, 11.575382199999998, 11.575382199999998, 11.575382199999998, 11.575382199999998, 11.575382199999998, 11.575382199999998, 11.575382199999998, 11.575382199999998, 11.575382199999998, 11.575382199999998, 11.575382199999998, 11.575382199999998, 11.575382199999998, 11.575382199999998, 11.575382199999998, 11.575382199999998, 11.575382199999998, 11.575382199999998, 11.575382199999998, 11.575382199999998, 11.575382199999998, 11.575382199999998, 11.575382199999998, 11.575382199999998, 11.575382199999998, 11.575382199999998, 11.575382199999998, 11.575382199999998, 11.575382199999998, 11.575382199999998, 11.575382199999998, 11.575382199999998, 11.575382199999998, 11.575382199999998, 11.575382199999998, 11.575382199999998, 11.575382199999998, 11.575382199999998, 11.575382199999998, 11.575382199999998, 11.575382199999998, 11.575382199999998, 11.575382199999998, 11.575382199999998, 11.575382199999998, 11.575382199999998, 11.575382199999998, 11.575382199999998, 11.575382199999998, 11.575382199999998, 11.575382199999998, 11.575382199999998, 11.575382199999998, 11.575382199999998, 11.575382199999998, 11.575382199999998, 11.575382199999998, 11.575382199999998, 11.575382199999998, 11.575382199999998, 11.575382199999998, 11.575382199999998, 11.575382199999998, 11.575382199999998, 11.575382199999998, 11.575382199999998, 11.575382199999998, 11.575382199999998, 11.575382199999998, 11.575382199999998, 11.575382199999998, 11.575382199999998, 11.575382199999998, 11.575382199999998, 11.575382199999998, 11.575382199999998, 11.575382199999998, 11.575382199999998, 11.575382199999998, 11.575382199999998, 11.575382199999998, 11.575382199999998, 11.575382199999998, 11.575382199999998, 11.575382199999998, 11.575382199999998, 11.575382199999998, 11.575382199999998, 11.575382199999998, 11.575382199999998, 11.575382199999998, 11.575382199999998, 11.575382199999998, 11.575382199999998, 11.575382199999998, 11.575382199999998, 11.575382199999998, 11.575382199999998, 11.575382199999998, 11.575382199999998, 11.575382199999998, 11.575382199999998, 11.5541431, 11.5541431, 11.5541431, 11.5541431, 11.5541431, 11.5541431, 11.5541431, 11.5541431, 11.5541431, 11.5541431, 11.5541431, 11.5541431, 11.5541431, 11.5541431, 11.5541431, 11.5541431, 11.5541431, 11.5541431, 11.5541431, 11.5541431, 11.5541431, 11.5541431, 11.5541431, 11.5541431, 11.5541431, 13.388859900000002, 13.388859900000002, 13.388859900000002, 13.388859900000002, 13.388859900000002, 13.388859900000002, 13.388859900000002, 13.388859900000002, 13.388859900000002, 13.388859900000002, 13.388859900000002, 13.388859900000002, 13.388859900000002, 13.388859900000002, 13.388859900000002, 13.388859900000002, 10.000653999999999, 10.000653999999999, 10.000653999999999, 10.000653999999999, 10.000653999999999, 10.000653999999999, 10.000653999999999, 10.000653999999999, 10.000653999999999, 10.000653999999999, 10.000653999999999, 10.000653999999999, 13.320329800000001, 13.320329800000001, 13.320329800000001, 13.320329800000001, 13.320329800000001, 13.320329800000001, 13.320329800000001, 13.320329800000001, 13.320329800000001, 13.320329800000001, 13.320329800000001, 13.320329800000001, 13.320329800000001, 13.320329800000001, 13.388859900000002, 7.10066, 9.1800132, 9.1800132, 9.1800132, 9.1800132, 9.1800132, 9.1800132, 9.1800132, 9.1800132, 4.5917796, 4.5917796, 4.5917796, 4.5917796, 4.5917796, 4.5917796, 4.5917796, 4.5917796, 4.5917796, 4.5917796, 13.3248541, 13.3248541, 13.3248541, 13.3248541, 13.3248541, 13.3248541, 13.3248541, 13.3248541, 13.3248541, 13.265232199999998, 13.265232199999998, 13.265232199999998, 13.265232199999998, 13.265232199999998, 13.265232199999998, 13.265232199999998, 13.265232199999998, 13.265232199999998, 13.265232199999998, 13.265232199999998, 13.265232199999998, 13.265232199999998, 13.265232199999998, 13.265232199999998, 13.265232199999998, 13.265232199999998, null, 5.3699525, 5.3699525, 5.3699525, 5.3699525, -74.0060152, null, null, null, null, null, null, -84.4734765, -84.4734765, -84.4734765, -9.1365919, -9.1365919, -9.1365919, -9.1365919, -9.1365919, -9.1365919, -9.1365919, -9.1365919, -9.1365919, -9.1365919, 55.22161260000001, 13.437284900000002, 11.479351, 8.5423328, 8.5423328, 8.5423328, 8.5423328, 1.4442469, 1.4442469, 2.3514992, 2.3514992, 2.3514992, 35.2250786, 35.2250786, 35.2250786, 35.2250786, null, null, 13.046480599999999, 9.0535531, 12.2081029, 9.676511, null, 34.7805274], \"marker\": {\"color\": \"#636efa\"}, \"name\": \"author=Heilbut, Iwan\", \"showlegend\": true, \"type\": \"scattergeo\"}],\n",
       "                        {\"geo\": {\"center\": {}, \"domain\": {\"x\": [0.0, 1.0], \"y\": [0.0, 1.0]}, \"scope\": \"world\"}, \"height\": 600, \"legend\": {\"tracegroupgap\": 0}, \"margin\": {\"t\": 60}, \"template\": {\"data\": {\"bar\": [{\"error_x\": {\"color\": \"#2a3f5f\"}, \"error_y\": {\"color\": \"#2a3f5f\"}, \"marker\": {\"line\": {\"color\": \"#E5ECF6\", \"width\": 0.5}}, \"type\": \"bar\"}], \"barpolar\": [{\"marker\": {\"line\": {\"color\": \"#E5ECF6\", \"width\": 0.5}}, \"type\": \"barpolar\"}], \"carpet\": [{\"aaxis\": {\"endlinecolor\": \"#2a3f5f\", \"gridcolor\": \"white\", \"linecolor\": \"white\", \"minorgridcolor\": \"white\", \"startlinecolor\": \"#2a3f5f\"}, \"baxis\": {\"endlinecolor\": \"#2a3f5f\", \"gridcolor\": \"white\", \"linecolor\": \"white\", \"minorgridcolor\": \"white\", \"startlinecolor\": \"#2a3f5f\"}, \"type\": \"carpet\"}], \"choropleth\": [{\"colorbar\": {\"outlinewidth\": 0, \"ticks\": \"\"}, \"type\": \"choropleth\"}], \"contour\": [{\"colorbar\": {\"outlinewidth\": 0, \"ticks\": \"\"}, \"colorscale\": [[0.0, \"#0d0887\"], [0.1111111111111111, \"#46039f\"], [0.2222222222222222, \"#7201a8\"], [0.3333333333333333, \"#9c179e\"], [0.4444444444444444, \"#bd3786\"], [0.5555555555555556, \"#d8576b\"], [0.6666666666666666, \"#ed7953\"], [0.7777777777777778, \"#fb9f3a\"], [0.8888888888888888, \"#fdca26\"], [1.0, \"#f0f921\"]], \"type\": \"contour\"}], \"contourcarpet\": [{\"colorbar\": {\"outlinewidth\": 0, \"ticks\": \"\"}, \"type\": \"contourcarpet\"}], \"heatmap\": [{\"colorbar\": {\"outlinewidth\": 0, \"ticks\": \"\"}, \"colorscale\": [[0.0, \"#0d0887\"], [0.1111111111111111, \"#46039f\"], [0.2222222222222222, \"#7201a8\"], [0.3333333333333333, \"#9c179e\"], [0.4444444444444444, \"#bd3786\"], [0.5555555555555556, \"#d8576b\"], [0.6666666666666666, \"#ed7953\"], [0.7777777777777778, \"#fb9f3a\"], [0.8888888888888888, \"#fdca26\"], [1.0, \"#f0f921\"]], \"type\": \"heatmap\"}], \"heatmapgl\": [{\"colorbar\": {\"outlinewidth\": 0, \"ticks\": \"\"}, \"colorscale\": [[0.0, \"#0d0887\"], [0.1111111111111111, \"#46039f\"], [0.2222222222222222, \"#7201a8\"], [0.3333333333333333, \"#9c179e\"], [0.4444444444444444, \"#bd3786\"], [0.5555555555555556, \"#d8576b\"], [0.6666666666666666, \"#ed7953\"], [0.7777777777777778, \"#fb9f3a\"], [0.8888888888888888, \"#fdca26\"], [1.0, \"#f0f921\"]], \"type\": \"heatmapgl\"}], \"histogram\": [{\"marker\": {\"colorbar\": {\"outlinewidth\": 0, \"ticks\": \"\"}}, \"type\": \"histogram\"}], \"histogram2d\": [{\"colorbar\": {\"outlinewidth\": 0, \"ticks\": \"\"}, \"colorscale\": [[0.0, \"#0d0887\"], [0.1111111111111111, \"#46039f\"], [0.2222222222222222, \"#7201a8\"], [0.3333333333333333, \"#9c179e\"], [0.4444444444444444, \"#bd3786\"], [0.5555555555555556, \"#d8576b\"], [0.6666666666666666, \"#ed7953\"], [0.7777777777777778, \"#fb9f3a\"], [0.8888888888888888, \"#fdca26\"], [1.0, \"#f0f921\"]], \"type\": \"histogram2d\"}], \"histogram2dcontour\": [{\"colorbar\": {\"outlinewidth\": 0, \"ticks\": \"\"}, \"colorscale\": [[0.0, \"#0d0887\"], [0.1111111111111111, \"#46039f\"], [0.2222222222222222, \"#7201a8\"], [0.3333333333333333, \"#9c179e\"], [0.4444444444444444, \"#bd3786\"], [0.5555555555555556, \"#d8576b\"], [0.6666666666666666, \"#ed7953\"], [0.7777777777777778, \"#fb9f3a\"], [0.8888888888888888, \"#fdca26\"], [1.0, \"#f0f921\"]], \"type\": \"histogram2dcontour\"}], \"mesh3d\": [{\"colorbar\": {\"outlinewidth\": 0, \"ticks\": \"\"}, \"type\": \"mesh3d\"}], \"parcoords\": [{\"line\": {\"colorbar\": {\"outlinewidth\": 0, \"ticks\": \"\"}}, \"type\": \"parcoords\"}], \"pie\": [{\"automargin\": true, \"type\": \"pie\"}], \"scatter\": [{\"marker\": {\"colorbar\": {\"outlinewidth\": 0, \"ticks\": \"\"}}, \"type\": \"scatter\"}], \"scatter3d\": [{\"line\": {\"colorbar\": {\"outlinewidth\": 0, \"ticks\": \"\"}}, \"marker\": {\"colorbar\": {\"outlinewidth\": 0, \"ticks\": \"\"}}, \"type\": \"scatter3d\"}], \"scattercarpet\": [{\"marker\": {\"colorbar\": {\"outlinewidth\": 0, \"ticks\": \"\"}}, \"type\": \"scattercarpet\"}], \"scattergeo\": [{\"marker\": {\"colorbar\": {\"outlinewidth\": 0, \"ticks\": \"\"}}, \"type\": \"scattergeo\"}], \"scattergl\": [{\"marker\": {\"colorbar\": {\"outlinewidth\": 0, \"ticks\": \"\"}}, \"type\": \"scattergl\"}], \"scattermapbox\": [{\"marker\": {\"colorbar\": {\"outlinewidth\": 0, \"ticks\": \"\"}}, \"type\": \"scattermapbox\"}], \"scatterpolar\": [{\"marker\": {\"colorbar\": {\"outlinewidth\": 0, \"ticks\": \"\"}}, \"type\": \"scatterpolar\"}], \"scatterpolargl\": [{\"marker\": {\"colorbar\": {\"outlinewidth\": 0, \"ticks\": \"\"}}, \"type\": \"scatterpolargl\"}], \"scatterternary\": [{\"marker\": {\"colorbar\": {\"outlinewidth\": 0, \"ticks\": \"\"}}, \"type\": \"scatterternary\"}], \"surface\": [{\"colorbar\": {\"outlinewidth\": 0, \"ticks\": \"\"}, \"colorscale\": [[0.0, \"#0d0887\"], [0.1111111111111111, \"#46039f\"], [0.2222222222222222, \"#7201a8\"], [0.3333333333333333, \"#9c179e\"], [0.4444444444444444, \"#bd3786\"], [0.5555555555555556, \"#d8576b\"], [0.6666666666666666, \"#ed7953\"], [0.7777777777777778, \"#fb9f3a\"], [0.8888888888888888, \"#fdca26\"], [1.0, \"#f0f921\"]], \"type\": \"surface\"}], \"table\": [{\"cells\": {\"fill\": {\"color\": \"#EBF0F8\"}, \"line\": {\"color\": \"white\"}}, \"header\": {\"fill\": {\"color\": \"#C8D4E3\"}, \"line\": {\"color\": \"white\"}}, \"type\": \"table\"}]}, \"layout\": {\"annotationdefaults\": {\"arrowcolor\": \"#2a3f5f\", \"arrowhead\": 0, \"arrowwidth\": 1}, \"coloraxis\": {\"colorbar\": {\"outlinewidth\": 0, \"ticks\": \"\"}}, \"colorscale\": {\"diverging\": [[0, \"#8e0152\"], [0.1, \"#c51b7d\"], [0.2, \"#de77ae\"], [0.3, \"#f1b6da\"], [0.4, \"#fde0ef\"], [0.5, \"#f7f7f7\"], [0.6, \"#e6f5d0\"], [0.7, \"#b8e186\"], [0.8, \"#7fbc41\"], [0.9, \"#4d9221\"], [1, \"#276419\"]], \"sequential\": [[0.0, \"#0d0887\"], [0.1111111111111111, \"#46039f\"], [0.2222222222222222, \"#7201a8\"], [0.3333333333333333, \"#9c179e\"], [0.4444444444444444, \"#bd3786\"], [0.5555555555555556, \"#d8576b\"], [0.6666666666666666, \"#ed7953\"], [0.7777777777777778, \"#fb9f3a\"], [0.8888888888888888, \"#fdca26\"], [1.0, \"#f0f921\"]], \"sequentialminus\": [[0.0, \"#0d0887\"], [0.1111111111111111, \"#46039f\"], [0.2222222222222222, \"#7201a8\"], [0.3333333333333333, \"#9c179e\"], [0.4444444444444444, \"#bd3786\"], [0.5555555555555556, \"#d8576b\"], [0.6666666666666666, \"#ed7953\"], [0.7777777777777778, \"#fb9f3a\"], [0.8888888888888888, \"#fdca26\"], [1.0, \"#f0f921\"]]}, \"colorway\": [\"#636efa\", \"#EF553B\", \"#00cc96\", \"#ab63fa\", \"#FFA15A\", \"#19d3f3\", \"#FF6692\", \"#B6E880\", \"#FF97FF\", \"#FECB52\"], \"font\": {\"color\": \"#2a3f5f\"}, \"geo\": {\"bgcolor\": \"white\", \"lakecolor\": \"white\", \"landcolor\": \"#E5ECF6\", \"showlakes\": true, \"showland\": true, \"subunitcolor\": \"white\"}, \"hoverlabel\": {\"align\": \"left\"}, \"hovermode\": \"closest\", \"mapbox\": {\"style\": \"light\"}, \"paper_bgcolor\": \"white\", \"plot_bgcolor\": \"#E5ECF6\", \"polar\": {\"angularaxis\": {\"gridcolor\": \"white\", \"linecolor\": \"white\", \"ticks\": \"\"}, \"bgcolor\": \"#E5ECF6\", \"radialaxis\": {\"gridcolor\": \"white\", \"linecolor\": \"white\", \"ticks\": \"\"}}, \"scene\": {\"xaxis\": {\"backgroundcolor\": \"#E5ECF6\", \"gridcolor\": \"white\", \"gridwidth\": 2, \"linecolor\": \"white\", \"showbackground\": true, \"ticks\": \"\", \"zerolinecolor\": \"white\"}, \"yaxis\": {\"backgroundcolor\": \"#E5ECF6\", \"gridcolor\": \"white\", \"gridwidth\": 2, \"linecolor\": \"white\", \"showbackground\": true, \"ticks\": \"\", \"zerolinecolor\": \"white\"}, \"zaxis\": {\"backgroundcolor\": \"#E5ECF6\", \"gridcolor\": \"white\", \"gridwidth\": 2, \"linecolor\": \"white\", \"showbackground\": true, \"ticks\": \"\", \"zerolinecolor\": \"white\"}}, \"shapedefaults\": {\"line\": {\"color\": \"#2a3f5f\"}}, \"ternary\": {\"aaxis\": {\"gridcolor\": \"white\", \"linecolor\": \"white\", \"ticks\": \"\"}, \"baxis\": {\"gridcolor\": \"white\", \"linecolor\": \"white\", \"ticks\": \"\"}, \"bgcolor\": \"#E5ECF6\", \"caxis\": {\"gridcolor\": \"white\", \"linecolor\": \"white\", \"ticks\": \"\"}}, \"title\": {\"x\": 0.05}, \"xaxis\": {\"automargin\": true, \"gridcolor\": \"white\", \"linecolor\": \"white\", \"ticks\": \"\", \"title\": {\"standoff\": 15}, \"zerolinecolor\": \"white\", \"zerolinewidth\": 2}, \"yaxis\": {\"automargin\": true, \"gridcolor\": \"white\", \"linecolor\": \"white\", \"ticks\": \"\", \"title\": {\"standoff\": 15}, \"zerolinecolor\": \"white\", \"zerolinewidth\": 2}}}},\n",
       "                        {\"responsive\": true}\n",
       "                    ).then(function(){\n",
       "                            \n",
       "var gd = document.getElementById('fd34629c-0875-481d-929d-2b1f07910bef');\n",
       "var x = new MutationObserver(function (mutations, observer) {{\n",
       "        var display = window.getComputedStyle(gd).display;\n",
       "        if (!display || display === 'none') {{\n",
       "            console.log([gd, 'removed!']);\n",
       "            Plotly.purge(gd);\n",
       "            observer.disconnect();\n",
       "        }}\n",
       "}});\n",
       "\n",
       "// Listen for the removal of the full notebook cells\n",
       "var notebookContainer = gd.closest('#notebook-container');\n",
       "if (notebookContainer) {{\n",
       "    x.observe(notebookContainer, {childList: true});\n",
       "}}\n",
       "\n",
       "// Listen for the clearing of the current output cell\n",
       "var outputEl = gd.closest('.output');\n",
       "if (outputEl) {{\n",
       "    x.observe(outputEl, {childList: true});\n",
       "}}\n",
       "\n",
       "                        })\n",
       "                };\n",
       "                });\n",
       "            </script>\n",
       "        </div>"
      ]
     },
     "metadata": {},
     "output_type": "display_data"
    }
   ],
   "source": [
    "fig.show()"
   ]
  },
  {
   "cell_type": "code",
   "execution_count": null,
   "metadata": {},
   "outputs": [],
   "source": []
  }
 ],
 "metadata": {
  "kernelspec": {
   "display_name": "Python 3",
   "language": "python",
   "name": "python3"
  },
  "language_info": {
   "codemirror_mode": {
    "name": "ipython",
    "version": 3
   },
   "file_extension": ".py",
   "mimetype": "text/x-python",
   "name": "python",
   "nbconvert_exporter": "python",
   "pygments_lexer": "ipython3",
   "version": "3.7.4"
  }
 },
 "nbformat": 4,
 "nbformat_minor": 4
}
